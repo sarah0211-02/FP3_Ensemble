{
  "nbformat": 4,
  "nbformat_minor": 0,
  "metadata": {
    "colab": {
      "provenance": [],
      "toc_visible": true,
      "authorship_tag": "ABX9TyMLQnyy6iAXfwAHAfDqDW2I",
      "include_colab_link": true
    },
    "kernelspec": {
      "name": "python3",
      "display_name": "Python 3"
    },
    "language_info": {
      "name": "python"
    }
  },
  "cells": [
    {
      "cell_type": "markdown",
      "metadata": {
        "id": "view-in-github",
        "colab_type": "text"
      },
      "source": [
        "<a href=\"https://colab.research.google.com/github/sarah0211-02/PYTN_KampusMerdeka_fp3_SyahraniNabillaPardede/blob/main/PYTN_KampusMerdeka_fp3_SyahraniNabillaPardede.ipynb\" target=\"_parent\"><img src=\"https://colab.research.google.com/assets/colab-badge.svg\" alt=\"Open In Colab\"/></a>"
      ]
    },
    {
      "cell_type": "markdown",
      "source": [
        "**Kelompok 5 PYTN-KS08**\n",
        "\n",
        "1. Muhammad Ismail - PYTN-KS08-011\n",
        "\n",
        "2. Syahrani Nabilla Pardede - PYTN-KS08-013\n",
        "\n",
        "3. Shendy Krisyohanda - PYTN-KS08-021"
      ],
      "metadata": {
        "id": "iMqJkP2E8R0-"
      }
    },
    {
      "cell_type": "markdown",
      "source": [
        "# Perkenalan\n",
        "\n",
        "Penyakit kardiovaskular (CVDs) adalah penyebab kematian nomor 1 secara global, mengambil sekitar 17,9 juta jiwa setiap tahun, yang menyumbang 31% dari semua kematian di seluruh dunia. Gagal jantung adalah kejadian umum yang disebabkan oleh CVD dan kumpulan data ini berisi 12 fitur yang dapat digunakan untuk memprediksi kematian akibat gagal jantung.\n",
        "\n",
        "Sebagian besar penyakit kardiovaskular dapat dicegah dengan mengatasi faktor risiko perilaku seperti penggunaan tembakau, diet tidak sehat dan obesitas, kurangnya aktivitas fisik, dan penggunaan alkohol yang berbahaya menggunakan strategi di seluruh populasi.\n",
        "\n",
        "Orang dengan penyakit kardiovaskular atau yang berada pada risiko kardiovaskular tinggi (karena adanya satu atau lebih faktor risiko seperti hipertensi, diabetes, hiperlipidemia atau penyakit yang sudah ada) memerlukan deteksi dan manajemen dini di mana model pembelajaran mesin dapat sangat membantu."
      ],
      "metadata": {
        "id": "7s_fnTeZ78py"
      }
    },
    {
      "cell_type": "markdown",
      "source": [
        "##Atribut Information\n",
        "\n",
        "1. age - umur pasien\n",
        "2. anaemia - apakah ada pengurangan haemoglobin\n",
        "3. creatinine_phosphokinase - level enzim CPK dalam mcg/L\n",
        "4. diabetes - apakah pasien punya riwayat diabetes\n",
        "5. ejection_fraction - persentase darah yang meninggalkan jantung dalam persentasi\n",
        "di setiap kontraksi jantung \n",
        "6. high_blood_pressure - apakah pasien punya darah tinggi \n",
        "7. platelets - jumlah platelet di darah dalam kiloplatelets/mL  \n",
        "8. serum_creatinine - level serum creatinine di darah dalam mg/dL \n",
        "9. serum_sodium - level serum sodium di darah dalam mEq/L \n",
        "10. sex - apakah pasien pria atau wanita \n",
        "11. smoking - apakah pasien merokok \n",
        "12. time - waktu dalam hari untuk follow-up \n",
        "13. DEATH_EVENT - apakah pasien sudah meninggal saat waktu follow-up\n",
        "\n",
        "  TARGET : DEATH_EVENT"
      ],
      "metadata": {
        "id": "cRjWAdzp8dCh"
      }
    },
    {
      "cell_type": "markdown",
      "source": [
        "# Import Library"
      ],
      "metadata": {
        "id": "KSBZ7m-R8Z3Y"
      }
    },
    {
      "cell_type": "code",
      "source": [
        "import numpy as np \n",
        "import pandas as pd\n",
        "import matplotlib.pyplot as plt\n",
        "%matplotlib inline\n",
        "import warnings\n",
        "warnings.filterwarnings(\"ignore\")\n",
        "import seaborn as sns\n",
        "from sklearn.preprocessing import StandardScaler\n",
        "from sklearn.model_selection import train_test_split\n",
        "from sklearn.ensemble import RandomForestClassifier\n",
        "from sklearn.ensemble import VotingClassifier\n",
        "from sklearn.ensemble import AdaBoostClassifier\n",
        "from sklearn.ensemble import BaggingClassifier\n",
        "from sklearn.ensemble import ExtraTreesClassifier\n",
        "from sklearn.ensemble import GradientBoostingClassifier\n",
        "from sklearn.tree import DecisionTreeClassifier\n",
        "from xgboost import XGBClassifier\n",
        "import graphviz \n",
        "from sklearn.linear_model import LogisticRegression\n",
        "from sklearn.svm import SVC\n",
        "from sklearn.tree import export_graphviz\n",
        "from google.colab import files\n",
        "from sklearn.metrics import precision_score, recall_score, f1_score, accuracy_score\n",
        "from sklearn.metrics import confusion_matrix,classification_report\n",
        "import pickle\n",
        "from imblearn.over_sampling import SMOTE"
      ],
      "metadata": {
        "id": "wBk41MJG9R11"
      },
      "execution_count": 1,
      "outputs": []
    },
    {
      "cell_type": "markdown",
      "source": [
        "# Data Loading"
      ],
      "metadata": {
        "id": "vtq6b57G9nQW"
      }
    },
    {
      "cell_type": "code",
      "execution_count": 2,
      "metadata": {
        "id": "N2yV2Q4Uq3Ve",
        "colab": {
          "base_uri": "https://localhost:8080/",
          "height": 353
        },
        "outputId": "d1549845-372f-4685-b1b7-7b94e6989392"
      },
      "outputs": [
        {
          "output_type": "stream",
          "name": "stdout",
          "text": [
            "Looking in indexes: https://pypi.org/simple, https://us-python.pkg.dev/colab-wheels/public/simple/\n",
            "Requirement already satisfied: kaggle in /usr/local/lib/python3.8/dist-packages (1.5.12)\n",
            "Requirement already satisfied: six>=1.10 in /usr/local/lib/python3.8/dist-packages (from kaggle) (1.15.0)\n",
            "Requirement already satisfied: tqdm in /usr/local/lib/python3.8/dist-packages (from kaggle) (4.64.1)\n",
            "Requirement already satisfied: python-slugify in /usr/local/lib/python3.8/dist-packages (from kaggle) (7.0.0)\n",
            "Requirement already satisfied: certifi in /usr/local/lib/python3.8/dist-packages (from kaggle) (2022.9.24)\n",
            "Requirement already satisfied: requests in /usr/local/lib/python3.8/dist-packages (from kaggle) (2.23.0)\n",
            "Requirement already satisfied: python-dateutil in /usr/local/lib/python3.8/dist-packages (from kaggle) (2.8.2)\n",
            "Requirement already satisfied: urllib3 in /usr/local/lib/python3.8/dist-packages (from kaggle) (1.24.3)\n",
            "Requirement already satisfied: text-unidecode>=1.3 in /usr/local/lib/python3.8/dist-packages (from python-slugify->kaggle) (1.3)\n",
            "Requirement already satisfied: idna<3,>=2.5 in /usr/local/lib/python3.8/dist-packages (from requests->kaggle) (2.10)\n",
            "Requirement already satisfied: chardet<4,>=3.0.2 in /usr/local/lib/python3.8/dist-packages (from requests->kaggle) (3.0.4)\n"
          ]
        },
        {
          "output_type": "display_data",
          "data": {
            "text/plain": [
              "<IPython.core.display.HTML object>"
            ],
            "text/html": [
              "\n",
              "     <input type=\"file\" id=\"files-67e11b08-202f-4b2b-9700-b5280c938e45\" name=\"files[]\" multiple disabled\n",
              "        style=\"border:none\" />\n",
              "     <output id=\"result-67e11b08-202f-4b2b-9700-b5280c938e45\">\n",
              "      Upload widget is only available when the cell has been executed in the\n",
              "      current browser session. Please rerun this cell to enable.\n",
              "      </output>\n",
              "      <script>// Copyright 2017 Google LLC\n",
              "//\n",
              "// Licensed under the Apache License, Version 2.0 (the \"License\");\n",
              "// you may not use this file except in compliance with the License.\n",
              "// You may obtain a copy of the License at\n",
              "//\n",
              "//      http://www.apache.org/licenses/LICENSE-2.0\n",
              "//\n",
              "// Unless required by applicable law or agreed to in writing, software\n",
              "// distributed under the License is distributed on an \"AS IS\" BASIS,\n",
              "// WITHOUT WARRANTIES OR CONDITIONS OF ANY KIND, either express or implied.\n",
              "// See the License for the specific language governing permissions and\n",
              "// limitations under the License.\n",
              "\n",
              "/**\n",
              " * @fileoverview Helpers for google.colab Python module.\n",
              " */\n",
              "(function(scope) {\n",
              "function span(text, styleAttributes = {}) {\n",
              "  const element = document.createElement('span');\n",
              "  element.textContent = text;\n",
              "  for (const key of Object.keys(styleAttributes)) {\n",
              "    element.style[key] = styleAttributes[key];\n",
              "  }\n",
              "  return element;\n",
              "}\n",
              "\n",
              "// Max number of bytes which will be uploaded at a time.\n",
              "const MAX_PAYLOAD_SIZE = 100 * 1024;\n",
              "\n",
              "function _uploadFiles(inputId, outputId) {\n",
              "  const steps = uploadFilesStep(inputId, outputId);\n",
              "  const outputElement = document.getElementById(outputId);\n",
              "  // Cache steps on the outputElement to make it available for the next call\n",
              "  // to uploadFilesContinue from Python.\n",
              "  outputElement.steps = steps;\n",
              "\n",
              "  return _uploadFilesContinue(outputId);\n",
              "}\n",
              "\n",
              "// This is roughly an async generator (not supported in the browser yet),\n",
              "// where there are multiple asynchronous steps and the Python side is going\n",
              "// to poll for completion of each step.\n",
              "// This uses a Promise to block the python side on completion of each step,\n",
              "// then passes the result of the previous step as the input to the next step.\n",
              "function _uploadFilesContinue(outputId) {\n",
              "  const outputElement = document.getElementById(outputId);\n",
              "  const steps = outputElement.steps;\n",
              "\n",
              "  const next = steps.next(outputElement.lastPromiseValue);\n",
              "  return Promise.resolve(next.value.promise).then((value) => {\n",
              "    // Cache the last promise value to make it available to the next\n",
              "    // step of the generator.\n",
              "    outputElement.lastPromiseValue = value;\n",
              "    return next.value.response;\n",
              "  });\n",
              "}\n",
              "\n",
              "/**\n",
              " * Generator function which is called between each async step of the upload\n",
              " * process.\n",
              " * @param {string} inputId Element ID of the input file picker element.\n",
              " * @param {string} outputId Element ID of the output display.\n",
              " * @return {!Iterable<!Object>} Iterable of next steps.\n",
              " */\n",
              "function* uploadFilesStep(inputId, outputId) {\n",
              "  const inputElement = document.getElementById(inputId);\n",
              "  inputElement.disabled = false;\n",
              "\n",
              "  const outputElement = document.getElementById(outputId);\n",
              "  outputElement.innerHTML = '';\n",
              "\n",
              "  const pickedPromise = new Promise((resolve) => {\n",
              "    inputElement.addEventListener('change', (e) => {\n",
              "      resolve(e.target.files);\n",
              "    });\n",
              "  });\n",
              "\n",
              "  const cancel = document.createElement('button');\n",
              "  inputElement.parentElement.appendChild(cancel);\n",
              "  cancel.textContent = 'Cancel upload';\n",
              "  const cancelPromise = new Promise((resolve) => {\n",
              "    cancel.onclick = () => {\n",
              "      resolve(null);\n",
              "    };\n",
              "  });\n",
              "\n",
              "  // Wait for the user to pick the files.\n",
              "  const files = yield {\n",
              "    promise: Promise.race([pickedPromise, cancelPromise]),\n",
              "    response: {\n",
              "      action: 'starting',\n",
              "    }\n",
              "  };\n",
              "\n",
              "  cancel.remove();\n",
              "\n",
              "  // Disable the input element since further picks are not allowed.\n",
              "  inputElement.disabled = true;\n",
              "\n",
              "  if (!files) {\n",
              "    return {\n",
              "      response: {\n",
              "        action: 'complete',\n",
              "      }\n",
              "    };\n",
              "  }\n",
              "\n",
              "  for (const file of files) {\n",
              "    const li = document.createElement('li');\n",
              "    li.append(span(file.name, {fontWeight: 'bold'}));\n",
              "    li.append(span(\n",
              "        `(${file.type || 'n/a'}) - ${file.size} bytes, ` +\n",
              "        `last modified: ${\n",
              "            file.lastModifiedDate ? file.lastModifiedDate.toLocaleDateString() :\n",
              "                                    'n/a'} - `));\n",
              "    const percent = span('0% done');\n",
              "    li.appendChild(percent);\n",
              "\n",
              "    outputElement.appendChild(li);\n",
              "\n",
              "    const fileDataPromise = new Promise((resolve) => {\n",
              "      const reader = new FileReader();\n",
              "      reader.onload = (e) => {\n",
              "        resolve(e.target.result);\n",
              "      };\n",
              "      reader.readAsArrayBuffer(file);\n",
              "    });\n",
              "    // Wait for the data to be ready.\n",
              "    let fileData = yield {\n",
              "      promise: fileDataPromise,\n",
              "      response: {\n",
              "        action: 'continue',\n",
              "      }\n",
              "    };\n",
              "\n",
              "    // Use a chunked sending to avoid message size limits. See b/62115660.\n",
              "    let position = 0;\n",
              "    do {\n",
              "      const length = Math.min(fileData.byteLength - position, MAX_PAYLOAD_SIZE);\n",
              "      const chunk = new Uint8Array(fileData, position, length);\n",
              "      position += length;\n",
              "\n",
              "      const base64 = btoa(String.fromCharCode.apply(null, chunk));\n",
              "      yield {\n",
              "        response: {\n",
              "          action: 'append',\n",
              "          file: file.name,\n",
              "          data: base64,\n",
              "        },\n",
              "      };\n",
              "\n",
              "      let percentDone = fileData.byteLength === 0 ?\n",
              "          100 :\n",
              "          Math.round((position / fileData.byteLength) * 100);\n",
              "      percent.textContent = `${percentDone}% done`;\n",
              "\n",
              "    } while (position < fileData.byteLength);\n",
              "  }\n",
              "\n",
              "  // All done.\n",
              "  yield {\n",
              "    response: {\n",
              "      action: 'complete',\n",
              "    }\n",
              "  };\n",
              "}\n",
              "\n",
              "scope.google = scope.google || {};\n",
              "scope.google.colab = scope.google.colab || {};\n",
              "scope.google.colab._files = {\n",
              "  _uploadFiles,\n",
              "  _uploadFilesContinue,\n",
              "};\n",
              "})(self);\n",
              "</script> "
            ]
          },
          "metadata": {}
        },
        {
          "output_type": "stream",
          "name": "stdout",
          "text": [
            "Saving heart_failure_clinical_records_dataset.csv to heart_failure_clinical_records_dataset.csv\n"
          ]
        },
        {
          "output_type": "execute_result",
          "data": {
            "text/plain": [
              "{'heart_failure_clinical_records_dataset.csv': b'age,anaemia,creatinine_phosphokinase,diabetes,ejection_fraction,high_blood_pressure,platelets,serum_creatinine,serum_sodium,sex,smoking,time,DEATH_EVENT\\n75,0,582,0,20,1,265000,1.9,130,1,0,4,1\\n55,0,7861,0,38,0,263358.03,1.1,136,1,0,6,1\\n65,0,146,0,20,0,162000,1.3,129,1,1,7,1\\n50,1,111,0,20,0,210000,1.9,137,1,0,7,1\\n65,1,160,1,20,0,327000,2.7,116,0,0,8,1\\n90,1,47,0,40,1,204000,2.1,132,1,1,8,1\\n75,1,246,0,15,0,127000,1.2,137,1,0,10,1\\n60,1,315,1,60,0,454000,1.1,131,1,1,10,1\\n65,0,157,0,65,0,263358.03,1.5,138,0,0,10,1\\n80,1,123,0,35,1,388000,9.4,133,1,1,10,1\\n75,1,81,0,38,1,368000,4,131,1,1,10,1\\n62,0,231,0,25,1,253000,0.9,140,1,1,10,1\\n45,1,981,0,30,0,136000,1.1,137,1,0,11,1\\n50,1,168,0,38,1,276000,1.1,137,1,0,11,1\\n49,1,80,0,30,1,427000,1,138,0,0,12,0\\n82,1,379,0,50,0,47000,1.3,136,1,0,13,1\\n87,1,149,0,38,0,262000,0.9,140,1,0,14,1\\n45,0,582,0,14,0,166000,0.8,127,1,0,14,1\\n70,1,125,0,25,1,237000,1,140,0,0,15,1\\n48,1,582,1,55,0,87000,1.9,121,0,0,15,1\\n65,1,52,0,25,1,276000,1.3,137,0,0,16,0\\n65,1,128,1,30,1,297000,1.6,136,0,0,20,1\\n68,1,220,0,35,1,289000,0.9,140,1,1,20,1\\n53,0,63,1,60,0,368000,0.8,135,1,0,22,0\\n75,0,582,1,30,1,263358.03,1.83,134,0,0,23,1\\n80,0,148,1,38,0,149000,1.9,144,1,1,23,1\\n95,1,112,0,40,1,196000,1,138,0,0,24,1\\n70,0,122,1,45,1,284000,1.3,136,1,1,26,1\\n58,1,60,0,38,0,153000,5.8,134,1,0,26,1\\n82,0,70,1,30,0,200000,1.2,132,1,1,26,1\\n94,0,582,1,38,1,263358.03,1.83,134,1,0,27,1\\n85,0,23,0,45,0,360000,3,132,1,0,28,1\\n50,1,249,1,35,1,319000,1,128,0,0,28,1\\n50,1,159,1,30,0,302000,1.2,138,0,0,29,0\\n65,0,94,1,50,1,188000,1,140,1,0,29,1\\n69,0,582,1,35,0,228000,3.5,134,1,0,30,1\\n90,1,60,1,50,0,226000,1,134,1,0,30,1\\n82,1,855,1,50,1,321000,1,145,0,0,30,1\\n60,0,2656,1,30,0,305000,2.3,137,1,0,30,0\\n60,0,235,1,38,0,329000,3,142,0,0,30,1\\n70,0,582,0,20,1,263358.03,1.83,134,1,1,31,1\\n50,0,124,1,30,1,153000,1.2,136,0,1,32,1\\n70,0,571,1,45,1,185000,1.2,139,1,1,33,1\\n72,0,127,1,50,1,218000,1,134,1,0,33,0\\n60,1,588,1,60,0,194000,1.1,142,0,0,33,1\\n50,0,582,1,38,0,310000,1.9,135,1,1,35,1\\n51,0,1380,0,25,1,271000,0.9,130,1,0,38,1\\n60,0,582,1,38,1,451000,0.6,138,1,1,40,1\\n80,1,553,0,20,1,140000,4.4,133,1,0,41,1\\n57,1,129,0,30,0,395000,1,140,0,0,42,1\\n68,1,577,0,25,1,166000,1,138,1,0,43,1\\n53,1,91,0,20,1,418000,1.4,139,0,0,43,1\\n60,0,3964,1,62,0,263358.03,6.8,146,0,0,43,1\\n70,1,69,1,50,1,351000,1,134,0,0,44,1\\n60,1,260,1,38,0,255000,2.2,132,0,1,45,1\\n95,1,371,0,30,0,461000,2,132,1,0,50,1\\n70,1,75,0,35,0,223000,2.7,138,1,1,54,0\\n60,1,607,0,40,0,216000,0.6,138,1,1,54,0\\n49,0,789,0,20,1,319000,1.1,136,1,1,55,1\\n72,0,364,1,20,1,254000,1.3,136,1,1,59,1\\n45,0,7702,1,25,1,390000,1,139,1,0,60,1\\n50,0,318,0,40,1,216000,2.3,131,0,0,60,1\\n55,0,109,0,35,0,254000,1.1,139,1,1,60,0\\n45,0,582,0,35,0,385000,1,145,1,0,61,1\\n45,0,582,0,80,0,263358.03,1.18,137,0,0,63,0\\n60,0,68,0,20,0,119000,2.9,127,1,1,64,1\\n42,1,250,1,15,0,213000,1.3,136,0,0,65,1\\n72,1,110,0,25,0,274000,1,140,1,1,65,1\\n70,0,161,0,25,0,244000,1.2,142,0,0,66,1\\n65,0,113,1,25,0,497000,1.83,135,1,0,67,1\\n41,0,148,0,40,0,374000,0.8,140,1,1,68,0\\n58,0,582,1,35,0,122000,0.9,139,1,1,71,0\\n85,0,5882,0,35,0,243000,1,132,1,1,72,1\\n65,0,224,1,50,0,149000,1.3,137,1,1,72,0\\n69,0,582,0,20,0,266000,1.2,134,1,1,73,1\\n60,1,47,0,20,0,204000,0.7,139,1,1,73,1\\n70,0,92,0,60,1,317000,0.8,140,0,1,74,0\\n42,0,102,1,40,0,237000,1.2,140,1,0,74,0\\n75,1,203,1,38,1,283000,0.6,131,1,1,74,0\\n55,0,336,0,45,1,324000,0.9,140,0,0,74,0\\n70,0,69,0,40,0,293000,1.7,136,0,0,75,0\\n67,0,582,0,50,0,263358.03,1.18,137,1,1,76,0\\n60,1,76,1,25,0,196000,2.5,132,0,0,77,1\\n79,1,55,0,50,1,172000,1.8,133,1,0,78,0\\n59,1,280,1,25,1,302000,1,141,0,0,78,1\\n51,0,78,0,50,0,406000,0.7,140,1,0,79,0\\n55,0,47,0,35,1,173000,1.1,137,1,0,79,0\\n65,1,68,1,60,1,304000,0.8,140,1,0,79,0\\n44,0,84,1,40,1,235000,0.7,139,1,0,79,0\\n57,1,115,0,25,1,181000,1.1,144,1,0,79,0\\n70,0,66,1,45,0,249000,0.8,136,1,1,80,0\\n60,0,897,1,45,0,297000,1,133,1,0,80,0\\n42,0,582,0,60,0,263358.03,1.18,137,0,0,82,0\\n60,1,154,0,25,0,210000,1.7,135,1,0,82,1\\n58,0,144,1,38,1,327000,0.7,142,0,0,83,0\\n58,1,133,0,60,1,219000,1,141,1,0,83,0\\n63,1,514,1,25,1,254000,1.3,134,1,0,83,0\\n70,1,59,0,60,0,255000,1.1,136,0,0,85,0\\n60,1,156,1,25,1,318000,1.2,137,0,0,85,0\\n63,1,61,1,40,0,221000,1.1,140,0,0,86,0\\n65,1,305,0,25,0,298000,1.1,141,1,0,87,0\\n75,0,582,0,45,1,263358.03,1.18,137,1,0,87,0\\n80,0,898,0,25,0,149000,1.1,144,1,1,87,0\\n42,0,5209,0,30,0,226000,1,140,1,1,87,0\\n60,0,53,0,50,1,286000,2.3,143,0,0,87,0\\n72,1,328,0,30,1,621000,1.7,138,0,1,88,1\\n55,0,748,0,45,0,263000,1.3,137,1,0,88,0\\n45,1,1876,1,35,0,226000,0.9,138,1,0,88,0\\n63,0,936,0,38,0,304000,1.1,133,1,1,88,0\\n45,0,292,1,35,0,850000,1.3,142,1,1,88,0\\n85,0,129,0,60,0,306000,1.2,132,1,1,90,1\\n55,0,60,0,35,0,228000,1.2,135,1,1,90,0\\n50,0,369,1,25,0,252000,1.6,136,1,0,90,0\\n70,1,143,0,60,0,351000,1.3,137,0,0,90,1\\n60,1,754,1,40,1,328000,1.2,126,1,0,91,0\\n58,1,400,0,40,0,164000,1,139,0,0,91,0\\n60,1,96,1,60,1,271000,0.7,136,0,0,94,0\\n85,1,102,0,60,0,507000,3.2,138,0,0,94,0\\n65,1,113,1,60,1,203000,0.9,140,0,0,94,0\\n86,0,582,0,38,0,263358.03,1.83,134,0,0,95,1\\n60,1,737,0,60,1,210000,1.5,135,1,1,95,0\\n66,1,68,1,38,1,162000,1,136,0,0,95,0\\n60,0,96,1,38,0,228000,0.75,140,0,0,95,0\\n60,1,582,0,30,1,127000,0.9,145,0,0,95,0\\n60,0,582,0,40,0,217000,3.7,134,1,0,96,1\\n43,1,358,0,50,0,237000,1.3,135,0,0,97,0\\n46,0,168,1,17,1,271000,2.1,124,0,0,100,1\\n58,1,200,1,60,0,300000,0.8,137,0,0,104,0\\n61,0,248,0,30,1,267000,0.7,136,1,1,104,0\\n53,1,270,1,35,0,227000,3.4,145,1,0,105,0\\n53,1,1808,0,60,1,249000,0.7,138,1,1,106,0\\n60,1,1082,1,45,0,250000,6.1,131,1,0,107,0\\n46,0,719,0,40,1,263358.03,1.18,137,0,0,107,0\\n63,0,193,0,60,1,295000,1.3,145,1,1,107,0\\n81,0,4540,0,35,0,231000,1.18,137,1,1,107,0\\n75,0,582,0,40,0,263358.03,1.18,137,1,0,107,0\\n65,1,59,1,60,0,172000,0.9,137,0,0,107,0\\n68,1,646,0,25,0,305000,2.1,130,1,0,108,0\\n62,0,281,1,35,0,221000,1,136,0,0,108,0\\n50,0,1548,0,30,1,211000,0.8,138,1,0,108,0\\n80,0,805,0,38,0,263358.03,1.1,134,1,0,109,1\\n46,1,291,0,35,0,348000,0.9,140,0,0,109,0\\n50,0,482,1,30,0,329000,0.9,132,0,0,109,0\\n61,1,84,0,40,1,229000,0.9,141,0,0,110,0\\n72,1,943,0,25,1,338000,1.7,139,1,1,111,1\\n50,0,185,0,30,0,266000,0.7,141,1,1,112,0\\n52,0,132,0,30,0,218000,0.7,136,1,1,112,0\\n64,0,1610,0,60,0,242000,1,137,1,0,113,0\\n75,1,582,0,30,0,225000,1.83,134,1,0,113,1\\n60,0,2261,0,35,1,228000,0.9,136,1,0,115,0\\n72,0,233,0,45,1,235000,2.5,135,0,0,115,1\\n62,0,30,1,60,1,244000,0.9,139,1,0,117,0\\n50,0,115,0,45,1,184000,0.9,134,1,1,118,0\\n50,0,1846,1,35,0,263358.03,1.18,137,1,1,119,0\\n65,1,335,0,35,1,235000,0.8,136,0,0,120,0\\n60,1,231,1,25,0,194000,1.7,140,1,0,120,0\\n52,1,58,0,35,0,277000,1.4,136,0,0,120,0\\n50,0,250,0,25,0,262000,1,136,1,1,120,0\\n85,1,910,0,50,0,235000,1.3,134,1,0,121,0\\n59,1,129,0,45,1,362000,1.1,139,1,1,121,0\\n66,1,72,0,40,1,242000,1.2,134,1,0,121,0\\n45,1,130,0,35,0,174000,0.8,139,1,1,121,0\\n63,1,582,0,40,0,448000,0.9,137,1,1,123,0\\n50,1,2334,1,35,0,75000,0.9,142,0,0,126,1\\n45,0,2442,1,30,0,334000,1.1,139,1,0,129,1\\n80,0,776,1,38,1,192000,1.3,135,0,0,130,1\\n53,0,196,0,60,0,220000,0.7,133,1,1,134,0\\n59,0,66,1,20,0,70000,2.4,134,1,0,135,1\\n65,0,582,1,40,0,270000,1,138,0,0,140,0\\n70,0,835,0,35,1,305000,0.8,133,0,0,145,0\\n51,1,582,1,35,0,263358.03,1.5,136,1,1,145,0\\n52,0,3966,0,40,0,325000,0.9,140,1,1,146,0\\n70,1,171,0,60,1,176000,1.1,145,1,1,146,0\\n50,1,115,0,20,0,189000,0.8,139,1,0,146,0\\n65,0,198,1,35,1,281000,0.9,137,1,1,146,0\\n60,1,95,0,60,0,337000,1,138,1,1,146,0\\n69,0,1419,0,40,0,105000,1,135,1,1,147,0\\n49,1,69,0,50,0,132000,1,140,0,0,147,0\\n63,1,122,1,60,0,267000,1.2,145,1,0,147,0\\n55,0,835,0,40,0,279000,0.7,140,1,1,147,0\\n40,0,478,1,30,0,303000,0.9,136,1,0,148,0\\n59,1,176,1,25,0,221000,1,136,1,1,150,1\\n65,0,395,1,25,0,265000,1.2,136,1,1,154,1\\n75,0,99,0,38,1,224000,2.5,134,1,0,162,1\\n58,1,145,0,25,0,219000,1.2,137,1,1,170,1\\n60.667,1,104,1,30,0,389000,1.5,136,1,0,171,1\\n50,0,582,0,50,0,153000,0.6,134,0,0,172,1\\n60,0,1896,1,25,0,365000,2.1,144,0,0,172,1\\n60.667,1,151,1,40,1,201000,1,136,0,0,172,0\\n40,0,244,0,45,1,275000,0.9,140,0,0,174,0\\n80,0,582,1,35,0,350000,2.1,134,1,0,174,0\\n64,1,62,0,60,0,309000,1.5,135,0,0,174,0\\n50,1,121,1,40,0,260000,0.7,130,1,0,175,0\\n73,1,231,1,30,0,160000,1.18,142,1,1,180,0\\n45,0,582,0,20,1,126000,1.6,135,1,0,180,1\\n77,1,418,0,45,0,223000,1.8,145,1,0,180,1\\n45,0,582,1,38,1,263358.03,1.18,137,0,0,185,0\\n65,0,167,0,30,0,259000,0.8,138,0,0,186,0\\n50,1,582,1,20,1,279000,1,134,0,0,186,0\\n60,0,1211,1,35,0,263358.03,1.8,113,1,1,186,0\\n63,1,1767,0,45,0,73000,0.7,137,1,0,186,0\\n45,0,308,1,60,1,377000,1,136,1,0,186,0\\n70,0,97,0,60,1,220000,0.9,138,1,0,186,0\\n60,0,59,0,25,1,212000,3.5,136,1,1,187,0\\n78,1,64,0,40,0,277000,0.7,137,1,1,187,0\\n50,1,167,1,45,0,362000,1,136,0,0,187,0\\n40,1,101,0,40,0,226000,0.8,141,0,0,187,0\\n85,0,212,0,38,0,186000,0.9,136,1,0,187,0\\n60,1,2281,1,40,0,283000,1,141,0,0,187,0\\n49,0,972,1,35,1,268000,0.8,130,0,0,187,0\\n70,0,212,1,17,1,389000,1,136,1,1,188,0\\n50,0,582,0,62,1,147000,0.8,140,1,1,192,0\\n78,0,224,0,50,0,481000,1.4,138,1,1,192,0\\n48,1,131,1,30,1,244000,1.6,130,0,0,193,1\\n65,1,135,0,35,1,290000,0.8,134,1,0,194,0\\n73,0,582,0,35,1,203000,1.3,134,1,0,195,0\\n70,0,1202,0,50,1,358000,0.9,141,0,0,196,0\\n54,1,427,0,70,1,151000,9,137,0,0,196,1\\n68,1,1021,1,35,0,271000,1.1,134,1,0,197,0\\n55,0,582,1,35,1,371000,0.7,140,0,0,197,0\\n73,0,582,0,20,0,263358.03,1.83,134,1,0,198,1\\n65,0,118,0,50,0,194000,1.1,145,1,1,200,0\\n42,1,86,0,35,0,365000,1.1,139,1,1,201,0\\n47,0,582,0,25,0,130000,0.8,134,1,0,201,0\\n58,0,582,1,25,0,504000,1,138,1,0,205,0\\n75,0,675,1,60,0,265000,1.4,125,0,0,205,0\\n58,1,57,0,25,0,189000,1.3,132,1,1,205,0\\n55,1,2794,0,35,1,141000,1,140,1,0,206,0\\n65,0,56,0,25,0,237000,5,130,0,0,207,0\\n72,0,211,0,25,0,274000,1.2,134,0,0,207,0\\n60,0,166,0,30,0,62000,1.7,127,0,0,207,1\\n70,0,93,0,35,0,185000,1.1,134,1,1,208,0\\n40,1,129,0,35,0,255000,0.9,137,1,0,209,0\\n53,1,707,0,38,0,330000,1.4,137,1,1,209,0\\n53,1,582,0,45,0,305000,1.1,137,1,1,209,0\\n77,1,109,0,50,1,406000,1.1,137,1,0,209,0\\n75,0,119,0,50,1,248000,1.1,148,1,0,209,0\\n70,0,232,0,30,0,173000,1.2,132,1,0,210,0\\n65,1,720,1,40,0,257000,1,136,0,0,210,0\\n55,1,180,0,45,0,263358.03,1.18,137,1,1,211,0\\n70,0,81,1,35,1,533000,1.3,139,0,0,212,0\\n65,0,582,1,30,0,249000,1.3,136,1,1,212,0\\n40,0,90,0,35,0,255000,1.1,136,1,1,212,0\\n73,1,1185,0,40,1,220000,0.9,141,0,0,213,0\\n54,0,582,1,38,0,264000,1.8,134,1,0,213,0\\n61,1,80,1,38,0,282000,1.4,137,1,0,213,0\\n55,0,2017,0,25,0,314000,1.1,138,1,0,214,1\\n64,0,143,0,25,0,246000,2.4,135,1,0,214,0\\n40,0,624,0,35,0,301000,1,142,1,1,214,0\\n53,0,207,1,40,0,223000,1.2,130,0,0,214,0\\n50,0,2522,0,30,1,404000,0.5,139,0,0,214,0\\n55,0,572,1,35,0,231000,0.8,143,0,0,215,0\\n50,0,245,0,45,1,274000,1,133,1,0,215,0\\n70,0,88,1,35,1,236000,1.2,132,0,0,215,0\\n53,1,446,0,60,1,263358.03,1,139,1,0,215,0\\n52,1,191,1,30,1,334000,1,142,1,1,216,0\\n65,0,326,0,38,0,294000,1.7,139,0,0,220,0\\n58,0,132,1,38,1,253000,1,139,1,0,230,0\\n45,1,66,1,25,0,233000,0.8,135,1,0,230,0\\n53,0,56,0,50,0,308000,0.7,135,1,1,231,0\\n55,0,66,0,40,0,203000,1,138,1,0,233,0\\n62,1,655,0,40,0,283000,0.7,133,0,0,233,0\\n65,1,258,1,25,0,198000,1.4,129,1,0,235,1\\n68,1,157,1,60,0,208000,1,140,0,0,237,0\\n61,0,582,1,38,0,147000,1.2,141,1,0,237,0\\n50,1,298,0,35,0,362000,0.9,140,1,1,240,0\\n55,0,1199,0,20,0,263358.03,1.83,134,1,1,241,1\\n56,1,135,1,38,0,133000,1.7,140,1,0,244,0\\n45,0,582,1,38,0,302000,0.9,140,0,0,244,0\\n40,0,582,1,35,0,222000,1,132,1,0,244,0\\n44,0,582,1,30,1,263358.03,1.6,130,1,1,244,0\\n51,0,582,1,40,0,221000,0.9,134,0,0,244,0\\n67,0,213,0,38,0,215000,1.2,133,0,0,245,0\\n42,0,64,0,40,0,189000,0.7,140,1,0,245,0\\n60,1,257,1,30,0,150000,1,137,1,1,245,0\\n45,0,582,0,38,1,422000,0.8,137,0,0,245,0\\n70,0,618,0,35,0,327000,1.1,142,0,0,245,0\\n70,0,582,1,38,0,25100,1.1,140,1,0,246,0\\n50,1,1051,1,30,0,232000,0.7,136,0,0,246,0\\n55,0,84,1,38,0,451000,1.3,136,0,0,246,0\\n70,0,2695,1,40,0,241000,1,137,1,0,247,0\\n70,0,582,0,40,0,51000,2.7,136,1,1,250,0\\n42,0,64,0,30,0,215000,3.8,128,1,1,250,0\\n65,0,1688,0,38,0,263358.03,1.1,138,1,1,250,0\\n50,1,54,0,40,0,279000,0.8,141,1,0,250,0\\n55,1,170,1,40,0,336000,1.2,135,1,0,250,0\\n60,0,253,0,35,0,279000,1.7,140,1,0,250,0\\n45,0,582,1,55,0,543000,1,132,0,0,250,0\\n65,0,892,1,35,0,263358.03,1.1,142,0,0,256,0\\n90,1,337,0,38,0,390000,0.9,144,0,0,256,0\\n45,0,615,1,55,0,222000,0.8,141,0,0,257,0\\n60,0,320,0,35,0,133000,1.4,139,1,0,258,0\\n52,0,190,1,38,0,382000,1,140,1,1,258,0\\n63,1,103,1,35,0,179000,0.9,136,1,1,270,0\\n62,0,61,1,38,1,155000,1.1,143,1,1,270,0\\n55,0,1820,0,38,0,270000,1.2,139,0,0,271,0\\n45,0,2060,1,60,0,742000,0.8,138,0,0,278,0\\n45,0,2413,0,38,0,140000,1.4,140,1,1,280,0\\n50,0,196,0,45,0,395000,1.6,136,1,1,285,0\\n'}"
            ]
          },
          "metadata": {},
          "execution_count": 2
        }
      ],
      "source": [
        "!pip install kaggle\n",
        "files.upload()"
      ]
    },
    {
      "cell_type": "code",
      "source": [
        "# membuat directory dari kaggle.json\n",
        "!mkdir -p ~/.kaggle\n",
        "!cp kaggle.json ~/.kaggle/\n",
        "!chmod 600 ~/.kaggle/kaggle.json\n",
        "!ls ~/.kaggle"
      ],
      "metadata": {
        "colab": {
          "base_uri": "https://localhost:8080/"
        },
        "id": "z3rQTlJd-EhK",
        "outputId": "6974b662-3cf6-4c9d-bc98-11ecf86eb74d"
      },
      "execution_count": 3,
      "outputs": [
        {
          "output_type": "stream",
          "name": "stdout",
          "text": [
            "cp: cannot stat 'kaggle.json': No such file or directory\n",
            "chmod: cannot access '/root/.kaggle/kaggle.json': No such file or directory\n"
          ]
        }
      ]
    },
    {
      "cell_type": "code",
      "source": [
        "!kaggle datasets download -d andrewmvd/heart-failure-clinical-data"
      ],
      "metadata": {
        "colab": {
          "base_uri": "https://localhost:8080/"
        },
        "id": "a2xuUTzP-kLl",
        "outputId": "4e3b153c-7eb7-4dce-aa84-5cfb1affee9f"
      },
      "execution_count": 4,
      "outputs": [
        {
          "output_type": "stream",
          "name": "stdout",
          "text": [
            "Traceback (most recent call last):\n",
            "  File \"/usr/local/bin/kaggle\", line 5, in <module>\n",
            "    from kaggle.cli import main\n",
            "  File \"/usr/local/lib/python3.8/dist-packages/kaggle/__init__.py\", line 23, in <module>\n",
            "    api.authenticate()\n",
            "  File \"/usr/local/lib/python3.8/dist-packages/kaggle/api/kaggle_api_extended.py\", line 164, in authenticate\n",
            "    raise IOError('Could not find {}. Make sure it\\'s located in'\n",
            "OSError: Could not find kaggle.json. Make sure it's located in /root/.kaggle. Or use the environment method.\n"
          ]
        }
      ]
    },
    {
      "cell_type": "code",
      "source": [
        "# unzip dan lihat list dataset\n",
        "!mkdir heart-failure-clinical-data\n",
        "!unzip heart-failure-clinical-data.zip -d heart-failure-clinical-data"
      ],
      "metadata": {
        "colab": {
          "base_uri": "https://localhost:8080/"
        },
        "id": "oMwMJGWK-tSH",
        "outputId": "d7d50457-bdca-4879-880a-3fda1b3c6fb3"
      },
      "execution_count": 5,
      "outputs": [
        {
          "output_type": "stream",
          "name": "stdout",
          "text": [
            "unzip:  cannot find or open heart-failure-clinical-data.zip, heart-failure-clinical-data.zip.zip or heart-failure-clinical-data.zip.ZIP.\n"
          ]
        }
      ]
    },
    {
      "cell_type": "code",
      "source": [
        "df = pd.read_csv('heart_failure_clinical_records_dataset.csv')\n",
        "df.head()"
      ],
      "metadata": {
        "colab": {
          "base_uri": "https://localhost:8080/",
          "height": 270
        },
        "id": "UT5vU3MS-yfQ",
        "outputId": "b006ad1c-adb9-47db-c4c1-375ad49cb6b2"
      },
      "execution_count": 7,
      "outputs": [
        {
          "output_type": "execute_result",
          "data": {
            "text/plain": [
              "    age  anaemia  creatinine_phosphokinase  diabetes  ejection_fraction  \\\n",
              "0  75.0        0                       582         0                 20   \n",
              "1  55.0        0                      7861         0                 38   \n",
              "2  65.0        0                       146         0                 20   \n",
              "3  50.0        1                       111         0                 20   \n",
              "4  65.0        1                       160         1                 20   \n",
              "\n",
              "   high_blood_pressure  platelets  serum_creatinine  serum_sodium  sex  \\\n",
              "0                    1  265000.00               1.9           130    1   \n",
              "1                    0  263358.03               1.1           136    1   \n",
              "2                    0  162000.00               1.3           129    1   \n",
              "3                    0  210000.00               1.9           137    1   \n",
              "4                    0  327000.00               2.7           116    0   \n",
              "\n",
              "   smoking  time  DEATH_EVENT  \n",
              "0        0     4            1  \n",
              "1        0     6            1  \n",
              "2        1     7            1  \n",
              "3        0     7            1  \n",
              "4        0     8            1  "
            ],
            "text/html": [
              "\n",
              "  <div id=\"df-52c035c0-4f4e-4c46-96e4-95ca8c4c3615\">\n",
              "    <div class=\"colab-df-container\">\n",
              "      <div>\n",
              "<style scoped>\n",
              "    .dataframe tbody tr th:only-of-type {\n",
              "        vertical-align: middle;\n",
              "    }\n",
              "\n",
              "    .dataframe tbody tr th {\n",
              "        vertical-align: top;\n",
              "    }\n",
              "\n",
              "    .dataframe thead th {\n",
              "        text-align: right;\n",
              "    }\n",
              "</style>\n",
              "<table border=\"1\" class=\"dataframe\">\n",
              "  <thead>\n",
              "    <tr style=\"text-align: right;\">\n",
              "      <th></th>\n",
              "      <th>age</th>\n",
              "      <th>anaemia</th>\n",
              "      <th>creatinine_phosphokinase</th>\n",
              "      <th>diabetes</th>\n",
              "      <th>ejection_fraction</th>\n",
              "      <th>high_blood_pressure</th>\n",
              "      <th>platelets</th>\n",
              "      <th>serum_creatinine</th>\n",
              "      <th>serum_sodium</th>\n",
              "      <th>sex</th>\n",
              "      <th>smoking</th>\n",
              "      <th>time</th>\n",
              "      <th>DEATH_EVENT</th>\n",
              "    </tr>\n",
              "  </thead>\n",
              "  <tbody>\n",
              "    <tr>\n",
              "      <th>0</th>\n",
              "      <td>75.0</td>\n",
              "      <td>0</td>\n",
              "      <td>582</td>\n",
              "      <td>0</td>\n",
              "      <td>20</td>\n",
              "      <td>1</td>\n",
              "      <td>265000.00</td>\n",
              "      <td>1.9</td>\n",
              "      <td>130</td>\n",
              "      <td>1</td>\n",
              "      <td>0</td>\n",
              "      <td>4</td>\n",
              "      <td>1</td>\n",
              "    </tr>\n",
              "    <tr>\n",
              "      <th>1</th>\n",
              "      <td>55.0</td>\n",
              "      <td>0</td>\n",
              "      <td>7861</td>\n",
              "      <td>0</td>\n",
              "      <td>38</td>\n",
              "      <td>0</td>\n",
              "      <td>263358.03</td>\n",
              "      <td>1.1</td>\n",
              "      <td>136</td>\n",
              "      <td>1</td>\n",
              "      <td>0</td>\n",
              "      <td>6</td>\n",
              "      <td>1</td>\n",
              "    </tr>\n",
              "    <tr>\n",
              "      <th>2</th>\n",
              "      <td>65.0</td>\n",
              "      <td>0</td>\n",
              "      <td>146</td>\n",
              "      <td>0</td>\n",
              "      <td>20</td>\n",
              "      <td>0</td>\n",
              "      <td>162000.00</td>\n",
              "      <td>1.3</td>\n",
              "      <td>129</td>\n",
              "      <td>1</td>\n",
              "      <td>1</td>\n",
              "      <td>7</td>\n",
              "      <td>1</td>\n",
              "    </tr>\n",
              "    <tr>\n",
              "      <th>3</th>\n",
              "      <td>50.0</td>\n",
              "      <td>1</td>\n",
              "      <td>111</td>\n",
              "      <td>0</td>\n",
              "      <td>20</td>\n",
              "      <td>0</td>\n",
              "      <td>210000.00</td>\n",
              "      <td>1.9</td>\n",
              "      <td>137</td>\n",
              "      <td>1</td>\n",
              "      <td>0</td>\n",
              "      <td>7</td>\n",
              "      <td>1</td>\n",
              "    </tr>\n",
              "    <tr>\n",
              "      <th>4</th>\n",
              "      <td>65.0</td>\n",
              "      <td>1</td>\n",
              "      <td>160</td>\n",
              "      <td>1</td>\n",
              "      <td>20</td>\n",
              "      <td>0</td>\n",
              "      <td>327000.00</td>\n",
              "      <td>2.7</td>\n",
              "      <td>116</td>\n",
              "      <td>0</td>\n",
              "      <td>0</td>\n",
              "      <td>8</td>\n",
              "      <td>1</td>\n",
              "    </tr>\n",
              "  </tbody>\n",
              "</table>\n",
              "</div>\n",
              "      <button class=\"colab-df-convert\" onclick=\"convertToInteractive('df-52c035c0-4f4e-4c46-96e4-95ca8c4c3615')\"\n",
              "              title=\"Convert this dataframe to an interactive table.\"\n",
              "              style=\"display:none;\">\n",
              "        \n",
              "  <svg xmlns=\"http://www.w3.org/2000/svg\" height=\"24px\"viewBox=\"0 0 24 24\"\n",
              "       width=\"24px\">\n",
              "    <path d=\"M0 0h24v24H0V0z\" fill=\"none\"/>\n",
              "    <path d=\"M18.56 5.44l.94 2.06.94-2.06 2.06-.94-2.06-.94-.94-2.06-.94 2.06-2.06.94zm-11 1L8.5 8.5l.94-2.06 2.06-.94-2.06-.94L8.5 2.5l-.94 2.06-2.06.94zm10 10l.94 2.06.94-2.06 2.06-.94-2.06-.94-.94-2.06-.94 2.06-2.06.94z\"/><path d=\"M17.41 7.96l-1.37-1.37c-.4-.4-.92-.59-1.43-.59-.52 0-1.04.2-1.43.59L10.3 9.45l-7.72 7.72c-.78.78-.78 2.05 0 2.83L4 21.41c.39.39.9.59 1.41.59.51 0 1.02-.2 1.41-.59l7.78-7.78 2.81-2.81c.8-.78.8-2.07 0-2.86zM5.41 20L4 18.59l7.72-7.72 1.47 1.35L5.41 20z\"/>\n",
              "  </svg>\n",
              "      </button>\n",
              "      \n",
              "  <style>\n",
              "    .colab-df-container {\n",
              "      display:flex;\n",
              "      flex-wrap:wrap;\n",
              "      gap: 12px;\n",
              "    }\n",
              "\n",
              "    .colab-df-convert {\n",
              "      background-color: #E8F0FE;\n",
              "      border: none;\n",
              "      border-radius: 50%;\n",
              "      cursor: pointer;\n",
              "      display: none;\n",
              "      fill: #1967D2;\n",
              "      height: 32px;\n",
              "      padding: 0 0 0 0;\n",
              "      width: 32px;\n",
              "    }\n",
              "\n",
              "    .colab-df-convert:hover {\n",
              "      background-color: #E2EBFA;\n",
              "      box-shadow: 0px 1px 2px rgba(60, 64, 67, 0.3), 0px 1px 3px 1px rgba(60, 64, 67, 0.15);\n",
              "      fill: #174EA6;\n",
              "    }\n",
              "\n",
              "    [theme=dark] .colab-df-convert {\n",
              "      background-color: #3B4455;\n",
              "      fill: #D2E3FC;\n",
              "    }\n",
              "\n",
              "    [theme=dark] .colab-df-convert:hover {\n",
              "      background-color: #434B5C;\n",
              "      box-shadow: 0px 1px 3px 1px rgba(0, 0, 0, 0.15);\n",
              "      filter: drop-shadow(0px 1px 2px rgba(0, 0, 0, 0.3));\n",
              "      fill: #FFFFFF;\n",
              "    }\n",
              "  </style>\n",
              "\n",
              "      <script>\n",
              "        const buttonEl =\n",
              "          document.querySelector('#df-52c035c0-4f4e-4c46-96e4-95ca8c4c3615 button.colab-df-convert');\n",
              "        buttonEl.style.display =\n",
              "          google.colab.kernel.accessAllowed ? 'block' : 'none';\n",
              "\n",
              "        async function convertToInteractive(key) {\n",
              "          const element = document.querySelector('#df-52c035c0-4f4e-4c46-96e4-95ca8c4c3615');\n",
              "          const dataTable =\n",
              "            await google.colab.kernel.invokeFunction('convertToInteractive',\n",
              "                                                     [key], {});\n",
              "          if (!dataTable) return;\n",
              "\n",
              "          const docLinkHtml = 'Like what you see? Visit the ' +\n",
              "            '<a target=\"_blank\" href=https://colab.research.google.com/notebooks/data_table.ipynb>data table notebook</a>'\n",
              "            + ' to learn more about interactive tables.';\n",
              "          element.innerHTML = '';\n",
              "          dataTable['output_type'] = 'display_data';\n",
              "          await google.colab.output.renderOutput(dataTable, element);\n",
              "          const docLink = document.createElement('div');\n",
              "          docLink.innerHTML = docLinkHtml;\n",
              "          element.appendChild(docLink);\n",
              "        }\n",
              "      </script>\n",
              "    </div>\n",
              "  </div>\n",
              "  "
            ]
          },
          "metadata": {},
          "execution_count": 7
        }
      ]
    },
    {
      "cell_type": "code",
      "source": [
        "df.info()"
      ],
      "metadata": {
        "colab": {
          "base_uri": "https://localhost:8080/"
        },
        "id": "4Zy-qGYP_Ktb",
        "outputId": "22fc5dfe-23b1-44b3-c7c3-aa160efacded"
      },
      "execution_count": 8,
      "outputs": [
        {
          "output_type": "stream",
          "name": "stdout",
          "text": [
            "<class 'pandas.core.frame.DataFrame'>\n",
            "RangeIndex: 299 entries, 0 to 298\n",
            "Data columns (total 13 columns):\n",
            " #   Column                    Non-Null Count  Dtype  \n",
            "---  ------                    --------------  -----  \n",
            " 0   age                       299 non-null    float64\n",
            " 1   anaemia                   299 non-null    int64  \n",
            " 2   creatinine_phosphokinase  299 non-null    int64  \n",
            " 3   diabetes                  299 non-null    int64  \n",
            " 4   ejection_fraction         299 non-null    int64  \n",
            " 5   high_blood_pressure       299 non-null    int64  \n",
            " 6   platelets                 299 non-null    float64\n",
            " 7   serum_creatinine          299 non-null    float64\n",
            " 8   serum_sodium              299 non-null    int64  \n",
            " 9   sex                       299 non-null    int64  \n",
            " 10  smoking                   299 non-null    int64  \n",
            " 11  time                      299 non-null    int64  \n",
            " 12  DEATH_EVENT               299 non-null    int64  \n",
            "dtypes: float64(3), int64(10)\n",
            "memory usage: 30.5 KB\n"
          ]
        }
      ]
    },
    {
      "cell_type": "markdown",
      "source": [
        "##Melihat deskripsi data set"
      ],
      "metadata": {
        "id": "BsoWAG-C_VP2"
      }
    },
    {
      "cell_type": "code",
      "source": [
        "df.describe()"
      ],
      "metadata": {
        "colab": {
          "base_uri": "https://localhost:8080/",
          "height": 364
        },
        "id": "8t1bQjeS_aBz",
        "outputId": "0389fa17-5799-4168-82a7-749cbaeaf1be"
      },
      "execution_count": 9,
      "outputs": [
        {
          "output_type": "execute_result",
          "data": {
            "text/plain": [
              "              age     anaemia  creatinine_phosphokinase    diabetes  \\\n",
              "count  299.000000  299.000000                299.000000  299.000000   \n",
              "mean    60.833893    0.431438                581.839465    0.418060   \n",
              "std     11.894809    0.496107                970.287881    0.494067   \n",
              "min     40.000000    0.000000                 23.000000    0.000000   \n",
              "25%     51.000000    0.000000                116.500000    0.000000   \n",
              "50%     60.000000    0.000000                250.000000    0.000000   \n",
              "75%     70.000000    1.000000                582.000000    1.000000   \n",
              "max     95.000000    1.000000               7861.000000    1.000000   \n",
              "\n",
              "       ejection_fraction  high_blood_pressure      platelets  \\\n",
              "count         299.000000           299.000000     299.000000   \n",
              "mean           38.083612             0.351171  263358.029264   \n",
              "std            11.834841             0.478136   97804.236869   \n",
              "min            14.000000             0.000000   25100.000000   \n",
              "25%            30.000000             0.000000  212500.000000   \n",
              "50%            38.000000             0.000000  262000.000000   \n",
              "75%            45.000000             1.000000  303500.000000   \n",
              "max            80.000000             1.000000  850000.000000   \n",
              "\n",
              "       serum_creatinine  serum_sodium         sex    smoking        time  \\\n",
              "count         299.00000    299.000000  299.000000  299.00000  299.000000   \n",
              "mean            1.39388    136.625418    0.648829    0.32107  130.260870   \n",
              "std             1.03451      4.412477    0.478136    0.46767   77.614208   \n",
              "min             0.50000    113.000000    0.000000    0.00000    4.000000   \n",
              "25%             0.90000    134.000000    0.000000    0.00000   73.000000   \n",
              "50%             1.10000    137.000000    1.000000    0.00000  115.000000   \n",
              "75%             1.40000    140.000000    1.000000    1.00000  203.000000   \n",
              "max             9.40000    148.000000    1.000000    1.00000  285.000000   \n",
              "\n",
              "       DEATH_EVENT  \n",
              "count    299.00000  \n",
              "mean       0.32107  \n",
              "std        0.46767  \n",
              "min        0.00000  \n",
              "25%        0.00000  \n",
              "50%        0.00000  \n",
              "75%        1.00000  \n",
              "max        1.00000  "
            ],
            "text/html": [
              "\n",
              "  <div id=\"df-05b7cda1-819b-42bb-a1f2-eeb09520fff1\">\n",
              "    <div class=\"colab-df-container\">\n",
              "      <div>\n",
              "<style scoped>\n",
              "    .dataframe tbody tr th:only-of-type {\n",
              "        vertical-align: middle;\n",
              "    }\n",
              "\n",
              "    .dataframe tbody tr th {\n",
              "        vertical-align: top;\n",
              "    }\n",
              "\n",
              "    .dataframe thead th {\n",
              "        text-align: right;\n",
              "    }\n",
              "</style>\n",
              "<table border=\"1\" class=\"dataframe\">\n",
              "  <thead>\n",
              "    <tr style=\"text-align: right;\">\n",
              "      <th></th>\n",
              "      <th>age</th>\n",
              "      <th>anaemia</th>\n",
              "      <th>creatinine_phosphokinase</th>\n",
              "      <th>diabetes</th>\n",
              "      <th>ejection_fraction</th>\n",
              "      <th>high_blood_pressure</th>\n",
              "      <th>platelets</th>\n",
              "      <th>serum_creatinine</th>\n",
              "      <th>serum_sodium</th>\n",
              "      <th>sex</th>\n",
              "      <th>smoking</th>\n",
              "      <th>time</th>\n",
              "      <th>DEATH_EVENT</th>\n",
              "    </tr>\n",
              "  </thead>\n",
              "  <tbody>\n",
              "    <tr>\n",
              "      <th>count</th>\n",
              "      <td>299.000000</td>\n",
              "      <td>299.000000</td>\n",
              "      <td>299.000000</td>\n",
              "      <td>299.000000</td>\n",
              "      <td>299.000000</td>\n",
              "      <td>299.000000</td>\n",
              "      <td>299.000000</td>\n",
              "      <td>299.00000</td>\n",
              "      <td>299.000000</td>\n",
              "      <td>299.000000</td>\n",
              "      <td>299.00000</td>\n",
              "      <td>299.000000</td>\n",
              "      <td>299.00000</td>\n",
              "    </tr>\n",
              "    <tr>\n",
              "      <th>mean</th>\n",
              "      <td>60.833893</td>\n",
              "      <td>0.431438</td>\n",
              "      <td>581.839465</td>\n",
              "      <td>0.418060</td>\n",
              "      <td>38.083612</td>\n",
              "      <td>0.351171</td>\n",
              "      <td>263358.029264</td>\n",
              "      <td>1.39388</td>\n",
              "      <td>136.625418</td>\n",
              "      <td>0.648829</td>\n",
              "      <td>0.32107</td>\n",
              "      <td>130.260870</td>\n",
              "      <td>0.32107</td>\n",
              "    </tr>\n",
              "    <tr>\n",
              "      <th>std</th>\n",
              "      <td>11.894809</td>\n",
              "      <td>0.496107</td>\n",
              "      <td>970.287881</td>\n",
              "      <td>0.494067</td>\n",
              "      <td>11.834841</td>\n",
              "      <td>0.478136</td>\n",
              "      <td>97804.236869</td>\n",
              "      <td>1.03451</td>\n",
              "      <td>4.412477</td>\n",
              "      <td>0.478136</td>\n",
              "      <td>0.46767</td>\n",
              "      <td>77.614208</td>\n",
              "      <td>0.46767</td>\n",
              "    </tr>\n",
              "    <tr>\n",
              "      <th>min</th>\n",
              "      <td>40.000000</td>\n",
              "      <td>0.000000</td>\n",
              "      <td>23.000000</td>\n",
              "      <td>0.000000</td>\n",
              "      <td>14.000000</td>\n",
              "      <td>0.000000</td>\n",
              "      <td>25100.000000</td>\n",
              "      <td>0.50000</td>\n",
              "      <td>113.000000</td>\n",
              "      <td>0.000000</td>\n",
              "      <td>0.00000</td>\n",
              "      <td>4.000000</td>\n",
              "      <td>0.00000</td>\n",
              "    </tr>\n",
              "    <tr>\n",
              "      <th>25%</th>\n",
              "      <td>51.000000</td>\n",
              "      <td>0.000000</td>\n",
              "      <td>116.500000</td>\n",
              "      <td>0.000000</td>\n",
              "      <td>30.000000</td>\n",
              "      <td>0.000000</td>\n",
              "      <td>212500.000000</td>\n",
              "      <td>0.90000</td>\n",
              "      <td>134.000000</td>\n",
              "      <td>0.000000</td>\n",
              "      <td>0.00000</td>\n",
              "      <td>73.000000</td>\n",
              "      <td>0.00000</td>\n",
              "    </tr>\n",
              "    <tr>\n",
              "      <th>50%</th>\n",
              "      <td>60.000000</td>\n",
              "      <td>0.000000</td>\n",
              "      <td>250.000000</td>\n",
              "      <td>0.000000</td>\n",
              "      <td>38.000000</td>\n",
              "      <td>0.000000</td>\n",
              "      <td>262000.000000</td>\n",
              "      <td>1.10000</td>\n",
              "      <td>137.000000</td>\n",
              "      <td>1.000000</td>\n",
              "      <td>0.00000</td>\n",
              "      <td>115.000000</td>\n",
              "      <td>0.00000</td>\n",
              "    </tr>\n",
              "    <tr>\n",
              "      <th>75%</th>\n",
              "      <td>70.000000</td>\n",
              "      <td>1.000000</td>\n",
              "      <td>582.000000</td>\n",
              "      <td>1.000000</td>\n",
              "      <td>45.000000</td>\n",
              "      <td>1.000000</td>\n",
              "      <td>303500.000000</td>\n",
              "      <td>1.40000</td>\n",
              "      <td>140.000000</td>\n",
              "      <td>1.000000</td>\n",
              "      <td>1.00000</td>\n",
              "      <td>203.000000</td>\n",
              "      <td>1.00000</td>\n",
              "    </tr>\n",
              "    <tr>\n",
              "      <th>max</th>\n",
              "      <td>95.000000</td>\n",
              "      <td>1.000000</td>\n",
              "      <td>7861.000000</td>\n",
              "      <td>1.000000</td>\n",
              "      <td>80.000000</td>\n",
              "      <td>1.000000</td>\n",
              "      <td>850000.000000</td>\n",
              "      <td>9.40000</td>\n",
              "      <td>148.000000</td>\n",
              "      <td>1.000000</td>\n",
              "      <td>1.00000</td>\n",
              "      <td>285.000000</td>\n",
              "      <td>1.00000</td>\n",
              "    </tr>\n",
              "  </tbody>\n",
              "</table>\n",
              "</div>\n",
              "      <button class=\"colab-df-convert\" onclick=\"convertToInteractive('df-05b7cda1-819b-42bb-a1f2-eeb09520fff1')\"\n",
              "              title=\"Convert this dataframe to an interactive table.\"\n",
              "              style=\"display:none;\">\n",
              "        \n",
              "  <svg xmlns=\"http://www.w3.org/2000/svg\" height=\"24px\"viewBox=\"0 0 24 24\"\n",
              "       width=\"24px\">\n",
              "    <path d=\"M0 0h24v24H0V0z\" fill=\"none\"/>\n",
              "    <path d=\"M18.56 5.44l.94 2.06.94-2.06 2.06-.94-2.06-.94-.94-2.06-.94 2.06-2.06.94zm-11 1L8.5 8.5l.94-2.06 2.06-.94-2.06-.94L8.5 2.5l-.94 2.06-2.06.94zm10 10l.94 2.06.94-2.06 2.06-.94-2.06-.94-.94-2.06-.94 2.06-2.06.94z\"/><path d=\"M17.41 7.96l-1.37-1.37c-.4-.4-.92-.59-1.43-.59-.52 0-1.04.2-1.43.59L10.3 9.45l-7.72 7.72c-.78.78-.78 2.05 0 2.83L4 21.41c.39.39.9.59 1.41.59.51 0 1.02-.2 1.41-.59l7.78-7.78 2.81-2.81c.8-.78.8-2.07 0-2.86zM5.41 20L4 18.59l7.72-7.72 1.47 1.35L5.41 20z\"/>\n",
              "  </svg>\n",
              "      </button>\n",
              "      \n",
              "  <style>\n",
              "    .colab-df-container {\n",
              "      display:flex;\n",
              "      flex-wrap:wrap;\n",
              "      gap: 12px;\n",
              "    }\n",
              "\n",
              "    .colab-df-convert {\n",
              "      background-color: #E8F0FE;\n",
              "      border: none;\n",
              "      border-radius: 50%;\n",
              "      cursor: pointer;\n",
              "      display: none;\n",
              "      fill: #1967D2;\n",
              "      height: 32px;\n",
              "      padding: 0 0 0 0;\n",
              "      width: 32px;\n",
              "    }\n",
              "\n",
              "    .colab-df-convert:hover {\n",
              "      background-color: #E2EBFA;\n",
              "      box-shadow: 0px 1px 2px rgba(60, 64, 67, 0.3), 0px 1px 3px 1px rgba(60, 64, 67, 0.15);\n",
              "      fill: #174EA6;\n",
              "    }\n",
              "\n",
              "    [theme=dark] .colab-df-convert {\n",
              "      background-color: #3B4455;\n",
              "      fill: #D2E3FC;\n",
              "    }\n",
              "\n",
              "    [theme=dark] .colab-df-convert:hover {\n",
              "      background-color: #434B5C;\n",
              "      box-shadow: 0px 1px 3px 1px rgba(0, 0, 0, 0.15);\n",
              "      filter: drop-shadow(0px 1px 2px rgba(0, 0, 0, 0.3));\n",
              "      fill: #FFFFFF;\n",
              "    }\n",
              "  </style>\n",
              "\n",
              "      <script>\n",
              "        const buttonEl =\n",
              "          document.querySelector('#df-05b7cda1-819b-42bb-a1f2-eeb09520fff1 button.colab-df-convert');\n",
              "        buttonEl.style.display =\n",
              "          google.colab.kernel.accessAllowed ? 'block' : 'none';\n",
              "\n",
              "        async function convertToInteractive(key) {\n",
              "          const element = document.querySelector('#df-05b7cda1-819b-42bb-a1f2-eeb09520fff1');\n",
              "          const dataTable =\n",
              "            await google.colab.kernel.invokeFunction('convertToInteractive',\n",
              "                                                     [key], {});\n",
              "          if (!dataTable) return;\n",
              "\n",
              "          const docLinkHtml = 'Like what you see? Visit the ' +\n",
              "            '<a target=\"_blank\" href=https://colab.research.google.com/notebooks/data_table.ipynb>data table notebook</a>'\n",
              "            + ' to learn more about interactive tables.';\n",
              "          element.innerHTML = '';\n",
              "          dataTable['output_type'] = 'display_data';\n",
              "          await google.colab.output.renderOutput(dataTable, element);\n",
              "          const docLink = document.createElement('div');\n",
              "          docLink.innerHTML = docLinkHtml;\n",
              "          element.appendChild(docLink);\n",
              "        }\n",
              "      </script>\n",
              "    </div>\n",
              "  </div>\n",
              "  "
            ]
          },
          "metadata": {},
          "execution_count": 9
        }
      ]
    },
    {
      "cell_type": "markdown",
      "source": [
        "**Age**\n",
        "\n",
        "* Rata-rata Usia pada Pasien Penyakit Jantung berkisar 60 Tahun\n",
        "* Usia terendah pada Pasien Penyakit Jantung berada pada umur 40 Tahun\n",
        "* Usia tertinggi pada Pasien Penyakit Jantung berada pada umur 95 Tahun\n",
        "\n",
        "**Anemia**\n",
        "\n",
        "* Rata-rata nilai Anemia pada Pasien Penyakit Jantung berada di 0.431438\n",
        "\n",
        "* Anemia terendah pada Pasien Penyakit Jantung berada di 0 (tidak mengalami anemia)\n",
        "\n",
        "* Anemia tertinggi pada Pasien Penyakit Jantung berada di 1.0 (mengalami anemia)\n",
        "\n",
        "\n",
        "  **Creatinin Fosfokinase**\n",
        "\n",
        "* Rata-rata Creatinin Fosfokinase pada Pasien Penyakit Jantung berada di 581.839465\n",
        "* Creatinin Fosfokinase terendah pada Pasien Penyakit Jantung berada di 23.00\n",
        "* Creatinin Fosfokinase tertinggi pada Pasien Penyakit Jantung berada di 7861.00\n",
        "\n",
        "\n",
        "**Diabetes**\n",
        "\n",
        "* Rata-rata nilai Diabetes pada Pasien Penyakit Jantung berada di 0.418060\n",
        "\n",
        "* Diabetes terendah pada Pasien Penyakit Jantung berada di 0 (tidak mengalami diabetes)\n",
        "\n",
        "* Diabetes tertinggi pada Pasien Penyakit Jantung berada di 1.0 (mengalami diabetes)"
      ],
      "metadata": {
        "id": "6lzBqb4X_j8c"
      }
    },
    {
      "cell_type": "markdown",
      "source": [
        "##Mengecek dataset apakah ada null"
      ],
      "metadata": {
        "id": "_TyY1MXZAO7D"
      }
    },
    {
      "cell_type": "code",
      "source": [
        "df.isnull().sum()"
      ],
      "metadata": {
        "colab": {
          "base_uri": "https://localhost:8080/"
        },
        "id": "srgXhiTOAR9_",
        "outputId": "29e6930c-7bc4-4f43-b59b-a63c93832d66"
      },
      "execution_count": 10,
      "outputs": [
        {
          "output_type": "execute_result",
          "data": {
            "text/plain": [
              "age                         0\n",
              "anaemia                     0\n",
              "creatinine_phosphokinase    0\n",
              "diabetes                    0\n",
              "ejection_fraction           0\n",
              "high_blood_pressure         0\n",
              "platelets                   0\n",
              "serum_creatinine            0\n",
              "serum_sodium                0\n",
              "sex                         0\n",
              "smoking                     0\n",
              "time                        0\n",
              "DEATH_EVENT                 0\n",
              "dtype: int64"
            ]
          },
          "metadata": {},
          "execution_count": 10
        }
      ]
    },
    {
      "cell_type": "markdown",
      "source": [
        "##Melihat dimensi dataset"
      ],
      "metadata": {
        "id": "zOWtPnjMAXBc"
      }
    },
    {
      "cell_type": "code",
      "source": [
        "df.shape"
      ],
      "metadata": {
        "colab": {
          "base_uri": "https://localhost:8080/"
        },
        "id": "MVx6-qq5AZmd",
        "outputId": "a8c5dcb2-bd64-47dd-94c0-5acb22530c0a"
      },
      "execution_count": 11,
      "outputs": [
        {
          "output_type": "execute_result",
          "data": {
            "text/plain": [
              "(299, 13)"
            ]
          },
          "metadata": {},
          "execution_count": 11
        }
      ]
    },
    {
      "cell_type": "markdown",
      "source": [
        "# Data Cleaning"
      ],
      "metadata": {
        "id": "CGc_NKrQAfHe"
      }
    },
    {
      "cell_type": "code",
      "source": [
        "plt.figure(figsize=(16,10))\n",
        "sns.heatmap(df.corr(), vmin=-1, vmax=1, annot=True)\n",
        "plt.savefig(\"korelasi_fitur.png\",\n",
        "            bbox_inches =\"tight\",\n",
        "            pad_inches = 1,\n",
        "            transparent = True,\n",
        "            orientation ='landscape')"
      ],
      "metadata": {
        "colab": {
          "base_uri": "https://localhost:8080/",
          "height": 716
        },
        "id": "vo9ysZFZAim8",
        "outputId": "e6576bf0-16d5-4b17-9d11-c9870f5ab0df"
      },
      "execution_count": 12,
      "outputs": [
        {
          "output_type": "display_data",
          "data": {
            "text/plain": [
              "<Figure size 1152x720 with 2 Axes>"
            ],
            "image/png": "[encoded data removed]"
          },
          "metadata": {
            "needs_background": "light"
          }
        }
      ]
    },
    {
      "cell_type": "markdown",
      "source": [
        "drop fitur yang tidak relevan dengan DEATH_EVENT"
      ],
      "metadata": {
        "id": "-SwEDGZDAqyU"
      }
    },
    {
      "cell_type": "code",
      "source": [
        "new_df = df.copy()\n",
        "new_df.drop(columns=['time','serum_sodium','ejection_fraction'], inplace=True)"
      ],
      "metadata": {
        "id": "BziANRs8Atnb"
      },
      "execution_count": 13,
      "outputs": []
    },
    {
      "cell_type": "code",
      "source": [
        "new_df.head()"
      ],
      "metadata": {
        "colab": {
          "base_uri": "https://localhost:8080/",
          "height": 206
        },
        "id": "D3BtcmP-Awl1",
        "outputId": "3ac6baa7-95e1-4ad5-a430-085b8f59ac19"
      },
      "execution_count": 14,
      "outputs": [
        {
          "output_type": "execute_result",
          "data": {
            "text/plain": [
              "    age  anaemia  creatinine_phosphokinase  diabetes  high_blood_pressure  \\\n",
              "0  75.0        0                       582         0                    1   \n",
              "1  55.0        0                      7861         0                    0   \n",
              "2  65.0        0                       146         0                    0   \n",
              "3  50.0        1                       111         0                    0   \n",
              "4  65.0        1                       160         1                    0   \n",
              "\n",
              "   platelets  serum_creatinine  sex  smoking  DEATH_EVENT  \n",
              "0  265000.00               1.9    1        0            1  \n",
              "1  263358.03               1.1    1        0            1  \n",
              "2  162000.00               1.3    1        1            1  \n",
              "3  210000.00               1.9    1        0            1  \n",
              "4  327000.00               2.7    0        0            1  "
            ],
            "text/html": [
              "\n",
              "  <div id=\"df-3fa09a1b-8c00-4a07-830c-56ddf8834869\">\n",
              "    <div class=\"colab-df-container\">\n",
              "      <div>\n",
              "<style scoped>\n",
              "    .dataframe tbody tr th:only-of-type {\n",
              "        vertical-align: middle;\n",
              "    }\n",
              "\n",
              "    .dataframe tbody tr th {\n",
              "        vertical-align: top;\n",
              "    }\n",
              "\n",
              "    .dataframe thead th {\n",
              "        text-align: right;\n",
              "    }\n",
              "</style>\n",
              "<table border=\"1\" class=\"dataframe\">\n",
              "  <thead>\n",
              "    <tr style=\"text-align: right;\">\n",
              "      <th></th>\n",
              "      <th>age</th>\n",
              "      <th>anaemia</th>\n",
              "      <th>creatinine_phosphokinase</th>\n",
              "      <th>diabetes</th>\n",
              "      <th>high_blood_pressure</th>\n",
              "      <th>platelets</th>\n",
              "      <th>serum_creatinine</th>\n",
              "      <th>sex</th>\n",
              "      <th>smoking</th>\n",
              "      <th>DEATH_EVENT</th>\n",
              "    </tr>\n",
              "  </thead>\n",
              "  <tbody>\n",
              "    <tr>\n",
              "      <th>0</th>\n",
              "      <td>75.0</td>\n",
              "      <td>0</td>\n",
              "      <td>582</td>\n",
              "      <td>0</td>\n",
              "      <td>1</td>\n",
              "      <td>265000.00</td>\n",
              "      <td>1.9</td>\n",
              "      <td>1</td>\n",
              "      <td>0</td>\n",
              "      <td>1</td>\n",
              "    </tr>\n",
              "    <tr>\n",
              "      <th>1</th>\n",
              "      <td>55.0</td>\n",
              "      <td>0</td>\n",
              "      <td>7861</td>\n",
              "      <td>0</td>\n",
              "      <td>0</td>\n",
              "      <td>263358.03</td>\n",
              "      <td>1.1</td>\n",
              "      <td>1</td>\n",
              "      <td>0</td>\n",
              "      <td>1</td>\n",
              "    </tr>\n",
              "    <tr>\n",
              "      <th>2</th>\n",
              "      <td>65.0</td>\n",
              "      <td>0</td>\n",
              "      <td>146</td>\n",
              "      <td>0</td>\n",
              "      <td>0</td>\n",
              "      <td>162000.00</td>\n",
              "      <td>1.3</td>\n",
              "      <td>1</td>\n",
              "      <td>1</td>\n",
              "      <td>1</td>\n",
              "    </tr>\n",
              "    <tr>\n",
              "      <th>3</th>\n",
              "      <td>50.0</td>\n",
              "      <td>1</td>\n",
              "      <td>111</td>\n",
              "      <td>0</td>\n",
              "      <td>0</td>\n",
              "      <td>210000.00</td>\n",
              "      <td>1.9</td>\n",
              "      <td>1</td>\n",
              "      <td>0</td>\n",
              "      <td>1</td>\n",
              "    </tr>\n",
              "    <tr>\n",
              "      <th>4</th>\n",
              "      <td>65.0</td>\n",
              "      <td>1</td>\n",
              "      <td>160</td>\n",
              "      <td>1</td>\n",
              "      <td>0</td>\n",
              "      <td>327000.00</td>\n",
              "      <td>2.7</td>\n",
              "      <td>0</td>\n",
              "      <td>0</td>\n",
              "      <td>1</td>\n",
              "    </tr>\n",
              "  </tbody>\n",
              "</table>\n",
              "</div>\n",
              "      <button class=\"colab-df-convert\" onclick=\"convertToInteractive('df-3fa09a1b-8c00-4a07-830c-56ddf8834869')\"\n",
              "              title=\"Convert this dataframe to an interactive table.\"\n",
              "              style=\"display:none;\">\n",
              "        \n",
              "  <svg xmlns=\"http://www.w3.org/2000/svg\" height=\"24px\"viewBox=\"0 0 24 24\"\n",
              "       width=\"24px\">\n",
              "    <path d=\"M0 0h24v24H0V0z\" fill=\"none\"/>\n",
              "    <path d=\"M18.56 5.44l.94 2.06.94-2.06 2.06-.94-2.06-.94-.94-2.06-.94 2.06-2.06.94zm-11 1L8.5 8.5l.94-2.06 2.06-.94-2.06-.94L8.5 2.5l-.94 2.06-2.06.94zm10 10l.94 2.06.94-2.06 2.06-.94-2.06-.94-.94-2.06-.94 2.06-2.06.94z\"/><path d=\"M17.41 7.96l-1.37-1.37c-.4-.4-.92-.59-1.43-.59-.52 0-1.04.2-1.43.59L10.3 9.45l-7.72 7.72c-.78.78-.78 2.05 0 2.83L4 21.41c.39.39.9.59 1.41.59.51 0 1.02-.2 1.41-.59l7.78-7.78 2.81-2.81c.8-.78.8-2.07 0-2.86zM5.41 20L4 18.59l7.72-7.72 1.47 1.35L5.41 20z\"/>\n",
              "  </svg>\n",
              "      </button>\n",
              "      \n",
              "  <style>\n",
              "    .colab-df-container {\n",
              "      display:flex;\n",
              "      flex-wrap:wrap;\n",
              "      gap: 12px;\n",
              "    }\n",
              "\n",
              "    .colab-df-convert {\n",
              "      background-color: #E8F0FE;\n",
              "      border: none;\n",
              "      border-radius: 50%;\n",
              "      cursor: pointer;\n",
              "      display: none;\n",
              "      fill: #1967D2;\n",
              "      height: 32px;\n",
              "      padding: 0 0 0 0;\n",
              "      width: 32px;\n",
              "    }\n",
              "\n",
              "    .colab-df-convert:hover {\n",
              "      background-color: #E2EBFA;\n",
              "      box-shadow: 0px 1px 2px rgba(60, 64, 67, 0.3), 0px 1px 3px 1px rgba(60, 64, 67, 0.15);\n",
              "      fill: #174EA6;\n",
              "    }\n",
              "\n",
              "    [theme=dark] .colab-df-convert {\n",
              "      background-color: #3B4455;\n",
              "      fill: #D2E3FC;\n",
              "    }\n",
              "\n",
              "    [theme=dark] .colab-df-convert:hover {\n",
              "      background-color: #434B5C;\n",
              "      box-shadow: 0px 1px 3px 1px rgba(0, 0, 0, 0.15);\n",
              "      filter: drop-shadow(0px 1px 2px rgba(0, 0, 0, 0.3));\n",
              "      fill: #FFFFFF;\n",
              "    }\n",
              "  </style>\n",
              "\n",
              "      <script>\n",
              "        const buttonEl =\n",
              "          document.querySelector('#df-3fa09a1b-8c00-4a07-830c-56ddf8834869 button.colab-df-convert');\n",
              "        buttonEl.style.display =\n",
              "          google.colab.kernel.accessAllowed ? 'block' : 'none';\n",
              "\n",
              "        async function convertToInteractive(key) {\n",
              "          const element = document.querySelector('#df-3fa09a1b-8c00-4a07-830c-56ddf8834869');\n",
              "          const dataTable =\n",
              "            await google.colab.kernel.invokeFunction('convertToInteractive',\n",
              "                                                     [key], {});\n",
              "          if (!dataTable) return;\n",
              "\n",
              "          const docLinkHtml = 'Like what you see? Visit the ' +\n",
              "            '<a target=\"_blank\" href=https://colab.research.google.com/notebooks/data_table.ipynb>data table notebook</a>'\n",
              "            + ' to learn more about interactive tables.';\n",
              "          element.innerHTML = '';\n",
              "          dataTable['output_type'] = 'display_data';\n",
              "          await google.colab.output.renderOutput(dataTable, element);\n",
              "          const docLink = document.createElement('div');\n",
              "          docLink.innerHTML = docLinkHtml;\n",
              "          element.appendChild(docLink);\n",
              "        }\n",
              "      </script>\n",
              "    </div>\n",
              "  </div>\n",
              "  "
            ]
          },
          "metadata": {},
          "execution_count": 14
        }
      ]
    },
    {
      "cell_type": "markdown",
      "source": [
        "# EDA"
      ],
      "metadata": {
        "id": "nBRQZJ69A0_z"
      }
    },
    {
      "cell_type": "code",
      "source": [
        "df_EDA = df.copy()\n",
        "df_EDA['young_person'] = df_EDA['age'].apply(lambda x: 1 if x < 50 else 0)\n",
        "df_EDA"
      ],
      "metadata": {
        "colab": {
          "base_uri": "https://localhost:8080/",
          "height": 487
        },
        "id": "g2te4TGNA2-C",
        "outputId": "e621fd3f-d107-4040-a5ee-4fb0ca1cd72e"
      },
      "execution_count": 15,
      "outputs": [
        {
          "output_type": "execute_result",
          "data": {
            "text/plain": [
              "      age  anaemia  creatinine_phosphokinase  diabetes  ejection_fraction  \\\n",
              "0    75.0        0                       582         0                 20   \n",
              "1    55.0        0                      7861         0                 38   \n",
              "2    65.0        0                       146         0                 20   \n",
              "3    50.0        1                       111         0                 20   \n",
              "4    65.0        1                       160         1                 20   \n",
              "..    ...      ...                       ...       ...                ...   \n",
              "294  62.0        0                        61         1                 38   \n",
              "295  55.0        0                      1820         0                 38   \n",
              "296  45.0        0                      2060         1                 60   \n",
              "297  45.0        0                      2413         0                 38   \n",
              "298  50.0        0                       196         0                 45   \n",
              "\n",
              "     high_blood_pressure  platelets  serum_creatinine  serum_sodium  sex  \\\n",
              "0                      1  265000.00               1.9           130    1   \n",
              "1                      0  263358.03               1.1           136    1   \n",
              "2                      0  162000.00               1.3           129    1   \n",
              "3                      0  210000.00               1.9           137    1   \n",
              "4                      0  327000.00               2.7           116    0   \n",
              "..                   ...        ...               ...           ...  ...   \n",
              "294                    1  155000.00               1.1           143    1   \n",
              "295                    0  270000.00               1.2           139    0   \n",
              "296                    0  742000.00               0.8           138    0   \n",
              "297                    0  140000.00               1.4           140    1   \n",
              "298                    0  395000.00               1.6           136    1   \n",
              "\n",
              "     smoking  time  DEATH_EVENT  young_person  \n",
              "0          0     4            1             0  \n",
              "1          0     6            1             0  \n",
              "2          1     7            1             0  \n",
              "3          0     7            1             0  \n",
              "4          0     8            1             0  \n",
              "..       ...   ...          ...           ...  \n",
              "294        1   270            0             0  \n",
              "295        0   271            0             0  \n",
              "296        0   278            0             1  \n",
              "297        1   280            0             1  \n",
              "298        1   285            0             0  \n",
              "\n",
              "[299 rows x 14 columns]"
            ],
            "text/html": [
              "\n",
              "  <div id=\"df-fde14b21-5d7c-4bb3-824a-b7ff5bb2e168\">\n",
              "    <div class=\"colab-df-container\">\n",
              "      <div>\n",
              "<style scoped>\n",
              "    .dataframe tbody tr th:only-of-type {\n",
              "        vertical-align: middle;\n",
              "    }\n",
              "\n",
              "    .dataframe tbody tr th {\n",
              "        vertical-align: top;\n",
              "    }\n",
              "\n",
              "    .dataframe thead th {\n",
              "        text-align: right;\n",
              "    }\n",
              "</style>\n",
              "<table border=\"1\" class=\"dataframe\">\n",
              "  <thead>\n",
              "    <tr style=\"text-align: right;\">\n",
              "      <th></th>\n",
              "      <th>age</th>\n",
              "      <th>anaemia</th>\n",
              "      <th>creatinine_phosphokinase</th>\n",
              "      <th>diabetes</th>\n",
              "      <th>ejection_fraction</th>\n",
              "      <th>high_blood_pressure</th>\n",
              "      <th>platelets</th>\n",
              "      <th>serum_creatinine</th>\n",
              "      <th>serum_sodium</th>\n",
              "      <th>sex</th>\n",
              "      <th>smoking</th>\n",
              "      <th>time</th>\n",
              "      <th>DEATH_EVENT</th>\n",
              "      <th>young_person</th>\n",
              "    </tr>\n",
              "  </thead>\n",
              "  <tbody>\n",
              "    <tr>\n",
              "      <th>0</th>\n",
              "      <td>75.0</td>\n",
              "      <td>0</td>\n",
              "      <td>582</td>\n",
              "      <td>0</td>\n",
              "      <td>20</td>\n",
              "      <td>1</td>\n",
              "      <td>265000.00</td>\n",
              "      <td>1.9</td>\n",
              "      <td>130</td>\n",
              "      <td>1</td>\n",
              "      <td>0</td>\n",
              "      <td>4</td>\n",
              "      <td>1</td>\n",
              "      <td>0</td>\n",
              "    </tr>\n",
              "    <tr>\n",
              "      <th>1</th>\n",
              "      <td>55.0</td>\n",
              "      <td>0</td>\n",
              "      <td>7861</td>\n",
              "      <td>0</td>\n",
              "      <td>38</td>\n",
              "      <td>0</td>\n",
              "      <td>263358.03</td>\n",
              "      <td>1.1</td>\n",
              "      <td>136</td>\n",
              "      <td>1</td>\n",
              "      <td>0</td>\n",
              "      <td>6</td>\n",
              "      <td>1</td>\n",
              "      <td>0</td>\n",
              "    </tr>\n",
              "    <tr>\n",
              "      <th>2</th>\n",
              "      <td>65.0</td>\n",
              "      <td>0</td>\n",
              "      <td>146</td>\n",
              "      <td>0</td>\n",
              "      <td>20</td>\n",
              "      <td>0</td>\n",
              "      <td>162000.00</td>\n",
              "      <td>1.3</td>\n",
              "      <td>129</td>\n",
              "      <td>1</td>\n",
              "      <td>1</td>\n",
              "      <td>7</td>\n",
              "      <td>1</td>\n",
              "      <td>0</td>\n",
              "    </tr>\n",
              "    <tr>\n",
              "      <th>3</th>\n",
              "      <td>50.0</td>\n",
              "      <td>1</td>\n",
              "      <td>111</td>\n",
              "      <td>0</td>\n",
              "      <td>20</td>\n",
              "      <td>0</td>\n",
              "      <td>210000.00</td>\n",
              "      <td>1.9</td>\n",
              "      <td>137</td>\n",
              "      <td>1</td>\n",
              "      <td>0</td>\n",
              "      <td>7</td>\n",
              "      <td>1</td>\n",
              "      <td>0</td>\n",
              "    </tr>\n",
              "    <tr>\n",
              "      <th>4</th>\n",
              "      <td>65.0</td>\n",
              "      <td>1</td>\n",
              "      <td>160</td>\n",
              "      <td>1</td>\n",
              "      <td>20</td>\n",
              "      <td>0</td>\n",
              "      <td>327000.00</td>\n",
              "      <td>2.7</td>\n",
              "      <td>116</td>\n",
              "      <td>0</td>\n",
              "      <td>0</td>\n",
              "      <td>8</td>\n",
              "      <td>1</td>\n",
              "      <td>0</td>\n",
              "    </tr>\n",
              "    <tr>\n",
              "      <th>...</th>\n",
              "      <td>...</td>\n",
              "      <td>...</td>\n",
              "      <td>...</td>\n",
              "      <td>...</td>\n",
              "      <td>...</td>\n",
              "      <td>...</td>\n",
              "      <td>...</td>\n",
              "      <td>...</td>\n",
              "      <td>...</td>\n",
              "      <td>...</td>\n",
              "      <td>...</td>\n",
              "      <td>...</td>\n",
              "      <td>...</td>\n",
              "      <td>...</td>\n",
              "    </tr>\n",
              "    <tr>\n",
              "      <th>294</th>\n",
              "      <td>62.0</td>\n",
              "      <td>0</td>\n",
              "      <td>61</td>\n",
              "      <td>1</td>\n",
              "      <td>38</td>\n",
              "      <td>1</td>\n",
              "      <td>155000.00</td>\n",
              "      <td>1.1</td>\n",
              "      <td>143</td>\n",
              "      <td>1</td>\n",
              "      <td>1</td>\n",
              "      <td>270</td>\n",
              "      <td>0</td>\n",
              "      <td>0</td>\n",
              "    </tr>\n",
              "    <tr>\n",
              "      <th>295</th>\n",
              "      <td>55.0</td>\n",
              "      <td>0</td>\n",
              "      <td>1820</td>\n",
              "      <td>0</td>\n",
              "      <td>38</td>\n",
              "      <td>0</td>\n",
              "      <td>270000.00</td>\n",
              "      <td>1.2</td>\n",
              "      <td>139</td>\n",
              "      <td>0</td>\n",
              "      <td>0</td>\n",
              "      <td>271</td>\n",
              "      <td>0</td>\n",
              "      <td>0</td>\n",
              "    </tr>\n",
              "    <tr>\n",
              "      <th>296</th>\n",
              "      <td>45.0</td>\n",
              "      <td>0</td>\n",
              "      <td>2060</td>\n",
              "      <td>1</td>\n",
              "      <td>60</td>\n",
              "      <td>0</td>\n",
              "      <td>742000.00</td>\n",
              "      <td>0.8</td>\n",
              "      <td>138</td>\n",
              "      <td>0</td>\n",
              "      <td>0</td>\n",
              "      <td>278</td>\n",
              "      <td>0</td>\n",
              "      <td>1</td>\n",
              "    </tr>\n",
              "    <tr>\n",
              "      <th>297</th>\n",
              "      <td>45.0</td>\n",
              "      <td>0</td>\n",
              "      <td>2413</td>\n",
              "      <td>0</td>\n",
              "      <td>38</td>\n",
              "      <td>0</td>\n",
              "      <td>140000.00</td>\n",
              "      <td>1.4</td>\n",
              "      <td>140</td>\n",
              "      <td>1</td>\n",
              "      <td>1</td>\n",
              "      <td>280</td>\n",
              "      <td>0</td>\n",
              "      <td>1</td>\n",
              "    </tr>\n",
              "    <tr>\n",
              "      <th>298</th>\n",
              "      <td>50.0</td>\n",
              "      <td>0</td>\n",
              "      <td>196</td>\n",
              "      <td>0</td>\n",
              "      <td>45</td>\n",
              "      <td>0</td>\n",
              "      <td>395000.00</td>\n",
              "      <td>1.6</td>\n",
              "      <td>136</td>\n",
              "      <td>1</td>\n",
              "      <td>1</td>\n",
              "      <td>285</td>\n",
              "      <td>0</td>\n",
              "      <td>0</td>\n",
              "    </tr>\n",
              "  </tbody>\n",
              "</table>\n",
              "<p>299 rows × 14 columns</p>\n",
              "</div>\n",
              "      <button class=\"colab-df-convert\" onclick=\"convertToInteractive('df-fde14b21-5d7c-4bb3-824a-b7ff5bb2e168')\"\n",
              "              title=\"Convert this dataframe to an interactive table.\"\n",
              "              style=\"display:none;\">\n",
              "        \n",
              "  <svg xmlns=\"http://www.w3.org/2000/svg\" height=\"24px\"viewBox=\"0 0 24 24\"\n",
              "       width=\"24px\">\n",
              "    <path d=\"M0 0h24v24H0V0z\" fill=\"none\"/>\n",
              "    <path d=\"M18.56 5.44l.94 2.06.94-2.06 2.06-.94-2.06-.94-.94-2.06-.94 2.06-2.06.94zm-11 1L8.5 8.5l.94-2.06 2.06-.94-2.06-.94L8.5 2.5l-.94 2.06-2.06.94zm10 10l.94 2.06.94-2.06 2.06-.94-2.06-.94-.94-2.06-.94 2.06-2.06.94z\"/><path d=\"M17.41 7.96l-1.37-1.37c-.4-.4-.92-.59-1.43-.59-.52 0-1.04.2-1.43.59L10.3 9.45l-7.72 7.72c-.78.78-.78 2.05 0 2.83L4 21.41c.39.39.9.59 1.41.59.51 0 1.02-.2 1.41-.59l7.78-7.78 2.81-2.81c.8-.78.8-2.07 0-2.86zM5.41 20L4 18.59l7.72-7.72 1.47 1.35L5.41 20z\"/>\n",
              "  </svg>\n",
              "      </button>\n",
              "      \n",
              "  <style>\n",
              "    .colab-df-container {\n",
              "      display:flex;\n",
              "      flex-wrap:wrap;\n",
              "      gap: 12px;\n",
              "    }\n",
              "\n",
              "    .colab-df-convert {\n",
              "      background-color: #E8F0FE;\n",
              "      border: none;\n",
              "      border-radius: 50%;\n",
              "      cursor: pointer;\n",
              "      display: none;\n",
              "      fill: #1967D2;\n",
              "      height: 32px;\n",
              "      padding: 0 0 0 0;\n",
              "      width: 32px;\n",
              "    }\n",
              "\n",
              "    .colab-df-convert:hover {\n",
              "      background-color: #E2EBFA;\n",
              "      box-shadow: 0px 1px 2px rgba(60, 64, 67, 0.3), 0px 1px 3px 1px rgba(60, 64, 67, 0.15);\n",
              "      fill: #174EA6;\n",
              "    }\n",
              "\n",
              "    [theme=dark] .colab-df-convert {\n",
              "      background-color: #3B4455;\n",
              "      fill: #D2E3FC;\n",
              "    }\n",
              "\n",
              "    [theme=dark] .colab-df-convert:hover {\n",
              "      background-color: #434B5C;\n",
              "      box-shadow: 0px 1px 3px 1px rgba(0, 0, 0, 0.15);\n",
              "      filter: drop-shadow(0px 1px 2px rgba(0, 0, 0, 0.3));\n",
              "      fill: #FFFFFF;\n",
              "    }\n",
              "  </style>\n",
              "\n",
              "      <script>\n",
              "        const buttonEl =\n",
              "          document.querySelector('#df-fde14b21-5d7c-4bb3-824a-b7ff5bb2e168 button.colab-df-convert');\n",
              "        buttonEl.style.display =\n",
              "          google.colab.kernel.accessAllowed ? 'block' : 'none';\n",
              "\n",
              "        async function convertToInteractive(key) {\n",
              "          const element = document.querySelector('#df-fde14b21-5d7c-4bb3-824a-b7ff5bb2e168');\n",
              "          const dataTable =\n",
              "            await google.colab.kernel.invokeFunction('convertToInteractive',\n",
              "                                                     [key], {});\n",
              "          if (!dataTable) return;\n",
              "\n",
              "          const docLinkHtml = 'Like what you see? Visit the ' +\n",
              "            '<a target=\"_blank\" href=https://colab.research.google.com/notebooks/data_table.ipynb>data table notebook</a>'\n",
              "            + ' to learn more about interactive tables.';\n",
              "          element.innerHTML = '';\n",
              "          dataTable['output_type'] = 'display_data';\n",
              "          await google.colab.output.renderOutput(dataTable, element);\n",
              "          const docLink = document.createElement('div');\n",
              "          docLink.innerHTML = docLinkHtml;\n",
              "          element.appendChild(docLink);\n",
              "        }\n",
              "      </script>\n",
              "    </div>\n",
              "  </div>\n",
              "  "
            ]
          },
          "metadata": {},
          "execution_count": 15
        }
      ]
    },
    {
      "cell_type": "markdown",
      "source": [
        "##Bar Plot"
      ],
      "metadata": {
        "id": "b8UomJDYA8Kg"
      }
    },
    {
      "cell_type": "code",
      "source": [
        "young_anemia_diabetes_hbp_sex_smoking = df_EDA[['young_person','anaemia','diabetes','high_blood_pressure','sex','smoking']]\n",
        "young_anemia_diabetes_hbp_sex_smoking.head()"
      ],
      "metadata": {
        "colab": {
          "base_uri": "https://localhost:8080/",
          "height": 206
        },
        "id": "Sxk39QtOA-RM",
        "outputId": "dc3c58f0-77ac-45e8-f330-7f8350eb668e"
      },
      "execution_count": 16,
      "outputs": [
        {
          "output_type": "execute_result",
          "data": {
            "text/plain": [
              "   young_person  anaemia  diabetes  high_blood_pressure  sex  smoking\n",
              "0             0        0         0                    1    1        0\n",
              "1             0        0         0                    0    1        0\n",
              "2             0        0         0                    0    1        1\n",
              "3             0        1         0                    0    1        0\n",
              "4             0        1         1                    0    0        0"
            ],
            "text/html": [
              "\n",
              "  <div id=\"df-99350e53-4d74-4f5f-abe4-80f79c939d0f\">\n",
              "    <div class=\"colab-df-container\">\n",
              "      <div>\n",
              "<style scoped>\n",
              "    .dataframe tbody tr th:only-of-type {\n",
              "        vertical-align: middle;\n",
              "    }\n",
              "\n",
              "    .dataframe tbody tr th {\n",
              "        vertical-align: top;\n",
              "    }\n",
              "\n",
              "    .dataframe thead th {\n",
              "        text-align: right;\n",
              "    }\n",
              "</style>\n",
              "<table border=\"1\" class=\"dataframe\">\n",
              "  <thead>\n",
              "    <tr style=\"text-align: right;\">\n",
              "      <th></th>\n",
              "      <th>young_person</th>\n",
              "      <th>anaemia</th>\n",
              "      <th>diabetes</th>\n",
              "      <th>high_blood_pressure</th>\n",
              "      <th>sex</th>\n",
              "      <th>smoking</th>\n",
              "    </tr>\n",
              "  </thead>\n",
              "  <tbody>\n",
              "    <tr>\n",
              "      <th>0</th>\n",
              "      <td>0</td>\n",
              "      <td>0</td>\n",
              "      <td>0</td>\n",
              "      <td>1</td>\n",
              "      <td>1</td>\n",
              "      <td>0</td>\n",
              "    </tr>\n",
              "    <tr>\n",
              "      <th>1</th>\n",
              "      <td>0</td>\n",
              "      <td>0</td>\n",
              "      <td>0</td>\n",
              "      <td>0</td>\n",
              "      <td>1</td>\n",
              "      <td>0</td>\n",
              "    </tr>\n",
              "    <tr>\n",
              "      <th>2</th>\n",
              "      <td>0</td>\n",
              "      <td>0</td>\n",
              "      <td>0</td>\n",
              "      <td>0</td>\n",
              "      <td>1</td>\n",
              "      <td>1</td>\n",
              "    </tr>\n",
              "    <tr>\n",
              "      <th>3</th>\n",
              "      <td>0</td>\n",
              "      <td>1</td>\n",
              "      <td>0</td>\n",
              "      <td>0</td>\n",
              "      <td>1</td>\n",
              "      <td>0</td>\n",
              "    </tr>\n",
              "    <tr>\n",
              "      <th>4</th>\n",
              "      <td>0</td>\n",
              "      <td>1</td>\n",
              "      <td>1</td>\n",
              "      <td>0</td>\n",
              "      <td>0</td>\n",
              "      <td>0</td>\n",
              "    </tr>\n",
              "  </tbody>\n",
              "</table>\n",
              "</div>\n",
              "      <button class=\"colab-df-convert\" onclick=\"convertToInteractive('df-99350e53-4d74-4f5f-abe4-80f79c939d0f')\"\n",
              "              title=\"Convert this dataframe to an interactive table.\"\n",
              "              style=\"display:none;\">\n",
              "        \n",
              "  <svg xmlns=\"http://www.w3.org/2000/svg\" height=\"24px\"viewBox=\"0 0 24 24\"\n",
              "       width=\"24px\">\n",
              "    <path d=\"M0 0h24v24H0V0z\" fill=\"none\"/>\n",
              "    <path d=\"M18.56 5.44l.94 2.06.94-2.06 2.06-.94-2.06-.94-.94-2.06-.94 2.06-2.06.94zm-11 1L8.5 8.5l.94-2.06 2.06-.94-2.06-.94L8.5 2.5l-.94 2.06-2.06.94zm10 10l.94 2.06.94-2.06 2.06-.94-2.06-.94-.94-2.06-.94 2.06-2.06.94z\"/><path d=\"M17.41 7.96l-1.37-1.37c-.4-.4-.92-.59-1.43-.59-.52 0-1.04.2-1.43.59L10.3 9.45l-7.72 7.72c-.78.78-.78 2.05 0 2.83L4 21.41c.39.39.9.59 1.41.59.51 0 1.02-.2 1.41-.59l7.78-7.78 2.81-2.81c.8-.78.8-2.07 0-2.86zM5.41 20L4 18.59l7.72-7.72 1.47 1.35L5.41 20z\"/>\n",
              "  </svg>\n",
              "      </button>\n",
              "      \n",
              "  <style>\n",
              "    .colab-df-container {\n",
              "      display:flex;\n",
              "      flex-wrap:wrap;\n",
              "      gap: 12px;\n",
              "    }\n",
              "\n",
              "    .colab-df-convert {\n",
              "      background-color: #E8F0FE;\n",
              "      border: none;\n",
              "      border-radius: 50%;\n",
              "      cursor: pointer;\n",
              "      display: none;\n",
              "      fill: #1967D2;\n",
              "      height: 32px;\n",
              "      padding: 0 0 0 0;\n",
              "      width: 32px;\n",
              "    }\n",
              "\n",
              "    .colab-df-convert:hover {\n",
              "      background-color: #E2EBFA;\n",
              "      box-shadow: 0px 1px 2px rgba(60, 64, 67, 0.3), 0px 1px 3px 1px rgba(60, 64, 67, 0.15);\n",
              "      fill: #174EA6;\n",
              "    }\n",
              "\n",
              "    [theme=dark] .colab-df-convert {\n",
              "      background-color: #3B4455;\n",
              "      fill: #D2E3FC;\n",
              "    }\n",
              "\n",
              "    [theme=dark] .colab-df-convert:hover {\n",
              "      background-color: #434B5C;\n",
              "      box-shadow: 0px 1px 3px 1px rgba(0, 0, 0, 0.15);\n",
              "      filter: drop-shadow(0px 1px 2px rgba(0, 0, 0, 0.3));\n",
              "      fill: #FFFFFF;\n",
              "    }\n",
              "  </style>\n",
              "\n",
              "      <script>\n",
              "        const buttonEl =\n",
              "          document.querySelector('#df-99350e53-4d74-4f5f-abe4-80f79c939d0f button.colab-df-convert');\n",
              "        buttonEl.style.display =\n",
              "          google.colab.kernel.accessAllowed ? 'block' : 'none';\n",
              "\n",
              "        async function convertToInteractive(key) {\n",
              "          const element = document.querySelector('#df-99350e53-4d74-4f5f-abe4-80f79c939d0f');\n",
              "          const dataTable =\n",
              "            await google.colab.kernel.invokeFunction('convertToInteractive',\n",
              "                                                     [key], {});\n",
              "          if (!dataTable) return;\n",
              "\n",
              "          const docLinkHtml = 'Like what you see? Visit the ' +\n",
              "            '<a target=\"_blank\" href=https://colab.research.google.com/notebooks/data_table.ipynb>data table notebook</a>'\n",
              "            + ' to learn more about interactive tables.';\n",
              "          element.innerHTML = '';\n",
              "          dataTable['output_type'] = 'display_data';\n",
              "          await google.colab.output.renderOutput(dataTable, element);\n",
              "          const docLink = document.createElement('div');\n",
              "          docLink.innerHTML = docLinkHtml;\n",
              "          element.appendChild(docLink);\n",
              "        }\n",
              "      </script>\n",
              "    </div>\n",
              "  </div>\n",
              "  "
            ]
          },
          "metadata": {},
          "execution_count": 16
        }
      ]
    },
    {
      "cell_type": "code",
      "source": [
        "group1 = young_anemia_diabetes_hbp_sex_smoking.groupby(['young_person','sex']).sum()\n",
        "group1"
      ],
      "metadata": {
        "colab": {
          "base_uri": "https://localhost:8080/",
          "height": 206
        },
        "id": "9YOgKvc6BCJp",
        "outputId": "f23af930-8548-4d67-d074-e5daba48a512"
      },
      "execution_count": 17,
      "outputs": [
        {
          "output_type": "execute_result",
          "data": {
            "text/plain": [
              "                  anaemia  diabetes  high_blood_pressure  smoking\n",
              "young_person sex                                                 \n",
              "0            0         44        45                   36        4\n",
              "             1         71        59                   55       81\n",
              "1            0          8        10                    8        0\n",
              "             1          6        11                    6       11"
            ],
            "text/html": [
              "\n",
              "  <div id=\"df-38ea5485-4ef1-4be5-915e-345280491d9e\">\n",
              "    <div class=\"colab-df-container\">\n",
              "      <div>\n",
              "<style scoped>\n",
              "    .dataframe tbody tr th:only-of-type {\n",
              "        vertical-align: middle;\n",
              "    }\n",
              "\n",
              "    .dataframe tbody tr th {\n",
              "        vertical-align: top;\n",
              "    }\n",
              "\n",
              "    .dataframe thead th {\n",
              "        text-align: right;\n",
              "    }\n",
              "</style>\n",
              "<table border=\"1\" class=\"dataframe\">\n",
              "  <thead>\n",
              "    <tr style=\"text-align: right;\">\n",
              "      <th></th>\n",
              "      <th></th>\n",
              "      <th>anaemia</th>\n",
              "      <th>diabetes</th>\n",
              "      <th>high_blood_pressure</th>\n",
              "      <th>smoking</th>\n",
              "    </tr>\n",
              "    <tr>\n",
              "      <th>young_person</th>\n",
              "      <th>sex</th>\n",
              "      <th></th>\n",
              "      <th></th>\n",
              "      <th></th>\n",
              "      <th></th>\n",
              "    </tr>\n",
              "  </thead>\n",
              "  <tbody>\n",
              "    <tr>\n",
              "      <th rowspan=\"2\" valign=\"top\">0</th>\n",
              "      <th>0</th>\n",
              "      <td>44</td>\n",
              "      <td>45</td>\n",
              "      <td>36</td>\n",
              "      <td>4</td>\n",
              "    </tr>\n",
              "    <tr>\n",
              "      <th>1</th>\n",
              "      <td>71</td>\n",
              "      <td>59</td>\n",
              "      <td>55</td>\n",
              "      <td>81</td>\n",
              "    </tr>\n",
              "    <tr>\n",
              "      <th rowspan=\"2\" valign=\"top\">1</th>\n",
              "      <th>0</th>\n",
              "      <td>8</td>\n",
              "      <td>10</td>\n",
              "      <td>8</td>\n",
              "      <td>0</td>\n",
              "    </tr>\n",
              "    <tr>\n",
              "      <th>1</th>\n",
              "      <td>6</td>\n",
              "      <td>11</td>\n",
              "      <td>6</td>\n",
              "      <td>11</td>\n",
              "    </tr>\n",
              "  </tbody>\n",
              "</table>\n",
              "</div>\n",
              "      <button class=\"colab-df-convert\" onclick=\"convertToInteractive('df-38ea5485-4ef1-4be5-915e-345280491d9e')\"\n",
              "              title=\"Convert this dataframe to an interactive table.\"\n",
              "              style=\"display:none;\">\n",
              "        \n",
              "  <svg xmlns=\"http://www.w3.org/2000/svg\" height=\"24px\"viewBox=\"0 0 24 24\"\n",
              "       width=\"24px\">\n",
              "    <path d=\"M0 0h24v24H0V0z\" fill=\"none\"/>\n",
              "    <path d=\"M18.56 5.44l.94 2.06.94-2.06 2.06-.94-2.06-.94-.94-2.06-.94 2.06-2.06.94zm-11 1L8.5 8.5l.94-2.06 2.06-.94-2.06-.94L8.5 2.5l-.94 2.06-2.06.94zm10 10l.94 2.06.94-2.06 2.06-.94-2.06-.94-.94-2.06-.94 2.06-2.06.94z\"/><path d=\"M17.41 7.96l-1.37-1.37c-.4-.4-.92-.59-1.43-.59-.52 0-1.04.2-1.43.59L10.3 9.45l-7.72 7.72c-.78.78-.78 2.05 0 2.83L4 21.41c.39.39.9.59 1.41.59.51 0 1.02-.2 1.41-.59l7.78-7.78 2.81-2.81c.8-.78.8-2.07 0-2.86zM5.41 20L4 18.59l7.72-7.72 1.47 1.35L5.41 20z\"/>\n",
              "  </svg>\n",
              "      </button>\n",
              "      \n",
              "  <style>\n",
              "    .colab-df-container {\n",
              "      display:flex;\n",
              "      flex-wrap:wrap;\n",
              "      gap: 12px;\n",
              "    }\n",
              "\n",
              "    .colab-df-convert {\n",
              "      background-color: #E8F0FE;\n",
              "      border: none;\n",
              "      border-radius: 50%;\n",
              "      cursor: pointer;\n",
              "      display: none;\n",
              "      fill: #1967D2;\n",
              "      height: 32px;\n",
              "      padding: 0 0 0 0;\n",
              "      width: 32px;\n",
              "    }\n",
              "\n",
              "    .colab-df-convert:hover {\n",
              "      background-color: #E2EBFA;\n",
              "      box-shadow: 0px 1px 2px rgba(60, 64, 67, 0.3), 0px 1px 3px 1px rgba(60, 64, 67, 0.15);\n",
              "      fill: #174EA6;\n",
              "    }\n",
              "\n",
              "    [theme=dark] .colab-df-convert {\n",
              "      background-color: #3B4455;\n",
              "      fill: #D2E3FC;\n",
              "    }\n",
              "\n",
              "    [theme=dark] .colab-df-convert:hover {\n",
              "      background-color: #434B5C;\n",
              "      box-shadow: 0px 1px 3px 1px rgba(0, 0, 0, 0.15);\n",
              "      filter: drop-shadow(0px 1px 2px rgba(0, 0, 0, 0.3));\n",
              "      fill: #FFFFFF;\n",
              "    }\n",
              "  </style>\n",
              "\n",
              "      <script>\n",
              "        const buttonEl =\n",
              "          document.querySelector('#df-38ea5485-4ef1-4be5-915e-345280491d9e button.colab-df-convert');\n",
              "        buttonEl.style.display =\n",
              "          google.colab.kernel.accessAllowed ? 'block' : 'none';\n",
              "\n",
              "        async function convertToInteractive(key) {\n",
              "          const element = document.querySelector('#df-38ea5485-4ef1-4be5-915e-345280491d9e');\n",
              "          const dataTable =\n",
              "            await google.colab.kernel.invokeFunction('convertToInteractive',\n",
              "                                                     [key], {});\n",
              "          if (!dataTable) return;\n",
              "\n",
              "          const docLinkHtml = 'Like what you see? Visit the ' +\n",
              "            '<a target=\"_blank\" href=https://colab.research.google.com/notebooks/data_table.ipynb>data table notebook</a>'\n",
              "            + ' to learn more about interactive tables.';\n",
              "          element.innerHTML = '';\n",
              "          dataTable['output_type'] = 'display_data';\n",
              "          await google.colab.output.renderOutput(dataTable, element);\n",
              "          const docLink = document.createElement('div');\n",
              "          docLink.innerHTML = docLinkHtml;\n",
              "          element.appendChild(docLink);\n",
              "        }\n",
              "      </script>\n",
              "    </div>\n",
              "  </div>\n",
              "  "
            ]
          },
          "metadata": {},
          "execution_count": 17
        }
      ]
    },
    {
      "cell_type": "code",
      "source": [
        "plt.figure(figsize=(16,10))\n",
        "plt.style.use('ggplot')\n",
        "group1.plot(kind='bar',title='perbandingan penyakit yang diderita berdasarkan umur dan sex')\n",
        "plt.savefig(\"perbandingan_sex_umur.png\",\n",
        "            bbox_inches =\"tight\",\n",
        "            pad_inches = 1,\n",
        "            transparent = True,\n",
        "            orientation ='landscape')"
      ],
      "metadata": {
        "colab": {
          "base_uri": "https://localhost:8080/",
          "height": 334
        },
        "id": "IIjirWvJBISP",
        "outputId": "a71ed92b-39c3-4508-fd98-8eae4ac8ab5c"
      },
      "execution_count": 18,
      "outputs": [
        {
          "output_type": "display_data",
          "data": {
            "text/plain": [
              "<Figure size 1152x720 with 0 Axes>"
            ]
          },
          "metadata": {}
        },
        {
          "output_type": "display_data",
          "data": {
            "text/plain": [
              "<Figure size 432x288 with 1 Axes>"
            ],
            "image/png": "[encoded data removed]"
          },
          "metadata": {}
        }
      ]
    },
    {
      "cell_type": "markdown",
      "source": [
        "##Scater Plot"
      ],
      "metadata": {
        "id": "mKfbEFzXBff0"
      }
    },
    {
      "cell_type": "code",
      "source": [
        "np.unique(df_EDA['serum_creatinine'])"
      ],
      "metadata": {
        "colab": {
          "base_uri": "https://localhost:8080/"
        },
        "id": "XxgWliE-Bhez",
        "outputId": "5c954a3b-686b-4687-f863-64da27845dba"
      },
      "execution_count": 19,
      "outputs": [
        {
          "output_type": "execute_result",
          "data": {
            "text/plain": [
              "array([0.5 , 0.6 , 0.7 , 0.75, 0.8 , 0.9 , 1.  , 1.1 , 1.18, 1.2 , 1.3 ,\n",
              "       1.4 , 1.5 , 1.6 , 1.7 , 1.8 , 1.83, 1.9 , 2.  , 2.1 , 2.2 , 2.3 ,\n",
              "       2.4 , 2.5 , 2.7 , 2.9 , 3.  , 3.2 , 3.4 , 3.5 , 3.7 , 3.8 , 4.  ,\n",
              "       4.4 , 5.  , 5.8 , 6.1 , 6.8 , 9.  , 9.4 ])"
            ]
          },
          "metadata": {},
          "execution_count": 19
        }
      ]
    },
    {
      "cell_type": "code",
      "source": [
        "np.unique(df_EDA['time'])"
      ],
      "metadata": {
        "colab": {
          "base_uri": "https://localhost:8080/"
        },
        "id": "jgw-r9r5BmOc",
        "outputId": "ec7ce1ac-fd01-4f6e-fc4e-e01553290aec"
      },
      "execution_count": 20,
      "outputs": [
        {
          "output_type": "execute_result",
          "data": {
            "text/plain": [
              "array([  4,   6,   7,   8,  10,  11,  12,  13,  14,  15,  16,  20,  22,\n",
              "        23,  24,  26,  27,  28,  29,  30,  31,  32,  33,  35,  38,  40,\n",
              "        41,  42,  43,  44,  45,  50,  54,  55,  59,  60,  61,  63,  64,\n",
              "        65,  66,  67,  68,  71,  72,  73,  74,  75,  76,  77,  78,  79,\n",
              "        80,  82,  83,  85,  86,  87,  88,  90,  91,  94,  95,  96,  97,\n",
              "       100, 104, 105, 106, 107, 108, 109, 110, 111, 112, 113, 115, 117,\n",
              "       118, 119, 120, 121, 123, 126, 129, 130, 134, 135, 140, 145, 146,\n",
              "       147, 148, 150, 154, 162, 170, 171, 172, 174, 175, 180, 185, 186,\n",
              "       187, 188, 192, 193, 194, 195, 196, 197, 198, 200, 201, 205, 206,\n",
              "       207, 208, 209, 210, 211, 212, 213, 214, 215, 216, 220, 230, 231,\n",
              "       233, 235, 237, 240, 241, 244, 245, 246, 247, 250, 256, 257, 258,\n",
              "       270, 271, 278, 280, 285])"
            ]
          },
          "metadata": {},
          "execution_count": 20
        }
      ]
    },
    {
      "cell_type": "code",
      "source": [
        "plt.figure(figsize=(14,10))\n",
        "plt.title('Persebaran data hubungan antara kadar serum creatinin dengan waktu penanganan pasien')\n",
        "sns.scatterplot(data=df_EDA, x='serum_creatinine', y='time', hue='sex')\n",
        "plt.savefig(\"scatter_serum_time.png\",\n",
        "            bbox_inches =\"tight\",\n",
        "            pad_inches = 1,\n",
        "            transparent = True,\n",
        "            orientation ='landscape')"
      ],
      "metadata": {
        "colab": {
          "base_uri": "https://localhost:8080/",
          "height": 626
        },
        "id": "hIBE-P-qEsws",
        "outputId": "b111f573-9fe3-48c2-e42c-c085f4b88e18"
      },
      "execution_count": 21,
      "outputs": [
        {
          "output_type": "display_data",
          "data": {
            "text/plain": [
              "<Figure size 1008x720 with 1 Axes>"
            ],
            "image/png": "[encoded data removed]"
          },
          "metadata": {}
        }
      ]
    },
    {
      "cell_type": "code",
      "source": [
        "plt.figure(figsize=(16,10))\n",
        "\n",
        "df_EDA['DEATH_EVENT'].value_counts().plot(\n",
        "    kind='pie',\n",
        "    autopct='%.2f%%',\n",
        "    shadow=False\n",
        ")\n",
        "plt.title('Persentase Kematian pada dataset')\n",
        "plt.ylabel('')\n",
        "plt.savefig(\"pie_DE.png\",\n",
        "            bbox_inches =\"tight\",\n",
        "            pad_inches = 1,\n",
        "            transparent = True,\n",
        "            orientation ='landscape')"
      ],
      "metadata": {
        "colab": {
          "base_uri": "https://localhost:8080/",
          "height": 592
        },
        "id": "EKawlBtlEzwF",
        "outputId": "db2cad4a-33aa-412f-d3f1-0e69d328852f"
      },
      "execution_count": 22,
      "outputs": [
        {
          "output_type": "display_data",
          "data": {
            "text/plain": [
              "<Figure size 1152x720 with 1 Axes>"
            ],
            "image/png": "[encoded data removed]"
          },
          "metadata": {}
        }
      ]
    },
    {
      "cell_type": "markdown",
      "source": [
        "# Data Preprossecing"
      ],
      "metadata": {
        "id": "jY5B0AYcE5wp"
      }
    },
    {
      "cell_type": "code",
      "source": [
        "new_df_scaled = new_df.copy()\n",
        "numerics = ['int64','float64']\n",
        "# new_df_scaled.drop(columns=['DEATH_EVENT'],inplace=True)\n",
        "scaler = StandardScaler()\n",
        "numeric_df = new_df.select_dtypes(include=numerics)\n",
        "for column in numeric_df.columns:\n",
        "  new_df_scaled[column] = scaler.fit_transform(new_df_scaled[column].values.reshape(-1,1))\n",
        "new_df_scaled['DEATH_EVENT'] = new_df['DEATH_EVENT']\n",
        "new_df_scaled['young_person'] = new_df['age'].apply(lambda x: 1 if x < 50 else 0)\n",
        "# new_df_scaled = new_df_scaled.drop(columns=['age'])"
      ],
      "metadata": {
        "id": "69tXUbGVE_oW"
      },
      "execution_count": 23,
      "outputs": []
    },
    {
      "cell_type": "code",
      "source": [
        "new_df_scaled"
      ],
      "metadata": {
        "colab": {
          "base_uri": "https://localhost:8080/",
          "height": 487
        },
        "id": "sPbmSpXjFC_V",
        "outputId": "5e04723b-2436-47c8-8ab9-42fd17eda0e5"
      },
      "execution_count": 24,
      "outputs": [
        {
          "output_type": "execute_result",
          "data": {
            "text/plain": [
              "          age   anaemia  creatinine_phosphokinase  diabetes  \\\n",
              "0    1.192945 -0.871105                  0.000166 -0.847579   \n",
              "1   -0.491279 -0.871105                  7.514640 -0.847579   \n",
              "2    0.350833 -0.871105                 -0.449939 -0.847579   \n",
              "3   -0.912335  1.147968                 -0.486071 -0.847579   \n",
              "4    0.350833  1.147968                 -0.435486  1.179830   \n",
              "..        ...       ...                       ...       ...   \n",
              "294  0.098199 -0.871105                 -0.537688  1.179830   \n",
              "295 -0.491279 -0.871105                  1.278215 -0.847579   \n",
              "296 -1.333392 -0.871105                  1.525979  1.179830   \n",
              "297 -1.333392 -0.871105                  1.890398 -0.847579   \n",
              "298 -0.912335 -0.871105                 -0.398321 -0.847579   \n",
              "\n",
              "     high_blood_pressure     platelets  serum_creatinine       sex   smoking  \\\n",
              "0               1.359272  1.681648e-02          0.490057  0.735688 -0.687682   \n",
              "1              -0.735688  7.535660e-09         -0.284552  0.735688 -0.687682   \n",
              "2              -0.735688 -1.038073e+00         -0.090900  0.735688  1.454161   \n",
              "3              -0.735688 -5.464741e-01          0.490057  0.735688 -0.687682   \n",
              "4              -0.735688  6.517986e-01          1.264666 -1.359272 -0.687682   \n",
              "..                   ...           ...               ...       ...       ...   \n",
              "294             1.359272 -1.109765e+00         -0.284552  0.735688  1.454161   \n",
              "295            -0.735688  6.802472e-02         -0.187726 -1.359272 -0.687682   \n",
              "296            -0.735688  4.902082e+00         -0.575031 -1.359272 -0.687682   \n",
              "297            -0.735688 -1.263389e+00          0.005926  0.735688  1.454161   \n",
              "298            -0.735688  1.348231e+00          0.199578  0.735688  1.454161   \n",
              "\n",
              "     DEATH_EVENT  young_person  \n",
              "0              1             0  \n",
              "1              1             0  \n",
              "2              1             0  \n",
              "3              1             0  \n",
              "4              1             0  \n",
              "..           ...           ...  \n",
              "294            0             0  \n",
              "295            0             0  \n",
              "296            0             1  \n",
              "297            0             1  \n",
              "298            0             0  \n",
              "\n",
              "[299 rows x 11 columns]"
            ],
            "text/html": [
              "\n",
              "  <div id=\"df-00bf3b88-c7f6-43ee-8a66-8e446a7aa1e3\">\n",
              "    <div class=\"colab-df-container\">\n",
              "      <div>\n",
              "<style scoped>\n",
              "    .dataframe tbody tr th:only-of-type {\n",
              "        vertical-align: middle;\n",
              "    }\n",
              "\n",
              "    .dataframe tbody tr th {\n",
              "        vertical-align: top;\n",
              "    }\n",
              "\n",
              "    .dataframe thead th {\n",
              "        text-align: right;\n",
              "    }\n",
              "</style>\n",
              "<table border=\"1\" class=\"dataframe\">\n",
              "  <thead>\n",
              "    <tr style=\"text-align: right;\">\n",
              "      <th></th>\n",
              "      <th>age</th>\n",
              "      <th>anaemia</th>\n",
              "      <th>creatinine_phosphokinase</th>\n",
              "      <th>diabetes</th>\n",
              "      <th>high_blood_pressure</th>\n",
              "      <th>platelets</th>\n",
              "      <th>serum_creatinine</th>\n",
              "      <th>sex</th>\n",
              "      <th>smoking</th>\n",
              "      <th>DEATH_EVENT</th>\n",
              "      <th>young_person</th>\n",
              "    </tr>\n",
              "  </thead>\n",
              "  <tbody>\n",
              "    <tr>\n",
              "      <th>0</th>\n",
              "      <td>1.192945</td>\n",
              "      <td>-0.871105</td>\n",
              "      <td>0.000166</td>\n",
              "      <td>-0.847579</td>\n",
              "      <td>1.359272</td>\n",
              "      <td>1.681648e-02</td>\n",
              "      <td>0.490057</td>\n",
              "      <td>0.735688</td>\n",
              "      <td>-0.687682</td>\n",
              "      <td>1</td>\n",
              "      <td>0</td>\n",
              "    </tr>\n",
              "    <tr>\n",
              "      <th>1</th>\n",
              "      <td>-0.491279</td>\n",
              "      <td>-0.871105</td>\n",
              "      <td>7.514640</td>\n",
              "      <td>-0.847579</td>\n",
              "      <td>-0.735688</td>\n",
              "      <td>7.535660e-09</td>\n",
              "      <td>-0.284552</td>\n",
              "      <td>0.735688</td>\n",
              "      <td>-0.687682</td>\n",
              "      <td>1</td>\n",
              "      <td>0</td>\n",
              "    </tr>\n",
              "    <tr>\n",
              "      <th>2</th>\n",
              "      <td>0.350833</td>\n",
              "      <td>-0.871105</td>\n",
              "      <td>-0.449939</td>\n",
              "      <td>-0.847579</td>\n",
              "      <td>-0.735688</td>\n",
              "      <td>-1.038073e+00</td>\n",
              "      <td>-0.090900</td>\n",
              "      <td>0.735688</td>\n",
              "      <td>1.454161</td>\n",
              "      <td>1</td>\n",
              "      <td>0</td>\n",
              "    </tr>\n",
              "    <tr>\n",
              "      <th>3</th>\n",
              "      <td>-0.912335</td>\n",
              "      <td>1.147968</td>\n",
              "      <td>-0.486071</td>\n",
              "      <td>-0.847579</td>\n",
              "      <td>-0.735688</td>\n",
              "      <td>-5.464741e-01</td>\n",
              "      <td>0.490057</td>\n",
              "      <td>0.735688</td>\n",
              "      <td>-0.687682</td>\n",
              "      <td>1</td>\n",
              "      <td>0</td>\n",
              "    </tr>\n",
              "    <tr>\n",
              "      <th>4</th>\n",
              "      <td>0.350833</td>\n",
              "      <td>1.147968</td>\n",
              "      <td>-0.435486</td>\n",
              "      <td>1.179830</td>\n",
              "      <td>-0.735688</td>\n",
              "      <td>6.517986e-01</td>\n",
              "      <td>1.264666</td>\n",
              "      <td>-1.359272</td>\n",
              "      <td>-0.687682</td>\n",
              "      <td>1</td>\n",
              "      <td>0</td>\n",
              "    </tr>\n",
              "    <tr>\n",
              "      <th>...</th>\n",
              "      <td>...</td>\n",
              "      <td>...</td>\n",
              "      <td>...</td>\n",
              "      <td>...</td>\n",
              "      <td>...</td>\n",
              "      <td>...</td>\n",
              "      <td>...</td>\n",
              "      <td>...</td>\n",
              "      <td>...</td>\n",
              "      <td>...</td>\n",
              "      <td>...</td>\n",
              "    </tr>\n",
              "    <tr>\n",
              "      <th>294</th>\n",
              "      <td>0.098199</td>\n",
              "      <td>-0.871105</td>\n",
              "      <td>-0.537688</td>\n",
              "      <td>1.179830</td>\n",
              "      <td>1.359272</td>\n",
              "      <td>-1.109765e+00</td>\n",
              "      <td>-0.284552</td>\n",
              "      <td>0.735688</td>\n",
              "      <td>1.454161</td>\n",
              "      <td>0</td>\n",
              "      <td>0</td>\n",
              "    </tr>\n",
              "    <tr>\n",
              "      <th>295</th>\n",
              "      <td>-0.491279</td>\n",
              "      <td>-0.871105</td>\n",
              "      <td>1.278215</td>\n",
              "      <td>-0.847579</td>\n",
              "      <td>-0.735688</td>\n",
              "      <td>6.802472e-02</td>\n",
              "      <td>-0.187726</td>\n",
              "      <td>-1.359272</td>\n",
              "      <td>-0.687682</td>\n",
              "      <td>0</td>\n",
              "      <td>0</td>\n",
              "    </tr>\n",
              "    <tr>\n",
              "      <th>296</th>\n",
              "      <td>-1.333392</td>\n",
              "      <td>-0.871105</td>\n",
              "      <td>1.525979</td>\n",
              "      <td>1.179830</td>\n",
              "      <td>-0.735688</td>\n",
              "      <td>4.902082e+00</td>\n",
              "      <td>-0.575031</td>\n",
              "      <td>-1.359272</td>\n",
              "      <td>-0.687682</td>\n",
              "      <td>0</td>\n",
              "      <td>1</td>\n",
              "    </tr>\n",
              "    <tr>\n",
              "      <th>297</th>\n",
              "      <td>-1.333392</td>\n",
              "      <td>-0.871105</td>\n",
              "      <td>1.890398</td>\n",
              "      <td>-0.847579</td>\n",
              "      <td>-0.735688</td>\n",
              "      <td>-1.263389e+00</td>\n",
              "      <td>0.005926</td>\n",
              "      <td>0.735688</td>\n",
              "      <td>1.454161</td>\n",
              "      <td>0</td>\n",
              "      <td>1</td>\n",
              "    </tr>\n",
              "    <tr>\n",
              "      <th>298</th>\n",
              "      <td>-0.912335</td>\n",
              "      <td>-0.871105</td>\n",
              "      <td>-0.398321</td>\n",
              "      <td>-0.847579</td>\n",
              "      <td>-0.735688</td>\n",
              "      <td>1.348231e+00</td>\n",
              "      <td>0.199578</td>\n",
              "      <td>0.735688</td>\n",
              "      <td>1.454161</td>\n",
              "      <td>0</td>\n",
              "      <td>0</td>\n",
              "    </tr>\n",
              "  </tbody>\n",
              "</table>\n",
              "<p>299 rows × 11 columns</p>\n",
              "</div>\n",
              "      <button class=\"colab-df-convert\" onclick=\"convertToInteractive('df-00bf3b88-c7f6-43ee-8a66-8e446a7aa1e3')\"\n",
              "              title=\"Convert this dataframe to an interactive table.\"\n",
              "              style=\"display:none;\">\n",
              "        \n",
              "  <svg xmlns=\"http://www.w3.org/2000/svg\" height=\"24px\"viewBox=\"0 0 24 24\"\n",
              "       width=\"24px\">\n",
              "    <path d=\"M0 0h24v24H0V0z\" fill=\"none\"/>\n",
              "    <path d=\"M18.56 5.44l.94 2.06.94-2.06 2.06-.94-2.06-.94-.94-2.06-.94 2.06-2.06.94zm-11 1L8.5 8.5l.94-2.06 2.06-.94-2.06-.94L8.5 2.5l-.94 2.06-2.06.94zm10 10l.94 2.06.94-2.06 2.06-.94-2.06-.94-.94-2.06-.94 2.06-2.06.94z\"/><path d=\"M17.41 7.96l-1.37-1.37c-.4-.4-.92-.59-1.43-.59-.52 0-1.04.2-1.43.59L10.3 9.45l-7.72 7.72c-.78.78-.78 2.05 0 2.83L4 21.41c.39.39.9.59 1.41.59.51 0 1.02-.2 1.41-.59l7.78-7.78 2.81-2.81c.8-.78.8-2.07 0-2.86zM5.41 20L4 18.59l7.72-7.72 1.47 1.35L5.41 20z\"/>\n",
              "  </svg>\n",
              "      </button>\n",
              "      \n",
              "  <style>\n",
              "    .colab-df-container {\n",
              "      display:flex;\n",
              "      flex-wrap:wrap;\n",
              "      gap: 12px;\n",
              "    }\n",
              "\n",
              "    .colab-df-convert {\n",
              "      background-color: #E8F0FE;\n",
              "      border: none;\n",
              "      border-radius: 50%;\n",
              "      cursor: pointer;\n",
              "      display: none;\n",
              "      fill: #1967D2;\n",
              "      height: 32px;\n",
              "      padding: 0 0 0 0;\n",
              "      width: 32px;\n",
              "    }\n",
              "\n",
              "    .colab-df-convert:hover {\n",
              "      background-color: #E2EBFA;\n",
              "      box-shadow: 0px 1px 2px rgba(60, 64, 67, 0.3), 0px 1px 3px 1px rgba(60, 64, 67, 0.15);\n",
              "      fill: #174EA6;\n",
              "    }\n",
              "\n",
              "    [theme=dark] .colab-df-convert {\n",
              "      background-color: #3B4455;\n",
              "      fill: #D2E3FC;\n",
              "    }\n",
              "\n",
              "    [theme=dark] .colab-df-convert:hover {\n",
              "      background-color: #434B5C;\n",
              "      box-shadow: 0px 1px 3px 1px rgba(0, 0, 0, 0.15);\n",
              "      filter: drop-shadow(0px 1px 2px rgba(0, 0, 0, 0.3));\n",
              "      fill: #FFFFFF;\n",
              "    }\n",
              "  </style>\n",
              "\n",
              "      <script>\n",
              "        const buttonEl =\n",
              "          document.querySelector('#df-00bf3b88-c7f6-43ee-8a66-8e446a7aa1e3 button.colab-df-convert');\n",
              "        buttonEl.style.display =\n",
              "          google.colab.kernel.accessAllowed ? 'block' : 'none';\n",
              "\n",
              "        async function convertToInteractive(key) {\n",
              "          const element = document.querySelector('#df-00bf3b88-c7f6-43ee-8a66-8e446a7aa1e3');\n",
              "          const dataTable =\n",
              "            await google.colab.kernel.invokeFunction('convertToInteractive',\n",
              "                                                     [key], {});\n",
              "          if (!dataTable) return;\n",
              "\n",
              "          const docLinkHtml = 'Like what you see? Visit the ' +\n",
              "            '<a target=\"_blank\" href=https://colab.research.google.com/notebooks/data_table.ipynb>data table notebook</a>'\n",
              "            + ' to learn more about interactive tables.';\n",
              "          element.innerHTML = '';\n",
              "          dataTable['output_type'] = 'display_data';\n",
              "          await google.colab.output.renderOutput(dataTable, element);\n",
              "          const docLink = document.createElement('div');\n",
              "          docLink.innerHTML = docLinkHtml;\n",
              "          element.appendChild(docLink);\n",
              "        }\n",
              "      </script>\n",
              "    </div>\n",
              "  </div>\n",
              "  "
            ]
          },
          "metadata": {},
          "execution_count": 24
        }
      ]
    },
    {
      "cell_type": "markdown",
      "source": [
        "##Data Splitting dengan dan tanpa SMOTE (Synthetic Minority Oversampling Technique)."
      ],
      "metadata": {
        "id": "Faid2srtFJ0V"
      }
    },
    {
      "cell_type": "markdown",
      "source": [
        "Menggunakan SMOTE agar meng-oversampling data"
      ],
      "metadata": {
        "id": "VM-wjyxeFLiI"
      }
    },
    {
      "cell_type": "code",
      "source": [
        "X = new_df_scaled.drop(columns=['DEATH_EVENT'])\n",
        "y = new_df_scaled['DEATH_EVENT']\n",
        "\n",
        "smote = SMOTE()\n",
        "X_s, y_s = smote.fit_resample(X, y)\n",
        "X_train, X_test, y_train, y_test = train_test_split(X, y, test_size=0.1, random_state=42)\n",
        "Xs_train, Xs_test, ys_train, ys_test = train_test_split(X_s, y_s, test_size=0.1, random_state=42)"
      ],
      "metadata": {
        "id": "QW4WuoxwFPI9"
      },
      "execution_count": 25,
      "outputs": []
    },
    {
      "cell_type": "markdown",
      "source": [
        "# Pendefinisian Model"
      ],
      "metadata": {
        "id": "5PuJ4xYhFVpH"
      }
    },
    {
      "cell_type": "markdown",
      "source": [
        "##Decission Tree"
      ],
      "metadata": {
        "id": "MMl_Zw-bFYwa"
      }
    },
    {
      "cell_type": "code",
      "source": [
        "dt_model = DecisionTreeClassifier(criterion='gini')\n",
        "dt_model_s = DecisionTreeClassifier(criterion='gini')\n",
        "dt_model.fit(X_train, y_train)\n",
        "dt_model_s.fit(Xs_train, ys_train)"
      ],
      "metadata": {
        "colab": {
          "base_uri": "https://localhost:8080/"
        },
        "id": "W0A7mzqfFacQ",
        "outputId": "7851a76e-c249-4e96-c0fd-76eb8bfd538e"
      },
      "execution_count": 26,
      "outputs": [
        {
          "output_type": "execute_result",
          "data": {
            "text/plain": [
              "DecisionTreeClassifier()"
            ]
          },
          "metadata": {},
          "execution_count": 26
        }
      ]
    },
    {
      "cell_type": "code",
      "source": [
        "DecisionTreeClassifier()"
      ],
      "metadata": {
        "colab": {
          "base_uri": "https://localhost:8080/"
        },
        "id": "YIhcmDZTFhQK",
        "outputId": "5092ace6-171c-4792-fbb5-6edf83832067"
      },
      "execution_count": 27,
      "outputs": [
        {
          "output_type": "execute_result",
          "data": {
            "text/plain": [
              "DecisionTreeClassifier()"
            ]
          },
          "metadata": {},
          "execution_count": 27
        }
      ]
    },
    {
      "cell_type": "code",
      "source": [
        "dot_data = export_graphviz(dt_model, out_file=None, \n",
        "                      class_names=new_df_scaled['DEATH_EVENT'].astype('str'),  \n",
        "                      filled=True, rounded=True,  \n",
        "                      special_characters=True,\n",
        "                      )  \n",
        "graph = graphviz.Source(dot_data)\n",
        "graph"
      ],
      "metadata": {
        "colab": {
          "base_uri": "https://localhost:8080/",
          "height": 1000
        },
        "id": "asNFB_z_FkCs",
        "outputId": "aa3d4f5c-d138-465f-d542-2d1f2c88d931"
      },
      "execution_count": 28,
      "outputs": [
        {
          "output_type": "execute_result",
          "data": {
            "text/plain": [
              "<graphviz.files.Source at 0x7fb13ce010a0>"
            ],
            "image/svg+xml": "<?xml version=\"1.0\" encoding=\"UTF-8\" standalone=\"no\"?>\n<!DOCTYPE svg PUBLIC \"-//W3C//DTD SVG 1.1//EN\"\n \"http://www.w3.org/Graphics/SVG/1.1/DTD/svg11.dtd\">\n<!-- Generated by graphviz version 2.40.1 (20161225.0304)\n -->\n<!-- Title: Tree Pages: 1 -->\n<svg width=\"2218pt\" height=\"2128pt\"\n viewBox=\"0.00 0.00 2218.00 2128.00\" xmlns=\"http://www.w3.org/2000/svg\" xmlns:xlink=\"http://www.w3.org/1999/xlink\">\n<g id=\"graph0\" class=\"graph\" transform=\"scale(1 1) rotate(0) translate(4 2124)\">\n<title>Tree</title>\n<polygon fill=\"#ffffff\" stroke=\"transparent\" points=\"-4,4 -4,-2124 2214,-2124 2214,4 -4,4\"/>\n<!-- 0 -->\n<g id=\"node1\" class=\"node\">\n<title>0</title>\n<path fill=\"#f1ba93\" stroke=\"#000000\" d=\"M1476.5,-2120C1476.5,-2120 1376.5,-2120 1376.5,-2120 1370.5,-2120 1364.5,-2114 1364.5,-2108 1364.5,-2108 1364.5,-2054 1364.5,-2054 1364.5,-2048 1370.5,-2042 1376.5,-2042 1376.5,-2042 1476.5,-2042 1476.5,-2042 1482.5,-2042 1488.5,-2048 1488.5,-2054 1488.5,-2054 1488.5,-2108 1488.5,-2108 1488.5,-2114 1482.5,-2120 1476.5,-2120\"/>\n<text text-anchor=\"start\" x=\"1392\" y=\"-2105.8\" font-family=\"Helvetica,sans-Serif\" font-size=\"14.00\" fill=\"#000000\">X</text>\n<text text-anchor=\"start\" x=\"1402\" y=\"-2105.8\" font-family=\"Helvetica,sans-Serif\" baseline-shift=\"sub\" font-size=\"14.00\" fill=\"#000000\">6</text>\n<text text-anchor=\"start\" x=\"1409\" y=\"-2105.8\" font-family=\"Helvetica,sans-Serif\" font-size=\"14.00\" fill=\"#000000\"> ≤ 0.408</text>\n<text text-anchor=\"start\" x=\"1393\" y=\"-2091.8\" font-family=\"Helvetica,sans-Serif\" font-size=\"14.00\" fill=\"#000000\">gini = 0.43</text>\n<text text-anchor=\"start\" x=\"1378.5\" y=\"-2077.8\" font-family=\"Helvetica,sans-Serif\" font-size=\"14.00\" fill=\"#000000\">samples = 269</text>\n<text text-anchor=\"start\" x=\"1372.5\" y=\"-2063.8\" font-family=\"Helvetica,sans-Serif\" font-size=\"14.00\" fill=\"#000000\">value = [185, 84]</text>\n<text text-anchor=\"start\" x=\"1397.5\" y=\"-2049.8\" font-family=\"Helvetica,sans-Serif\" font-size=\"14.00\" fill=\"#000000\">class = 1</text>\n</g>\n<!-- 1 -->\n<g id=\"node2\" class=\"node\">\n<title>1</title>\n<path fill=\"#eda673\" stroke=\"#000000\" d=\"M1407.5,-2006C1407.5,-2006 1307.5,-2006 1307.5,-2006 1301.5,-2006 1295.5,-2000 1295.5,-1994 1295.5,-1994 1295.5,-1940 1295.5,-1940 1295.5,-1934 1301.5,-1928 1307.5,-1928 1307.5,-1928 1407.5,-1928 1407.5,-1928 1413.5,-1928 1419.5,-1934 1419.5,-1940 1419.5,-1940 1419.5,-1994 1419.5,-1994 1419.5,-2000 1413.5,-2006 1407.5,-2006\"/>\n<text text-anchor=\"start\" x=\"1327\" y=\"-1991.8\" font-family=\"Helvetica,sans-Serif\" font-size=\"14.00\" fill=\"#000000\">X</text>\n<text text-anchor=\"start\" x=\"1337\" y=\"-1991.8\" font-family=\"Helvetica,sans-Serif\" baseline-shift=\"sub\" font-size=\"14.00\" fill=\"#000000\">0</text>\n<text text-anchor=\"start\" x=\"1344\" y=\"-1991.8\" font-family=\"Helvetica,sans-Serif\" font-size=\"14.00\" fill=\"#000000\"> ≤ 1.74</text>\n<text text-anchor=\"start\" x=\"1319.5\" y=\"-1977.8\" font-family=\"Helvetica,sans-Serif\" font-size=\"14.00\" fill=\"#000000\">gini = 0.349</text>\n<text text-anchor=\"start\" x=\"1309.5\" y=\"-1963.8\" font-family=\"Helvetica,sans-Serif\" font-size=\"14.00\" fill=\"#000000\">samples = 226</text>\n<text text-anchor=\"start\" x=\"1303.5\" y=\"-1949.8\" font-family=\"Helvetica,sans-Serif\" font-size=\"14.00\" fill=\"#000000\">value = [175, 51]</text>\n<text text-anchor=\"start\" x=\"1328.5\" y=\"-1935.8\" font-family=\"Helvetica,sans-Serif\" font-size=\"14.00\" fill=\"#000000\">class = 1</text>\n</g>\n<!-- 0&#45;&gt;1 -->\n<g id=\"edge1\" class=\"edge\">\n<title>0&#45;&gt;1</title>\n<path fill=\"none\" stroke=\"#000000\" d=\"M1402.7541,-2041.7677C1397.5499,-2033.1694 1391.9829,-2023.9718 1386.5962,-2015.072\"/>\n<polygon fill=\"#000000\" stroke=\"#000000\" points=\"1389.462,-2013.0473 1381.2897,-2006.3046 1383.4735,-2016.672 1389.462,-2013.0473\"/>\n<text text-anchor=\"middle\" x=\"1375.32\" y=\"-2026.8814\" font-family=\"Helvetica,sans-Serif\" font-size=\"14.00\" fill=\"#000000\">True</text>\n</g>\n<!-- 108 -->\n<g id=\"node109\" class=\"node\">\n<title>108</title>\n<path fill=\"#75bbed\" stroke=\"#000000\" d=\"M1568.5,-2006C1568.5,-2006 1476.5,-2006 1476.5,-2006 1470.5,-2006 1464.5,-2000 1464.5,-1994 1464.5,-1994 1464.5,-1940 1464.5,-1940 1464.5,-1934 1470.5,-1928 1476.5,-1928 1476.5,-1928 1568.5,-1928 1568.5,-1928 1574.5,-1928 1580.5,-1934 1580.5,-1940 1580.5,-1940 1580.5,-1994 1580.5,-1994 1580.5,-2000 1574.5,-2006 1568.5,-2006\"/>\n<text text-anchor=\"start\" x=\"1488\" y=\"-1991.8\" font-family=\"Helvetica,sans-Serif\" font-size=\"14.00\" fill=\"#000000\">X</text>\n<text text-anchor=\"start\" x=\"1498\" y=\"-1991.8\" font-family=\"Helvetica,sans-Serif\" baseline-shift=\"sub\" font-size=\"14.00\" fill=\"#000000\">6</text>\n<text text-anchor=\"start\" x=\"1505\" y=\"-1991.8\" font-family=\"Helvetica,sans-Serif\" font-size=\"14.00\" fill=\"#000000\"> ≤ 0.635</text>\n<text text-anchor=\"start\" x=\"1484.5\" y=\"-1977.8\" font-family=\"Helvetica,sans-Serif\" font-size=\"14.00\" fill=\"#000000\">gini = 0.357</text>\n<text text-anchor=\"start\" x=\"1478.5\" y=\"-1963.8\" font-family=\"Helvetica,sans-Serif\" font-size=\"14.00\" fill=\"#000000\">samples = 43</text>\n<text text-anchor=\"start\" x=\"1472.5\" y=\"-1949.8\" font-family=\"Helvetica,sans-Serif\" font-size=\"14.00\" fill=\"#000000\">value = [10, 33]</text>\n<text text-anchor=\"start\" x=\"1493.5\" y=\"-1935.8\" font-family=\"Helvetica,sans-Serif\" font-size=\"14.00\" fill=\"#000000\">class = 1</text>\n</g>\n<!-- 0&#45;&gt;108 -->\n<g id=\"edge108\" class=\"edge\">\n<title>0&#45;&gt;108</title>\n<path fill=\"none\" stroke=\"#000000\" d=\"M1459.5378,-2041.7677C1467.0801,-2032.8111 1475.1701,-2023.2043 1482.9538,-2013.9611\"/>\n<polygon fill=\"#000000\" stroke=\"#000000\" points=\"1485.6372,-2016.2083 1489.4013,-2006.3046 1480.2828,-2011.6993 1485.6372,-2016.2083\"/>\n<text text-anchor=\"middle\" x=\"1491.5364\" y=\"-2027.5133\" font-family=\"Helvetica,sans-Serif\" font-size=\"14.00\" fill=\"#000000\">False</text>\n</g>\n<!-- 2 -->\n<g id=\"node3\" class=\"node\">\n<title>2</title>\n<path fill=\"#eca06a\" stroke=\"#000000\" d=\"M1262.5,-1892C1262.5,-1892 1162.5,-1892 1162.5,-1892 1156.5,-1892 1150.5,-1886 1150.5,-1880 1150.5,-1880 1150.5,-1826 1150.5,-1826 1150.5,-1820 1156.5,-1814 1162.5,-1814 1162.5,-1814 1262.5,-1814 1262.5,-1814 1268.5,-1814 1274.5,-1820 1274.5,-1826 1274.5,-1826 1274.5,-1880 1274.5,-1880 1274.5,-1886 1268.5,-1892 1262.5,-1892\"/>\n<text text-anchor=\"start\" x=\"1175.5\" y=\"-1877.8\" font-family=\"Helvetica,sans-Serif\" font-size=\"14.00\" fill=\"#000000\">X</text>\n<text text-anchor=\"start\" x=\"1185.5\" y=\"-1877.8\" font-family=\"Helvetica,sans-Serif\" baseline-shift=\"sub\" font-size=\"14.00\" fill=\"#000000\">6</text>\n<text text-anchor=\"start\" x=\"1192.5\" y=\"-1877.8\" font-family=\"Helvetica,sans-Serif\" font-size=\"14.00\" fill=\"#000000\"> ≤ &#45;0.197</text>\n<text text-anchor=\"start\" x=\"1179\" y=\"-1863.8\" font-family=\"Helvetica,sans-Serif\" font-size=\"14.00\" fill=\"#000000\">gini = 0.32</text>\n<text text-anchor=\"start\" x=\"1164.5\" y=\"-1849.8\" font-family=\"Helvetica,sans-Serif\" font-size=\"14.00\" fill=\"#000000\">samples = 215</text>\n<text text-anchor=\"start\" x=\"1158.5\" y=\"-1835.8\" font-family=\"Helvetica,sans-Serif\" font-size=\"14.00\" fill=\"#000000\">value = [172, 43]</text>\n<text text-anchor=\"start\" x=\"1183.5\" y=\"-1821.8\" font-family=\"Helvetica,sans-Serif\" font-size=\"14.00\" fill=\"#000000\">class = 1</text>\n</g>\n<!-- 1&#45;&gt;2 -->\n<g id=\"edge2\" class=\"edge\">\n<title>1&#45;&gt;2</title>\n<path fill=\"none\" stroke=\"#000000\" d=\"M1307.5992,-1927.7677C1295.6375,-1918.3633 1282.7639,-1908.242 1270.4714,-1898.5775\"/>\n<polygon fill=\"#000000\" stroke=\"#000000\" points=\"1272.5173,-1895.7338 1262.4928,-1892.3046 1268.1909,-1901.2368 1272.5173,-1895.7338\"/>\n</g>\n<!-- 99 -->\n<g id=\"node100\" class=\"node\">\n<title>99</title>\n<path fill=\"#83c2ef\" stroke=\"#000000\" d=\"M1397.5,-1892C1397.5,-1892 1317.5,-1892 1317.5,-1892 1311.5,-1892 1305.5,-1886 1305.5,-1880 1305.5,-1880 1305.5,-1826 1305.5,-1826 1305.5,-1820 1311.5,-1814 1317.5,-1814 1317.5,-1814 1397.5,-1814 1397.5,-1814 1403.5,-1814 1409.5,-1820 1409.5,-1826 1409.5,-1826 1409.5,-1880 1409.5,-1880 1409.5,-1886 1403.5,-1892 1397.5,-1892\"/>\n<text text-anchor=\"start\" x=\"1320.5\" y=\"-1877.8\" font-family=\"Helvetica,sans-Serif\" font-size=\"14.00\" fill=\"#000000\">X</text>\n<text text-anchor=\"start\" x=\"1330.5\" y=\"-1877.8\" font-family=\"Helvetica,sans-Serif\" baseline-shift=\"sub\" font-size=\"14.00\" fill=\"#000000\">2</text>\n<text text-anchor=\"start\" x=\"1337.5\" y=\"-1877.8\" font-family=\"Helvetica,sans-Serif\" font-size=\"14.00\" fill=\"#000000\"> ≤ &#45;0.414</text>\n<text text-anchor=\"start\" x=\"1319.5\" y=\"-1863.8\" font-family=\"Helvetica,sans-Serif\" font-size=\"14.00\" fill=\"#000000\">gini = 0.397</text>\n<text text-anchor=\"start\" x=\"1313.5\" y=\"-1849.8\" font-family=\"Helvetica,sans-Serif\" font-size=\"14.00\" fill=\"#000000\">samples = 11</text>\n<text text-anchor=\"start\" x=\"1316\" y=\"-1835.8\" font-family=\"Helvetica,sans-Serif\" font-size=\"14.00\" fill=\"#000000\">value = [3, 8]</text>\n<text text-anchor=\"start\" x=\"1328.5\" y=\"-1821.8\" font-family=\"Helvetica,sans-Serif\" font-size=\"14.00\" fill=\"#000000\">class = 1</text>\n</g>\n<!-- 1&#45;&gt;99 -->\n<g id=\"edge99\" class=\"edge\">\n<title>1&#45;&gt;99</title>\n<path fill=\"none\" stroke=\"#000000\" d=\"M1357.5,-1927.7677C1357.5,-1919.6172 1357.5,-1910.9283 1357.5,-1902.4649\"/>\n<polygon fill=\"#000000\" stroke=\"#000000\" points=\"1361.0001,-1902.3046 1357.5,-1892.3046 1354.0001,-1902.3047 1361.0001,-1902.3046\"/>\n</g>\n<!-- 3 -->\n<g id=\"node4\" class=\"node\">\n<title>3</title>\n<path fill=\"#ea985d\" stroke=\"#000000\" d=\"M1117.5,-1778C1117.5,-1778 1017.5,-1778 1017.5,-1778 1011.5,-1778 1005.5,-1772 1005.5,-1766 1005.5,-1766 1005.5,-1712 1005.5,-1712 1005.5,-1706 1011.5,-1700 1017.5,-1700 1017.5,-1700 1117.5,-1700 1117.5,-1700 1123.5,-1700 1129.5,-1706 1129.5,-1712 1129.5,-1712 1129.5,-1766 1129.5,-1766 1129.5,-1772 1123.5,-1778 1117.5,-1778\"/>\n<text text-anchor=\"start\" x=\"1033\" y=\"-1763.8\" font-family=\"Helvetica,sans-Serif\" font-size=\"14.00\" fill=\"#000000\">X</text>\n<text text-anchor=\"start\" x=\"1043\" y=\"-1763.8\" font-family=\"Helvetica,sans-Serif\" baseline-shift=\"sub\" font-size=\"14.00\" fill=\"#000000\">2</text>\n<text text-anchor=\"start\" x=\"1050\" y=\"-1763.8\" font-family=\"Helvetica,sans-Serif\" font-size=\"14.00\" fill=\"#000000\"> ≤ 6.146</text>\n<text text-anchor=\"start\" x=\"1034\" y=\"-1749.8\" font-family=\"Helvetica,sans-Serif\" font-size=\"14.00\" fill=\"#000000\">gini = 0.26</text>\n<text text-anchor=\"start\" x=\"1019.5\" y=\"-1735.8\" font-family=\"Helvetica,sans-Serif\" font-size=\"14.00\" fill=\"#000000\">samples = 150</text>\n<text text-anchor=\"start\" x=\"1013.5\" y=\"-1721.8\" font-family=\"Helvetica,sans-Serif\" font-size=\"14.00\" fill=\"#000000\">value = [127, 23]</text>\n<text text-anchor=\"start\" x=\"1038.5\" y=\"-1707.8\" font-family=\"Helvetica,sans-Serif\" font-size=\"14.00\" fill=\"#000000\">class = 1</text>\n</g>\n<!-- 2&#45;&gt;3 -->\n<g id=\"edge3\" class=\"edge\">\n<title>2&#45;&gt;3</title>\n<path fill=\"none\" stroke=\"#000000\" d=\"M1162.5992,-1813.7677C1150.6375,-1804.3633 1137.7639,-1794.242 1125.4714,-1784.5775\"/>\n<polygon fill=\"#000000\" stroke=\"#000000\" points=\"1127.5173,-1781.7338 1117.4928,-1778.3046 1123.1909,-1787.2368 1127.5173,-1781.7338\"/>\n</g>\n<!-- 70 -->\n<g id=\"node71\" class=\"node\">\n<title>70</title>\n<path fill=\"#f1b991\" stroke=\"#000000\" d=\"M1258.5,-1778C1258.5,-1778 1166.5,-1778 1166.5,-1778 1160.5,-1778 1154.5,-1772 1154.5,-1766 1154.5,-1766 1154.5,-1712 1154.5,-1712 1154.5,-1706 1160.5,-1700 1166.5,-1700 1166.5,-1700 1258.5,-1700 1258.5,-1700 1264.5,-1700 1270.5,-1706 1270.5,-1712 1270.5,-1712 1270.5,-1766 1270.5,-1766 1270.5,-1772 1264.5,-1778 1258.5,-1778\"/>\n<text text-anchor=\"start\" x=\"1178\" y=\"-1763.8\" font-family=\"Helvetica,sans-Serif\" font-size=\"14.00\" fill=\"#000000\">X</text>\n<text text-anchor=\"start\" x=\"1188\" y=\"-1763.8\" font-family=\"Helvetica,sans-Serif\" baseline-shift=\"sub\" font-size=\"14.00\" fill=\"#000000\">0</text>\n<text text-anchor=\"start\" x=\"1195\" y=\"-1763.8\" font-family=\"Helvetica,sans-Serif\" font-size=\"14.00\" fill=\"#000000\"> ≤ 0.309</text>\n<text text-anchor=\"start\" x=\"1174.5\" y=\"-1749.8\" font-family=\"Helvetica,sans-Serif\" font-size=\"14.00\" fill=\"#000000\">gini = 0.426</text>\n<text text-anchor=\"start\" x=\"1168.5\" y=\"-1735.8\" font-family=\"Helvetica,sans-Serif\" font-size=\"14.00\" fill=\"#000000\">samples = 65</text>\n<text text-anchor=\"start\" x=\"1162.5\" y=\"-1721.8\" font-family=\"Helvetica,sans-Serif\" font-size=\"14.00\" fill=\"#000000\">value = [45, 20]</text>\n<text text-anchor=\"start\" x=\"1183.5\" y=\"-1707.8\" font-family=\"Helvetica,sans-Serif\" font-size=\"14.00\" fill=\"#000000\">class = 1</text>\n</g>\n<!-- 2&#45;&gt;70 -->\n<g id=\"edge70\" class=\"edge\">\n<title>2&#45;&gt;70</title>\n<path fill=\"none\" stroke=\"#000000\" d=\"M1212.5,-1813.7677C1212.5,-1805.6172 1212.5,-1796.9283 1212.5,-1788.4649\"/>\n<polygon fill=\"#000000\" stroke=\"#000000\" points=\"1216.0001,-1788.3046 1212.5,-1778.3046 1209.0001,-1788.3047 1216.0001,-1788.3046\"/>\n</g>\n<!-- 4 -->\n<g id=\"node5\" class=\"node\">\n<title>4</title>\n<path fill=\"#ea975b\" stroke=\"#000000\" d=\"M861.5,-1664C861.5,-1664 761.5,-1664 761.5,-1664 755.5,-1664 749.5,-1658 749.5,-1652 749.5,-1652 749.5,-1598 749.5,-1598 749.5,-1592 755.5,-1586 761.5,-1586 761.5,-1586 861.5,-1586 861.5,-1586 867.5,-1586 873.5,-1592 873.5,-1598 873.5,-1598 873.5,-1652 873.5,-1652 873.5,-1658 867.5,-1664 861.5,-1664\"/>\n<text text-anchor=\"start\" x=\"777\" y=\"-1649.8\" font-family=\"Helvetica,sans-Serif\" font-size=\"14.00\" fill=\"#000000\">X</text>\n<text text-anchor=\"start\" x=\"787\" y=\"-1649.8\" font-family=\"Helvetica,sans-Serif\" baseline-shift=\"sub\" font-size=\"14.00\" fill=\"#000000\">1</text>\n<text text-anchor=\"start\" x=\"794\" y=\"-1649.8\" font-family=\"Helvetica,sans-Serif\" font-size=\"14.00\" fill=\"#000000\"> ≤ 0.138</text>\n<text text-anchor=\"start\" x=\"773.5\" y=\"-1635.8\" font-family=\"Helvetica,sans-Serif\" font-size=\"14.00\" fill=\"#000000\">gini = 0.252</text>\n<text text-anchor=\"start\" x=\"763.5\" y=\"-1621.8\" font-family=\"Helvetica,sans-Serif\" font-size=\"14.00\" fill=\"#000000\">samples = 149</text>\n<text text-anchor=\"start\" x=\"757.5\" y=\"-1607.8\" font-family=\"Helvetica,sans-Serif\" font-size=\"14.00\" fill=\"#000000\">value = [127, 22]</text>\n<text text-anchor=\"start\" x=\"782.5\" y=\"-1593.8\" font-family=\"Helvetica,sans-Serif\" font-size=\"14.00\" fill=\"#000000\">class = 1</text>\n</g>\n<!-- 3&#45;&gt;4 -->\n<g id=\"edge4\" class=\"edge\">\n<title>3&#45;&gt;4</title>\n<path fill=\"none\" stroke=\"#000000\" d=\"M1005.2027,-1711.2582C968.3643,-1694.8536 921.5643,-1674.013 883.1947,-1656.9265\"/>\n<polygon fill=\"#000000\" stroke=\"#000000\" points=\"884.1915,-1653.5391 873.6325,-1652.6684 881.3439,-1659.9338 884.1915,-1653.5391\"/>\n</g>\n<!-- 69 -->\n<g id=\"node70\" class=\"node\">\n<title>69</title>\n<path fill=\"#399de5\" stroke=\"#000000\" d=\"M1105,-1659C1105,-1659 1030,-1659 1030,-1659 1024,-1659 1018,-1653 1018,-1647 1018,-1647 1018,-1603 1018,-1603 1018,-1597 1024,-1591 1030,-1591 1030,-1591 1105,-1591 1105,-1591 1111,-1591 1117,-1597 1117,-1603 1117,-1603 1117,-1647 1117,-1647 1117,-1653 1111,-1659 1105,-1659\"/>\n<text text-anchor=\"start\" x=\"1038\" y=\"-1643.8\" font-family=\"Helvetica,sans-Serif\" font-size=\"14.00\" fill=\"#000000\">gini = 0.0</text>\n<text text-anchor=\"start\" x=\"1028\" y=\"-1628.8\" font-family=\"Helvetica,sans-Serif\" font-size=\"14.00\" fill=\"#000000\">samples = 1</text>\n<text text-anchor=\"start\" x=\"1026\" y=\"-1613.8\" font-family=\"Helvetica,sans-Serif\" font-size=\"14.00\" fill=\"#000000\">value = [0, 1]</text>\n<text text-anchor=\"start\" x=\"1038.5\" y=\"-1598.8\" font-family=\"Helvetica,sans-Serif\" font-size=\"14.00\" fill=\"#000000\">class = 1</text>\n</g>\n<!-- 3&#45;&gt;69 -->\n<g id=\"edge69\" class=\"edge\">\n<title>3&#45;&gt;69</title>\n<path fill=\"none\" stroke=\"#000000\" d=\"M1067.5,-1699.7677C1067.5,-1690.0161 1067.5,-1679.4937 1067.5,-1669.509\"/>\n<polygon fill=\"#000000\" stroke=\"#000000\" points=\"1071.0001,-1669.3535 1067.5,-1659.3535 1064.0001,-1669.3536 1071.0001,-1669.3535\"/>\n</g>\n<!-- 5 -->\n<g id=\"node6\" class=\"node\">\n<title>5</title>\n<path fill=\"#e78c4b\" stroke=\"#000000\" d=\"M406,-1550C406,-1550 323,-1550 323,-1550 317,-1550 311,-1544 311,-1538 311,-1538 311,-1484 311,-1484 311,-1478 317,-1472 323,-1472 323,-1472 406,-1472 406,-1472 412,-1472 418,-1478 418,-1484 418,-1484 418,-1538 418,-1538 418,-1544 412,-1550 406,-1550\"/>\n<text text-anchor=\"start\" x=\"331.5\" y=\"-1535.8\" font-family=\"Helvetica,sans-Serif\" font-size=\"14.00\" fill=\"#000000\">X</text>\n<text text-anchor=\"start\" x=\"341.5\" y=\"-1535.8\" font-family=\"Helvetica,sans-Serif\" baseline-shift=\"sub\" font-size=\"14.00\" fill=\"#000000\">6</text>\n<text text-anchor=\"start\" x=\"348.5\" y=\"-1535.8\" font-family=\"Helvetica,sans-Serif\" font-size=\"14.00\" fill=\"#000000\"> ≤ &#45;0.72</text>\n<text text-anchor=\"start\" x=\"326.5\" y=\"-1521.8\" font-family=\"Helvetica,sans-Serif\" font-size=\"14.00\" fill=\"#000000\">gini = 0.153</text>\n<text text-anchor=\"start\" x=\"320.5\" y=\"-1507.8\" font-family=\"Helvetica,sans-Serif\" font-size=\"14.00\" fill=\"#000000\">samples = 84</text>\n<text text-anchor=\"start\" x=\"319\" y=\"-1493.8\" font-family=\"Helvetica,sans-Serif\" font-size=\"14.00\" fill=\"#000000\">value = [77, 7]</text>\n<text text-anchor=\"start\" x=\"335.5\" y=\"-1479.8\" font-family=\"Helvetica,sans-Serif\" font-size=\"14.00\" fill=\"#000000\">class = 1</text>\n</g>\n<!-- 4&#45;&gt;5 -->\n<g id=\"edge5\" class=\"edge\">\n<title>4&#45;&gt;5</title>\n<path fill=\"none\" stroke=\"#000000\" d=\"M749.3466,-1609.1488C664.5448,-1587.5215 513.3862,-1548.971 427.9263,-1527.1758\"/>\n<polygon fill=\"#000000\" stroke=\"#000000\" points=\"428.6472,-1523.7477 418.0924,-1524.6679 426.9173,-1530.5306 428.6472,-1523.7477\"/>\n</g>\n<!-- 30 -->\n<g id=\"node31\" class=\"node\">\n<title>30</title>\n<path fill=\"#eda774\" stroke=\"#000000\" d=\"M857.5,-1550C857.5,-1550 765.5,-1550 765.5,-1550 759.5,-1550 753.5,-1544 753.5,-1538 753.5,-1538 753.5,-1484 753.5,-1484 753.5,-1478 759.5,-1472 765.5,-1472 765.5,-1472 857.5,-1472 857.5,-1472 863.5,-1472 869.5,-1478 869.5,-1484 869.5,-1484 869.5,-1538 869.5,-1538 869.5,-1544 863.5,-1550 857.5,-1550\"/>\n<text text-anchor=\"start\" x=\"777\" y=\"-1535.8\" font-family=\"Helvetica,sans-Serif\" font-size=\"14.00\" fill=\"#000000\">X</text>\n<text text-anchor=\"start\" x=\"787\" y=\"-1535.8\" font-family=\"Helvetica,sans-Serif\" baseline-shift=\"sub\" font-size=\"14.00\" fill=\"#000000\">5</text>\n<text text-anchor=\"start\" x=\"794\" y=\"-1535.8\" font-family=\"Helvetica,sans-Serif\" font-size=\"14.00\" fill=\"#000000\"> ≤ 1.922</text>\n<text text-anchor=\"start\" x=\"773.5\" y=\"-1521.8\" font-family=\"Helvetica,sans-Serif\" font-size=\"14.00\" fill=\"#000000\">gini = 0.355</text>\n<text text-anchor=\"start\" x=\"767.5\" y=\"-1507.8\" font-family=\"Helvetica,sans-Serif\" font-size=\"14.00\" fill=\"#000000\">samples = 65</text>\n<text text-anchor=\"start\" x=\"761.5\" y=\"-1493.8\" font-family=\"Helvetica,sans-Serif\" font-size=\"14.00\" fill=\"#000000\">value = [50, 15]</text>\n<text text-anchor=\"start\" x=\"782.5\" y=\"-1479.8\" font-family=\"Helvetica,sans-Serif\" font-size=\"14.00\" fill=\"#000000\">class = 1</text>\n</g>\n<!-- 4&#45;&gt;30 -->\n<g id=\"edge30\" class=\"edge\">\n<title>4&#45;&gt;30</title>\n<path fill=\"none\" stroke=\"#000000\" d=\"M811.5,-1585.7677C811.5,-1577.6172 811.5,-1568.9283 811.5,-1560.4649\"/>\n<polygon fill=\"#000000\" stroke=\"#000000\" points=\"815.0001,-1560.3046 811.5,-1550.3046 808.0001,-1560.3047 815.0001,-1560.3046\"/>\n</g>\n<!-- 6 -->\n<g id=\"node7\" class=\"node\">\n<title>6</title>\n<path fill=\"#9ccef2\" stroke=\"#000000\" d=\"M204,-1436C204,-1436 129,-1436 129,-1436 123,-1436 117,-1430 117,-1424 117,-1424 117,-1370 117,-1370 117,-1364 123,-1358 129,-1358 129,-1358 204,-1358 204,-1358 210,-1358 216,-1364 216,-1370 216,-1370 216,-1424 216,-1424 216,-1430 210,-1436 204,-1436\"/>\n<text text-anchor=\"start\" x=\"132\" y=\"-1421.8\" font-family=\"Helvetica,sans-Serif\" font-size=\"14.00\" fill=\"#000000\">X</text>\n<text text-anchor=\"start\" x=\"142\" y=\"-1421.8\" font-family=\"Helvetica,sans-Serif\" baseline-shift=\"sub\" font-size=\"14.00\" fill=\"#000000\">2</text>\n<text text-anchor=\"start\" x=\"149\" y=\"-1421.8\" font-family=\"Helvetica,sans-Serif\" font-size=\"14.00\" fill=\"#000000\"> ≤ 1.002</text>\n<text text-anchor=\"start\" x=\"128.5\" y=\"-1407.8\" font-family=\"Helvetica,sans-Serif\" font-size=\"14.00\" fill=\"#000000\">gini = 0.444</text>\n<text text-anchor=\"start\" x=\"127\" y=\"-1393.8\" font-family=\"Helvetica,sans-Serif\" font-size=\"14.00\" fill=\"#000000\">samples = 3</text>\n<text text-anchor=\"start\" x=\"125\" y=\"-1379.8\" font-family=\"Helvetica,sans-Serif\" font-size=\"14.00\" fill=\"#000000\">value = [1, 2]</text>\n<text text-anchor=\"start\" x=\"137.5\" y=\"-1365.8\" font-family=\"Helvetica,sans-Serif\" font-size=\"14.00\" fill=\"#000000\">class = 1</text>\n</g>\n<!-- 5&#45;&gt;6 -->\n<g id=\"edge6\" class=\"edge\">\n<title>5&#45;&gt;6</title>\n<path fill=\"none\" stroke=\"#000000\" d=\"M310.9183,-1480.15C284.371,-1464.8651 252.2607,-1446.3774 225.0657,-1430.7197\"/>\n<polygon fill=\"#000000\" stroke=\"#000000\" points=\"226.4593,-1427.4834 216.0467,-1425.5269 222.9665,-1433.5497 226.4593,-1427.4834\"/>\n</g>\n<!-- 9 -->\n<g id=\"node10\" class=\"node\">\n<title>9</title>\n<path fill=\"#e78946\" stroke=\"#000000\" d=\"M406,-1436C406,-1436 323,-1436 323,-1436 317,-1436 311,-1430 311,-1424 311,-1424 311,-1370 311,-1370 311,-1364 317,-1358 323,-1358 323,-1358 406,-1358 406,-1358 412,-1358 418,-1364 418,-1370 418,-1370 418,-1424 418,-1424 418,-1430 412,-1436 406,-1436\"/>\n<text text-anchor=\"start\" x=\"327.5\" y=\"-1421.8\" font-family=\"Helvetica,sans-Serif\" font-size=\"14.00\" fill=\"#000000\">X</text>\n<text text-anchor=\"start\" x=\"337.5\" y=\"-1421.8\" font-family=\"Helvetica,sans-Serif\" baseline-shift=\"sub\" font-size=\"14.00\" fill=\"#000000\">5</text>\n<text text-anchor=\"start\" x=\"344.5\" y=\"-1421.8\" font-family=\"Helvetica,sans-Serif\" font-size=\"14.00\" fill=\"#000000\"> ≤ &#45;0.767</text>\n<text text-anchor=\"start\" x=\"326.5\" y=\"-1407.8\" font-family=\"Helvetica,sans-Serif\" font-size=\"14.00\" fill=\"#000000\">gini = 0.116</text>\n<text text-anchor=\"start\" x=\"320.5\" y=\"-1393.8\" font-family=\"Helvetica,sans-Serif\" font-size=\"14.00\" fill=\"#000000\">samples = 81</text>\n<text text-anchor=\"start\" x=\"319\" y=\"-1379.8\" font-family=\"Helvetica,sans-Serif\" font-size=\"14.00\" fill=\"#000000\">value = [76, 5]</text>\n<text text-anchor=\"start\" x=\"335.5\" y=\"-1365.8\" font-family=\"Helvetica,sans-Serif\" font-size=\"14.00\" fill=\"#000000\">class = 1</text>\n</g>\n<!-- 5&#45;&gt;9 -->\n<g id=\"edge9\" class=\"edge\">\n<title>5&#45;&gt;9</title>\n<path fill=\"none\" stroke=\"#000000\" d=\"M364.5,-1471.7677C364.5,-1463.6172 364.5,-1454.9283 364.5,-1446.4649\"/>\n<polygon fill=\"#000000\" stroke=\"#000000\" points=\"368.0001,-1446.3046 364.5,-1436.3046 361.0001,-1446.3047 368.0001,-1446.3046\"/>\n</g>\n<!-- 7 -->\n<g id=\"node8\" class=\"node\">\n<title>7</title>\n<path fill=\"#399de5\" stroke=\"#000000\" d=\"M87,-1317C87,-1317 12,-1317 12,-1317 6,-1317 0,-1311 0,-1305 0,-1305 0,-1261 0,-1261 0,-1255 6,-1249 12,-1249 12,-1249 87,-1249 87,-1249 93,-1249 99,-1255 99,-1261 99,-1261 99,-1305 99,-1305 99,-1311 93,-1317 87,-1317\"/>\n<text text-anchor=\"start\" x=\"20\" y=\"-1301.8\" font-family=\"Helvetica,sans-Serif\" font-size=\"14.00\" fill=\"#000000\">gini = 0.0</text>\n<text text-anchor=\"start\" x=\"10\" y=\"-1286.8\" font-family=\"Helvetica,sans-Serif\" font-size=\"14.00\" fill=\"#000000\">samples = 2</text>\n<text text-anchor=\"start\" x=\"8\" y=\"-1271.8\" font-family=\"Helvetica,sans-Serif\" font-size=\"14.00\" fill=\"#000000\">value = [0, 2]</text>\n<text text-anchor=\"start\" x=\"20.5\" y=\"-1256.8\" font-family=\"Helvetica,sans-Serif\" font-size=\"14.00\" fill=\"#000000\">class = 1</text>\n</g>\n<!-- 6&#45;&gt;7 -->\n<g id=\"edge7\" class=\"edge\">\n<title>6&#45;&gt;7</title>\n<path fill=\"none\" stroke=\"#000000\" d=\"M126.2352,-1357.7677C115.1736,-1346.9896 103.1454,-1335.2699 91.9642,-1324.3754\"/>\n<polygon fill=\"#000000\" stroke=\"#000000\" points=\"94.3624,-1321.8254 84.7576,-1317.3535 89.4773,-1326.839 94.3624,-1321.8254\"/>\n</g>\n<!-- 8 -->\n<g id=\"node9\" class=\"node\">\n<title>8</title>\n<path fill=\"#e58139\" stroke=\"#000000\" d=\"M204,-1317C204,-1317 129,-1317 129,-1317 123,-1317 117,-1311 117,-1305 117,-1305 117,-1261 117,-1261 117,-1255 123,-1249 129,-1249 129,-1249 204,-1249 204,-1249 210,-1249 216,-1255 216,-1261 216,-1261 216,-1305 216,-1305 216,-1311 210,-1317 204,-1317\"/>\n<text text-anchor=\"start\" x=\"137\" y=\"-1301.8\" font-family=\"Helvetica,sans-Serif\" font-size=\"14.00\" fill=\"#000000\">gini = 0.0</text>\n<text text-anchor=\"start\" x=\"127\" y=\"-1286.8\" font-family=\"Helvetica,sans-Serif\" font-size=\"14.00\" fill=\"#000000\">samples = 1</text>\n<text text-anchor=\"start\" x=\"125\" y=\"-1271.8\" font-family=\"Helvetica,sans-Serif\" font-size=\"14.00\" fill=\"#000000\">value = [1, 0]</text>\n<text text-anchor=\"start\" x=\"137.5\" y=\"-1256.8\" font-family=\"Helvetica,sans-Serif\" font-size=\"14.00\" fill=\"#000000\">class = 1</text>\n</g>\n<!-- 6&#45;&gt;8 -->\n<g id=\"edge8\" class=\"edge\">\n<title>6&#45;&gt;8</title>\n<path fill=\"none\" stroke=\"#000000\" d=\"M166.5,-1357.7677C166.5,-1348.0161 166.5,-1337.4937 166.5,-1327.509\"/>\n<polygon fill=\"#000000\" stroke=\"#000000\" points=\"170.0001,-1327.3535 166.5,-1317.3535 163.0001,-1327.3536 170.0001,-1327.3535\"/>\n</g>\n<!-- 10 -->\n<g id=\"node11\" class=\"node\">\n<title>10</title>\n<path fill=\"#ea9a61\" stroke=\"#000000\" d=\"M329,-1322C329,-1322 246,-1322 246,-1322 240,-1322 234,-1316 234,-1310 234,-1310 234,-1256 234,-1256 234,-1250 240,-1244 246,-1244 246,-1244 329,-1244 329,-1244 335,-1244 341,-1250 341,-1256 341,-1256 341,-1310 341,-1310 341,-1316 335,-1322 329,-1322\"/>\n<text text-anchor=\"start\" x=\"250.5\" y=\"-1307.8\" font-family=\"Helvetica,sans-Serif\" font-size=\"14.00\" fill=\"#000000\">X</text>\n<text text-anchor=\"start\" x=\"260.5\" y=\"-1307.8\" font-family=\"Helvetica,sans-Serif\" baseline-shift=\"sub\" font-size=\"14.00\" fill=\"#000000\">0</text>\n<text text-anchor=\"start\" x=\"267.5\" y=\"-1307.8\" font-family=\"Helvetica,sans-Serif\" font-size=\"14.00\" fill=\"#000000\"> ≤ &#45;1.249</text>\n<text text-anchor=\"start\" x=\"249.5\" y=\"-1293.8\" font-family=\"Helvetica,sans-Serif\" font-size=\"14.00\" fill=\"#000000\">gini = 0.278</text>\n<text text-anchor=\"start\" x=\"243.5\" y=\"-1279.8\" font-family=\"Helvetica,sans-Serif\" font-size=\"14.00\" fill=\"#000000\">samples = 12</text>\n<text text-anchor=\"start\" x=\"242\" y=\"-1265.8\" font-family=\"Helvetica,sans-Serif\" font-size=\"14.00\" fill=\"#000000\">value = [10, 2]</text>\n<text text-anchor=\"start\" x=\"258.5\" y=\"-1251.8\" font-family=\"Helvetica,sans-Serif\" font-size=\"14.00\" fill=\"#000000\">class = 1</text>\n</g>\n<!-- 9&#45;&gt;10 -->\n<g id=\"edge10\" class=\"edge\">\n<title>9&#45;&gt;10</title>\n<path fill=\"none\" stroke=\"#000000\" d=\"M338.001,-1357.7677C332.1329,-1349.0798 325.8515,-1339.7801 319.7819,-1330.794\"/>\n<polygon fill=\"#000000\" stroke=\"#000000\" points=\"322.5455,-1328.6324 314.0479,-1322.3046 316.7448,-1332.5505 322.5455,-1328.6324\"/>\n</g>\n<!-- 15 -->\n<g id=\"node16\" class=\"node\">\n<title>15</title>\n<path fill=\"#e68742\" stroke=\"#000000\" d=\"M483,-1322C483,-1322 400,-1322 400,-1322 394,-1322 388,-1316 388,-1310 388,-1310 388,-1256 388,-1256 388,-1250 394,-1244 400,-1244 400,-1244 483,-1244 483,-1244 489,-1244 495,-1250 495,-1256 495,-1256 495,-1310 495,-1310 495,-1316 489,-1322 483,-1322\"/>\n<text text-anchor=\"start\" x=\"407\" y=\"-1307.8\" font-family=\"Helvetica,sans-Serif\" font-size=\"14.00\" fill=\"#000000\">X</text>\n<text text-anchor=\"start\" x=\"417\" y=\"-1307.8\" font-family=\"Helvetica,sans-Serif\" baseline-shift=\"sub\" font-size=\"14.00\" fill=\"#000000\">2</text>\n<text text-anchor=\"start\" x=\"424\" y=\"-1307.8\" font-family=\"Helvetica,sans-Serif\" font-size=\"14.00\" fill=\"#000000\"> ≤ 0.178</text>\n<text text-anchor=\"start\" x=\"403.5\" y=\"-1293.8\" font-family=\"Helvetica,sans-Serif\" font-size=\"14.00\" fill=\"#000000\">gini = 0.083</text>\n<text text-anchor=\"start\" x=\"397.5\" y=\"-1279.8\" font-family=\"Helvetica,sans-Serif\" font-size=\"14.00\" fill=\"#000000\">samples = 69</text>\n<text text-anchor=\"start\" x=\"396\" y=\"-1265.8\" font-family=\"Helvetica,sans-Serif\" font-size=\"14.00\" fill=\"#000000\">value = [66, 3]</text>\n<text text-anchor=\"start\" x=\"412.5\" y=\"-1251.8\" font-family=\"Helvetica,sans-Serif\" font-size=\"14.00\" fill=\"#000000\">class = 1</text>\n</g>\n<!-- 9&#45;&gt;15 -->\n<g id=\"edge15\" class=\"edge\">\n<title>9&#45;&gt;15</title>\n<path fill=\"none\" stroke=\"#000000\" d=\"M390.999,-1357.7677C396.8671,-1349.0798 403.1485,-1339.7801 409.2181,-1330.794\"/>\n<polygon fill=\"#000000\" stroke=\"#000000\" points=\"412.2552,-1332.5505 414.9521,-1322.3046 406.4545,-1328.6324 412.2552,-1332.5505\"/>\n</g>\n<!-- 11 -->\n<g id=\"node12\" class=\"node\">\n<title>11</title>\n<path fill=\"#399de5\" stroke=\"#000000\" d=\"M175,-1203C175,-1203 100,-1203 100,-1203 94,-1203 88,-1197 88,-1191 88,-1191 88,-1147 88,-1147 88,-1141 94,-1135 100,-1135 100,-1135 175,-1135 175,-1135 181,-1135 187,-1141 187,-1147 187,-1147 187,-1191 187,-1191 187,-1197 181,-1203 175,-1203\"/>\n<text text-anchor=\"start\" x=\"108\" y=\"-1187.8\" font-family=\"Helvetica,sans-Serif\" font-size=\"14.00\" fill=\"#000000\">gini = 0.0</text>\n<text text-anchor=\"start\" x=\"98\" y=\"-1172.8\" font-family=\"Helvetica,sans-Serif\" font-size=\"14.00\" fill=\"#000000\">samples = 1</text>\n<text text-anchor=\"start\" x=\"96\" y=\"-1157.8\" font-family=\"Helvetica,sans-Serif\" font-size=\"14.00\" fill=\"#000000\">value = [0, 1]</text>\n<text text-anchor=\"start\" x=\"108.5\" y=\"-1142.8\" font-family=\"Helvetica,sans-Serif\" font-size=\"14.00\" fill=\"#000000\">class = 1</text>\n</g>\n<!-- 10&#45;&gt;11 -->\n<g id=\"edge11\" class=\"edge\">\n<title>10&#45;&gt;11</title>\n<path fill=\"none\" stroke=\"#000000\" d=\"M235.8785,-1243.7677C221.2917,-1232.6817 205.394,-1220.5994 190.7153,-1209.4436\"/>\n<polygon fill=\"#000000\" stroke=\"#000000\" points=\"192.7814,-1206.6178 182.702,-1203.3535 188.5458,-1212.191 192.7814,-1206.6178\"/>\n</g>\n<!-- 12 -->\n<g id=\"node13\" class=\"node\">\n<title>12</title>\n<path fill=\"#e88e4d\" stroke=\"#000000\" d=\"M300,-1208C300,-1208 217,-1208 217,-1208 211,-1208 205,-1202 205,-1196 205,-1196 205,-1142 205,-1142 205,-1136 211,-1130 217,-1130 217,-1130 300,-1130 300,-1130 306,-1130 312,-1136 312,-1142 312,-1142 312,-1196 312,-1196 312,-1202 306,-1208 300,-1208\"/>\n<text text-anchor=\"start\" x=\"221.5\" y=\"-1193.8\" font-family=\"Helvetica,sans-Serif\" font-size=\"14.00\" fill=\"#000000\">X</text>\n<text text-anchor=\"start\" x=\"231.5\" y=\"-1193.8\" font-family=\"Helvetica,sans-Serif\" baseline-shift=\"sub\" font-size=\"14.00\" fill=\"#000000\">5</text>\n<text text-anchor=\"start\" x=\"238.5\" y=\"-1193.8\" font-family=\"Helvetica,sans-Serif\" font-size=\"14.00\" fill=\"#000000\"> ≤ &#45;0.787</text>\n<text text-anchor=\"start\" x=\"220.5\" y=\"-1179.8\" font-family=\"Helvetica,sans-Serif\" font-size=\"14.00\" fill=\"#000000\">gini = 0.165</text>\n<text text-anchor=\"start\" x=\"214.5\" y=\"-1165.8\" font-family=\"Helvetica,sans-Serif\" font-size=\"14.00\" fill=\"#000000\">samples = 11</text>\n<text text-anchor=\"start\" x=\"213\" y=\"-1151.8\" font-family=\"Helvetica,sans-Serif\" font-size=\"14.00\" fill=\"#000000\">value = [10, 1]</text>\n<text text-anchor=\"start\" x=\"229.5\" y=\"-1137.8\" font-family=\"Helvetica,sans-Serif\" font-size=\"14.00\" fill=\"#000000\">class = 1</text>\n</g>\n<!-- 10&#45;&gt;12 -->\n<g id=\"edge12\" class=\"edge\">\n<title>10&#45;&gt;12</title>\n<path fill=\"none\" stroke=\"#000000\" d=\"M277.5198,-1243.7677C275.4237,-1235.5277 273.1875,-1226.7372 271.0122,-1218.1859\"/>\n<polygon fill=\"#000000\" stroke=\"#000000\" points=\"274.3559,-1217.1331 268.4986,-1208.3046 267.572,-1218.8589 274.3559,-1217.1331\"/>\n</g>\n<!-- 13 -->\n<g id=\"node14\" class=\"node\">\n<title>13</title>\n<path fill=\"#e58139\" stroke=\"#000000\" d=\"M149,-1089C149,-1089 66,-1089 66,-1089 60,-1089 54,-1083 54,-1077 54,-1077 54,-1033 54,-1033 54,-1027 60,-1021 66,-1021 66,-1021 149,-1021 149,-1021 155,-1021 161,-1027 161,-1033 161,-1033 161,-1077 161,-1077 161,-1083 155,-1089 149,-1089\"/>\n<text text-anchor=\"start\" x=\"78\" y=\"-1073.8\" font-family=\"Helvetica,sans-Serif\" font-size=\"14.00\" fill=\"#000000\">gini = 0.0</text>\n<text text-anchor=\"start\" x=\"63.5\" y=\"-1058.8\" font-family=\"Helvetica,sans-Serif\" font-size=\"14.00\" fill=\"#000000\">samples = 10</text>\n<text text-anchor=\"start\" x=\"62\" y=\"-1043.8\" font-family=\"Helvetica,sans-Serif\" font-size=\"14.00\" fill=\"#000000\">value = [10, 0]</text>\n<text text-anchor=\"start\" x=\"78.5\" y=\"-1028.8\" font-family=\"Helvetica,sans-Serif\" font-size=\"14.00\" fill=\"#000000\">class = 1</text>\n</g>\n<!-- 12&#45;&gt;13 -->\n<g id=\"edge13\" class=\"edge\">\n<title>12&#45;&gt;13</title>\n<path fill=\"none\" stroke=\"#000000\" d=\"M206.5344,-1129.7677C191.8503,-1118.6817 175.8466,-1106.5994 161.0701,-1095.4436\"/>\n<polygon fill=\"#000000\" stroke=\"#000000\" points=\"163.0932,-1092.5856 153.0033,-1089.3535 158.8754,-1098.1722 163.0932,-1092.5856\"/>\n</g>\n<!-- 14 -->\n<g id=\"node15\" class=\"node\">\n<title>14</title>\n<path fill=\"#399de5\" stroke=\"#000000\" d=\"M266,-1089C266,-1089 191,-1089 191,-1089 185,-1089 179,-1083 179,-1077 179,-1077 179,-1033 179,-1033 179,-1027 185,-1021 191,-1021 191,-1021 266,-1021 266,-1021 272,-1021 278,-1027 278,-1033 278,-1033 278,-1077 278,-1077 278,-1083 272,-1089 266,-1089\"/>\n<text text-anchor=\"start\" x=\"199\" y=\"-1073.8\" font-family=\"Helvetica,sans-Serif\" font-size=\"14.00\" fill=\"#000000\">gini = 0.0</text>\n<text text-anchor=\"start\" x=\"189\" y=\"-1058.8\" font-family=\"Helvetica,sans-Serif\" font-size=\"14.00\" fill=\"#000000\">samples = 1</text>\n<text text-anchor=\"start\" x=\"187\" y=\"-1043.8\" font-family=\"Helvetica,sans-Serif\" font-size=\"14.00\" fill=\"#000000\">value = [0, 1]</text>\n<text text-anchor=\"start\" x=\"199.5\" y=\"-1028.8\" font-family=\"Helvetica,sans-Serif\" font-size=\"14.00\" fill=\"#000000\">class = 1</text>\n</g>\n<!-- 12&#45;&gt;14 -->\n<g id=\"edge14\" class=\"edge\">\n<title>12&#45;&gt;14</title>\n<path fill=\"none\" stroke=\"#000000\" d=\"M248.1757,-1129.7677C245.5825,-1119.9135 242.7821,-1109.2721 240.13,-1099.1939\"/>\n<polygon fill=\"#000000\" stroke=\"#000000\" points=\"243.4702,-1098.1335 237.5404,-1089.3535 236.7006,-1099.915 243.4702,-1098.1335\"/>\n</g>\n<!-- 16 -->\n<g id=\"node17\" class=\"node\">\n<title>16</title>\n<path fill=\"#e6833d\" stroke=\"#000000\" d=\"M483,-1208C483,-1208 400,-1208 400,-1208 394,-1208 388,-1202 388,-1196 388,-1196 388,-1142 388,-1142 388,-1136 394,-1130 400,-1130 400,-1130 483,-1130 483,-1130 489,-1130 495,-1136 495,-1142 495,-1142 495,-1196 495,-1196 495,-1202 489,-1208 483,-1208\"/>\n<text text-anchor=\"start\" x=\"407\" y=\"-1193.8\" font-family=\"Helvetica,sans-Serif\" font-size=\"14.00\" fill=\"#000000\">X</text>\n<text text-anchor=\"start\" x=\"417\" y=\"-1193.8\" font-family=\"Helvetica,sans-Serif\" baseline-shift=\"sub\" font-size=\"14.00\" fill=\"#000000\">0</text>\n<text text-anchor=\"start\" x=\"424\" y=\"-1193.8\" font-family=\"Helvetica,sans-Serif\" font-size=\"14.00\" fill=\"#000000\"> ≤ 0.056</text>\n<text text-anchor=\"start\" x=\"403.5\" y=\"-1179.8\" font-family=\"Helvetica,sans-Serif\" font-size=\"14.00\" fill=\"#000000\">gini = 0.037</text>\n<text text-anchor=\"start\" x=\"397.5\" y=\"-1165.8\" font-family=\"Helvetica,sans-Serif\" font-size=\"14.00\" fill=\"#000000\">samples = 53</text>\n<text text-anchor=\"start\" x=\"396\" y=\"-1151.8\" font-family=\"Helvetica,sans-Serif\" font-size=\"14.00\" fill=\"#000000\">value = [52, 1]</text>\n<text text-anchor=\"start\" x=\"412.5\" y=\"-1137.8\" font-family=\"Helvetica,sans-Serif\" font-size=\"14.00\" fill=\"#000000\">class = 1</text>\n</g>\n<!-- 15&#45;&gt;16 -->\n<g id=\"edge16\" class=\"edge\">\n<title>15&#45;&gt;16</title>\n<path fill=\"none\" stroke=\"#000000\" d=\"M441.5,-1243.7677C441.5,-1235.6172 441.5,-1226.9283 441.5,-1218.4649\"/>\n<polygon fill=\"#000000\" stroke=\"#000000\" points=\"445.0001,-1218.3046 441.5,-1208.3046 438.0001,-1218.3047 445.0001,-1218.3046\"/>\n</g>\n<!-- 23 -->\n<g id=\"node24\" class=\"node\">\n<title>23</title>\n<path fill=\"#e99355\" stroke=\"#000000\" d=\"M637,-1208C637,-1208 554,-1208 554,-1208 548,-1208 542,-1202 542,-1196 542,-1196 542,-1142 542,-1142 542,-1136 548,-1130 554,-1130 554,-1130 637,-1130 637,-1130 643,-1130 649,-1136 649,-1142 649,-1142 649,-1196 649,-1196 649,-1202 643,-1208 637,-1208\"/>\n<text text-anchor=\"start\" x=\"561\" y=\"-1193.8\" font-family=\"Helvetica,sans-Serif\" font-size=\"14.00\" fill=\"#000000\">X</text>\n<text text-anchor=\"start\" x=\"571\" y=\"-1193.8\" font-family=\"Helvetica,sans-Serif\" baseline-shift=\"sub\" font-size=\"14.00\" fill=\"#000000\">2</text>\n<text text-anchor=\"start\" x=\"578\" y=\"-1193.8\" font-family=\"Helvetica,sans-Serif\" font-size=\"14.00\" fill=\"#000000\"> ≤ 0.238</text>\n<text text-anchor=\"start\" x=\"557.5\" y=\"-1179.8\" font-family=\"Helvetica,sans-Serif\" font-size=\"14.00\" fill=\"#000000\">gini = 0.219</text>\n<text text-anchor=\"start\" x=\"551.5\" y=\"-1165.8\" font-family=\"Helvetica,sans-Serif\" font-size=\"14.00\" fill=\"#000000\">samples = 16</text>\n<text text-anchor=\"start\" x=\"550\" y=\"-1151.8\" font-family=\"Helvetica,sans-Serif\" font-size=\"14.00\" fill=\"#000000\">value = [14, 2]</text>\n<text text-anchor=\"start\" x=\"566.5\" y=\"-1137.8\" font-family=\"Helvetica,sans-Serif\" font-size=\"14.00\" fill=\"#000000\">class = 1</text>\n</g>\n<!-- 15&#45;&gt;23 -->\n<g id=\"edge23\" class=\"edge\">\n<title>15&#45;&gt;23</title>\n<path fill=\"none\" stroke=\"#000000\" d=\"M494.4981,-1243.7677C507.3952,-1234.2204 521.2906,-1223.9342 534.5251,-1214.1373\"/>\n<polygon fill=\"#000000\" stroke=\"#000000\" points=\"536.7102,-1216.8744 542.6652,-1208.1115 532.5454,-1211.2482 536.7102,-1216.8744\"/>\n</g>\n<!-- 17 -->\n<g id=\"node18\" class=\"node\">\n<title>17</title>\n<path fill=\"#e58139\" stroke=\"#000000\" d=\"M391,-1089C391,-1089 308,-1089 308,-1089 302,-1089 296,-1083 296,-1077 296,-1077 296,-1033 296,-1033 296,-1027 302,-1021 308,-1021 308,-1021 391,-1021 391,-1021 397,-1021 403,-1027 403,-1033 403,-1033 403,-1077 403,-1077 403,-1083 397,-1089 391,-1089\"/>\n<text text-anchor=\"start\" x=\"320\" y=\"-1073.8\" font-family=\"Helvetica,sans-Serif\" font-size=\"14.00\" fill=\"#000000\">gini = 0.0</text>\n<text text-anchor=\"start\" x=\"305.5\" y=\"-1058.8\" font-family=\"Helvetica,sans-Serif\" font-size=\"14.00\" fill=\"#000000\">samples = 37</text>\n<text text-anchor=\"start\" x=\"304\" y=\"-1043.8\" font-family=\"Helvetica,sans-Serif\" font-size=\"14.00\" fill=\"#000000\">value = [37, 0]</text>\n<text text-anchor=\"start\" x=\"320.5\" y=\"-1028.8\" font-family=\"Helvetica,sans-Serif\" font-size=\"14.00\" fill=\"#000000\">class = 1</text>\n</g>\n<!-- 16&#45;&gt;17 -->\n<g id=\"edge17\" class=\"edge\">\n<title>16&#45;&gt;17</title>\n<path fill=\"none\" stroke=\"#000000\" d=\"M409.8388,-1129.7677C401.3893,-1119.2976 392.2226,-1107.9388 383.6459,-1097.3112\"/>\n<polygon fill=\"#000000\" stroke=\"#000000\" points=\"386.2278,-1094.9374 377.2239,-1089.3535 380.7804,-1099.3336 386.2278,-1094.9374\"/>\n</g>\n<!-- 18 -->\n<g id=\"node19\" class=\"node\">\n<title>18</title>\n<path fill=\"#e78946\" stroke=\"#000000\" d=\"M516,-1094C516,-1094 433,-1094 433,-1094 427,-1094 421,-1088 421,-1082 421,-1082 421,-1028 421,-1028 421,-1022 427,-1016 433,-1016 433,-1016 516,-1016 516,-1016 522,-1016 528,-1022 528,-1028 528,-1028 528,-1082 528,-1082 528,-1088 522,-1094 516,-1094\"/>\n<text text-anchor=\"start\" x=\"440\" y=\"-1079.8\" font-family=\"Helvetica,sans-Serif\" font-size=\"14.00\" fill=\"#000000\">X</text>\n<text text-anchor=\"start\" x=\"450\" y=\"-1079.8\" font-family=\"Helvetica,sans-Serif\" baseline-shift=\"sub\" font-size=\"14.00\" fill=\"#000000\">0</text>\n<text text-anchor=\"start\" x=\"457\" y=\"-1079.8\" font-family=\"Helvetica,sans-Serif\" font-size=\"14.00\" fill=\"#000000\"> ≤ 0.225</text>\n<text text-anchor=\"start\" x=\"436.5\" y=\"-1065.8\" font-family=\"Helvetica,sans-Serif\" font-size=\"14.00\" fill=\"#000000\">gini = 0.117</text>\n<text text-anchor=\"start\" x=\"430.5\" y=\"-1051.8\" font-family=\"Helvetica,sans-Serif\" font-size=\"14.00\" fill=\"#000000\">samples = 16</text>\n<text text-anchor=\"start\" x=\"429\" y=\"-1037.8\" font-family=\"Helvetica,sans-Serif\" font-size=\"14.00\" fill=\"#000000\">value = [15, 1]</text>\n<text text-anchor=\"start\" x=\"445.5\" y=\"-1023.8\" font-family=\"Helvetica,sans-Serif\" font-size=\"14.00\" fill=\"#000000\">class = 1</text>\n</g>\n<!-- 16&#45;&gt;18 -->\n<g id=\"edge18\" class=\"edge\">\n<title>16&#45;&gt;18</title>\n<path fill=\"none\" stroke=\"#000000\" d=\"M452.8567,-1129.7677C455.242,-1121.5277 457.7866,-1112.7372 460.262,-1104.1859\"/>\n<polygon fill=\"#000000\" stroke=\"#000000\" points=\"463.7037,-1104.8835 463.1223,-1094.3046 456.9797,-1102.9371 463.7037,-1104.8835\"/>\n</g>\n<!-- 19 -->\n<g id=\"node20\" class=\"node\">\n<title>19</title>\n<path fill=\"#f2c09c\" stroke=\"#000000\" d=\"M391,-980C391,-980 316,-980 316,-980 310,-980 304,-974 304,-968 304,-968 304,-914 304,-914 304,-908 310,-902 316,-902 316,-902 391,-902 391,-902 397,-902 403,-908 403,-914 403,-914 403,-968 403,-968 403,-974 397,-980 391,-980\"/>\n<text text-anchor=\"start\" x=\"319\" y=\"-965.8\" font-family=\"Helvetica,sans-Serif\" font-size=\"14.00\" fill=\"#000000\">X</text>\n<text text-anchor=\"start\" x=\"329\" y=\"-965.8\" font-family=\"Helvetica,sans-Serif\" baseline-shift=\"sub\" font-size=\"14.00\" fill=\"#000000\">8</text>\n<text text-anchor=\"start\" x=\"336\" y=\"-965.8\" font-family=\"Helvetica,sans-Serif\" font-size=\"14.00\" fill=\"#000000\"> ≤ 0.383</text>\n<text text-anchor=\"start\" x=\"315.5\" y=\"-951.8\" font-family=\"Helvetica,sans-Serif\" font-size=\"14.00\" fill=\"#000000\">gini = 0.444</text>\n<text text-anchor=\"start\" x=\"314\" y=\"-937.8\" font-family=\"Helvetica,sans-Serif\" font-size=\"14.00\" fill=\"#000000\">samples = 3</text>\n<text text-anchor=\"start\" x=\"312\" y=\"-923.8\" font-family=\"Helvetica,sans-Serif\" font-size=\"14.00\" fill=\"#000000\">value = [2, 1]</text>\n<text text-anchor=\"start\" x=\"324.5\" y=\"-909.8\" font-family=\"Helvetica,sans-Serif\" font-size=\"14.00\" fill=\"#000000\">class = 1</text>\n</g>\n<!-- 18&#45;&gt;19 -->\n<g id=\"edge19\" class=\"edge\">\n<title>18&#45;&gt;19</title>\n<path fill=\"none\" stroke=\"#000000\" d=\"M432.8587,-1015.7677C423.162,-1006.632 412.7473,-996.8198 402.7565,-987.407\"/>\n<polygon fill=\"#000000\" stroke=\"#000000\" points=\"404.8967,-984.6146 395.2181,-980.3046 400.0965,-989.7096 404.8967,-984.6146\"/>\n</g>\n<!-- 22 -->\n<g id=\"node23\" class=\"node\">\n<title>22</title>\n<path fill=\"#e58139\" stroke=\"#000000\" d=\"M516,-975C516,-975 433,-975 433,-975 427,-975 421,-969 421,-963 421,-963 421,-919 421,-919 421,-913 427,-907 433,-907 433,-907 516,-907 516,-907 522,-907 528,-913 528,-919 528,-919 528,-963 528,-963 528,-969 522,-975 516,-975\"/>\n<text text-anchor=\"start\" x=\"445\" y=\"-959.8\" font-family=\"Helvetica,sans-Serif\" font-size=\"14.00\" fill=\"#000000\">gini = 0.0</text>\n<text text-anchor=\"start\" x=\"430.5\" y=\"-944.8\" font-family=\"Helvetica,sans-Serif\" font-size=\"14.00\" fill=\"#000000\">samples = 13</text>\n<text text-anchor=\"start\" x=\"429\" y=\"-929.8\" font-family=\"Helvetica,sans-Serif\" font-size=\"14.00\" fill=\"#000000\">value = [13, 0]</text>\n<text text-anchor=\"start\" x=\"445.5\" y=\"-914.8\" font-family=\"Helvetica,sans-Serif\" font-size=\"14.00\" fill=\"#000000\">class = 1</text>\n</g>\n<!-- 18&#45;&gt;22 -->\n<g id=\"edge22\" class=\"edge\">\n<title>18&#45;&gt;22</title>\n<path fill=\"none\" stroke=\"#000000\" d=\"M474.5,-1015.7677C474.5,-1006.0161 474.5,-995.4937 474.5,-985.509\"/>\n<polygon fill=\"#000000\" stroke=\"#000000\" points=\"478.0001,-985.3535 474.5,-975.3535 471.0001,-985.3536 478.0001,-985.3535\"/>\n</g>\n<!-- 20 -->\n<g id=\"node21\" class=\"node\">\n<title>20</title>\n<path fill=\"#e58139\" stroke=\"#000000\" d=\"M333,-861C333,-861 258,-861 258,-861 252,-861 246,-855 246,-849 246,-849 246,-805 246,-805 246,-799 252,-793 258,-793 258,-793 333,-793 333,-793 339,-793 345,-799 345,-805 345,-805 345,-849 345,-849 345,-855 339,-861 333,-861\"/>\n<text text-anchor=\"start\" x=\"266\" y=\"-845.8\" font-family=\"Helvetica,sans-Serif\" font-size=\"14.00\" fill=\"#000000\">gini = 0.0</text>\n<text text-anchor=\"start\" x=\"256\" y=\"-830.8\" font-family=\"Helvetica,sans-Serif\" font-size=\"14.00\" fill=\"#000000\">samples = 2</text>\n<text text-anchor=\"start\" x=\"254\" y=\"-815.8\" font-family=\"Helvetica,sans-Serif\" font-size=\"14.00\" fill=\"#000000\">value = [2, 0]</text>\n<text text-anchor=\"start\" x=\"266.5\" y=\"-800.8\" font-family=\"Helvetica,sans-Serif\" font-size=\"14.00\" fill=\"#000000\">class = 1</text>\n</g>\n<!-- 19&#45;&gt;20 -->\n<g id=\"edge20\" class=\"edge\">\n<title>19&#45;&gt;20</title>\n<path fill=\"none\" stroke=\"#000000\" d=\"M333.5397,-901.7677C328.4217,-891.7082 322.8863,-880.8283 317.6645,-870.5648\"/>\n<polygon fill=\"#000000\" stroke=\"#000000\" points=\"320.6322,-868.6792 312.9781,-861.3535 314.3933,-871.8534 320.6322,-868.6792\"/>\n</g>\n<!-- 21 -->\n<g id=\"node22\" class=\"node\">\n<title>21</title>\n<path fill=\"#399de5\" stroke=\"#000000\" d=\"M450,-861C450,-861 375,-861 375,-861 369,-861 363,-855 363,-849 363,-849 363,-805 363,-805 363,-799 369,-793 375,-793 375,-793 450,-793 450,-793 456,-793 462,-799 462,-805 462,-805 462,-849 462,-849 462,-855 456,-861 450,-861\"/>\n<text text-anchor=\"start\" x=\"383\" y=\"-845.8\" font-family=\"Helvetica,sans-Serif\" font-size=\"14.00\" fill=\"#000000\">gini = 0.0</text>\n<text text-anchor=\"start\" x=\"373\" y=\"-830.8\" font-family=\"Helvetica,sans-Serif\" font-size=\"14.00\" fill=\"#000000\">samples = 1</text>\n<text text-anchor=\"start\" x=\"371\" y=\"-815.8\" font-family=\"Helvetica,sans-Serif\" font-size=\"14.00\" fill=\"#000000\">value = [0, 1]</text>\n<text text-anchor=\"start\" x=\"383.5\" y=\"-800.8\" font-family=\"Helvetica,sans-Serif\" font-size=\"14.00\" fill=\"#000000\">class = 1</text>\n</g>\n<!-- 19&#45;&gt;21 -->\n<g id=\"edge21\" class=\"edge\">\n<title>19&#45;&gt;21</title>\n<path fill=\"none\" stroke=\"#000000\" d=\"M373.8045,-901.7677C379.0638,-891.6055 384.7564,-880.6062 390.1158,-870.2508\"/>\n<polygon fill=\"#000000\" stroke=\"#000000\" points=\"393.2325,-871.8434 394.7205,-861.3535 387.0158,-868.6259 393.2325,-871.8434\"/>\n</g>\n<!-- 24 -->\n<g id=\"node25\" class=\"node\">\n<title>24</title>\n<path fill=\"#399de5\" stroke=\"#000000\" d=\"M633,-1089C633,-1089 558,-1089 558,-1089 552,-1089 546,-1083 546,-1077 546,-1077 546,-1033 546,-1033 546,-1027 552,-1021 558,-1021 558,-1021 633,-1021 633,-1021 639,-1021 645,-1027 645,-1033 645,-1033 645,-1077 645,-1077 645,-1083 639,-1089 633,-1089\"/>\n<text text-anchor=\"start\" x=\"566\" y=\"-1073.8\" font-family=\"Helvetica,sans-Serif\" font-size=\"14.00\" fill=\"#000000\">gini = 0.0</text>\n<text text-anchor=\"start\" x=\"556\" y=\"-1058.8\" font-family=\"Helvetica,sans-Serif\" font-size=\"14.00\" fill=\"#000000\">samples = 1</text>\n<text text-anchor=\"start\" x=\"554\" y=\"-1043.8\" font-family=\"Helvetica,sans-Serif\" font-size=\"14.00\" fill=\"#000000\">value = [0, 1]</text>\n<text text-anchor=\"start\" x=\"566.5\" y=\"-1028.8\" font-family=\"Helvetica,sans-Serif\" font-size=\"14.00\" fill=\"#000000\">class = 1</text>\n</g>\n<!-- 23&#45;&gt;24 -->\n<g id=\"edge24\" class=\"edge\">\n<title>23&#45;&gt;24</title>\n<path fill=\"none\" stroke=\"#000000\" d=\"M595.5,-1129.7677C595.5,-1120.0161 595.5,-1109.4937 595.5,-1099.509\"/>\n<polygon fill=\"#000000\" stroke=\"#000000\" points=\"599.0001,-1099.3535 595.5,-1089.3535 592.0001,-1099.3536 599.0001,-1099.3535\"/>\n</g>\n<!-- 25 -->\n<g id=\"node26\" class=\"node\">\n<title>25</title>\n<path fill=\"#e78a47\" stroke=\"#000000\" d=\"M758,-1094C758,-1094 675,-1094 675,-1094 669,-1094 663,-1088 663,-1082 663,-1082 663,-1028 663,-1028 663,-1022 669,-1016 675,-1016 675,-1016 758,-1016 758,-1016 764,-1016 770,-1022 770,-1028 770,-1028 770,-1082 770,-1082 770,-1088 764,-1094 758,-1094\"/>\n<text text-anchor=\"start\" x=\"682\" y=\"-1079.8\" font-family=\"Helvetica,sans-Serif\" font-size=\"14.00\" fill=\"#000000\">X</text>\n<text text-anchor=\"start\" x=\"692\" y=\"-1079.8\" font-family=\"Helvetica,sans-Serif\" baseline-shift=\"sub\" font-size=\"14.00\" fill=\"#000000\">5</text>\n<text text-anchor=\"start\" x=\"699\" y=\"-1079.8\" font-family=\"Helvetica,sans-Serif\" font-size=\"14.00\" fill=\"#000000\"> ≤ 0.473</text>\n<text text-anchor=\"start\" x=\"678.5\" y=\"-1065.8\" font-family=\"Helvetica,sans-Serif\" font-size=\"14.00\" fill=\"#000000\">gini = 0.124</text>\n<text text-anchor=\"start\" x=\"672.5\" y=\"-1051.8\" font-family=\"Helvetica,sans-Serif\" font-size=\"14.00\" fill=\"#000000\">samples = 15</text>\n<text text-anchor=\"start\" x=\"671\" y=\"-1037.8\" font-family=\"Helvetica,sans-Serif\" font-size=\"14.00\" fill=\"#000000\">value = [14, 1]</text>\n<text text-anchor=\"start\" x=\"687.5\" y=\"-1023.8\" font-family=\"Helvetica,sans-Serif\" font-size=\"14.00\" fill=\"#000000\">class = 1</text>\n</g>\n<!-- 23&#45;&gt;25 -->\n<g id=\"edge25\" class=\"edge\">\n<title>23&#45;&gt;25</title>\n<path fill=\"none\" stroke=\"#000000\" d=\"M637.1413,-1129.7677C646.838,-1120.632 657.2527,-1110.8198 667.2435,-1101.407\"/>\n<polygon fill=\"#000000\" stroke=\"#000000\" points=\"669.9035,-1103.7096 674.7819,-1094.3046 665.1033,-1098.6146 669.9035,-1103.7096\"/>\n</g>\n<!-- 26 -->\n<g id=\"node27\" class=\"node\">\n<title>26</title>\n<path fill=\"#e58139\" stroke=\"#000000\" d=\"M641,-975C641,-975 558,-975 558,-975 552,-975 546,-969 546,-963 546,-963 546,-919 546,-919 546,-913 552,-907 558,-907 558,-907 641,-907 641,-907 647,-907 653,-913 653,-919 653,-919 653,-963 653,-963 653,-969 647,-975 641,-975\"/>\n<text text-anchor=\"start\" x=\"570\" y=\"-959.8\" font-family=\"Helvetica,sans-Serif\" font-size=\"14.00\" fill=\"#000000\">gini = 0.0</text>\n<text text-anchor=\"start\" x=\"555.5\" y=\"-944.8\" font-family=\"Helvetica,sans-Serif\" font-size=\"14.00\" fill=\"#000000\">samples = 11</text>\n<text text-anchor=\"start\" x=\"554\" y=\"-929.8\" font-family=\"Helvetica,sans-Serif\" font-size=\"14.00\" fill=\"#000000\">value = [11, 0]</text>\n<text text-anchor=\"start\" x=\"570.5\" y=\"-914.8\" font-family=\"Helvetica,sans-Serif\" font-size=\"14.00\" fill=\"#000000\">class = 1</text>\n</g>\n<!-- 25&#45;&gt;26 -->\n<g id=\"edge26\" class=\"edge\">\n<title>25&#45;&gt;26</title>\n<path fill=\"none\" stroke=\"#000000\" d=\"M676.2352,-1015.7677C665.1736,-1004.9896 653.1454,-993.2699 641.9642,-982.3754\"/>\n<polygon fill=\"#000000\" stroke=\"#000000\" points=\"644.3624,-979.8254 634.7576,-975.3535 639.4773,-984.839 644.3624,-979.8254\"/>\n</g>\n<!-- 27 -->\n<g id=\"node28\" class=\"node\">\n<title>27</title>\n<path fill=\"#eeab7b\" stroke=\"#000000\" d=\"M758,-980C758,-980 683,-980 683,-980 677,-980 671,-974 671,-968 671,-968 671,-914 671,-914 671,-908 677,-902 683,-902 683,-902 758,-902 758,-902 764,-902 770,-908 770,-914 770,-914 770,-968 770,-968 770,-974 764,-980 758,-980\"/>\n<text text-anchor=\"start\" x=\"686\" y=\"-965.8\" font-family=\"Helvetica,sans-Serif\" font-size=\"14.00\" fill=\"#000000\">X</text>\n<text text-anchor=\"start\" x=\"696\" y=\"-965.8\" font-family=\"Helvetica,sans-Serif\" baseline-shift=\"sub\" font-size=\"14.00\" fill=\"#000000\">5</text>\n<text text-anchor=\"start\" x=\"703\" y=\"-965.8\" font-family=\"Helvetica,sans-Serif\" font-size=\"14.00\" fill=\"#000000\"> ≤ 0.575</text>\n<text text-anchor=\"start\" x=\"682.5\" y=\"-951.8\" font-family=\"Helvetica,sans-Serif\" font-size=\"14.00\" fill=\"#000000\">gini = 0.375</text>\n<text text-anchor=\"start\" x=\"681\" y=\"-937.8\" font-family=\"Helvetica,sans-Serif\" font-size=\"14.00\" fill=\"#000000\">samples = 4</text>\n<text text-anchor=\"start\" x=\"679\" y=\"-923.8\" font-family=\"Helvetica,sans-Serif\" font-size=\"14.00\" fill=\"#000000\">value = [3, 1]</text>\n<text text-anchor=\"start\" x=\"691.5\" y=\"-909.8\" font-family=\"Helvetica,sans-Serif\" font-size=\"14.00\" fill=\"#000000\">class = 1</text>\n</g>\n<!-- 25&#45;&gt;27 -->\n<g id=\"edge27\" class=\"edge\">\n<title>25&#45;&gt;27</title>\n<path fill=\"none\" stroke=\"#000000\" d=\"M717.8766,-1015.7677C718.1626,-1007.6172 718.4674,-998.9283 718.7644,-990.4649\"/>\n<polygon fill=\"#000000\" stroke=\"#000000\" points=\"722.268,-990.4213 719.1209,-980.3046 715.2723,-990.1757 722.268,-990.4213\"/>\n</g>\n<!-- 28 -->\n<g id=\"node29\" class=\"node\">\n<title>28</title>\n<path fill=\"#399de5\" stroke=\"#000000\" d=\"M641,-861C641,-861 566,-861 566,-861 560,-861 554,-855 554,-849 554,-849 554,-805 554,-805 554,-799 560,-793 566,-793 566,-793 641,-793 641,-793 647,-793 653,-799 653,-805 653,-805 653,-849 653,-849 653,-855 647,-861 641,-861\"/>\n<text text-anchor=\"start\" x=\"574\" y=\"-845.8\" font-family=\"Helvetica,sans-Serif\" font-size=\"14.00\" fill=\"#000000\">gini = 0.0</text>\n<text text-anchor=\"start\" x=\"564\" y=\"-830.8\" font-family=\"Helvetica,sans-Serif\" font-size=\"14.00\" fill=\"#000000\">samples = 1</text>\n<text text-anchor=\"start\" x=\"562\" y=\"-815.8\" font-family=\"Helvetica,sans-Serif\" font-size=\"14.00\" fill=\"#000000\">value = [0, 1]</text>\n<text text-anchor=\"start\" x=\"574.5\" y=\"-800.8\" font-family=\"Helvetica,sans-Serif\" font-size=\"14.00\" fill=\"#000000\">class = 1</text>\n</g>\n<!-- 27&#45;&gt;28 -->\n<g id=\"edge28\" class=\"edge\">\n<title>27&#45;&gt;28</title>\n<path fill=\"none\" stroke=\"#000000\" d=\"M680.2352,-901.7677C669.1736,-890.9896 657.1454,-879.2699 645.9642,-868.3754\"/>\n<polygon fill=\"#000000\" stroke=\"#000000\" points=\"648.3624,-865.8254 638.7576,-861.3535 643.4773,-870.839 648.3624,-865.8254\"/>\n</g>\n<!-- 29 -->\n<g id=\"node30\" class=\"node\">\n<title>29</title>\n<path fill=\"#e58139\" stroke=\"#000000\" d=\"M758,-861C758,-861 683,-861 683,-861 677,-861 671,-855 671,-849 671,-849 671,-805 671,-805 671,-799 677,-793 683,-793 683,-793 758,-793 758,-793 764,-793 770,-799 770,-805 770,-805 770,-849 770,-849 770,-855 764,-861 758,-861\"/>\n<text text-anchor=\"start\" x=\"691\" y=\"-845.8\" font-family=\"Helvetica,sans-Serif\" font-size=\"14.00\" fill=\"#000000\">gini = 0.0</text>\n<text text-anchor=\"start\" x=\"681\" y=\"-830.8\" font-family=\"Helvetica,sans-Serif\" font-size=\"14.00\" fill=\"#000000\">samples = 3</text>\n<text text-anchor=\"start\" x=\"679\" y=\"-815.8\" font-family=\"Helvetica,sans-Serif\" font-size=\"14.00\" fill=\"#000000\">value = [3, 0]</text>\n<text text-anchor=\"start\" x=\"691.5\" y=\"-800.8\" font-family=\"Helvetica,sans-Serif\" font-size=\"14.00\" fill=\"#000000\">class = 1</text>\n</g>\n<!-- 27&#45;&gt;29 -->\n<g id=\"edge29\" class=\"edge\">\n<title>27&#45;&gt;29</title>\n<path fill=\"none\" stroke=\"#000000\" d=\"M720.5,-901.7677C720.5,-892.0161 720.5,-881.4937 720.5,-871.509\"/>\n<polygon fill=\"#000000\" stroke=\"#000000\" points=\"724.0001,-871.3535 720.5,-861.3535 717.0001,-871.3536 724.0001,-871.3535\"/>\n</g>\n<!-- 31 -->\n<g id=\"node32\" class=\"node\">\n<title>31</title>\n<path fill=\"#eca470\" stroke=\"#000000\" d=\"M794.5,-1436C794.5,-1436 702.5,-1436 702.5,-1436 696.5,-1436 690.5,-1430 690.5,-1424 690.5,-1424 690.5,-1370 690.5,-1370 690.5,-1364 696.5,-1358 702.5,-1358 702.5,-1358 794.5,-1358 794.5,-1358 800.5,-1358 806.5,-1364 806.5,-1370 806.5,-1370 806.5,-1424 806.5,-1424 806.5,-1430 800.5,-1436 794.5,-1436\"/>\n<text text-anchor=\"start\" x=\"711.5\" y=\"-1421.8\" font-family=\"Helvetica,sans-Serif\" font-size=\"14.00\" fill=\"#000000\">X</text>\n<text text-anchor=\"start\" x=\"721.5\" y=\"-1421.8\" font-family=\"Helvetica,sans-Serif\" baseline-shift=\"sub\" font-size=\"14.00\" fill=\"#000000\">2</text>\n<text text-anchor=\"start\" x=\"728.5\" y=\"-1421.8\" font-family=\"Helvetica,sans-Serif\" font-size=\"14.00\" fill=\"#000000\"> ≤ &#45;0.549</text>\n<text text-anchor=\"start\" x=\"710.5\" y=\"-1407.8\" font-family=\"Helvetica,sans-Serif\" font-size=\"14.00\" fill=\"#000000\">gini = 0.342</text>\n<text text-anchor=\"start\" x=\"704.5\" y=\"-1393.8\" font-family=\"Helvetica,sans-Serif\" font-size=\"14.00\" fill=\"#000000\">samples = 64</text>\n<text text-anchor=\"start\" x=\"698.5\" y=\"-1379.8\" font-family=\"Helvetica,sans-Serif\" font-size=\"14.00\" fill=\"#000000\">value = [50, 14]</text>\n<text text-anchor=\"start\" x=\"719.5\" y=\"-1365.8\" font-family=\"Helvetica,sans-Serif\" font-size=\"14.00\" fill=\"#000000\">class = 1</text>\n</g>\n<!-- 30&#45;&gt;31 -->\n<g id=\"edge31\" class=\"edge\">\n<title>30&#45;&gt;31</title>\n<path fill=\"none\" stroke=\"#000000\" d=\"M789.819,-1471.7677C785.0673,-1463.1694 779.9844,-1453.9718 775.0661,-1445.072\"/>\n<polygon fill=\"#000000\" stroke=\"#000000\" points=\"778.1213,-1443.3642 770.221,-1436.3046 771.9946,-1446.75 778.1213,-1443.3642\"/>\n</g>\n<!-- 68 -->\n<g id=\"node69\" class=\"node\">\n<title>68</title>\n<path fill=\"#399de5\" stroke=\"#000000\" d=\"M912,-1431C912,-1431 837,-1431 837,-1431 831,-1431 825,-1425 825,-1419 825,-1419 825,-1375 825,-1375 825,-1369 831,-1363 837,-1363 837,-1363 912,-1363 912,-1363 918,-1363 924,-1369 924,-1375 924,-1375 924,-1419 924,-1419 924,-1425 918,-1431 912,-1431\"/>\n<text text-anchor=\"start\" x=\"845\" y=\"-1415.8\" font-family=\"Helvetica,sans-Serif\" font-size=\"14.00\" fill=\"#000000\">gini = 0.0</text>\n<text text-anchor=\"start\" x=\"835\" y=\"-1400.8\" font-family=\"Helvetica,sans-Serif\" font-size=\"14.00\" fill=\"#000000\">samples = 1</text>\n<text text-anchor=\"start\" x=\"833\" y=\"-1385.8\" font-family=\"Helvetica,sans-Serif\" font-size=\"14.00\" fill=\"#000000\">value = [0, 1]</text>\n<text text-anchor=\"start\" x=\"845.5\" y=\"-1370.8\" font-family=\"Helvetica,sans-Serif\" font-size=\"14.00\" fill=\"#000000\">class = 1</text>\n</g>\n<!-- 30&#45;&gt;68 -->\n<g id=\"edge68\" class=\"edge\">\n<title>30&#45;&gt;68</title>\n<path fill=\"none\" stroke=\"#000000\" d=\"M833.181,-1471.7677C838.7969,-1461.6055 844.8755,-1450.6062 850.5983,-1440.2508\"/>\n<polygon fill=\"#000000\" stroke=\"#000000\" points=\"853.7416,-1441.7989 855.5152,-1431.3535 847.6149,-1438.413 853.7416,-1441.7989\"/>\n</g>\n<!-- 32 -->\n<g id=\"node33\" class=\"node\">\n<title>32</title>\n<path fill=\"#399de5\" stroke=\"#000000\" d=\"M723,-1317C723,-1317 648,-1317 648,-1317 642,-1317 636,-1311 636,-1305 636,-1305 636,-1261 636,-1261 636,-1255 642,-1249 648,-1249 648,-1249 723,-1249 723,-1249 729,-1249 735,-1255 735,-1261 735,-1261 735,-1305 735,-1305 735,-1311 729,-1317 723,-1317\"/>\n<text text-anchor=\"start\" x=\"656\" y=\"-1301.8\" font-family=\"Helvetica,sans-Serif\" font-size=\"14.00\" fill=\"#000000\">gini = 0.0</text>\n<text text-anchor=\"start\" x=\"646\" y=\"-1286.8\" font-family=\"Helvetica,sans-Serif\" font-size=\"14.00\" fill=\"#000000\">samples = 1</text>\n<text text-anchor=\"start\" x=\"644\" y=\"-1271.8\" font-family=\"Helvetica,sans-Serif\" font-size=\"14.00\" fill=\"#000000\">value = [0, 1]</text>\n<text text-anchor=\"start\" x=\"656.5\" y=\"-1256.8\" font-family=\"Helvetica,sans-Serif\" font-size=\"14.00\" fill=\"#000000\">class = 1</text>\n</g>\n<!-- 31&#45;&gt;32 -->\n<g id=\"edge32\" class=\"edge\">\n<title>31&#45;&gt;32</title>\n<path fill=\"none\" stroke=\"#000000\" d=\"M726.819,-1357.7677C721.2031,-1347.6055 715.1245,-1336.6062 709.4017,-1326.2508\"/>\n<polygon fill=\"#000000\" stroke=\"#000000\" points=\"712.3851,-1324.413 704.4848,-1317.3535 706.2584,-1327.7989 712.3851,-1324.413\"/>\n</g>\n<!-- 33 -->\n<g id=\"node34\" class=\"node\">\n<title>33</title>\n<path fill=\"#eca26c\" stroke=\"#000000\" d=\"M857.5,-1322C857.5,-1322 765.5,-1322 765.5,-1322 759.5,-1322 753.5,-1316 753.5,-1310 753.5,-1310 753.5,-1256 753.5,-1256 753.5,-1250 759.5,-1244 765.5,-1244 765.5,-1244 857.5,-1244 857.5,-1244 863.5,-1244 869.5,-1250 869.5,-1256 869.5,-1256 869.5,-1310 869.5,-1310 869.5,-1316 863.5,-1322 857.5,-1322\"/>\n<text text-anchor=\"start\" x=\"774.5\" y=\"-1307.8\" font-family=\"Helvetica,sans-Serif\" font-size=\"14.00\" fill=\"#000000\">X</text>\n<text text-anchor=\"start\" x=\"784.5\" y=\"-1307.8\" font-family=\"Helvetica,sans-Serif\" baseline-shift=\"sub\" font-size=\"14.00\" fill=\"#000000\">6</text>\n<text text-anchor=\"start\" x=\"791.5\" y=\"-1307.8\" font-family=\"Helvetica,sans-Serif\" font-size=\"14.00\" fill=\"#000000\"> ≤ &#45;0.527</text>\n<text text-anchor=\"start\" x=\"773.5\" y=\"-1293.8\" font-family=\"Helvetica,sans-Serif\" font-size=\"14.00\" fill=\"#000000\">gini = 0.328</text>\n<text text-anchor=\"start\" x=\"767.5\" y=\"-1279.8\" font-family=\"Helvetica,sans-Serif\" font-size=\"14.00\" fill=\"#000000\">samples = 63</text>\n<text text-anchor=\"start\" x=\"761.5\" y=\"-1265.8\" font-family=\"Helvetica,sans-Serif\" font-size=\"14.00\" fill=\"#000000\">value = [50, 13]</text>\n<text text-anchor=\"start\" x=\"782.5\" y=\"-1251.8\" font-family=\"Helvetica,sans-Serif\" font-size=\"14.00\" fill=\"#000000\">class = 1</text>\n</g>\n<!-- 31&#45;&gt;33 -->\n<g id=\"edge33\" class=\"edge\">\n<title>31&#45;&gt;33</title>\n<path fill=\"none\" stroke=\"#000000\" d=\"M770.181,-1357.7677C774.9327,-1349.1694 780.0156,-1339.9718 784.9339,-1331.072\"/>\n<polygon fill=\"#000000\" stroke=\"#000000\" points=\"788.0054,-1332.75 789.779,-1322.3046 781.8787,-1329.3642 788.0054,-1332.75\"/>\n</g>\n<!-- 34 -->\n<g id=\"node35\" class=\"node\">\n<title>34</title>\n<path fill=\"#e58139\" stroke=\"#000000\" d=\"M819,-1203C819,-1203 736,-1203 736,-1203 730,-1203 724,-1197 724,-1191 724,-1191 724,-1147 724,-1147 724,-1141 730,-1135 736,-1135 736,-1135 819,-1135 819,-1135 825,-1135 831,-1141 831,-1147 831,-1147 831,-1191 831,-1191 831,-1197 825,-1203 819,-1203\"/>\n<text text-anchor=\"start\" x=\"748\" y=\"-1187.8\" font-family=\"Helvetica,sans-Serif\" font-size=\"14.00\" fill=\"#000000\">gini = 0.0</text>\n<text text-anchor=\"start\" x=\"733.5\" y=\"-1172.8\" font-family=\"Helvetica,sans-Serif\" font-size=\"14.00\" fill=\"#000000\">samples = 13</text>\n<text text-anchor=\"start\" x=\"732\" y=\"-1157.8\" font-family=\"Helvetica,sans-Serif\" font-size=\"14.00\" fill=\"#000000\">value = [13, 0]</text>\n<text text-anchor=\"start\" x=\"748.5\" y=\"-1142.8\" font-family=\"Helvetica,sans-Serif\" font-size=\"14.00\" fill=\"#000000\">class = 1</text>\n</g>\n<!-- 33&#45;&gt;34 -->\n<g id=\"edge34\" class=\"edge\">\n<title>33&#45;&gt;34</title>\n<path fill=\"none\" stroke=\"#000000\" d=\"M799.7991,-1243.7677C796.8602,-1233.9135 793.6864,-1223.2721 790.6806,-1213.1939\"/>\n<polygon fill=\"#000000\" stroke=\"#000000\" points=\"793.9579,-1211.9361 787.7458,-1203.3535 787.2499,-1213.9367 793.9579,-1211.9361\"/>\n</g>\n<!-- 35 -->\n<g id=\"node36\" class=\"node\">\n<title>35</title>\n<path fill=\"#eead7f\" stroke=\"#000000\" d=\"M953.5,-1208C953.5,-1208 861.5,-1208 861.5,-1208 855.5,-1208 849.5,-1202 849.5,-1196 849.5,-1196 849.5,-1142 849.5,-1142 849.5,-1136 855.5,-1130 861.5,-1130 861.5,-1130 953.5,-1130 953.5,-1130 959.5,-1130 965.5,-1136 965.5,-1142 965.5,-1142 965.5,-1196 965.5,-1196 965.5,-1202 959.5,-1208 953.5,-1208\"/>\n<text text-anchor=\"start\" x=\"870.5\" y=\"-1193.8\" font-family=\"Helvetica,sans-Serif\" font-size=\"14.00\" fill=\"#000000\">X</text>\n<text text-anchor=\"start\" x=\"880.5\" y=\"-1193.8\" font-family=\"Helvetica,sans-Serif\" baseline-shift=\"sub\" font-size=\"14.00\" fill=\"#000000\">5</text>\n<text text-anchor=\"start\" x=\"887.5\" y=\"-1193.8\" font-family=\"Helvetica,sans-Serif\" font-size=\"14.00\" fill=\"#000000\"> ≤ &#45;1.663</text>\n<text text-anchor=\"start\" x=\"869.5\" y=\"-1179.8\" font-family=\"Helvetica,sans-Serif\" font-size=\"14.00\" fill=\"#000000\">gini = 0.385</text>\n<text text-anchor=\"start\" x=\"863.5\" y=\"-1165.8\" font-family=\"Helvetica,sans-Serif\" font-size=\"14.00\" fill=\"#000000\">samples = 50</text>\n<text text-anchor=\"start\" x=\"857.5\" y=\"-1151.8\" font-family=\"Helvetica,sans-Serif\" font-size=\"14.00\" fill=\"#000000\">value = [37, 13]</text>\n<text text-anchor=\"start\" x=\"878.5\" y=\"-1137.8\" font-family=\"Helvetica,sans-Serif\" font-size=\"14.00\" fill=\"#000000\">class = 1</text>\n</g>\n<!-- 33&#45;&gt;35 -->\n<g id=\"edge35\" class=\"edge\">\n<title>33&#45;&gt;35</title>\n<path fill=\"none\" stroke=\"#000000\" d=\"M844.5378,-1243.7677C852.0801,-1234.8111 860.1701,-1225.2043 867.9538,-1215.9611\"/>\n<polygon fill=\"#000000\" stroke=\"#000000\" points=\"870.6372,-1218.2083 874.4013,-1208.3046 865.2828,-1213.6993 870.6372,-1218.2083\"/>\n</g>\n<!-- 36 -->\n<g id=\"node37\" class=\"node\">\n<title>36</title>\n<path fill=\"#399de5\" stroke=\"#000000\" d=\"M875,-1089C875,-1089 800,-1089 800,-1089 794,-1089 788,-1083 788,-1077 788,-1077 788,-1033 788,-1033 788,-1027 794,-1021 800,-1021 800,-1021 875,-1021 875,-1021 881,-1021 887,-1027 887,-1033 887,-1033 887,-1077 887,-1077 887,-1083 881,-1089 875,-1089\"/>\n<text text-anchor=\"start\" x=\"808\" y=\"-1073.8\" font-family=\"Helvetica,sans-Serif\" font-size=\"14.00\" fill=\"#000000\">gini = 0.0</text>\n<text text-anchor=\"start\" x=\"798\" y=\"-1058.8\" font-family=\"Helvetica,sans-Serif\" font-size=\"14.00\" fill=\"#000000\">samples = 1</text>\n<text text-anchor=\"start\" x=\"796\" y=\"-1043.8\" font-family=\"Helvetica,sans-Serif\" font-size=\"14.00\" fill=\"#000000\">value = [0, 1]</text>\n<text text-anchor=\"start\" x=\"808.5\" y=\"-1028.8\" font-family=\"Helvetica,sans-Serif\" font-size=\"14.00\" fill=\"#000000\">class = 1</text>\n</g>\n<!-- 35&#45;&gt;36 -->\n<g id=\"edge36\" class=\"edge\">\n<title>35&#45;&gt;36</title>\n<path fill=\"none\" stroke=\"#000000\" d=\"M883.41,-1129.7677C877.107,-1119.5029 870.2796,-1108.3839 863.8649,-1097.9372\"/>\n<polygon fill=\"#000000\" stroke=\"#000000\" points=\"866.8095,-1096.0438 858.5943,-1089.3535 860.8443,-1099.7067 866.8095,-1096.0438\"/>\n</g>\n<!-- 37 -->\n<g id=\"node38\" class=\"node\">\n<title>37</title>\n<path fill=\"#edaa79\" stroke=\"#000000\" d=\"M1009.5,-1094C1009.5,-1094 917.5,-1094 917.5,-1094 911.5,-1094 905.5,-1088 905.5,-1082 905.5,-1082 905.5,-1028 905.5,-1028 905.5,-1022 911.5,-1016 917.5,-1016 917.5,-1016 1009.5,-1016 1009.5,-1016 1015.5,-1016 1021.5,-1022 1021.5,-1028 1021.5,-1028 1021.5,-1082 1021.5,-1082 1021.5,-1088 1015.5,-1094 1009.5,-1094\"/>\n<text text-anchor=\"start\" x=\"929\" y=\"-1079.8\" font-family=\"Helvetica,sans-Serif\" font-size=\"14.00\" fill=\"#000000\">X</text>\n<text text-anchor=\"start\" x=\"939\" y=\"-1079.8\" font-family=\"Helvetica,sans-Serif\" baseline-shift=\"sub\" font-size=\"14.00\" fill=\"#000000\">0</text>\n<text text-anchor=\"start\" x=\"946\" y=\"-1079.8\" font-family=\"Helvetica,sans-Serif\" font-size=\"14.00\" fill=\"#000000\"> ≤ 0.519</text>\n<text text-anchor=\"start\" x=\"930\" y=\"-1065.8\" font-family=\"Helvetica,sans-Serif\" font-size=\"14.00\" fill=\"#000000\">gini = 0.37</text>\n<text text-anchor=\"start\" x=\"919.5\" y=\"-1051.8\" font-family=\"Helvetica,sans-Serif\" font-size=\"14.00\" fill=\"#000000\">samples = 49</text>\n<text text-anchor=\"start\" x=\"913.5\" y=\"-1037.8\" font-family=\"Helvetica,sans-Serif\" font-size=\"14.00\" fill=\"#000000\">value = [37, 12]</text>\n<text text-anchor=\"start\" x=\"934.5\" y=\"-1023.8\" font-family=\"Helvetica,sans-Serif\" font-size=\"14.00\" fill=\"#000000\">class = 1</text>\n</g>\n<!-- 35&#45;&gt;37 -->\n<g id=\"edge37\" class=\"edge\">\n<title>35&#45;&gt;37</title>\n<path fill=\"none\" stroke=\"#000000\" d=\"M926.772,-1129.7677C930.9517,-1121.259 935.4198,-1112.1634 939.749,-1103.3502\"/>\n<polygon fill=\"#000000\" stroke=\"#000000\" points=\"942.9248,-1104.8234 944.1925,-1094.3046 936.6419,-1101.737 942.9248,-1104.8234\"/>\n</g>\n<!-- 38 -->\n<g id=\"node39\" class=\"node\">\n<title>38</title>\n<path fill=\"#eb9d66\" stroke=\"#000000\" d=\"M1005,-980C1005,-980 922,-980 922,-980 916,-980 910,-974 910,-968 910,-968 910,-914 910,-914 910,-908 916,-902 922,-902 922,-902 1005,-902 1005,-902 1011,-902 1017,-908 1017,-914 1017,-914 1017,-968 1017,-968 1017,-974 1011,-980 1005,-980\"/>\n<text text-anchor=\"start\" x=\"926.5\" y=\"-965.8\" font-family=\"Helvetica,sans-Serif\" font-size=\"14.00\" fill=\"#000000\">X</text>\n<text text-anchor=\"start\" x=\"936.5\" y=\"-965.8\" font-family=\"Helvetica,sans-Serif\" baseline-shift=\"sub\" font-size=\"14.00\" fill=\"#000000\">2</text>\n<text text-anchor=\"start\" x=\"943.5\" y=\"-965.8\" font-family=\"Helvetica,sans-Serif\" font-size=\"14.00\" fill=\"#000000\"> ≤ &#45;0.475</text>\n<text text-anchor=\"start\" x=\"925.5\" y=\"-951.8\" font-family=\"Helvetica,sans-Serif\" font-size=\"14.00\" fill=\"#000000\">gini = 0.301</text>\n<text text-anchor=\"start\" x=\"919.5\" y=\"-937.8\" font-family=\"Helvetica,sans-Serif\" font-size=\"14.00\" fill=\"#000000\">samples = 38</text>\n<text text-anchor=\"start\" x=\"918\" y=\"-923.8\" font-family=\"Helvetica,sans-Serif\" font-size=\"14.00\" fill=\"#000000\">value = [31, 7]</text>\n<text text-anchor=\"start\" x=\"934.5\" y=\"-909.8\" font-family=\"Helvetica,sans-Serif\" font-size=\"14.00\" fill=\"#000000\">class = 1</text>\n</g>\n<!-- 37&#45;&gt;38 -->\n<g id=\"edge38\" class=\"edge\">\n<title>37&#45;&gt;38</title>\n<path fill=\"none\" stroke=\"#000000\" d=\"M963.5,-1015.7677C963.5,-1007.6172 963.5,-998.9283 963.5,-990.4649\"/>\n<polygon fill=\"#000000\" stroke=\"#000000\" points=\"967.0001,-990.3046 963.5,-980.3046 960.0001,-990.3047 967.0001,-990.3046\"/>\n</g>\n<!-- 61 -->\n<g id=\"node62\" class=\"node\">\n<title>61</title>\n<path fill=\"#fbeade\" stroke=\"#000000\" d=\"M1127.5,-980C1127.5,-980 1047.5,-980 1047.5,-980 1041.5,-980 1035.5,-974 1035.5,-968 1035.5,-968 1035.5,-914 1035.5,-914 1035.5,-908 1041.5,-902 1047.5,-902 1047.5,-902 1127.5,-902 1127.5,-902 1133.5,-902 1139.5,-908 1139.5,-914 1139.5,-914 1139.5,-968 1139.5,-968 1139.5,-974 1133.5,-980 1127.5,-980\"/>\n<text text-anchor=\"start\" x=\"1050.5\" y=\"-965.8\" font-family=\"Helvetica,sans-Serif\" font-size=\"14.00\" fill=\"#000000\">X</text>\n<text text-anchor=\"start\" x=\"1060.5\" y=\"-965.8\" font-family=\"Helvetica,sans-Serif\" baseline-shift=\"sub\" font-size=\"14.00\" fill=\"#000000\">6</text>\n<text text-anchor=\"start\" x=\"1067.5\" y=\"-965.8\" font-family=\"Helvetica,sans-Serif\" font-size=\"14.00\" fill=\"#000000\"> ≤ &#45;0.333</text>\n<text text-anchor=\"start\" x=\"1049.5\" y=\"-951.8\" font-family=\"Helvetica,sans-Serif\" font-size=\"14.00\" fill=\"#000000\">gini = 0.496</text>\n<text text-anchor=\"start\" x=\"1043.5\" y=\"-937.8\" font-family=\"Helvetica,sans-Serif\" font-size=\"14.00\" fill=\"#000000\">samples = 11</text>\n<text text-anchor=\"start\" x=\"1046\" y=\"-923.8\" font-family=\"Helvetica,sans-Serif\" font-size=\"14.00\" fill=\"#000000\">value = [6, 5]</text>\n<text text-anchor=\"start\" x=\"1058.5\" y=\"-909.8\" font-family=\"Helvetica,sans-Serif\" font-size=\"14.00\" fill=\"#000000\">class = 1</text>\n</g>\n<!-- 37&#45;&gt;61 -->\n<g id=\"edge61\" class=\"edge\">\n<title>37&#45;&gt;61</title>\n<path fill=\"none\" stroke=\"#000000\" d=\"M1006.1738,-1015.7677C1016.2082,-1006.5424 1026.9931,-996.6273 1037.3232,-987.1302\"/>\n<polygon fill=\"#000000\" stroke=\"#000000\" points=\"1039.7547,-989.6493 1044.7476,-980.3046 1035.0171,-984.4961 1039.7547,-989.6493\"/>\n</g>\n<!-- 39 -->\n<g id=\"node40\" class=\"node\">\n<title>39</title>\n<path fill=\"#e58139\" stroke=\"#000000\" d=\"M883,-861C883,-861 800,-861 800,-861 794,-861 788,-855 788,-849 788,-849 788,-805 788,-805 788,-799 794,-793 800,-793 800,-793 883,-793 883,-793 889,-793 895,-799 895,-805 895,-805 895,-849 895,-849 895,-855 889,-861 883,-861\"/>\n<text text-anchor=\"start\" x=\"812\" y=\"-845.8\" font-family=\"Helvetica,sans-Serif\" font-size=\"14.00\" fill=\"#000000\">gini = 0.0</text>\n<text text-anchor=\"start\" x=\"797.5\" y=\"-830.8\" font-family=\"Helvetica,sans-Serif\" font-size=\"14.00\" fill=\"#000000\">samples = 11</text>\n<text text-anchor=\"start\" x=\"796\" y=\"-815.8\" font-family=\"Helvetica,sans-Serif\" font-size=\"14.00\" fill=\"#000000\">value = [11, 0]</text>\n<text text-anchor=\"start\" x=\"812.5\" y=\"-800.8\" font-family=\"Helvetica,sans-Serif\" font-size=\"14.00\" fill=\"#000000\">class = 1</text>\n</g>\n<!-- 38&#45;&gt;39 -->\n<g id=\"edge39\" class=\"edge\">\n<title>38&#45;&gt;39</title>\n<path fill=\"none\" stroke=\"#000000\" d=\"M921.5145,-901.7677C909.9801,-890.9896 897.438,-879.2699 885.7789,-868.3754\"/>\n<polygon fill=\"#000000\" stroke=\"#000000\" points=\"887.9605,-865.6237 878.2643,-861.3535 883.1813,-870.7383 887.9605,-865.6237\"/>\n</g>\n<!-- 40 -->\n<g id=\"node41\" class=\"node\">\n<title>40</title>\n<path fill=\"#eead7e\" stroke=\"#000000\" d=\"M1008,-866C1008,-866 925,-866 925,-866 919,-866 913,-860 913,-854 913,-854 913,-800 913,-800 913,-794 919,-788 925,-788 925,-788 1008,-788 1008,-788 1014,-788 1020,-794 1020,-800 1020,-800 1020,-854 1020,-854 1020,-860 1014,-866 1008,-866\"/>\n<text text-anchor=\"start\" x=\"933.5\" y=\"-851.8\" font-family=\"Helvetica,sans-Serif\" font-size=\"14.00\" fill=\"#000000\">X</text>\n<text text-anchor=\"start\" x=\"943.5\" y=\"-851.8\" font-family=\"Helvetica,sans-Serif\" baseline-shift=\"sub\" font-size=\"14.00\" fill=\"#000000\">6</text>\n<text text-anchor=\"start\" x=\"950.5\" y=\"-851.8\" font-family=\"Helvetica,sans-Serif\" font-size=\"14.00\" fill=\"#000000\"> ≤ &#45;0.43</text>\n<text text-anchor=\"start\" x=\"928.5\" y=\"-837.8\" font-family=\"Helvetica,sans-Serif\" font-size=\"14.00\" fill=\"#000000\">gini = 0.384</text>\n<text text-anchor=\"start\" x=\"922.5\" y=\"-823.8\" font-family=\"Helvetica,sans-Serif\" font-size=\"14.00\" fill=\"#000000\">samples = 27</text>\n<text text-anchor=\"start\" x=\"921\" y=\"-809.8\" font-family=\"Helvetica,sans-Serif\" font-size=\"14.00\" fill=\"#000000\">value = [20, 7]</text>\n<text text-anchor=\"start\" x=\"937.5\" y=\"-795.8\" font-family=\"Helvetica,sans-Serif\" font-size=\"14.00\" fill=\"#000000\">class = 1</text>\n</g>\n<!-- 38&#45;&gt;40 -->\n<g id=\"edge40\" class=\"edge\">\n<title>38&#45;&gt;40</title>\n<path fill=\"none\" stroke=\"#000000\" d=\"M964.5324,-901.7677C964.7469,-893.6172 964.9756,-884.9283 965.1983,-876.4649\"/>\n<polygon fill=\"#000000\" stroke=\"#000000\" points=\"968.7013,-876.3933 965.4657,-866.3046 961.7037,-876.2091 968.7013,-876.3933\"/>\n</g>\n<!-- 41 -->\n<g id=\"node42\" class=\"node\">\n<title>41</title>\n<path fill=\"#e58139\" stroke=\"#000000\" d=\"M883,-747C883,-747 808,-747 808,-747 802,-747 796,-741 796,-735 796,-735 796,-691 796,-691 796,-685 802,-679 808,-679 808,-679 883,-679 883,-679 889,-679 895,-685 895,-691 895,-691 895,-735 895,-735 895,-741 889,-747 883,-747\"/>\n<text text-anchor=\"start\" x=\"816\" y=\"-731.8\" font-family=\"Helvetica,sans-Serif\" font-size=\"14.00\" fill=\"#000000\">gini = 0.0</text>\n<text text-anchor=\"start\" x=\"806\" y=\"-716.8\" font-family=\"Helvetica,sans-Serif\" font-size=\"14.00\" fill=\"#000000\">samples = 5</text>\n<text text-anchor=\"start\" x=\"804\" y=\"-701.8\" font-family=\"Helvetica,sans-Serif\" font-size=\"14.00\" fill=\"#000000\">value = [5, 0]</text>\n<text text-anchor=\"start\" x=\"816.5\" y=\"-686.8\" font-family=\"Helvetica,sans-Serif\" font-size=\"14.00\" fill=\"#000000\">class = 1</text>\n</g>\n<!-- 40&#45;&gt;41 -->\n<g id=\"edge41\" class=\"edge\">\n<title>40&#45;&gt;41</title>\n<path fill=\"none\" stroke=\"#000000\" d=\"M924.8587,-787.7677C913.4188,-776.9896 900.9794,-765.2699 889.416,-754.3754\"/>\n<polygon fill=\"#000000\" stroke=\"#000000\" points=\"891.6415,-751.6635 881.9629,-747.3535 886.8413,-756.7584 891.6415,-751.6635\"/>\n</g>\n<!-- 42 -->\n<g id=\"node43\" class=\"node\">\n<title>42</title>\n<path fill=\"#f1bc95\" stroke=\"#000000\" d=\"M1008,-752C1008,-752 925,-752 925,-752 919,-752 913,-746 913,-740 913,-740 913,-686 913,-686 913,-680 919,-674 925,-674 925,-674 1008,-674 1008,-674 1014,-674 1020,-680 1020,-686 1020,-686 1020,-740 1020,-740 1020,-746 1014,-752 1008,-752\"/>\n<text text-anchor=\"start\" x=\"929.5\" y=\"-737.8\" font-family=\"Helvetica,sans-Serif\" font-size=\"14.00\" fill=\"#000000\">X</text>\n<text text-anchor=\"start\" x=\"939.5\" y=\"-737.8\" font-family=\"Helvetica,sans-Serif\" baseline-shift=\"sub\" font-size=\"14.00\" fill=\"#000000\">0</text>\n<text text-anchor=\"start\" x=\"946.5\" y=\"-737.8\" font-family=\"Helvetica,sans-Serif\" font-size=\"14.00\" fill=\"#000000\"> ≤ &#45;0.828</text>\n<text text-anchor=\"start\" x=\"928.5\" y=\"-723.8\" font-family=\"Helvetica,sans-Serif\" font-size=\"14.00\" fill=\"#000000\">gini = 0.434</text>\n<text text-anchor=\"start\" x=\"922.5\" y=\"-709.8\" font-family=\"Helvetica,sans-Serif\" font-size=\"14.00\" fill=\"#000000\">samples = 22</text>\n<text text-anchor=\"start\" x=\"921\" y=\"-695.8\" font-family=\"Helvetica,sans-Serif\" font-size=\"14.00\" fill=\"#000000\">value = [15, 7]</text>\n<text text-anchor=\"start\" x=\"937.5\" y=\"-681.8\" font-family=\"Helvetica,sans-Serif\" font-size=\"14.00\" fill=\"#000000\">class = 1</text>\n</g>\n<!-- 40&#45;&gt;42 -->\n<g id=\"edge42\" class=\"edge\">\n<title>40&#45;&gt;42</title>\n<path fill=\"none\" stroke=\"#000000\" d=\"M966.5,-787.7677C966.5,-779.6172 966.5,-770.9283 966.5,-762.4649\"/>\n<polygon fill=\"#000000\" stroke=\"#000000\" points=\"970.0001,-762.3046 966.5,-752.3046 963.0001,-762.3047 970.0001,-762.3046\"/>\n</g>\n<!-- 43 -->\n<g id=\"node44\" class=\"node\">\n<title>43</title>\n<path fill=\"#bddef6\" stroke=\"#000000\" d=\"M883,-638C883,-638 808,-638 808,-638 802,-638 796,-632 796,-626 796,-626 796,-572 796,-572 796,-566 802,-560 808,-560 808,-560 883,-560 883,-560 889,-560 895,-566 895,-572 895,-572 895,-626 895,-626 895,-632 889,-638 883,-638\"/>\n<text text-anchor=\"start\" x=\"808.5\" y=\"-623.8\" font-family=\"Helvetica,sans-Serif\" font-size=\"14.00\" fill=\"#000000\">X</text>\n<text text-anchor=\"start\" x=\"818.5\" y=\"-623.8\" font-family=\"Helvetica,sans-Serif\" baseline-shift=\"sub\" font-size=\"14.00\" fill=\"#000000\">6</text>\n<text text-anchor=\"start\" x=\"825.5\" y=\"-623.8\" font-family=\"Helvetica,sans-Serif\" font-size=\"14.00\" fill=\"#000000\"> ≤ &#45;0.333</text>\n<text text-anchor=\"start\" x=\"812\" y=\"-609.8\" font-family=\"Helvetica,sans-Serif\" font-size=\"14.00\" fill=\"#000000\">gini = 0.48</text>\n<text text-anchor=\"start\" x=\"806\" y=\"-595.8\" font-family=\"Helvetica,sans-Serif\" font-size=\"14.00\" fill=\"#000000\">samples = 5</text>\n<text text-anchor=\"start\" x=\"804\" y=\"-581.8\" font-family=\"Helvetica,sans-Serif\" font-size=\"14.00\" fill=\"#000000\">value = [2, 3]</text>\n<text text-anchor=\"start\" x=\"816.5\" y=\"-567.8\" font-family=\"Helvetica,sans-Serif\" font-size=\"14.00\" fill=\"#000000\">class = 1</text>\n</g>\n<!-- 42&#45;&gt;43 -->\n<g id=\"edge43\" class=\"edge\">\n<title>42&#45;&gt;43</title>\n<path fill=\"none\" stroke=\"#000000\" d=\"M924.8587,-673.7677C915.162,-664.632 904.7473,-654.8198 894.7565,-645.407\"/>\n<polygon fill=\"#000000\" stroke=\"#000000\" points=\"896.8967,-642.6146 887.2181,-638.3046 892.0965,-647.7096 896.8967,-642.6146\"/>\n</g>\n<!-- 50 -->\n<g id=\"node51\" class=\"node\">\n<title>50</title>\n<path fill=\"#eda876\" stroke=\"#000000\" d=\"M1008,-638C1008,-638 925,-638 925,-638 919,-638 913,-632 913,-626 913,-626 913,-572 913,-572 913,-566 919,-560 925,-560 925,-560 1008,-560 1008,-560 1014,-560 1020,-566 1020,-572 1020,-572 1020,-626 1020,-626 1020,-632 1014,-638 1008,-638\"/>\n<text text-anchor=\"start\" x=\"932\" y=\"-623.8\" font-family=\"Helvetica,sans-Serif\" font-size=\"14.00\" fill=\"#000000\">X</text>\n<text text-anchor=\"start\" x=\"942\" y=\"-623.8\" font-family=\"Helvetica,sans-Serif\" baseline-shift=\"sub\" font-size=\"14.00\" fill=\"#000000\">5</text>\n<text text-anchor=\"start\" x=\"949\" y=\"-623.8\" font-family=\"Helvetica,sans-Serif\" font-size=\"14.00\" fill=\"#000000\"> ≤ 1.179</text>\n<text text-anchor=\"start\" x=\"933\" y=\"-609.8\" font-family=\"Helvetica,sans-Serif\" font-size=\"14.00\" fill=\"#000000\">gini = 0.36</text>\n<text text-anchor=\"start\" x=\"922.5\" y=\"-595.8\" font-family=\"Helvetica,sans-Serif\" font-size=\"14.00\" fill=\"#000000\">samples = 17</text>\n<text text-anchor=\"start\" x=\"921\" y=\"-581.8\" font-family=\"Helvetica,sans-Serif\" font-size=\"14.00\" fill=\"#000000\">value = [13, 4]</text>\n<text text-anchor=\"start\" x=\"937.5\" y=\"-567.8\" font-family=\"Helvetica,sans-Serif\" font-size=\"14.00\" fill=\"#000000\">class = 1</text>\n</g>\n<!-- 42&#45;&gt;50 -->\n<g id=\"edge50\" class=\"edge\">\n<title>42&#45;&gt;50</title>\n<path fill=\"none\" stroke=\"#000000\" d=\"M966.5,-673.7677C966.5,-665.6172 966.5,-656.9283 966.5,-648.4649\"/>\n<polygon fill=\"#000000\" stroke=\"#000000\" points=\"970.0001,-648.3046 966.5,-638.3046 963.0001,-648.3047 970.0001,-648.3046\"/>\n</g>\n<!-- 44 -->\n<g id=\"node45\" class=\"node\">\n<title>44</title>\n<path fill=\"#f2c09c\" stroke=\"#000000\" d=\"M766,-524C766,-524 691,-524 691,-524 685,-524 679,-518 679,-512 679,-512 679,-458 679,-458 679,-452 685,-446 691,-446 691,-446 766,-446 766,-446 772,-446 778,-452 778,-458 778,-458 778,-512 778,-512 778,-518 772,-524 766,-524\"/>\n<text text-anchor=\"start\" x=\"694\" y=\"-509.8\" font-family=\"Helvetica,sans-Serif\" font-size=\"14.00\" fill=\"#000000\">X</text>\n<text text-anchor=\"start\" x=\"704\" y=\"-509.8\" font-family=\"Helvetica,sans-Serif\" baseline-shift=\"sub\" font-size=\"14.00\" fill=\"#000000\">4</text>\n<text text-anchor=\"start\" x=\"711\" y=\"-509.8\" font-family=\"Helvetica,sans-Serif\" font-size=\"14.00\" fill=\"#000000\"> ≤ 0.312</text>\n<text text-anchor=\"start\" x=\"690.5\" y=\"-495.8\" font-family=\"Helvetica,sans-Serif\" font-size=\"14.00\" fill=\"#000000\">gini = 0.444</text>\n<text text-anchor=\"start\" x=\"689\" y=\"-481.8\" font-family=\"Helvetica,sans-Serif\" font-size=\"14.00\" fill=\"#000000\">samples = 3</text>\n<text text-anchor=\"start\" x=\"687\" y=\"-467.8\" font-family=\"Helvetica,sans-Serif\" font-size=\"14.00\" fill=\"#000000\">value = [2, 1]</text>\n<text text-anchor=\"start\" x=\"699.5\" y=\"-453.8\" font-family=\"Helvetica,sans-Serif\" font-size=\"14.00\" fill=\"#000000\">class = 1</text>\n</g>\n<!-- 43&#45;&gt;44 -->\n<g id=\"edge44\" class=\"edge\">\n<title>43&#45;&gt;44</title>\n<path fill=\"none\" stroke=\"#000000\" d=\"M805.2352,-559.7677C795.8592,-550.632 785.7887,-540.8198 776.1282,-531.407\"/>\n<polygon fill=\"#000000\" stroke=\"#000000\" points=\"778.4438,-528.7765 768.839,-524.3046 773.5588,-533.7901 778.4438,-528.7765\"/>\n</g>\n<!-- 49 -->\n<g id=\"node50\" class=\"node\">\n<title>49</title>\n<path fill=\"#399de5\" stroke=\"#000000\" d=\"M883,-519C883,-519 808,-519 808,-519 802,-519 796,-513 796,-507 796,-507 796,-463 796,-463 796,-457 802,-451 808,-451 808,-451 883,-451 883,-451 889,-451 895,-457 895,-463 895,-463 895,-507 895,-507 895,-513 889,-519 883,-519\"/>\n<text text-anchor=\"start\" x=\"816\" y=\"-503.8\" font-family=\"Helvetica,sans-Serif\" font-size=\"14.00\" fill=\"#000000\">gini = 0.0</text>\n<text text-anchor=\"start\" x=\"806\" y=\"-488.8\" font-family=\"Helvetica,sans-Serif\" font-size=\"14.00\" fill=\"#000000\">samples = 2</text>\n<text text-anchor=\"start\" x=\"804\" y=\"-473.8\" font-family=\"Helvetica,sans-Serif\" font-size=\"14.00\" fill=\"#000000\">value = [0, 2]</text>\n<text text-anchor=\"start\" x=\"816.5\" y=\"-458.8\" font-family=\"Helvetica,sans-Serif\" font-size=\"14.00\" fill=\"#000000\">class = 1</text>\n</g>\n<!-- 43&#45;&gt;49 -->\n<g id=\"edge49\" class=\"edge\">\n<title>43&#45;&gt;49</title>\n<path fill=\"none\" stroke=\"#000000\" d=\"M845.5,-559.7677C845.5,-550.0161 845.5,-539.4937 845.5,-529.509\"/>\n<polygon fill=\"#000000\" stroke=\"#000000\" points=\"849.0001,-529.3535 845.5,-519.3535 842.0001,-529.3536 849.0001,-529.3535\"/>\n</g>\n<!-- 45 -->\n<g id=\"node46\" class=\"node\">\n<title>45</title>\n<path fill=\"#e58139\" stroke=\"#000000\" d=\"M710,-405C710,-405 635,-405 635,-405 629,-405 623,-399 623,-393 623,-393 623,-349 623,-349 623,-343 629,-337 635,-337 635,-337 710,-337 710,-337 716,-337 722,-343 722,-349 722,-349 722,-393 722,-393 722,-399 716,-405 710,-405\"/>\n<text text-anchor=\"start\" x=\"643\" y=\"-389.8\" font-family=\"Helvetica,sans-Serif\" font-size=\"14.00\" fill=\"#000000\">gini = 0.0</text>\n<text text-anchor=\"start\" x=\"633\" y=\"-374.8\" font-family=\"Helvetica,sans-Serif\" font-size=\"14.00\" fill=\"#000000\">samples = 1</text>\n<text text-anchor=\"start\" x=\"631\" y=\"-359.8\" font-family=\"Helvetica,sans-Serif\" font-size=\"14.00\" fill=\"#000000\">value = [1, 0]</text>\n<text text-anchor=\"start\" x=\"643.5\" y=\"-344.8\" font-family=\"Helvetica,sans-Serif\" font-size=\"14.00\" fill=\"#000000\">class = 1</text>\n</g>\n<!-- 44&#45;&gt;45 -->\n<g id=\"edge45\" class=\"edge\">\n<title>44&#45;&gt;45</title>\n<path fill=\"none\" stroke=\"#000000\" d=\"M709.228,-445.7677C704.2865,-435.7082 698.942,-424.8283 693.9002,-414.5648\"/>\n<polygon fill=\"#000000\" stroke=\"#000000\" points=\"696.926,-412.7859 689.3754,-405.3535 690.6431,-415.8723 696.926,-412.7859\"/>\n</g>\n<!-- 46 -->\n<g id=\"node47\" class=\"node\">\n<title>46</title>\n<path fill=\"#ffffff\" stroke=\"#000000\" d=\"M827,-410C827,-410 752,-410 752,-410 746,-410 740,-404 740,-398 740,-398 740,-344 740,-344 740,-338 746,-332 752,-332 752,-332 827,-332 827,-332 833,-332 839,-338 839,-344 839,-344 839,-398 839,-398 839,-404 833,-410 827,-410\"/>\n<text text-anchor=\"start\" x=\"755\" y=\"-395.8\" font-family=\"Helvetica,sans-Serif\" font-size=\"14.00\" fill=\"#000000\">X</text>\n<text text-anchor=\"start\" x=\"765\" y=\"-395.8\" font-family=\"Helvetica,sans-Serif\" baseline-shift=\"sub\" font-size=\"14.00\" fill=\"#000000\">5</text>\n<text text-anchor=\"start\" x=\"772\" y=\"-395.8\" font-family=\"Helvetica,sans-Serif\" font-size=\"14.00\" fill=\"#000000\"> ≤ 0.365</text>\n<text text-anchor=\"start\" x=\"760\" y=\"-381.8\" font-family=\"Helvetica,sans-Serif\" font-size=\"14.00\" fill=\"#000000\">gini = 0.5</text>\n<text text-anchor=\"start\" x=\"750\" y=\"-367.8\" font-family=\"Helvetica,sans-Serif\" font-size=\"14.00\" fill=\"#000000\">samples = 2</text>\n<text text-anchor=\"start\" x=\"748\" y=\"-353.8\" font-family=\"Helvetica,sans-Serif\" font-size=\"14.00\" fill=\"#000000\">value = [1, 1]</text>\n<text text-anchor=\"start\" x=\"760.5\" y=\"-339.8\" font-family=\"Helvetica,sans-Serif\" font-size=\"14.00\" fill=\"#000000\">class = 1</text>\n</g>\n<!-- 44&#45;&gt;46 -->\n<g id=\"edge46\" class=\"edge\">\n<title>44&#45;&gt;46</title>\n<path fill=\"none\" stroke=\"#000000\" d=\"M749.4927,-445.7677C754.0456,-437.259 758.9126,-428.1634 763.6284,-419.3502\"/>\n<polygon fill=\"#000000\" stroke=\"#000000\" points=\"766.8366,-420.773 768.4686,-410.3046 760.6646,-417.4705 766.8366,-420.773\"/>\n</g>\n<!-- 47 -->\n<g id=\"node48\" class=\"node\">\n<title>47</title>\n<path fill=\"#e58139\" stroke=\"#000000\" d=\"M754,-291C754,-291 679,-291 679,-291 673,-291 667,-285 667,-279 667,-279 667,-235 667,-235 667,-229 673,-223 679,-223 679,-223 754,-223 754,-223 760,-223 766,-229 766,-235 766,-235 766,-279 766,-279 766,-285 760,-291 754,-291\"/>\n<text text-anchor=\"start\" x=\"687\" y=\"-275.8\" font-family=\"Helvetica,sans-Serif\" font-size=\"14.00\" fill=\"#000000\">gini = 0.0</text>\n<text text-anchor=\"start\" x=\"677\" y=\"-260.8\" font-family=\"Helvetica,sans-Serif\" font-size=\"14.00\" fill=\"#000000\">samples = 1</text>\n<text text-anchor=\"start\" x=\"675\" y=\"-245.8\" font-family=\"Helvetica,sans-Serif\" font-size=\"14.00\" fill=\"#000000\">value = [1, 0]</text>\n<text text-anchor=\"start\" x=\"687.5\" y=\"-230.8\" font-family=\"Helvetica,sans-Serif\" font-size=\"14.00\" fill=\"#000000\">class = 1</text>\n</g>\n<!-- 46&#45;&gt;47 -->\n<g id=\"edge47\" class=\"edge\">\n<title>46&#45;&gt;47</title>\n<path fill=\"none\" stroke=\"#000000\" d=\"M764.3775,-331.7677C757.8045,-321.5029 750.6844,-310.3839 743.9949,-299.9372\"/>\n<polygon fill=\"#000000\" stroke=\"#000000\" points=\"746.8385,-297.8875 738.4983,-291.3535 740.9435,-301.6623 746.8385,-297.8875\"/>\n</g>\n<!-- 48 -->\n<g id=\"node49\" class=\"node\">\n<title>48</title>\n<path fill=\"#399de5\" stroke=\"#000000\" d=\"M871,-291C871,-291 796,-291 796,-291 790,-291 784,-285 784,-279 784,-279 784,-235 784,-235 784,-229 790,-223 796,-223 796,-223 871,-223 871,-223 877,-223 883,-229 883,-235 883,-235 883,-279 883,-279 883,-285 877,-291 871,-291\"/>\n<text text-anchor=\"start\" x=\"804\" y=\"-275.8\" font-family=\"Helvetica,sans-Serif\" font-size=\"14.00\" fill=\"#000000\">gini = 0.0</text>\n<text text-anchor=\"start\" x=\"794\" y=\"-260.8\" font-family=\"Helvetica,sans-Serif\" font-size=\"14.00\" fill=\"#000000\">samples = 1</text>\n<text text-anchor=\"start\" x=\"792\" y=\"-245.8\" font-family=\"Helvetica,sans-Serif\" font-size=\"14.00\" fill=\"#000000\">value = [0, 1]</text>\n<text text-anchor=\"start\" x=\"804.5\" y=\"-230.8\" font-family=\"Helvetica,sans-Serif\" font-size=\"14.00\" fill=\"#000000\">class = 1</text>\n</g>\n<!-- 46&#45;&gt;48 -->\n<g id=\"edge48\" class=\"edge\">\n<title>46&#45;&gt;48</title>\n<path fill=\"none\" stroke=\"#000000\" d=\"M804.6423,-331.7677C808.4853,-321.8108 812.6385,-311.0503 816.5642,-300.8792\"/>\n<polygon fill=\"#000000\" stroke=\"#000000\" points=\"819.9052,-301.943 820.2407,-291.3535 813.3747,-299.4225 819.9052,-301.943\"/>\n</g>\n<!-- 51 -->\n<g id=\"node52\" class=\"node\">\n<title>51</title>\n<path fill=\"#eb9e67\" stroke=\"#000000\" d=\"M1008,-524C1008,-524 925,-524 925,-524 919,-524 913,-518 913,-512 913,-512 913,-458 913,-458 913,-452 919,-446 925,-446 925,-446 1008,-446 1008,-446 1014,-446 1020,-452 1020,-458 1020,-458 1020,-512 1020,-512 1020,-518 1014,-524 1008,-524\"/>\n<text text-anchor=\"start\" x=\"932\" y=\"-509.8\" font-family=\"Helvetica,sans-Serif\" font-size=\"14.00\" fill=\"#000000\">X</text>\n<text text-anchor=\"start\" x=\"942\" y=\"-509.8\" font-family=\"Helvetica,sans-Serif\" baseline-shift=\"sub\" font-size=\"14.00\" fill=\"#000000\">3</text>\n<text text-anchor=\"start\" x=\"949\" y=\"-509.8\" font-family=\"Helvetica,sans-Serif\" font-size=\"14.00\" fill=\"#000000\"> ≤ 0.166</text>\n<text text-anchor=\"start\" x=\"928.5\" y=\"-495.8\" font-family=\"Helvetica,sans-Serif\" font-size=\"14.00\" fill=\"#000000\">gini = 0.305</text>\n<text text-anchor=\"start\" x=\"922.5\" y=\"-481.8\" font-family=\"Helvetica,sans-Serif\" font-size=\"14.00\" fill=\"#000000\">samples = 16</text>\n<text text-anchor=\"start\" x=\"921\" y=\"-467.8\" font-family=\"Helvetica,sans-Serif\" font-size=\"14.00\" fill=\"#000000\">value = [13, 3]</text>\n<text text-anchor=\"start\" x=\"937.5\" y=\"-453.8\" font-family=\"Helvetica,sans-Serif\" font-size=\"14.00\" fill=\"#000000\">class = 1</text>\n</g>\n<!-- 50&#45;&gt;51 -->\n<g id=\"edge51\" class=\"edge\">\n<title>50&#45;&gt;51</title>\n<path fill=\"none\" stroke=\"#000000\" d=\"M966.5,-559.7677C966.5,-551.6172 966.5,-542.9283 966.5,-534.4649\"/>\n<polygon fill=\"#000000\" stroke=\"#000000\" points=\"970.0001,-534.3046 966.5,-524.3046 963.0001,-534.3047 970.0001,-534.3046\"/>\n</g>\n<!-- 60 -->\n<g id=\"node61\" class=\"node\">\n<title>60</title>\n<path fill=\"#399de5\" stroke=\"#000000\" d=\"M1125,-519C1125,-519 1050,-519 1050,-519 1044,-519 1038,-513 1038,-507 1038,-507 1038,-463 1038,-463 1038,-457 1044,-451 1050,-451 1050,-451 1125,-451 1125,-451 1131,-451 1137,-457 1137,-463 1137,-463 1137,-507 1137,-507 1137,-513 1131,-519 1125,-519\"/>\n<text text-anchor=\"start\" x=\"1058\" y=\"-503.8\" font-family=\"Helvetica,sans-Serif\" font-size=\"14.00\" fill=\"#000000\">gini = 0.0</text>\n<text text-anchor=\"start\" x=\"1048\" y=\"-488.8\" font-family=\"Helvetica,sans-Serif\" font-size=\"14.00\" fill=\"#000000\">samples = 1</text>\n<text text-anchor=\"start\" x=\"1046\" y=\"-473.8\" font-family=\"Helvetica,sans-Serif\" font-size=\"14.00\" fill=\"#000000\">value = [0, 1]</text>\n<text text-anchor=\"start\" x=\"1058.5\" y=\"-458.8\" font-family=\"Helvetica,sans-Serif\" font-size=\"14.00\" fill=\"#000000\">class = 1</text>\n</g>\n<!-- 50&#45;&gt;60 -->\n<g id=\"edge60\" class=\"edge\">\n<title>50&#45;&gt;60</title>\n<path fill=\"none\" stroke=\"#000000\" d=\"M1008.1413,-559.7677C1019.5812,-548.9896 1032.0206,-537.2699 1043.584,-526.3754\"/>\n<polygon fill=\"#000000\" stroke=\"#000000\" points=\"1046.1587,-528.7584 1051.0371,-519.3535 1041.3585,-523.6635 1046.1587,-528.7584\"/>\n</g>\n<!-- 52 -->\n<g id=\"node53\" class=\"node\">\n<title>52</title>\n<path fill=\"#e58139\" stroke=\"#000000\" d=\"M973,-405C973,-405 898,-405 898,-405 892,-405 886,-399 886,-393 886,-393 886,-349 886,-349 886,-343 892,-337 898,-337 898,-337 973,-337 973,-337 979,-337 985,-343 985,-349 985,-349 985,-393 985,-393 985,-399 979,-405 973,-405\"/>\n<text text-anchor=\"start\" x=\"906\" y=\"-389.8\" font-family=\"Helvetica,sans-Serif\" font-size=\"14.00\" fill=\"#000000\">gini = 0.0</text>\n<text text-anchor=\"start\" x=\"896\" y=\"-374.8\" font-family=\"Helvetica,sans-Serif\" font-size=\"14.00\" fill=\"#000000\">samples = 8</text>\n<text text-anchor=\"start\" x=\"894\" y=\"-359.8\" font-family=\"Helvetica,sans-Serif\" font-size=\"14.00\" fill=\"#000000\">value = [8, 0]</text>\n<text text-anchor=\"start\" x=\"906.5\" y=\"-344.8\" font-family=\"Helvetica,sans-Serif\" font-size=\"14.00\" fill=\"#000000\">class = 1</text>\n</g>\n<!-- 51&#45;&gt;52 -->\n<g id=\"edge52\" class=\"edge\">\n<title>51&#45;&gt;52</title>\n<path fill=\"none\" stroke=\"#000000\" d=\"M955.8316,-445.7677C953.1519,-435.9135 950.2582,-425.2721 947.5176,-415.1939\"/>\n<polygon fill=\"#000000\" stroke=\"#000000\" points=\"950.8432,-414.0847 944.8417,-405.3535 944.0885,-415.9215 950.8432,-414.0847\"/>\n</g>\n<!-- 53 -->\n<g id=\"node54\" class=\"node\">\n<title>53</title>\n<path fill=\"#f5cdb0\" stroke=\"#000000\" d=\"M1090,-410C1090,-410 1015,-410 1015,-410 1009,-410 1003,-404 1003,-398 1003,-398 1003,-344 1003,-344 1003,-338 1009,-332 1015,-332 1015,-332 1090,-332 1090,-332 1096,-332 1102,-338 1102,-344 1102,-344 1102,-398 1102,-398 1102,-404 1096,-410 1090,-410\"/>\n<text text-anchor=\"start\" x=\"1015.5\" y=\"-395.8\" font-family=\"Helvetica,sans-Serif\" font-size=\"14.00\" fill=\"#000000\">X</text>\n<text text-anchor=\"start\" x=\"1025.5\" y=\"-395.8\" font-family=\"Helvetica,sans-Serif\" baseline-shift=\"sub\" font-size=\"14.00\" fill=\"#000000\">6</text>\n<text text-anchor=\"start\" x=\"1032.5\" y=\"-395.8\" font-family=\"Helvetica,sans-Serif\" font-size=\"14.00\" fill=\"#000000\"> ≤ &#45;0.333</text>\n<text text-anchor=\"start\" x=\"1014.5\" y=\"-381.8\" font-family=\"Helvetica,sans-Serif\" font-size=\"14.00\" fill=\"#000000\">gini = 0.469</text>\n<text text-anchor=\"start\" x=\"1013\" y=\"-367.8\" font-family=\"Helvetica,sans-Serif\" font-size=\"14.00\" fill=\"#000000\">samples = 8</text>\n<text text-anchor=\"start\" x=\"1011\" y=\"-353.8\" font-family=\"Helvetica,sans-Serif\" font-size=\"14.00\" fill=\"#000000\">value = [5, 3]</text>\n<text text-anchor=\"start\" x=\"1023.5\" y=\"-339.8\" font-family=\"Helvetica,sans-Serif\" font-size=\"14.00\" fill=\"#000000\">class = 1</text>\n</g>\n<!-- 51&#45;&gt;53 -->\n<g id=\"edge53\" class=\"edge\">\n<title>51&#45;&gt;53</title>\n<path fill=\"none\" stroke=\"#000000\" d=\"M996.0963,-445.7677C1002.7179,-436.9903 1009.8106,-427.5883 1016.6545,-418.5161\"/>\n<polygon fill=\"#000000\" stroke=\"#000000\" points=\"1019.6208,-420.3957 1022.8491,-410.3046 1014.0326,-416.18 1019.6208,-420.3957\"/>\n</g>\n<!-- 54 -->\n<g id=\"node55\" class=\"node\">\n<title>54</title>\n<path fill=\"#efb388\" stroke=\"#000000\" d=\"M1046,-296C1046,-296 971,-296 971,-296 965,-296 959,-290 959,-284 959,-284 959,-230 959,-230 959,-224 965,-218 971,-218 971,-218 1046,-218 1046,-218 1052,-218 1058,-224 1058,-230 1058,-230 1058,-284 1058,-284 1058,-290 1052,-296 1046,-296\"/>\n<text text-anchor=\"start\" x=\"971.5\" y=\"-281.8\" font-family=\"Helvetica,sans-Serif\" font-size=\"14.00\" fill=\"#000000\">X</text>\n<text text-anchor=\"start\" x=\"981.5\" y=\"-281.8\" font-family=\"Helvetica,sans-Serif\" baseline-shift=\"sub\" font-size=\"14.00\" fill=\"#000000\">0</text>\n<text text-anchor=\"start\" x=\"988.5\" y=\"-281.8\" font-family=\"Helvetica,sans-Serif\" font-size=\"14.00\" fill=\"#000000\"> ≤ &#45;0.112</text>\n<text text-anchor=\"start\" x=\"970.5\" y=\"-267.8\" font-family=\"Helvetica,sans-Serif\" font-size=\"14.00\" fill=\"#000000\">gini = 0.408</text>\n<text text-anchor=\"start\" x=\"969\" y=\"-253.8\" font-family=\"Helvetica,sans-Serif\" font-size=\"14.00\" fill=\"#000000\">samples = 7</text>\n<text text-anchor=\"start\" x=\"967\" y=\"-239.8\" font-family=\"Helvetica,sans-Serif\" font-size=\"14.00\" fill=\"#000000\">value = [5, 2]</text>\n<text text-anchor=\"start\" x=\"979.5\" y=\"-225.8\" font-family=\"Helvetica,sans-Serif\" font-size=\"14.00\" fill=\"#000000\">class = 1</text>\n</g>\n<!-- 53&#45;&gt;54 -->\n<g id=\"edge54\" class=\"edge\">\n<title>53&#45;&gt;54</title>\n<path fill=\"none\" stroke=\"#000000\" d=\"M1037.3577,-331.7677C1034.1428,-323.4381 1030.7108,-314.5461 1027.3765,-305.9072\"/>\n<polygon fill=\"#000000\" stroke=\"#000000\" points=\"1030.5363,-304.3736 1023.6702,-296.3046 1024.0058,-306.8942 1030.5363,-304.3736\"/>\n</g>\n<!-- 59 -->\n<g id=\"node60\" class=\"node\">\n<title>59</title>\n<path fill=\"#399de5\" stroke=\"#000000\" d=\"M1163,-291C1163,-291 1088,-291 1088,-291 1082,-291 1076,-285 1076,-279 1076,-279 1076,-235 1076,-235 1076,-229 1082,-223 1088,-223 1088,-223 1163,-223 1163,-223 1169,-223 1175,-229 1175,-235 1175,-235 1175,-279 1175,-279 1175,-285 1169,-291 1163,-291\"/>\n<text text-anchor=\"start\" x=\"1096\" y=\"-275.8\" font-family=\"Helvetica,sans-Serif\" font-size=\"14.00\" fill=\"#000000\">gini = 0.0</text>\n<text text-anchor=\"start\" x=\"1086\" y=\"-260.8\" font-family=\"Helvetica,sans-Serif\" font-size=\"14.00\" fill=\"#000000\">samples = 1</text>\n<text text-anchor=\"start\" x=\"1084\" y=\"-245.8\" font-family=\"Helvetica,sans-Serif\" font-size=\"14.00\" fill=\"#000000\">value = [0, 1]</text>\n<text text-anchor=\"start\" x=\"1096.5\" y=\"-230.8\" font-family=\"Helvetica,sans-Serif\" font-size=\"14.00\" fill=\"#000000\">class = 1</text>\n</g>\n<!-- 53&#45;&gt;59 -->\n<g id=\"edge59\" class=\"edge\">\n<title>53&#45;&gt;59</title>\n<path fill=\"none\" stroke=\"#000000\" d=\"M1077.6225,-331.7677C1084.1955,-321.5029 1091.3156,-310.3839 1098.0051,-299.9372\"/>\n<polygon fill=\"#000000\" stroke=\"#000000\" points=\"1101.0565,-301.6623 1103.5017,-291.3535 1095.1615,-297.8875 1101.0565,-301.6623\"/>\n</g>\n<!-- 55 -->\n<g id=\"node56\" class=\"node\">\n<title>55</title>\n<path fill=\"#9ccef2\" stroke=\"#000000\" d=\"M987,-182C987,-182 912,-182 912,-182 906,-182 900,-176 900,-170 900,-170 900,-116 900,-116 900,-110 906,-104 912,-104 912,-104 987,-104 987,-104 993,-104 999,-110 999,-116 999,-116 999,-170 999,-170 999,-176 993,-182 987,-182\"/>\n<text text-anchor=\"start\" x=\"912.5\" y=\"-167.8\" font-family=\"Helvetica,sans-Serif\" font-size=\"14.00\" fill=\"#000000\">X</text>\n<text text-anchor=\"start\" x=\"922.5\" y=\"-167.8\" font-family=\"Helvetica,sans-Serif\" baseline-shift=\"sub\" font-size=\"14.00\" fill=\"#000000\">0</text>\n<text text-anchor=\"start\" x=\"929.5\" y=\"-167.8\" font-family=\"Helvetica,sans-Serif\" font-size=\"14.00\" fill=\"#000000\"> ≤ &#45;0.449</text>\n<text text-anchor=\"start\" x=\"911.5\" y=\"-153.8\" font-family=\"Helvetica,sans-Serif\" font-size=\"14.00\" fill=\"#000000\">gini = 0.444</text>\n<text text-anchor=\"start\" x=\"910\" y=\"-139.8\" font-family=\"Helvetica,sans-Serif\" font-size=\"14.00\" fill=\"#000000\">samples = 3</text>\n<text text-anchor=\"start\" x=\"908\" y=\"-125.8\" font-family=\"Helvetica,sans-Serif\" font-size=\"14.00\" fill=\"#000000\">value = [1, 2]</text>\n<text text-anchor=\"start\" x=\"920.5\" y=\"-111.8\" font-family=\"Helvetica,sans-Serif\" font-size=\"14.00\" fill=\"#000000\">class = 1</text>\n</g>\n<!-- 54&#45;&gt;55 -->\n<g id=\"edge55\" class=\"edge\">\n<title>54&#45;&gt;55</title>\n<path fill=\"none\" stroke=\"#000000\" d=\"M988.1955,-217.7677C983.7919,-209.259 979.0845,-200.1634 974.5233,-191.3502\"/>\n<polygon fill=\"#000000\" stroke=\"#000000\" points=\"977.5467,-189.577 969.8419,-182.3046 971.3299,-192.7945 977.5467,-189.577\"/>\n</g>\n<!-- 58 -->\n<g id=\"node59\" class=\"node\">\n<title>58</title>\n<path fill=\"#e58139\" stroke=\"#000000\" d=\"M1104,-177C1104,-177 1029,-177 1029,-177 1023,-177 1017,-171 1017,-165 1017,-165 1017,-121 1017,-121 1017,-115 1023,-109 1029,-109 1029,-109 1104,-109 1104,-109 1110,-109 1116,-115 1116,-121 1116,-121 1116,-165 1116,-165 1116,-171 1110,-177 1104,-177\"/>\n<text text-anchor=\"start\" x=\"1037\" y=\"-161.8\" font-family=\"Helvetica,sans-Serif\" font-size=\"14.00\" fill=\"#000000\">gini = 0.0</text>\n<text text-anchor=\"start\" x=\"1027\" y=\"-146.8\" font-family=\"Helvetica,sans-Serif\" font-size=\"14.00\" fill=\"#000000\">samples = 4</text>\n<text text-anchor=\"start\" x=\"1025\" y=\"-131.8\" font-family=\"Helvetica,sans-Serif\" font-size=\"14.00\" fill=\"#000000\">value = [4, 0]</text>\n<text text-anchor=\"start\" x=\"1037.5\" y=\"-116.8\" font-family=\"Helvetica,sans-Serif\" font-size=\"14.00\" fill=\"#000000\">class = 1</text>\n</g>\n<!-- 54&#45;&gt;58 -->\n<g id=\"edge58\" class=\"edge\">\n<title>54&#45;&gt;58</title>\n<path fill=\"none\" stroke=\"#000000\" d=\"M1028.4603,-217.7677C1033.5783,-207.7082 1039.1137,-196.8283 1044.3355,-186.5648\"/>\n<polygon fill=\"#000000\" stroke=\"#000000\" points=\"1047.6067,-187.8534 1049.0219,-177.3535 1041.3678,-184.6792 1047.6067,-187.8534\"/>\n</g>\n<!-- 56 -->\n<g id=\"node57\" class=\"node\">\n<title>56</title>\n<path fill=\"#e58139\" stroke=\"#000000\" d=\"M929,-68C929,-68 854,-68 854,-68 848,-68 842,-62 842,-56 842,-56 842,-12 842,-12 842,-6 848,0 854,0 854,0 929,0 929,0 935,0 941,-6 941,-12 941,-12 941,-56 941,-56 941,-62 935,-68 929,-68\"/>\n<text text-anchor=\"start\" x=\"862\" y=\"-52.8\" font-family=\"Helvetica,sans-Serif\" font-size=\"14.00\" fill=\"#000000\">gini = 0.0</text>\n<text text-anchor=\"start\" x=\"852\" y=\"-37.8\" font-family=\"Helvetica,sans-Serif\" font-size=\"14.00\" fill=\"#000000\">samples = 1</text>\n<text text-anchor=\"start\" x=\"850\" y=\"-22.8\" font-family=\"Helvetica,sans-Serif\" font-size=\"14.00\" fill=\"#000000\">value = [1, 0]</text>\n<text text-anchor=\"start\" x=\"862.5\" y=\"-7.8\" font-family=\"Helvetica,sans-Serif\" font-size=\"14.00\" fill=\"#000000\">class = 1</text>\n</g>\n<!-- 55&#45;&gt;56 -->\n<g id=\"edge56\" class=\"edge\">\n<title>55&#45;&gt;56</title>\n<path fill=\"none\" stroke=\"#000000\" d=\"M928.7245,-103.9564C924.0926,-95.2515 919.1554,-85.9732 914.4418,-77.1148\"/>\n<polygon fill=\"#000000\" stroke=\"#000000\" points=\"917.4202,-75.2611 909.6328,-68.0772 911.2406,-78.5494 917.4202,-75.2611\"/>\n</g>\n<!-- 57 -->\n<g id=\"node58\" class=\"node\">\n<title>57</title>\n<path fill=\"#399de5\" stroke=\"#000000\" d=\"M1046,-68C1046,-68 971,-68 971,-68 965,-68 959,-62 959,-56 959,-56 959,-12 959,-12 959,-6 965,0 971,0 971,0 1046,0 1046,0 1052,0 1058,-6 1058,-12 1058,-12 1058,-56 1058,-56 1058,-62 1052,-68 1046,-68\"/>\n<text text-anchor=\"start\" x=\"979\" y=\"-52.8\" font-family=\"Helvetica,sans-Serif\" font-size=\"14.00\" fill=\"#000000\">gini = 0.0</text>\n<text text-anchor=\"start\" x=\"969\" y=\"-37.8\" font-family=\"Helvetica,sans-Serif\" font-size=\"14.00\" fill=\"#000000\">samples = 2</text>\n<text text-anchor=\"start\" x=\"967\" y=\"-22.8\" font-family=\"Helvetica,sans-Serif\" font-size=\"14.00\" fill=\"#000000\">value = [0, 2]</text>\n<text text-anchor=\"start\" x=\"979.5\" y=\"-7.8\" font-family=\"Helvetica,sans-Serif\" font-size=\"14.00\" fill=\"#000000\">class = 1</text>\n</g>\n<!-- 55&#45;&gt;57 -->\n<g id=\"edge57\" class=\"edge\">\n<title>55&#45;&gt;57</title>\n<path fill=\"none\" stroke=\"#000000\" d=\"M970.6337,-103.9564C975.3455,-95.2515 980.3677,-85.9732 985.1626,-77.1148\"/>\n<polygon fill=\"#000000\" stroke=\"#000000\" points=\"988.3723,-78.5377 990.0545,-68.0772 982.2162,-75.2055 988.3723,-78.5377\"/>\n</g>\n<!-- 62 -->\n<g id=\"node63\" class=\"node\">\n<title>62</title>\n<path fill=\"#88c4ef\" stroke=\"#000000\" d=\"M1125,-866C1125,-866 1050,-866 1050,-866 1044,-866 1038,-860 1038,-854 1038,-854 1038,-800 1038,-800 1038,-794 1044,-788 1050,-788 1050,-788 1125,-788 1125,-788 1131,-788 1137,-794 1137,-800 1137,-800 1137,-854 1137,-854 1137,-860 1131,-866 1125,-866\"/>\n<text text-anchor=\"start\" x=\"1050.5\" y=\"-851.8\" font-family=\"Helvetica,sans-Serif\" font-size=\"14.00\" fill=\"#000000\">X</text>\n<text text-anchor=\"start\" x=\"1060.5\" y=\"-851.8\" font-family=\"Helvetica,sans-Serif\" baseline-shift=\"sub\" font-size=\"14.00\" fill=\"#000000\">5</text>\n<text text-anchor=\"start\" x=\"1067.5\" y=\"-851.8\" font-family=\"Helvetica,sans-Serif\" font-size=\"14.00\" fill=\"#000000\"> ≤ &#45;0.357</text>\n<text text-anchor=\"start\" x=\"1049.5\" y=\"-837.8\" font-family=\"Helvetica,sans-Serif\" font-size=\"14.00\" fill=\"#000000\">gini = 0.408</text>\n<text text-anchor=\"start\" x=\"1048\" y=\"-823.8\" font-family=\"Helvetica,sans-Serif\" font-size=\"14.00\" fill=\"#000000\">samples = 7</text>\n<text text-anchor=\"start\" x=\"1046\" y=\"-809.8\" font-family=\"Helvetica,sans-Serif\" font-size=\"14.00\" fill=\"#000000\">value = [2, 5]</text>\n<text text-anchor=\"start\" x=\"1058.5\" y=\"-795.8\" font-family=\"Helvetica,sans-Serif\" font-size=\"14.00\" fill=\"#000000\">class = 1</text>\n</g>\n<!-- 61&#45;&gt;62 -->\n<g id=\"edge62\" class=\"edge\">\n<title>61&#45;&gt;62</title>\n<path fill=\"none\" stroke=\"#000000\" d=\"M1087.5,-901.7677C1087.5,-893.6172 1087.5,-884.9283 1087.5,-876.4649\"/>\n<polygon fill=\"#000000\" stroke=\"#000000\" points=\"1091.0001,-876.3046 1087.5,-866.3046 1084.0001,-876.3047 1091.0001,-876.3046\"/>\n</g>\n<!-- 67 -->\n<g id=\"node68\" class=\"node\">\n<title>67</title>\n<path fill=\"#e58139\" stroke=\"#000000\" d=\"M1242,-861C1242,-861 1167,-861 1167,-861 1161,-861 1155,-855 1155,-849 1155,-849 1155,-805 1155,-805 1155,-799 1161,-793 1167,-793 1167,-793 1242,-793 1242,-793 1248,-793 1254,-799 1254,-805 1254,-805 1254,-849 1254,-849 1254,-855 1248,-861 1242,-861\"/>\n<text text-anchor=\"start\" x=\"1175\" y=\"-845.8\" font-family=\"Helvetica,sans-Serif\" font-size=\"14.00\" fill=\"#000000\">gini = 0.0</text>\n<text text-anchor=\"start\" x=\"1165\" y=\"-830.8\" font-family=\"Helvetica,sans-Serif\" font-size=\"14.00\" fill=\"#000000\">samples = 4</text>\n<text text-anchor=\"start\" x=\"1163\" y=\"-815.8\" font-family=\"Helvetica,sans-Serif\" font-size=\"14.00\" fill=\"#000000\">value = [4, 0]</text>\n<text text-anchor=\"start\" x=\"1175.5\" y=\"-800.8\" font-family=\"Helvetica,sans-Serif\" font-size=\"14.00\" fill=\"#000000\">class = 1</text>\n</g>\n<!-- 61&#45;&gt;67 -->\n<g id=\"edge67\" class=\"edge\">\n<title>61&#45;&gt;67</title>\n<path fill=\"none\" stroke=\"#000000\" d=\"M1127.7648,-901.7677C1138.8264,-890.9896 1150.8546,-879.2699 1162.0358,-868.3754\"/>\n<polygon fill=\"#000000\" stroke=\"#000000\" points=\"1164.5227,-870.839 1169.2424,-861.3535 1159.6376,-865.8254 1164.5227,-870.839\"/>\n</g>\n<!-- 63 -->\n<g id=\"node64\" class=\"node\">\n<title>63</title>\n<path fill=\"#f2c09c\" stroke=\"#000000\" d=\"M1125,-752C1125,-752 1050,-752 1050,-752 1044,-752 1038,-746 1038,-740 1038,-740 1038,-686 1038,-686 1038,-680 1044,-674 1050,-674 1050,-674 1125,-674 1125,-674 1131,-674 1137,-680 1137,-686 1137,-686 1137,-740 1137,-740 1137,-746 1131,-752 1125,-752\"/>\n<text text-anchor=\"start\" x=\"1050.5\" y=\"-737.8\" font-family=\"Helvetica,sans-Serif\" font-size=\"14.00\" fill=\"#000000\">X</text>\n<text text-anchor=\"start\" x=\"1060.5\" y=\"-737.8\" font-family=\"Helvetica,sans-Serif\" baseline-shift=\"sub\" font-size=\"14.00\" fill=\"#000000\">7</text>\n<text text-anchor=\"start\" x=\"1067.5\" y=\"-737.8\" font-family=\"Helvetica,sans-Serif\" font-size=\"14.00\" fill=\"#000000\"> ≤ &#45;0.312</text>\n<text text-anchor=\"start\" x=\"1049.5\" y=\"-723.8\" font-family=\"Helvetica,sans-Serif\" font-size=\"14.00\" fill=\"#000000\">gini = 0.444</text>\n<text text-anchor=\"start\" x=\"1048\" y=\"-709.8\" font-family=\"Helvetica,sans-Serif\" font-size=\"14.00\" fill=\"#000000\">samples = 3</text>\n<text text-anchor=\"start\" x=\"1046\" y=\"-695.8\" font-family=\"Helvetica,sans-Serif\" font-size=\"14.00\" fill=\"#000000\">value = [2, 1]</text>\n<text text-anchor=\"start\" x=\"1058.5\" y=\"-681.8\" font-family=\"Helvetica,sans-Serif\" font-size=\"14.00\" fill=\"#000000\">class = 1</text>\n</g>\n<!-- 62&#45;&gt;63 -->\n<g id=\"edge63\" class=\"edge\">\n<title>62&#45;&gt;63</title>\n<path fill=\"none\" stroke=\"#000000\" d=\"M1087.5,-787.7677C1087.5,-779.6172 1087.5,-770.9283 1087.5,-762.4649\"/>\n<polygon fill=\"#000000\" stroke=\"#000000\" points=\"1091.0001,-762.3046 1087.5,-752.3046 1084.0001,-762.3047 1091.0001,-762.3046\"/>\n</g>\n<!-- 66 -->\n<g id=\"node67\" class=\"node\">\n<title>66</title>\n<path fill=\"#399de5\" stroke=\"#000000\" d=\"M1242,-747C1242,-747 1167,-747 1167,-747 1161,-747 1155,-741 1155,-735 1155,-735 1155,-691 1155,-691 1155,-685 1161,-679 1167,-679 1167,-679 1242,-679 1242,-679 1248,-679 1254,-685 1254,-691 1254,-691 1254,-735 1254,-735 1254,-741 1248,-747 1242,-747\"/>\n<text text-anchor=\"start\" x=\"1175\" y=\"-731.8\" font-family=\"Helvetica,sans-Serif\" font-size=\"14.00\" fill=\"#000000\">gini = 0.0</text>\n<text text-anchor=\"start\" x=\"1165\" y=\"-716.8\" font-family=\"Helvetica,sans-Serif\" font-size=\"14.00\" fill=\"#000000\">samples = 4</text>\n<text text-anchor=\"start\" x=\"1163\" y=\"-701.8\" font-family=\"Helvetica,sans-Serif\" font-size=\"14.00\" fill=\"#000000\">value = [0, 4]</text>\n<text text-anchor=\"start\" x=\"1175.5\" y=\"-686.8\" font-family=\"Helvetica,sans-Serif\" font-size=\"14.00\" fill=\"#000000\">class = 1</text>\n</g>\n<!-- 62&#45;&gt;66 -->\n<g id=\"edge66\" class=\"edge\">\n<title>62&#45;&gt;66</title>\n<path fill=\"none\" stroke=\"#000000\" d=\"M1127.7648,-787.7677C1138.8264,-776.9896 1150.8546,-765.2699 1162.0358,-754.3754\"/>\n<polygon fill=\"#000000\" stroke=\"#000000\" points=\"1164.5227,-756.839 1169.2424,-747.3535 1159.6376,-751.8254 1164.5227,-756.839\"/>\n</g>\n<!-- 64 -->\n<g id=\"node65\" class=\"node\">\n<title>64</title>\n<path fill=\"#e58139\" stroke=\"#000000\" d=\"M1125,-633C1125,-633 1050,-633 1050,-633 1044,-633 1038,-627 1038,-621 1038,-621 1038,-577 1038,-577 1038,-571 1044,-565 1050,-565 1050,-565 1125,-565 1125,-565 1131,-565 1137,-571 1137,-577 1137,-577 1137,-621 1137,-621 1137,-627 1131,-633 1125,-633\"/>\n<text text-anchor=\"start\" x=\"1058\" y=\"-617.8\" font-family=\"Helvetica,sans-Serif\" font-size=\"14.00\" fill=\"#000000\">gini = 0.0</text>\n<text text-anchor=\"start\" x=\"1048\" y=\"-602.8\" font-family=\"Helvetica,sans-Serif\" font-size=\"14.00\" fill=\"#000000\">samples = 2</text>\n<text text-anchor=\"start\" x=\"1046\" y=\"-587.8\" font-family=\"Helvetica,sans-Serif\" font-size=\"14.00\" fill=\"#000000\">value = [2, 0]</text>\n<text text-anchor=\"start\" x=\"1058.5\" y=\"-572.8\" font-family=\"Helvetica,sans-Serif\" font-size=\"14.00\" fill=\"#000000\">class = 1</text>\n</g>\n<!-- 63&#45;&gt;64 -->\n<g id=\"edge64\" class=\"edge\">\n<title>63&#45;&gt;64</title>\n<path fill=\"none\" stroke=\"#000000\" d=\"M1087.5,-673.7677C1087.5,-664.0161 1087.5,-653.4937 1087.5,-643.509\"/>\n<polygon fill=\"#000000\" stroke=\"#000000\" points=\"1091.0001,-643.3535 1087.5,-633.3535 1084.0001,-643.3536 1091.0001,-643.3535\"/>\n</g>\n<!-- 65 -->\n<g id=\"node66\" class=\"node\">\n<title>65</title>\n<path fill=\"#399de5\" stroke=\"#000000\" d=\"M1242,-633C1242,-633 1167,-633 1167,-633 1161,-633 1155,-627 1155,-621 1155,-621 1155,-577 1155,-577 1155,-571 1161,-565 1167,-565 1167,-565 1242,-565 1242,-565 1248,-565 1254,-571 1254,-577 1254,-577 1254,-621 1254,-621 1254,-627 1248,-633 1242,-633\"/>\n<text text-anchor=\"start\" x=\"1175\" y=\"-617.8\" font-family=\"Helvetica,sans-Serif\" font-size=\"14.00\" fill=\"#000000\">gini = 0.0</text>\n<text text-anchor=\"start\" x=\"1165\" y=\"-602.8\" font-family=\"Helvetica,sans-Serif\" font-size=\"14.00\" fill=\"#000000\">samples = 1</text>\n<text text-anchor=\"start\" x=\"1163\" y=\"-587.8\" font-family=\"Helvetica,sans-Serif\" font-size=\"14.00\" fill=\"#000000\">value = [0, 1]</text>\n<text text-anchor=\"start\" x=\"1175.5\" y=\"-572.8\" font-family=\"Helvetica,sans-Serif\" font-size=\"14.00\" fill=\"#000000\">class = 1</text>\n</g>\n<!-- 63&#45;&gt;65 -->\n<g id=\"edge65\" class=\"edge\">\n<title>63&#45;&gt;65</title>\n<path fill=\"none\" stroke=\"#000000\" d=\"M1127.7648,-673.7677C1138.8264,-662.9896 1150.8546,-651.2699 1162.0358,-640.3754\"/>\n<polygon fill=\"#000000\" stroke=\"#000000\" points=\"1164.5227,-642.839 1169.2424,-633.3535 1159.6376,-637.8254 1164.5227,-642.839\"/>\n</g>\n<!-- 71 -->\n<g id=\"node72\" class=\"node\">\n<title>71</title>\n<path fill=\"#ea9a61\" stroke=\"#000000\" d=\"M1242,-1664C1242,-1664 1159,-1664 1159,-1664 1153,-1664 1147,-1658 1147,-1652 1147,-1652 1147,-1598 1147,-1598 1147,-1592 1153,-1586 1159,-1586 1159,-1586 1242,-1586 1242,-1586 1248,-1586 1254,-1592 1254,-1598 1254,-1598 1254,-1652 1254,-1652 1254,-1658 1248,-1664 1242,-1664\"/>\n<text text-anchor=\"start\" x=\"1163.5\" y=\"-1649.8\" font-family=\"Helvetica,sans-Serif\" font-size=\"14.00\" fill=\"#000000\">X</text>\n<text text-anchor=\"start\" x=\"1173.5\" y=\"-1649.8\" font-family=\"Helvetica,sans-Serif\" baseline-shift=\"sub\" font-size=\"14.00\" fill=\"#000000\">5</text>\n<text text-anchor=\"start\" x=\"1180.5\" y=\"-1649.8\" font-family=\"Helvetica,sans-Serif\" font-size=\"14.00\" fill=\"#000000\"> ≤ &#45;1.371</text>\n<text text-anchor=\"start\" x=\"1162.5\" y=\"-1635.8\" font-family=\"Helvetica,sans-Serif\" font-size=\"14.00\" fill=\"#000000\">gini = 0.278</text>\n<text text-anchor=\"start\" x=\"1156.5\" y=\"-1621.8\" font-family=\"Helvetica,sans-Serif\" font-size=\"14.00\" fill=\"#000000\">samples = 36</text>\n<text text-anchor=\"start\" x=\"1155\" y=\"-1607.8\" font-family=\"Helvetica,sans-Serif\" font-size=\"14.00\" fill=\"#000000\">value = [30, 6]</text>\n<text text-anchor=\"start\" x=\"1171.5\" y=\"-1593.8\" font-family=\"Helvetica,sans-Serif\" font-size=\"14.00\" fill=\"#000000\">class = 1</text>\n</g>\n<!-- 70&#45;&gt;71 -->\n<g id=\"edge71\" class=\"edge\">\n<title>70&#45;&gt;71</title>\n<path fill=\"none\" stroke=\"#000000\" d=\"M1208.3703,-1699.7677C1207.5123,-1691.6172 1206.5977,-1682.9283 1205.7068,-1674.4649\"/>\n<polygon fill=\"#000000\" stroke=\"#000000\" points=\"1209.165,-1673.8833 1204.6373,-1664.3046 1202.2035,-1674.6161 1209.165,-1673.8833\"/>\n</g>\n<!-- 84 -->\n<g id=\"node85\" class=\"node\">\n<title>84</title>\n<path fill=\"#fdf7f2\" stroke=\"#000000\" d=\"M1376.5,-1664C1376.5,-1664 1284.5,-1664 1284.5,-1664 1278.5,-1664 1272.5,-1658 1272.5,-1652 1272.5,-1652 1272.5,-1598 1272.5,-1598 1272.5,-1592 1278.5,-1586 1284.5,-1586 1284.5,-1586 1376.5,-1586 1376.5,-1586 1382.5,-1586 1388.5,-1592 1388.5,-1598 1388.5,-1598 1388.5,-1652 1388.5,-1652 1388.5,-1658 1382.5,-1664 1376.5,-1664\"/>\n<text text-anchor=\"start\" x=\"1293.5\" y=\"-1649.8\" font-family=\"Helvetica,sans-Serif\" font-size=\"14.00\" fill=\"#000000\">X</text>\n<text text-anchor=\"start\" x=\"1303.5\" y=\"-1649.8\" font-family=\"Helvetica,sans-Serif\" baseline-shift=\"sub\" font-size=\"14.00\" fill=\"#000000\">2</text>\n<text text-anchor=\"start\" x=\"1310.5\" y=\"-1649.8\" font-family=\"Helvetica,sans-Serif\" font-size=\"14.00\" fill=\"#000000\"> ≤ &#45;0.492</text>\n<text text-anchor=\"start\" x=\"1292.5\" y=\"-1635.8\" font-family=\"Helvetica,sans-Serif\" font-size=\"14.00\" fill=\"#000000\">gini = 0.499</text>\n<text text-anchor=\"start\" x=\"1286.5\" y=\"-1621.8\" font-family=\"Helvetica,sans-Serif\" font-size=\"14.00\" fill=\"#000000\">samples = 29</text>\n<text text-anchor=\"start\" x=\"1280.5\" y=\"-1607.8\" font-family=\"Helvetica,sans-Serif\" font-size=\"14.00\" fill=\"#000000\">value = [15, 14]</text>\n<text text-anchor=\"start\" x=\"1301.5\" y=\"-1593.8\" font-family=\"Helvetica,sans-Serif\" font-size=\"14.00\" fill=\"#000000\">class = 1</text>\n</g>\n<!-- 70&#45;&gt;84 -->\n<g id=\"edge84\" class=\"edge\">\n<title>70&#45;&gt;84</title>\n<path fill=\"none\" stroke=\"#000000\" d=\"M1253.1089,-1699.7677C1262.5651,-1690.632 1272.7217,-1680.8198 1282.4647,-1671.407\"/>\n<polygon fill=\"#000000\" stroke=\"#000000\" points=\"1285.0562,-1673.77 1289.8162,-1664.3046 1280.1924,-1668.7356 1285.0562,-1673.77\"/>\n</g>\n<!-- 72 -->\n<g id=\"node73\" class=\"node\">\n<title>72</title>\n<path fill=\"#399de5\" stroke=\"#000000\" d=\"M1119,-1545C1119,-1545 1044,-1545 1044,-1545 1038,-1545 1032,-1539 1032,-1533 1032,-1533 1032,-1489 1032,-1489 1032,-1483 1038,-1477 1044,-1477 1044,-1477 1119,-1477 1119,-1477 1125,-1477 1131,-1483 1131,-1489 1131,-1489 1131,-1533 1131,-1533 1131,-1539 1125,-1545 1119,-1545\"/>\n<text text-anchor=\"start\" x=\"1052\" y=\"-1529.8\" font-family=\"Helvetica,sans-Serif\" font-size=\"14.00\" fill=\"#000000\">gini = 0.0</text>\n<text text-anchor=\"start\" x=\"1042\" y=\"-1514.8\" font-family=\"Helvetica,sans-Serif\" font-size=\"14.00\" fill=\"#000000\">samples = 2</text>\n<text text-anchor=\"start\" x=\"1040\" y=\"-1499.8\" font-family=\"Helvetica,sans-Serif\" font-size=\"14.00\" fill=\"#000000\">value = [0, 2]</text>\n<text text-anchor=\"start\" x=\"1052.5\" y=\"-1484.8\" font-family=\"Helvetica,sans-Serif\" font-size=\"14.00\" fill=\"#000000\">class = 1</text>\n</g>\n<!-- 71&#45;&gt;72 -->\n<g id=\"edge72\" class=\"edge\">\n<title>71&#45;&gt;72</title>\n<path fill=\"none\" stroke=\"#000000\" d=\"M1159.547,-1585.7677C1148.2962,-1574.9896 1136.0624,-1563.2699 1124.6901,-1552.3754\"/>\n<polygon fill=\"#000000\" stroke=\"#000000\" points=\"1127.0026,-1549.7439 1117.3603,-1545.3535 1122.1602,-1554.7987 1127.0026,-1549.7439\"/>\n</g>\n<!-- 73 -->\n<g id=\"node74\" class=\"node\">\n<title>73</title>\n<path fill=\"#e89253\" stroke=\"#000000\" d=\"M1244,-1550C1244,-1550 1161,-1550 1161,-1550 1155,-1550 1149,-1544 1149,-1538 1149,-1538 1149,-1484 1149,-1484 1149,-1478 1155,-1472 1161,-1472 1161,-1472 1244,-1472 1244,-1472 1250,-1472 1256,-1478 1256,-1484 1256,-1484 1256,-1538 1256,-1538 1256,-1544 1250,-1550 1244,-1550\"/>\n<text text-anchor=\"start\" x=\"1165.5\" y=\"-1535.8\" font-family=\"Helvetica,sans-Serif\" font-size=\"14.00\" fill=\"#000000\">X</text>\n<text text-anchor=\"start\" x=\"1175.5\" y=\"-1535.8\" font-family=\"Helvetica,sans-Serif\" baseline-shift=\"sub\" font-size=\"14.00\" fill=\"#000000\">0</text>\n<text text-anchor=\"start\" x=\"1182.5\" y=\"-1535.8\" font-family=\"Helvetica,sans-Serif\" font-size=\"14.00\" fill=\"#000000\"> ≤ &#45;1.544</text>\n<text text-anchor=\"start\" x=\"1164.5\" y=\"-1521.8\" font-family=\"Helvetica,sans-Serif\" font-size=\"14.00\" fill=\"#000000\">gini = 0.208</text>\n<text text-anchor=\"start\" x=\"1158.5\" y=\"-1507.8\" font-family=\"Helvetica,sans-Serif\" font-size=\"14.00\" fill=\"#000000\">samples = 34</text>\n<text text-anchor=\"start\" x=\"1157\" y=\"-1493.8\" font-family=\"Helvetica,sans-Serif\" font-size=\"14.00\" fill=\"#000000\">value = [30, 4]</text>\n<text text-anchor=\"start\" x=\"1173.5\" y=\"-1479.8\" font-family=\"Helvetica,sans-Serif\" font-size=\"14.00\" fill=\"#000000\">class = 1</text>\n</g>\n<!-- 71&#45;&gt;73 -->\n<g id=\"edge73\" class=\"edge\">\n<title>71&#45;&gt;73</title>\n<path fill=\"none\" stroke=\"#000000\" d=\"M1201.1883,-1585.7677C1201.3313,-1577.6172 1201.4837,-1568.9283 1201.6322,-1560.4649\"/>\n<polygon fill=\"#000000\" stroke=\"#000000\" points=\"1205.1344,-1560.3645 1201.8104,-1550.3046 1198.1355,-1560.2417 1205.1344,-1560.3645\"/>\n</g>\n<!-- 74 -->\n<g id=\"node75\" class=\"node\">\n<title>74</title>\n<path fill=\"#399de5\" stroke=\"#000000\" d=\"M1183,-1431C1183,-1431 1108,-1431 1108,-1431 1102,-1431 1096,-1425 1096,-1419 1096,-1419 1096,-1375 1096,-1375 1096,-1369 1102,-1363 1108,-1363 1108,-1363 1183,-1363 1183,-1363 1189,-1363 1195,-1369 1195,-1375 1195,-1375 1195,-1419 1195,-1419 1195,-1425 1189,-1431 1183,-1431\"/>\n<text text-anchor=\"start\" x=\"1116\" y=\"-1415.8\" font-family=\"Helvetica,sans-Serif\" font-size=\"14.00\" fill=\"#000000\">gini = 0.0</text>\n<text text-anchor=\"start\" x=\"1106\" y=\"-1400.8\" font-family=\"Helvetica,sans-Serif\" font-size=\"14.00\" fill=\"#000000\">samples = 1</text>\n<text text-anchor=\"start\" x=\"1104\" y=\"-1385.8\" font-family=\"Helvetica,sans-Serif\" font-size=\"14.00\" fill=\"#000000\">value = [0, 1]</text>\n<text text-anchor=\"start\" x=\"1116.5\" y=\"-1370.8\" font-family=\"Helvetica,sans-Serif\" font-size=\"14.00\" fill=\"#000000\">class = 1</text>\n</g>\n<!-- 73&#45;&gt;74 -->\n<g id=\"edge74\" class=\"edge\">\n<title>73&#45;&gt;74</title>\n<path fill=\"none\" stroke=\"#000000\" d=\"M1182.8838,-1471.7677C1177.8541,-1461.7082 1172.4142,-1450.8283 1167.2824,-1440.5648\"/>\n<polygon fill=\"#000000\" stroke=\"#000000\" points=\"1170.2794,-1438.7325 1162.6768,-1431.3535 1164.0185,-1441.8631 1170.2794,-1438.7325\"/>\n</g>\n<!-- 75 -->\n<g id=\"node76\" class=\"node\">\n<title>75</title>\n<path fill=\"#e88e4d\" stroke=\"#000000\" d=\"M1308,-1436C1308,-1436 1225,-1436 1225,-1436 1219,-1436 1213,-1430 1213,-1424 1213,-1424 1213,-1370 1213,-1370 1213,-1364 1219,-1358 1225,-1358 1225,-1358 1308,-1358 1308,-1358 1314,-1358 1320,-1364 1320,-1370 1320,-1370 1320,-1424 1320,-1424 1320,-1430 1314,-1436 1308,-1436\"/>\n<text text-anchor=\"start\" x=\"1232\" y=\"-1421.8\" font-family=\"Helvetica,sans-Serif\" font-size=\"14.00\" fill=\"#000000\">X</text>\n<text text-anchor=\"start\" x=\"1242\" y=\"-1421.8\" font-family=\"Helvetica,sans-Serif\" baseline-shift=\"sub\" font-size=\"14.00\" fill=\"#000000\">5</text>\n<text text-anchor=\"start\" x=\"1249\" y=\"-1421.8\" font-family=\"Helvetica,sans-Serif\" font-size=\"14.00\" fill=\"#000000\"> ≤ 1.015</text>\n<text text-anchor=\"start\" x=\"1228.5\" y=\"-1407.8\" font-family=\"Helvetica,sans-Serif\" font-size=\"14.00\" fill=\"#000000\">gini = 0.165</text>\n<text text-anchor=\"start\" x=\"1222.5\" y=\"-1393.8\" font-family=\"Helvetica,sans-Serif\" font-size=\"14.00\" fill=\"#000000\">samples = 33</text>\n<text text-anchor=\"start\" x=\"1221\" y=\"-1379.8\" font-family=\"Helvetica,sans-Serif\" font-size=\"14.00\" fill=\"#000000\">value = [30, 3]</text>\n<text text-anchor=\"start\" x=\"1237.5\" y=\"-1365.8\" font-family=\"Helvetica,sans-Serif\" font-size=\"14.00\" fill=\"#000000\">class = 1</text>\n</g>\n<!-- 73&#45;&gt;75 -->\n<g id=\"edge75\" class=\"edge\">\n<title>73&#45;&gt;75</title>\n<path fill=\"none\" stroke=\"#000000\" d=\"M1224.5252,-1471.7677C1229.3523,-1463.1694 1234.5158,-1453.9718 1239.5122,-1445.072\"/>\n<polygon fill=\"#000000\" stroke=\"#000000\" points=\"1242.5908,-1446.7379 1244.4342,-1436.3046 1236.4869,-1443.3111 1242.5908,-1446.7379\"/>\n</g>\n<!-- 76 -->\n<g id=\"node77\" class=\"node\">\n<title>76</title>\n<path fill=\"#e68640\" stroke=\"#000000\" d=\"M1252,-1322C1252,-1322 1169,-1322 1169,-1322 1163,-1322 1157,-1316 1157,-1310 1157,-1310 1157,-1256 1157,-1256 1157,-1250 1163,-1244 1169,-1244 1169,-1244 1252,-1244 1252,-1244 1258,-1244 1264,-1250 1264,-1256 1264,-1256 1264,-1310 1264,-1310 1264,-1316 1258,-1322 1252,-1322\"/>\n<text text-anchor=\"start\" x=\"1173.5\" y=\"-1307.8\" font-family=\"Helvetica,sans-Serif\" font-size=\"14.00\" fill=\"#000000\">X</text>\n<text text-anchor=\"start\" x=\"1183.5\" y=\"-1307.8\" font-family=\"Helvetica,sans-Serif\" baseline-shift=\"sub\" font-size=\"14.00\" fill=\"#000000\">5</text>\n<text text-anchor=\"start\" x=\"1190.5\" y=\"-1307.8\" font-family=\"Helvetica,sans-Serif\" font-size=\"14.00\" fill=\"#000000\"> ≤ &#45;0.946</text>\n<text text-anchor=\"start\" x=\"1172.5\" y=\"-1293.8\" font-family=\"Helvetica,sans-Serif\" font-size=\"14.00\" fill=\"#000000\">gini = 0.067</text>\n<text text-anchor=\"start\" x=\"1166.5\" y=\"-1279.8\" font-family=\"Helvetica,sans-Serif\" font-size=\"14.00\" fill=\"#000000\">samples = 29</text>\n<text text-anchor=\"start\" x=\"1165\" y=\"-1265.8\" font-family=\"Helvetica,sans-Serif\" font-size=\"14.00\" fill=\"#000000\">value = [28, 1]</text>\n<text text-anchor=\"start\" x=\"1181.5\" y=\"-1251.8\" font-family=\"Helvetica,sans-Serif\" font-size=\"14.00\" fill=\"#000000\">class = 1</text>\n</g>\n<!-- 75&#45;&gt;76 -->\n<g id=\"edge76\" class=\"edge\">\n<title>75&#45;&gt;76</title>\n<path fill=\"none\" stroke=\"#000000\" d=\"M1247.228,-1357.7677C1243.0483,-1349.259 1238.5802,-1340.1634 1234.251,-1331.3502\"/>\n<polygon fill=\"#000000\" stroke=\"#000000\" points=\"1237.3581,-1329.737 1229.8075,-1322.3046 1231.0752,-1332.8234 1237.3581,-1329.737\"/>\n</g>\n<!-- 81 -->\n<g id=\"node82\" class=\"node\">\n<title>81</title>\n<path fill=\"#ffffff\" stroke=\"#000000\" d=\"M1369,-1322C1369,-1322 1294,-1322 1294,-1322 1288,-1322 1282,-1316 1282,-1310 1282,-1310 1282,-1256 1282,-1256 1282,-1250 1288,-1244 1294,-1244 1294,-1244 1369,-1244 1369,-1244 1375,-1244 1381,-1250 1381,-1256 1381,-1256 1381,-1310 1381,-1310 1381,-1316 1375,-1322 1369,-1322\"/>\n<text text-anchor=\"start\" x=\"1297\" y=\"-1307.8\" font-family=\"Helvetica,sans-Serif\" font-size=\"14.00\" fill=\"#000000\">X</text>\n<text text-anchor=\"start\" x=\"1307\" y=\"-1307.8\" font-family=\"Helvetica,sans-Serif\" baseline-shift=\"sub\" font-size=\"14.00\" fill=\"#000000\">1</text>\n<text text-anchor=\"start\" x=\"1314\" y=\"-1307.8\" font-family=\"Helvetica,sans-Serif\" font-size=\"14.00\" fill=\"#000000\"> ≤ 0.138</text>\n<text text-anchor=\"start\" x=\"1302\" y=\"-1293.8\" font-family=\"Helvetica,sans-Serif\" font-size=\"14.00\" fill=\"#000000\">gini = 0.5</text>\n<text text-anchor=\"start\" x=\"1292\" y=\"-1279.8\" font-family=\"Helvetica,sans-Serif\" font-size=\"14.00\" fill=\"#000000\">samples = 4</text>\n<text text-anchor=\"start\" x=\"1290\" y=\"-1265.8\" font-family=\"Helvetica,sans-Serif\" font-size=\"14.00\" fill=\"#000000\">value = [2, 2]</text>\n<text text-anchor=\"start\" x=\"1302.5\" y=\"-1251.8\" font-family=\"Helvetica,sans-Serif\" font-size=\"14.00\" fill=\"#000000\">class = 1</text>\n</g>\n<!-- 75&#45;&gt;81 -->\n<g id=\"edge81\" class=\"edge\">\n<title>75&#45;&gt;81</title>\n<path fill=\"none\" stroke=\"#000000\" d=\"M1288.8693,-1357.7677C1293.7718,-1349.1694 1299.0161,-1339.9718 1304.0905,-1331.072\"/>\n<polygon fill=\"#000000\" stroke=\"#000000\" points=\"1307.1767,-1332.7254 1309.0895,-1322.3046 1301.0957,-1329.2581 1307.1767,-1332.7254\"/>\n</g>\n<!-- 77 -->\n<g id=\"node78\" class=\"node\">\n<title>77</title>\n<path fill=\"#eca06a\" stroke=\"#000000\" d=\"M1127,-1208C1127,-1208 1052,-1208 1052,-1208 1046,-1208 1040,-1202 1040,-1196 1040,-1196 1040,-1142 1040,-1142 1040,-1136 1046,-1130 1052,-1130 1052,-1130 1127,-1130 1127,-1130 1133,-1130 1139,-1136 1139,-1142 1139,-1142 1139,-1196 1139,-1196 1139,-1202 1133,-1208 1127,-1208\"/>\n<text text-anchor=\"start\" x=\"1052.5\" y=\"-1193.8\" font-family=\"Helvetica,sans-Serif\" font-size=\"14.00\" fill=\"#000000\">X</text>\n<text text-anchor=\"start\" x=\"1062.5\" y=\"-1193.8\" font-family=\"Helvetica,sans-Serif\" baseline-shift=\"sub\" font-size=\"14.00\" fill=\"#000000\">7</text>\n<text text-anchor=\"start\" x=\"1069.5\" y=\"-1193.8\" font-family=\"Helvetica,sans-Serif\" font-size=\"14.00\" fill=\"#000000\"> ≤ &#45;0.312</text>\n<text text-anchor=\"start\" x=\"1056\" y=\"-1179.8\" font-family=\"Helvetica,sans-Serif\" font-size=\"14.00\" fill=\"#000000\">gini = 0.32</text>\n<text text-anchor=\"start\" x=\"1050\" y=\"-1165.8\" font-family=\"Helvetica,sans-Serif\" font-size=\"14.00\" fill=\"#000000\">samples = 5</text>\n<text text-anchor=\"start\" x=\"1048\" y=\"-1151.8\" font-family=\"Helvetica,sans-Serif\" font-size=\"14.00\" fill=\"#000000\">value = [4, 1]</text>\n<text text-anchor=\"start\" x=\"1060.5\" y=\"-1137.8\" font-family=\"Helvetica,sans-Serif\" font-size=\"14.00\" fill=\"#000000\">class = 1</text>\n</g>\n<!-- 76&#45;&gt;77 -->\n<g id=\"edge77\" class=\"edge\">\n<title>76&#45;&gt;77</title>\n<path fill=\"none\" stroke=\"#000000\" d=\"M1168.8587,-1243.7677C1159.162,-1234.632 1148.7473,-1224.8198 1138.7565,-1215.407\"/>\n<polygon fill=\"#000000\" stroke=\"#000000\" points=\"1140.8967,-1212.6146 1131.2181,-1208.3046 1136.0965,-1217.7096 1140.8967,-1212.6146\"/>\n</g>\n<!-- 80 -->\n<g id=\"node81\" class=\"node\">\n<title>80</title>\n<path fill=\"#e58139\" stroke=\"#000000\" d=\"M1252,-1203C1252,-1203 1169,-1203 1169,-1203 1163,-1203 1157,-1197 1157,-1191 1157,-1191 1157,-1147 1157,-1147 1157,-1141 1163,-1135 1169,-1135 1169,-1135 1252,-1135 1252,-1135 1258,-1135 1264,-1141 1264,-1147 1264,-1147 1264,-1191 1264,-1191 1264,-1197 1258,-1203 1252,-1203\"/>\n<text text-anchor=\"start\" x=\"1181\" y=\"-1187.8\" font-family=\"Helvetica,sans-Serif\" font-size=\"14.00\" fill=\"#000000\">gini = 0.0</text>\n<text text-anchor=\"start\" x=\"1166.5\" y=\"-1172.8\" font-family=\"Helvetica,sans-Serif\" font-size=\"14.00\" fill=\"#000000\">samples = 24</text>\n<text text-anchor=\"start\" x=\"1165\" y=\"-1157.8\" font-family=\"Helvetica,sans-Serif\" font-size=\"14.00\" fill=\"#000000\">value = [24, 0]</text>\n<text text-anchor=\"start\" x=\"1181.5\" y=\"-1142.8\" font-family=\"Helvetica,sans-Serif\" font-size=\"14.00\" fill=\"#000000\">class = 1</text>\n</g>\n<!-- 76&#45;&gt;80 -->\n<g id=\"edge80\" class=\"edge\">\n<title>76&#45;&gt;80</title>\n<path fill=\"none\" stroke=\"#000000\" d=\"M1210.5,-1243.7677C1210.5,-1234.0161 1210.5,-1223.4937 1210.5,-1213.509\"/>\n<polygon fill=\"#000000\" stroke=\"#000000\" points=\"1214.0001,-1213.3535 1210.5,-1203.3535 1207.0001,-1213.3536 1214.0001,-1213.3535\"/>\n</g>\n<!-- 78 -->\n<g id=\"node79\" class=\"node\">\n<title>78</title>\n<path fill=\"#399de5\" stroke=\"#000000\" d=\"M1127,-1089C1127,-1089 1052,-1089 1052,-1089 1046,-1089 1040,-1083 1040,-1077 1040,-1077 1040,-1033 1040,-1033 1040,-1027 1046,-1021 1052,-1021 1052,-1021 1127,-1021 1127,-1021 1133,-1021 1139,-1027 1139,-1033 1139,-1033 1139,-1077 1139,-1077 1139,-1083 1133,-1089 1127,-1089\"/>\n<text text-anchor=\"start\" x=\"1060\" y=\"-1073.8\" font-family=\"Helvetica,sans-Serif\" font-size=\"14.00\" fill=\"#000000\">gini = 0.0</text>\n<text text-anchor=\"start\" x=\"1050\" y=\"-1058.8\" font-family=\"Helvetica,sans-Serif\" font-size=\"14.00\" fill=\"#000000\">samples = 1</text>\n<text text-anchor=\"start\" x=\"1048\" y=\"-1043.8\" font-family=\"Helvetica,sans-Serif\" font-size=\"14.00\" fill=\"#000000\">value = [0, 1]</text>\n<text text-anchor=\"start\" x=\"1060.5\" y=\"-1028.8\" font-family=\"Helvetica,sans-Serif\" font-size=\"14.00\" fill=\"#000000\">class = 1</text>\n</g>\n<!-- 77&#45;&gt;78 -->\n<g id=\"edge78\" class=\"edge\">\n<title>77&#45;&gt;78</title>\n<path fill=\"none\" stroke=\"#000000\" d=\"M1089.5,-1129.7677C1089.5,-1120.0161 1089.5,-1109.4937 1089.5,-1099.509\"/>\n<polygon fill=\"#000000\" stroke=\"#000000\" points=\"1093.0001,-1099.3535 1089.5,-1089.3535 1086.0001,-1099.3536 1093.0001,-1099.3535\"/>\n</g>\n<!-- 79 -->\n<g id=\"node80\" class=\"node\">\n<title>79</title>\n<path fill=\"#e58139\" stroke=\"#000000\" d=\"M1244,-1089C1244,-1089 1169,-1089 1169,-1089 1163,-1089 1157,-1083 1157,-1077 1157,-1077 1157,-1033 1157,-1033 1157,-1027 1163,-1021 1169,-1021 1169,-1021 1244,-1021 1244,-1021 1250,-1021 1256,-1027 1256,-1033 1256,-1033 1256,-1077 1256,-1077 1256,-1083 1250,-1089 1244,-1089\"/>\n<text text-anchor=\"start\" x=\"1177\" y=\"-1073.8\" font-family=\"Helvetica,sans-Serif\" font-size=\"14.00\" fill=\"#000000\">gini = 0.0</text>\n<text text-anchor=\"start\" x=\"1167\" y=\"-1058.8\" font-family=\"Helvetica,sans-Serif\" font-size=\"14.00\" fill=\"#000000\">samples = 4</text>\n<text text-anchor=\"start\" x=\"1165\" y=\"-1043.8\" font-family=\"Helvetica,sans-Serif\" font-size=\"14.00\" fill=\"#000000\">value = [4, 0]</text>\n<text text-anchor=\"start\" x=\"1177.5\" y=\"-1028.8\" font-family=\"Helvetica,sans-Serif\" font-size=\"14.00\" fill=\"#000000\">class = 1</text>\n</g>\n<!-- 77&#45;&gt;79 -->\n<g id=\"edge79\" class=\"edge\">\n<title>77&#45;&gt;79</title>\n<path fill=\"none\" stroke=\"#000000\" d=\"M1129.7648,-1129.7677C1140.8264,-1118.9896 1152.8546,-1107.2699 1164.0358,-1096.3754\"/>\n<polygon fill=\"#000000\" stroke=\"#000000\" points=\"1166.5227,-1098.839 1171.2424,-1089.3535 1161.6376,-1093.8254 1166.5227,-1098.839\"/>\n</g>\n<!-- 82 -->\n<g id=\"node83\" class=\"node\">\n<title>82</title>\n<path fill=\"#e58139\" stroke=\"#000000\" d=\"M1369,-1203C1369,-1203 1294,-1203 1294,-1203 1288,-1203 1282,-1197 1282,-1191 1282,-1191 1282,-1147 1282,-1147 1282,-1141 1288,-1135 1294,-1135 1294,-1135 1369,-1135 1369,-1135 1375,-1135 1381,-1141 1381,-1147 1381,-1147 1381,-1191 1381,-1191 1381,-1197 1375,-1203 1369,-1203\"/>\n<text text-anchor=\"start\" x=\"1302\" y=\"-1187.8\" font-family=\"Helvetica,sans-Serif\" font-size=\"14.00\" fill=\"#000000\">gini = 0.0</text>\n<text text-anchor=\"start\" x=\"1292\" y=\"-1172.8\" font-family=\"Helvetica,sans-Serif\" font-size=\"14.00\" fill=\"#000000\">samples = 2</text>\n<text text-anchor=\"start\" x=\"1290\" y=\"-1157.8\" font-family=\"Helvetica,sans-Serif\" font-size=\"14.00\" fill=\"#000000\">value = [2, 0]</text>\n<text text-anchor=\"start\" x=\"1302.5\" y=\"-1142.8\" font-family=\"Helvetica,sans-Serif\" font-size=\"14.00\" fill=\"#000000\">class = 1</text>\n</g>\n<!-- 81&#45;&gt;82 -->\n<g id=\"edge82\" class=\"edge\">\n<title>81&#45;&gt;82</title>\n<path fill=\"none\" stroke=\"#000000\" d=\"M1331.5,-1243.7677C1331.5,-1234.0161 1331.5,-1223.4937 1331.5,-1213.509\"/>\n<polygon fill=\"#000000\" stroke=\"#000000\" points=\"1335.0001,-1213.3535 1331.5,-1203.3535 1328.0001,-1213.3536 1335.0001,-1213.3535\"/>\n</g>\n<!-- 83 -->\n<g id=\"node84\" class=\"node\">\n<title>83</title>\n<path fill=\"#399de5\" stroke=\"#000000\" d=\"M1486,-1203C1486,-1203 1411,-1203 1411,-1203 1405,-1203 1399,-1197 1399,-1191 1399,-1191 1399,-1147 1399,-1147 1399,-1141 1405,-1135 1411,-1135 1411,-1135 1486,-1135 1486,-1135 1492,-1135 1498,-1141 1498,-1147 1498,-1147 1498,-1191 1498,-1191 1498,-1197 1492,-1203 1486,-1203\"/>\n<text text-anchor=\"start\" x=\"1419\" y=\"-1187.8\" font-family=\"Helvetica,sans-Serif\" font-size=\"14.00\" fill=\"#000000\">gini = 0.0</text>\n<text text-anchor=\"start\" x=\"1409\" y=\"-1172.8\" font-family=\"Helvetica,sans-Serif\" font-size=\"14.00\" fill=\"#000000\">samples = 2</text>\n<text text-anchor=\"start\" x=\"1407\" y=\"-1157.8\" font-family=\"Helvetica,sans-Serif\" font-size=\"14.00\" fill=\"#000000\">value = [0, 2]</text>\n<text text-anchor=\"start\" x=\"1419.5\" y=\"-1142.8\" font-family=\"Helvetica,sans-Serif\" font-size=\"14.00\" fill=\"#000000\">class = 1</text>\n</g>\n<!-- 81&#45;&gt;83 -->\n<g id=\"edge83\" class=\"edge\">\n<title>81&#45;&gt;83</title>\n<path fill=\"none\" stroke=\"#000000\" d=\"M1371.7648,-1243.7677C1382.8264,-1232.9896 1394.8546,-1221.2699 1406.0358,-1210.3754\"/>\n<polygon fill=\"#000000\" stroke=\"#000000\" points=\"1408.5227,-1212.839 1413.2424,-1203.3535 1403.6376,-1207.8254 1408.5227,-1212.839\"/>\n</g>\n<!-- 85 -->\n<g id=\"node86\" class=\"node\">\n<title>85</title>\n<path fill=\"#e58139\" stroke=\"#000000\" d=\"M1365,-1545C1365,-1545 1290,-1545 1290,-1545 1284,-1545 1278,-1539 1278,-1533 1278,-1533 1278,-1489 1278,-1489 1278,-1483 1284,-1477 1290,-1477 1290,-1477 1365,-1477 1365,-1477 1371,-1477 1377,-1483 1377,-1489 1377,-1489 1377,-1533 1377,-1533 1377,-1539 1371,-1545 1365,-1545\"/>\n<text text-anchor=\"start\" x=\"1298\" y=\"-1529.8\" font-family=\"Helvetica,sans-Serif\" font-size=\"14.00\" fill=\"#000000\">gini = 0.0</text>\n<text text-anchor=\"start\" x=\"1288\" y=\"-1514.8\" font-family=\"Helvetica,sans-Serif\" font-size=\"14.00\" fill=\"#000000\">samples = 6</text>\n<text text-anchor=\"start\" x=\"1286\" y=\"-1499.8\" font-family=\"Helvetica,sans-Serif\" font-size=\"14.00\" fill=\"#000000\">value = [6, 0]</text>\n<text text-anchor=\"start\" x=\"1298.5\" y=\"-1484.8\" font-family=\"Helvetica,sans-Serif\" font-size=\"14.00\" fill=\"#000000\">class = 1</text>\n</g>\n<!-- 84&#45;&gt;85 -->\n<g id=\"edge85\" class=\"edge\">\n<title>84&#45;&gt;85</title>\n<path fill=\"none\" stroke=\"#000000\" d=\"M1329.4676,-1585.7677C1329.211,-1576.0161 1328.934,-1565.4937 1328.6713,-1555.509\"/>\n<polygon fill=\"#000000\" stroke=\"#000000\" points=\"1332.166,-1555.258 1328.404,-1545.3535 1325.1684,-1555.4422 1332.166,-1555.258\"/>\n</g>\n<!-- 86 -->\n<g id=\"node87\" class=\"node\">\n<title>86</title>\n<path fill=\"#b8dcf6\" stroke=\"#000000\" d=\"M1490,-1550C1490,-1550 1407,-1550 1407,-1550 1401,-1550 1395,-1544 1395,-1538 1395,-1538 1395,-1484 1395,-1484 1395,-1478 1401,-1472 1407,-1472 1407,-1472 1490,-1472 1490,-1472 1496,-1472 1502,-1478 1502,-1484 1502,-1484 1502,-1538 1502,-1538 1502,-1544 1496,-1550 1490,-1550\"/>\n<text text-anchor=\"start\" x=\"1414\" y=\"-1535.8\" font-family=\"Helvetica,sans-Serif\" font-size=\"14.00\" fill=\"#000000\">X</text>\n<text text-anchor=\"start\" x=\"1424\" y=\"-1535.8\" font-family=\"Helvetica,sans-Serif\" baseline-shift=\"sub\" font-size=\"14.00\" fill=\"#000000\">1</text>\n<text text-anchor=\"start\" x=\"1431\" y=\"-1535.8\" font-family=\"Helvetica,sans-Serif\" font-size=\"14.00\" fill=\"#000000\"> ≤ 0.138</text>\n<text text-anchor=\"start\" x=\"1410.5\" y=\"-1521.8\" font-family=\"Helvetica,sans-Serif\" font-size=\"14.00\" fill=\"#000000\">gini = 0.476</text>\n<text text-anchor=\"start\" x=\"1404.5\" y=\"-1507.8\" font-family=\"Helvetica,sans-Serif\" font-size=\"14.00\" fill=\"#000000\">samples = 23</text>\n<text text-anchor=\"start\" x=\"1403\" y=\"-1493.8\" font-family=\"Helvetica,sans-Serif\" font-size=\"14.00\" fill=\"#000000\">value = [9, 14]</text>\n<text text-anchor=\"start\" x=\"1419.5\" y=\"-1479.8\" font-family=\"Helvetica,sans-Serif\" font-size=\"14.00\" fill=\"#000000\">class = 1</text>\n</g>\n<!-- 84&#45;&gt;86 -->\n<g id=\"edge86\" class=\"edge\">\n<title>84&#45;&gt;86</title>\n<path fill=\"none\" stroke=\"#000000\" d=\"M1371.1089,-1585.7677C1380.5651,-1576.632 1390.7217,-1566.8198 1400.4647,-1557.407\"/>\n<polygon fill=\"#000000\" stroke=\"#000000\" points=\"1403.0562,-1559.77 1407.8162,-1550.3046 1398.1924,-1554.7356 1403.0562,-1559.77\"/>\n</g>\n<!-- 87 -->\n<g id=\"node88\" class=\"node\">\n<title>87</title>\n<path fill=\"#fcf1e9\" stroke=\"#000000\" d=\"M1488.5,-1436C1488.5,-1436 1408.5,-1436 1408.5,-1436 1402.5,-1436 1396.5,-1430 1396.5,-1424 1396.5,-1424 1396.5,-1370 1396.5,-1370 1396.5,-1364 1402.5,-1358 1408.5,-1358 1408.5,-1358 1488.5,-1358 1488.5,-1358 1494.5,-1358 1500.5,-1364 1500.5,-1370 1500.5,-1370 1500.5,-1424 1500.5,-1424 1500.5,-1430 1494.5,-1436 1488.5,-1436\"/>\n<text text-anchor=\"start\" x=\"1411.5\" y=\"-1421.8\" font-family=\"Helvetica,sans-Serif\" font-size=\"14.00\" fill=\"#000000\">X</text>\n<text text-anchor=\"start\" x=\"1421.5\" y=\"-1421.8\" font-family=\"Helvetica,sans-Serif\" baseline-shift=\"sub\" font-size=\"14.00\" fill=\"#000000\">2</text>\n<text text-anchor=\"start\" x=\"1428.5\" y=\"-1421.8\" font-family=\"Helvetica,sans-Serif\" font-size=\"14.00\" fill=\"#000000\"> ≤ &#45;0.409</text>\n<text text-anchor=\"start\" x=\"1410.5\" y=\"-1407.8\" font-family=\"Helvetica,sans-Serif\" font-size=\"14.00\" fill=\"#000000\">gini = 0.498</text>\n<text text-anchor=\"start\" x=\"1404.5\" y=\"-1393.8\" font-family=\"Helvetica,sans-Serif\" font-size=\"14.00\" fill=\"#000000\">samples = 17</text>\n<text text-anchor=\"start\" x=\"1407\" y=\"-1379.8\" font-family=\"Helvetica,sans-Serif\" font-size=\"14.00\" fill=\"#000000\">value = [9, 8]</text>\n<text text-anchor=\"start\" x=\"1419.5\" y=\"-1365.8\" font-family=\"Helvetica,sans-Serif\" font-size=\"14.00\" fill=\"#000000\">class = 1</text>\n</g>\n<!-- 86&#45;&gt;87 -->\n<g id=\"edge87\" class=\"edge\">\n<title>86&#45;&gt;87</title>\n<path fill=\"none\" stroke=\"#000000\" d=\"M1448.5,-1471.7677C1448.5,-1463.6172 1448.5,-1454.9283 1448.5,-1446.4649\"/>\n<polygon fill=\"#000000\" stroke=\"#000000\" points=\"1452.0001,-1446.3046 1448.5,-1436.3046 1445.0001,-1446.3047 1452.0001,-1446.3046\"/>\n</g>\n<!-- 98 -->\n<g id=\"node99\" class=\"node\">\n<title>98</title>\n<path fill=\"#399de5\" stroke=\"#000000\" d=\"M1606,-1431C1606,-1431 1531,-1431 1531,-1431 1525,-1431 1519,-1425 1519,-1419 1519,-1419 1519,-1375 1519,-1375 1519,-1369 1525,-1363 1531,-1363 1531,-1363 1606,-1363 1606,-1363 1612,-1363 1618,-1369 1618,-1375 1618,-1375 1618,-1419 1618,-1419 1618,-1425 1612,-1431 1606,-1431\"/>\n<text text-anchor=\"start\" x=\"1539\" y=\"-1415.8\" font-family=\"Helvetica,sans-Serif\" font-size=\"14.00\" fill=\"#000000\">gini = 0.0</text>\n<text text-anchor=\"start\" x=\"1529\" y=\"-1400.8\" font-family=\"Helvetica,sans-Serif\" font-size=\"14.00\" fill=\"#000000\">samples = 6</text>\n<text text-anchor=\"start\" x=\"1527\" y=\"-1385.8\" font-family=\"Helvetica,sans-Serif\" font-size=\"14.00\" fill=\"#000000\">value = [0, 6]</text>\n<text text-anchor=\"start\" x=\"1539.5\" y=\"-1370.8\" font-family=\"Helvetica,sans-Serif\" font-size=\"14.00\" fill=\"#000000\">class = 1</text>\n</g>\n<!-- 86&#45;&gt;98 -->\n<g id=\"edge98\" class=\"edge\">\n<title>86&#45;&gt;98</title>\n<path fill=\"none\" stroke=\"#000000\" d=\"M1489.7972,-1471.7677C1501.1425,-1460.9896 1513.4791,-1449.2699 1524.9469,-1438.3754\"/>\n<polygon fill=\"#000000\" stroke=\"#000000\" points=\"1527.499,-1440.7786 1532.3384,-1431.3535 1522.6777,-1435.7035 1527.499,-1440.7786\"/>\n</g>\n<!-- 88 -->\n<g id=\"node89\" class=\"node\">\n<title>88</title>\n<path fill=\"#399de5\" stroke=\"#000000\" d=\"M1486,-1317C1486,-1317 1411,-1317 1411,-1317 1405,-1317 1399,-1311 1399,-1305 1399,-1305 1399,-1261 1399,-1261 1399,-1255 1405,-1249 1411,-1249 1411,-1249 1486,-1249 1486,-1249 1492,-1249 1498,-1255 1498,-1261 1498,-1261 1498,-1305 1498,-1305 1498,-1311 1492,-1317 1486,-1317\"/>\n<text text-anchor=\"start\" x=\"1419\" y=\"-1301.8\" font-family=\"Helvetica,sans-Serif\" font-size=\"14.00\" fill=\"#000000\">gini = 0.0</text>\n<text text-anchor=\"start\" x=\"1409\" y=\"-1286.8\" font-family=\"Helvetica,sans-Serif\" font-size=\"14.00\" fill=\"#000000\">samples = 4</text>\n<text text-anchor=\"start\" x=\"1407\" y=\"-1271.8\" font-family=\"Helvetica,sans-Serif\" font-size=\"14.00\" fill=\"#000000\">value = [0, 4]</text>\n<text text-anchor=\"start\" x=\"1419.5\" y=\"-1256.8\" font-family=\"Helvetica,sans-Serif\" font-size=\"14.00\" fill=\"#000000\">class = 1</text>\n</g>\n<!-- 87&#45;&gt;88 -->\n<g id=\"edge88\" class=\"edge\">\n<title>87&#45;&gt;88</title>\n<path fill=\"none\" stroke=\"#000000\" d=\"M1448.5,-1357.7677C1448.5,-1348.0161 1448.5,-1337.4937 1448.5,-1327.509\"/>\n<polygon fill=\"#000000\" stroke=\"#000000\" points=\"1452.0001,-1327.3535 1448.5,-1317.3535 1445.0001,-1327.3536 1452.0001,-1327.3535\"/>\n</g>\n<!-- 89 -->\n<g id=\"node90\" class=\"node\">\n<title>89</title>\n<path fill=\"#f1b991\" stroke=\"#000000\" d=\"M1608.5,-1322C1608.5,-1322 1528.5,-1322 1528.5,-1322 1522.5,-1322 1516.5,-1316 1516.5,-1310 1516.5,-1310 1516.5,-1256 1516.5,-1256 1516.5,-1250 1522.5,-1244 1528.5,-1244 1528.5,-1244 1608.5,-1244 1608.5,-1244 1614.5,-1244 1620.5,-1250 1620.5,-1256 1620.5,-1256 1620.5,-1310 1620.5,-1310 1620.5,-1316 1614.5,-1322 1608.5,-1322\"/>\n<text text-anchor=\"start\" x=\"1531.5\" y=\"-1307.8\" font-family=\"Helvetica,sans-Serif\" font-size=\"14.00\" fill=\"#000000\">X</text>\n<text text-anchor=\"start\" x=\"1541.5\" y=\"-1307.8\" font-family=\"Helvetica,sans-Serif\" baseline-shift=\"sub\" font-size=\"14.00\" fill=\"#000000\">2</text>\n<text text-anchor=\"start\" x=\"1548.5\" y=\"-1307.8\" font-family=\"Helvetica,sans-Serif\" font-size=\"14.00\" fill=\"#000000\"> ≤ &#45;0.245</text>\n<text text-anchor=\"start\" x=\"1530.5\" y=\"-1293.8\" font-family=\"Helvetica,sans-Serif\" font-size=\"14.00\" fill=\"#000000\">gini = 0.426</text>\n<text text-anchor=\"start\" x=\"1524.5\" y=\"-1279.8\" font-family=\"Helvetica,sans-Serif\" font-size=\"14.00\" fill=\"#000000\">samples = 13</text>\n<text text-anchor=\"start\" x=\"1527\" y=\"-1265.8\" font-family=\"Helvetica,sans-Serif\" font-size=\"14.00\" fill=\"#000000\">value = [9, 4]</text>\n<text text-anchor=\"start\" x=\"1539.5\" y=\"-1251.8\" font-family=\"Helvetica,sans-Serif\" font-size=\"14.00\" fill=\"#000000\">class = 1</text>\n</g>\n<!-- 87&#45;&gt;89 -->\n<g id=\"edge89\" class=\"edge\">\n<title>87&#45;&gt;89</title>\n<path fill=\"none\" stroke=\"#000000\" d=\"M1489.7972,-1357.7677C1499.4137,-1348.632 1509.7424,-1338.8198 1519.6506,-1329.407\"/>\n<polygon fill=\"#000000\" stroke=\"#000000\" points=\"1522.2873,-1331.7297 1527.1267,-1322.3046 1517.466,-1326.6547 1522.2873,-1331.7297\"/>\n</g>\n<!-- 90 -->\n<g id=\"node91\" class=\"node\">\n<title>90</title>\n<path fill=\"#e58139\" stroke=\"#000000\" d=\"M1605,-1203C1605,-1203 1530,-1203 1530,-1203 1524,-1203 1518,-1197 1518,-1191 1518,-1191 1518,-1147 1518,-1147 1518,-1141 1524,-1135 1530,-1135 1530,-1135 1605,-1135 1605,-1135 1611,-1135 1617,-1141 1617,-1147 1617,-1147 1617,-1191 1617,-1191 1617,-1197 1611,-1203 1605,-1203\"/>\n<text text-anchor=\"start\" x=\"1538\" y=\"-1187.8\" font-family=\"Helvetica,sans-Serif\" font-size=\"14.00\" fill=\"#000000\">gini = 0.0</text>\n<text text-anchor=\"start\" x=\"1528\" y=\"-1172.8\" font-family=\"Helvetica,sans-Serif\" font-size=\"14.00\" fill=\"#000000\">samples = 6</text>\n<text text-anchor=\"start\" x=\"1526\" y=\"-1157.8\" font-family=\"Helvetica,sans-Serif\" font-size=\"14.00\" fill=\"#000000\">value = [6, 0]</text>\n<text text-anchor=\"start\" x=\"1538.5\" y=\"-1142.8\" font-family=\"Helvetica,sans-Serif\" font-size=\"14.00\" fill=\"#000000\">class = 1</text>\n</g>\n<!-- 89&#45;&gt;90 -->\n<g id=\"edge90\" class=\"edge\">\n<title>89&#45;&gt;90</title>\n<path fill=\"none\" stroke=\"#000000\" d=\"M1568.1559,-1243.7677C1568.0703,-1234.0161 1567.978,-1223.4937 1567.8904,-1213.509\"/>\n<polygon fill=\"#000000\" stroke=\"#000000\" points=\"1571.389,-1213.3224 1567.8013,-1203.3535 1564.3893,-1213.3839 1571.389,-1213.3224\"/>\n</g>\n<!-- 91 -->\n<g id=\"node92\" class=\"node\">\n<title>91</title>\n<path fill=\"#cee6f8\" stroke=\"#000000\" d=\"M1722,-1208C1722,-1208 1647,-1208 1647,-1208 1641,-1208 1635,-1202 1635,-1196 1635,-1196 1635,-1142 1635,-1142 1635,-1136 1641,-1130 1647,-1130 1647,-1130 1722,-1130 1722,-1130 1728,-1130 1734,-1136 1734,-1142 1734,-1142 1734,-1196 1734,-1196 1734,-1202 1728,-1208 1722,-1208\"/>\n<text text-anchor=\"start\" x=\"1647.5\" y=\"-1193.8\" font-family=\"Helvetica,sans-Serif\" font-size=\"14.00\" fill=\"#000000\">X</text>\n<text text-anchor=\"start\" x=\"1657.5\" y=\"-1193.8\" font-family=\"Helvetica,sans-Serif\" baseline-shift=\"sub\" font-size=\"14.00\" fill=\"#000000\">2</text>\n<text text-anchor=\"start\" x=\"1664.5\" y=\"-1193.8\" font-family=\"Helvetica,sans-Serif\" font-size=\"14.00\" fill=\"#000000\"> ≤ &#45;0.096</text>\n<text text-anchor=\"start\" x=\"1651\" y=\"-1179.8\" font-family=\"Helvetica,sans-Serif\" font-size=\"14.00\" fill=\"#000000\">gini = 0.49</text>\n<text text-anchor=\"start\" x=\"1645\" y=\"-1165.8\" font-family=\"Helvetica,sans-Serif\" font-size=\"14.00\" fill=\"#000000\">samples = 7</text>\n<text text-anchor=\"start\" x=\"1643\" y=\"-1151.8\" font-family=\"Helvetica,sans-Serif\" font-size=\"14.00\" fill=\"#000000\">value = [3, 4]</text>\n<text text-anchor=\"start\" x=\"1655.5\" y=\"-1137.8\" font-family=\"Helvetica,sans-Serif\" font-size=\"14.00\" fill=\"#000000\">class = 1</text>\n</g>\n<!-- 89&#45;&gt;91 -->\n<g id=\"edge91\" class=\"edge\">\n<title>89&#45;&gt;91</title>\n<path fill=\"none\" stroke=\"#000000\" d=\"M1608.4206,-1243.7677C1617.7166,-1234.632 1627.7009,-1224.8198 1637.2789,-1215.407\"/>\n<polygon fill=\"#000000\" stroke=\"#000000\" points=\"1639.8268,-1217.8103 1644.5058,-1208.3046 1634.9202,-1212.8177 1639.8268,-1217.8103\"/>\n</g>\n<!-- 92 -->\n<g id=\"node93\" class=\"node\">\n<title>92</title>\n<path fill=\"#399de5\" stroke=\"#000000\" d=\"M1663,-1089C1663,-1089 1588,-1089 1588,-1089 1582,-1089 1576,-1083 1576,-1077 1576,-1077 1576,-1033 1576,-1033 1576,-1027 1582,-1021 1588,-1021 1588,-1021 1663,-1021 1663,-1021 1669,-1021 1675,-1027 1675,-1033 1675,-1033 1675,-1077 1675,-1077 1675,-1083 1669,-1089 1663,-1089\"/>\n<text text-anchor=\"start\" x=\"1596\" y=\"-1073.8\" font-family=\"Helvetica,sans-Serif\" font-size=\"14.00\" fill=\"#000000\">gini = 0.0</text>\n<text text-anchor=\"start\" x=\"1586\" y=\"-1058.8\" font-family=\"Helvetica,sans-Serif\" font-size=\"14.00\" fill=\"#000000\">samples = 2</text>\n<text text-anchor=\"start\" x=\"1584\" y=\"-1043.8\" font-family=\"Helvetica,sans-Serif\" font-size=\"14.00\" fill=\"#000000\">value = [0, 2]</text>\n<text text-anchor=\"start\" x=\"1596.5\" y=\"-1028.8\" font-family=\"Helvetica,sans-Serif\" font-size=\"14.00\" fill=\"#000000\">class = 1</text>\n</g>\n<!-- 91&#45;&gt;92 -->\n<g id=\"edge92\" class=\"edge\">\n<title>91&#45;&gt;92</title>\n<path fill=\"none\" stroke=\"#000000\" d=\"M1664.1955,-1129.7677C1658.9362,-1119.6055 1653.2436,-1108.6062 1647.8842,-1098.2508\"/>\n<polygon fill=\"#000000\" stroke=\"#000000\" points=\"1650.9842,-1096.6259 1643.2795,-1089.3535 1644.7675,-1099.8434 1650.9842,-1096.6259\"/>\n</g>\n<!-- 93 -->\n<g id=\"node94\" class=\"node\">\n<title>93</title>\n<path fill=\"#f6d5bd\" stroke=\"#000000\" d=\"M1780,-1094C1780,-1094 1705,-1094 1705,-1094 1699,-1094 1693,-1088 1693,-1082 1693,-1082 1693,-1028 1693,-1028 1693,-1022 1699,-1016 1705,-1016 1705,-1016 1780,-1016 1780,-1016 1786,-1016 1792,-1022 1792,-1028 1792,-1028 1792,-1082 1792,-1082 1792,-1088 1786,-1094 1780,-1094\"/>\n<text text-anchor=\"start\" x=\"1708\" y=\"-1079.8\" font-family=\"Helvetica,sans-Serif\" font-size=\"14.00\" fill=\"#000000\">X</text>\n<text text-anchor=\"start\" x=\"1718\" y=\"-1079.8\" font-family=\"Helvetica,sans-Serif\" baseline-shift=\"sub\" font-size=\"14.00\" fill=\"#000000\">0</text>\n<text text-anchor=\"start\" x=\"1725\" y=\"-1079.8\" font-family=\"Helvetica,sans-Serif\" font-size=\"14.00\" fill=\"#000000\"> ≤ 1.403</text>\n<text text-anchor=\"start\" x=\"1709\" y=\"-1065.8\" font-family=\"Helvetica,sans-Serif\" font-size=\"14.00\" fill=\"#000000\">gini = 0.48</text>\n<text text-anchor=\"start\" x=\"1703\" y=\"-1051.8\" font-family=\"Helvetica,sans-Serif\" font-size=\"14.00\" fill=\"#000000\">samples = 5</text>\n<text text-anchor=\"start\" x=\"1701\" y=\"-1037.8\" font-family=\"Helvetica,sans-Serif\" font-size=\"14.00\" fill=\"#000000\">value = [3, 2]</text>\n<text text-anchor=\"start\" x=\"1713.5\" y=\"-1023.8\" font-family=\"Helvetica,sans-Serif\" font-size=\"14.00\" fill=\"#000000\">class = 1</text>\n</g>\n<!-- 91&#45;&gt;93 -->\n<g id=\"edge93\" class=\"edge\">\n<title>91&#45;&gt;93</title>\n<path fill=\"none\" stroke=\"#000000\" d=\"M1704.4603,-1129.7677C1708.7893,-1121.259 1713.4169,-1112.1634 1717.9008,-1103.3502\"/>\n<polygon fill=\"#000000\" stroke=\"#000000\" points=\"1721.0877,-1104.8046 1722.5029,-1094.3046 1714.8488,-1101.6303 1721.0877,-1104.8046\"/>\n</g>\n<!-- 94 -->\n<g id=\"node95\" class=\"node\">\n<title>94</title>\n<path fill=\"#eeab7b\" stroke=\"#000000\" d=\"M1721,-980C1721,-980 1646,-980 1646,-980 1640,-980 1634,-974 1634,-968 1634,-968 1634,-914 1634,-914 1634,-908 1640,-902 1646,-902 1646,-902 1721,-902 1721,-902 1727,-902 1733,-908 1733,-914 1733,-914 1733,-968 1733,-968 1733,-974 1727,-980 1721,-980\"/>\n<text text-anchor=\"start\" x=\"1646.5\" y=\"-965.8\" font-family=\"Helvetica,sans-Serif\" font-size=\"14.00\" fill=\"#000000\">X</text>\n<text text-anchor=\"start\" x=\"1656.5\" y=\"-965.8\" font-family=\"Helvetica,sans-Serif\" baseline-shift=\"sub\" font-size=\"14.00\" fill=\"#000000\">6</text>\n<text text-anchor=\"start\" x=\"1663.5\" y=\"-965.8\" font-family=\"Helvetica,sans-Serif\" font-size=\"14.00\" fill=\"#000000\"> ≤ &#45;0.139</text>\n<text text-anchor=\"start\" x=\"1645.5\" y=\"-951.8\" font-family=\"Helvetica,sans-Serif\" font-size=\"14.00\" fill=\"#000000\">gini = 0.375</text>\n<text text-anchor=\"start\" x=\"1644\" y=\"-937.8\" font-family=\"Helvetica,sans-Serif\" font-size=\"14.00\" fill=\"#000000\">samples = 4</text>\n<text text-anchor=\"start\" x=\"1642\" y=\"-923.8\" font-family=\"Helvetica,sans-Serif\" font-size=\"14.00\" fill=\"#000000\">value = [3, 1]</text>\n<text text-anchor=\"start\" x=\"1654.5\" y=\"-909.8\" font-family=\"Helvetica,sans-Serif\" font-size=\"14.00\" fill=\"#000000\">class = 1</text>\n</g>\n<!-- 93&#45;&gt;94 -->\n<g id=\"edge94\" class=\"edge\">\n<title>93&#45;&gt;94</title>\n<path fill=\"none\" stroke=\"#000000\" d=\"M1722.1955,-1015.7677C1717.7919,-1007.259 1713.0845,-998.1634 1708.5233,-989.3502\"/>\n<polygon fill=\"#000000\" stroke=\"#000000\" points=\"1711.5467,-987.577 1703.8419,-980.3046 1705.3299,-990.7945 1711.5467,-987.577\"/>\n</g>\n<!-- 97 -->\n<g id=\"node98\" class=\"node\">\n<title>97</title>\n<path fill=\"#399de5\" stroke=\"#000000\" d=\"M1838,-975C1838,-975 1763,-975 1763,-975 1757,-975 1751,-969 1751,-963 1751,-963 1751,-919 1751,-919 1751,-913 1757,-907 1763,-907 1763,-907 1838,-907 1838,-907 1844,-907 1850,-913 1850,-919 1850,-919 1850,-963 1850,-963 1850,-969 1844,-975 1838,-975\"/>\n<text text-anchor=\"start\" x=\"1771\" y=\"-959.8\" font-family=\"Helvetica,sans-Serif\" font-size=\"14.00\" fill=\"#000000\">gini = 0.0</text>\n<text text-anchor=\"start\" x=\"1761\" y=\"-944.8\" font-family=\"Helvetica,sans-Serif\" font-size=\"14.00\" fill=\"#000000\">samples = 1</text>\n<text text-anchor=\"start\" x=\"1759\" y=\"-929.8\" font-family=\"Helvetica,sans-Serif\" font-size=\"14.00\" fill=\"#000000\">value = [0, 1]</text>\n<text text-anchor=\"start\" x=\"1771.5\" y=\"-914.8\" font-family=\"Helvetica,sans-Serif\" font-size=\"14.00\" fill=\"#000000\">class = 1</text>\n</g>\n<!-- 93&#45;&gt;97 -->\n<g id=\"edge97\" class=\"edge\">\n<title>93&#45;&gt;97</title>\n<path fill=\"none\" stroke=\"#000000\" d=\"M1762.4603,-1015.7677C1767.5783,-1005.7082 1773.1137,-994.8283 1778.3355,-984.5648\"/>\n<polygon fill=\"#000000\" stroke=\"#000000\" points=\"1781.6067,-985.8534 1783.0219,-975.3535 1775.3678,-982.6792 1781.6067,-985.8534\"/>\n</g>\n<!-- 95 -->\n<g id=\"node96\" class=\"node\">\n<title>95</title>\n<path fill=\"#399de5\" stroke=\"#000000\" d=\"M1663,-861C1663,-861 1588,-861 1588,-861 1582,-861 1576,-855 1576,-849 1576,-849 1576,-805 1576,-805 1576,-799 1582,-793 1588,-793 1588,-793 1663,-793 1663,-793 1669,-793 1675,-799 1675,-805 1675,-805 1675,-849 1675,-849 1675,-855 1669,-861 1663,-861\"/>\n<text text-anchor=\"start\" x=\"1596\" y=\"-845.8\" font-family=\"Helvetica,sans-Serif\" font-size=\"14.00\" fill=\"#000000\">gini = 0.0</text>\n<text text-anchor=\"start\" x=\"1586\" y=\"-830.8\" font-family=\"Helvetica,sans-Serif\" font-size=\"14.00\" fill=\"#000000\">samples = 1</text>\n<text text-anchor=\"start\" x=\"1584\" y=\"-815.8\" font-family=\"Helvetica,sans-Serif\" font-size=\"14.00\" fill=\"#000000\">value = [0, 1]</text>\n<text text-anchor=\"start\" x=\"1596.5\" y=\"-800.8\" font-family=\"Helvetica,sans-Serif\" font-size=\"14.00\" fill=\"#000000\">class = 1</text>\n</g>\n<!-- 94&#45;&gt;95 -->\n<g id=\"edge95\" class=\"edge\">\n<title>94&#45;&gt;95</title>\n<path fill=\"none\" stroke=\"#000000\" d=\"M1663.5397,-901.7677C1658.4217,-891.7082 1652.8863,-880.8283 1647.6645,-870.5648\"/>\n<polygon fill=\"#000000\" stroke=\"#000000\" points=\"1650.6322,-868.6792 1642.9781,-861.3535 1644.3933,-871.8534 1650.6322,-868.6792\"/>\n</g>\n<!-- 96 -->\n<g id=\"node97\" class=\"node\">\n<title>96</title>\n<path fill=\"#e58139\" stroke=\"#000000\" d=\"M1780,-861C1780,-861 1705,-861 1705,-861 1699,-861 1693,-855 1693,-849 1693,-849 1693,-805 1693,-805 1693,-799 1699,-793 1705,-793 1705,-793 1780,-793 1780,-793 1786,-793 1792,-799 1792,-805 1792,-805 1792,-849 1792,-849 1792,-855 1786,-861 1780,-861\"/>\n<text text-anchor=\"start\" x=\"1713\" y=\"-845.8\" font-family=\"Helvetica,sans-Serif\" font-size=\"14.00\" fill=\"#000000\">gini = 0.0</text>\n<text text-anchor=\"start\" x=\"1703\" y=\"-830.8\" font-family=\"Helvetica,sans-Serif\" font-size=\"14.00\" fill=\"#000000\">samples = 3</text>\n<text text-anchor=\"start\" x=\"1701\" y=\"-815.8\" font-family=\"Helvetica,sans-Serif\" font-size=\"14.00\" fill=\"#000000\">value = [3, 0]</text>\n<text text-anchor=\"start\" x=\"1713.5\" y=\"-800.8\" font-family=\"Helvetica,sans-Serif\" font-size=\"14.00\" fill=\"#000000\">class = 1</text>\n</g>\n<!-- 94&#45;&gt;96 -->\n<g id=\"edge96\" class=\"edge\">\n<title>94&#45;&gt;96</title>\n<path fill=\"none\" stroke=\"#000000\" d=\"M1703.8045,-901.7677C1709.0638,-891.6055 1714.7564,-880.6062 1720.1158,-870.2508\"/>\n<polygon fill=\"#000000\" stroke=\"#000000\" points=\"1723.2325,-871.8434 1724.7205,-861.3535 1717.0158,-868.6259 1723.2325,-871.8434\"/>\n</g>\n<!-- 100 -->\n<g id=\"node101\" class=\"node\">\n<title>100</title>\n<path fill=\"#399de5\" stroke=\"#000000\" d=\"M1391,-1773C1391,-1773 1316,-1773 1316,-1773 1310,-1773 1304,-1767 1304,-1761 1304,-1761 1304,-1717 1304,-1717 1304,-1711 1310,-1705 1316,-1705 1316,-1705 1391,-1705 1391,-1705 1397,-1705 1403,-1711 1403,-1717 1403,-1717 1403,-1761 1403,-1761 1403,-1767 1397,-1773 1391,-1773\"/>\n<text text-anchor=\"start\" x=\"1324\" y=\"-1757.8\" font-family=\"Helvetica,sans-Serif\" font-size=\"14.00\" fill=\"#000000\">gini = 0.0</text>\n<text text-anchor=\"start\" x=\"1314\" y=\"-1742.8\" font-family=\"Helvetica,sans-Serif\" font-size=\"14.00\" fill=\"#000000\">samples = 5</text>\n<text text-anchor=\"start\" x=\"1312\" y=\"-1727.8\" font-family=\"Helvetica,sans-Serif\" font-size=\"14.00\" fill=\"#000000\">value = [0, 5]</text>\n<text text-anchor=\"start\" x=\"1324.5\" y=\"-1712.8\" font-family=\"Helvetica,sans-Serif\" font-size=\"14.00\" fill=\"#000000\">class = 1</text>\n</g>\n<!-- 99&#45;&gt;100 -->\n<g id=\"edge100\" class=\"edge\">\n<title>99&#45;&gt;100</title>\n<path fill=\"none\" stroke=\"#000000\" d=\"M1356.1234,-1813.7677C1355.7813,-1804.0161 1355.4121,-1793.4937 1355.0617,-1783.509\"/>\n<polygon fill=\"#000000\" stroke=\"#000000\" points=\"1358.554,-1783.2246 1354.7054,-1773.3535 1351.5583,-1783.4701 1358.554,-1783.2246\"/>\n</g>\n<!-- 101 -->\n<g id=\"node102\" class=\"node\">\n<title>101</title>\n<path fill=\"#ffffff\" stroke=\"#000000\" d=\"M1508,-1778C1508,-1778 1433,-1778 1433,-1778 1427,-1778 1421,-1772 1421,-1766 1421,-1766 1421,-1712 1421,-1712 1421,-1706 1427,-1700 1433,-1700 1433,-1700 1508,-1700 1508,-1700 1514,-1700 1520,-1706 1520,-1712 1520,-1712 1520,-1766 1520,-1766 1520,-1772 1514,-1778 1508,-1778\"/>\n<text text-anchor=\"start\" x=\"1437.5\" y=\"-1763.8\" font-family=\"Helvetica,sans-Serif\" font-size=\"14.00\" fill=\"#000000\">X</text>\n<text text-anchor=\"start\" x=\"1447.5\" y=\"-1763.8\" font-family=\"Helvetica,sans-Serif\" baseline-shift=\"sub\" font-size=\"14.00\" fill=\"#000000\">6</text>\n<text text-anchor=\"start\" x=\"1454.5\" y=\"-1763.8\" font-family=\"Helvetica,sans-Serif\" font-size=\"14.00\" fill=\"#000000\"> ≤ &#45;0.43</text>\n<text text-anchor=\"start\" x=\"1441\" y=\"-1749.8\" font-family=\"Helvetica,sans-Serif\" font-size=\"14.00\" fill=\"#000000\">gini = 0.5</text>\n<text text-anchor=\"start\" x=\"1431\" y=\"-1735.8\" font-family=\"Helvetica,sans-Serif\" font-size=\"14.00\" fill=\"#000000\">samples = 6</text>\n<text text-anchor=\"start\" x=\"1429\" y=\"-1721.8\" font-family=\"Helvetica,sans-Serif\" font-size=\"14.00\" fill=\"#000000\">value = [3, 3]</text>\n<text text-anchor=\"start\" x=\"1441.5\" y=\"-1707.8\" font-family=\"Helvetica,sans-Serif\" font-size=\"14.00\" fill=\"#000000\">class = 1</text>\n</g>\n<!-- 99&#45;&gt;101 -->\n<g id=\"edge101\" class=\"edge\">\n<title>99&#45;&gt;101</title>\n<path fill=\"none\" stroke=\"#000000\" d=\"M1396.3882,-1813.7677C1405.4437,-1804.632 1415.1699,-1794.8198 1424.5001,-1785.407\"/>\n<polygon fill=\"#000000\" stroke=\"#000000\" points=\"1426.986,-1787.8708 1431.5401,-1778.3046 1422.0145,-1782.9429 1426.986,-1787.8708\"/>\n</g>\n<!-- 102 -->\n<g id=\"node103\" class=\"node\">\n<title>102</title>\n<path fill=\"#e58139\" stroke=\"#000000\" d=\"M1503,-1659C1503,-1659 1428,-1659 1428,-1659 1422,-1659 1416,-1653 1416,-1647 1416,-1647 1416,-1603 1416,-1603 1416,-1597 1422,-1591 1428,-1591 1428,-1591 1503,-1591 1503,-1591 1509,-1591 1515,-1597 1515,-1603 1515,-1603 1515,-1647 1515,-1647 1515,-1653 1509,-1659 1503,-1659\"/>\n<text text-anchor=\"start\" x=\"1436\" y=\"-1643.8\" font-family=\"Helvetica,sans-Serif\" font-size=\"14.00\" fill=\"#000000\">gini = 0.0</text>\n<text text-anchor=\"start\" x=\"1426\" y=\"-1628.8\" font-family=\"Helvetica,sans-Serif\" font-size=\"14.00\" fill=\"#000000\">samples = 2</text>\n<text text-anchor=\"start\" x=\"1424\" y=\"-1613.8\" font-family=\"Helvetica,sans-Serif\" font-size=\"14.00\" fill=\"#000000\">value = [2, 0]</text>\n<text text-anchor=\"start\" x=\"1436.5\" y=\"-1598.8\" font-family=\"Helvetica,sans-Serif\" font-size=\"14.00\" fill=\"#000000\">class = 1</text>\n</g>\n<!-- 101&#45;&gt;102 -->\n<g id=\"edge102\" class=\"edge\">\n<title>101&#45;&gt;102</title>\n<path fill=\"none\" stroke=\"#000000\" d=\"M1468.7793,-1699.7677C1468.3516,-1690.0161 1467.8901,-1679.4937 1467.4522,-1669.509\"/>\n<polygon fill=\"#000000\" stroke=\"#000000\" points=\"1470.9416,-1669.1905 1467.0067,-1659.3535 1463.9484,-1669.4973 1470.9416,-1669.1905\"/>\n</g>\n<!-- 103 -->\n<g id=\"node104\" class=\"node\">\n<title>103</title>\n<path fill=\"#7bbeee\" stroke=\"#000000\" d=\"M1620,-1664C1620,-1664 1545,-1664 1545,-1664 1539,-1664 1533,-1658 1533,-1652 1533,-1652 1533,-1598 1533,-1598 1533,-1592 1539,-1586 1545,-1586 1545,-1586 1620,-1586 1620,-1586 1626,-1586 1632,-1592 1632,-1598 1632,-1598 1632,-1652 1632,-1652 1632,-1658 1626,-1664 1620,-1664\"/>\n<text text-anchor=\"start\" x=\"1545.5\" y=\"-1649.8\" font-family=\"Helvetica,sans-Serif\" font-size=\"14.00\" fill=\"#000000\">X</text>\n<text text-anchor=\"start\" x=\"1555.5\" y=\"-1649.8\" font-family=\"Helvetica,sans-Serif\" baseline-shift=\"sub\" font-size=\"14.00\" fill=\"#000000\">6</text>\n<text text-anchor=\"start\" x=\"1562.5\" y=\"-1649.8\" font-family=\"Helvetica,sans-Serif\" font-size=\"14.00\" fill=\"#000000\"> ≤ &#45;0.236</text>\n<text text-anchor=\"start\" x=\"1544.5\" y=\"-1635.8\" font-family=\"Helvetica,sans-Serif\" font-size=\"14.00\" fill=\"#000000\">gini = 0.375</text>\n<text text-anchor=\"start\" x=\"1543\" y=\"-1621.8\" font-family=\"Helvetica,sans-Serif\" font-size=\"14.00\" fill=\"#000000\">samples = 4</text>\n<text text-anchor=\"start\" x=\"1541\" y=\"-1607.8\" font-family=\"Helvetica,sans-Serif\" font-size=\"14.00\" fill=\"#000000\">value = [1, 3]</text>\n<text text-anchor=\"start\" x=\"1553.5\" y=\"-1593.8\" font-family=\"Helvetica,sans-Serif\" font-size=\"14.00\" fill=\"#000000\">class = 1</text>\n</g>\n<!-- 101&#45;&gt;103 -->\n<g id=\"edge103\" class=\"edge\">\n<title>101&#45;&gt;103</title>\n<path fill=\"none\" stroke=\"#000000\" d=\"M1509.044,-1699.7677C1517.9314,-1690.7216 1527.4706,-1681.0121 1536.6351,-1671.6839\"/>\n<polygon fill=\"#000000\" stroke=\"#000000\" points=\"1539.3733,-1673.8909 1543.8849,-1664.3046 1534.38,-1668.9852 1539.3733,-1673.8909\"/>\n</g>\n<!-- 104 -->\n<g id=\"node105\" class=\"node\">\n<title>104</title>\n<path fill=\"#399de5\" stroke=\"#000000\" d=\"M1607,-1545C1607,-1545 1532,-1545 1532,-1545 1526,-1545 1520,-1539 1520,-1533 1520,-1533 1520,-1489 1520,-1489 1520,-1483 1526,-1477 1532,-1477 1532,-1477 1607,-1477 1607,-1477 1613,-1477 1619,-1483 1619,-1489 1619,-1489 1619,-1533 1619,-1533 1619,-1539 1613,-1545 1607,-1545\"/>\n<text text-anchor=\"start\" x=\"1540\" y=\"-1529.8\" font-family=\"Helvetica,sans-Serif\" font-size=\"14.00\" fill=\"#000000\">gini = 0.0</text>\n<text text-anchor=\"start\" x=\"1530\" y=\"-1514.8\" font-family=\"Helvetica,sans-Serif\" font-size=\"14.00\" fill=\"#000000\">samples = 2</text>\n<text text-anchor=\"start\" x=\"1528\" y=\"-1499.8\" font-family=\"Helvetica,sans-Serif\" font-size=\"14.00\" fill=\"#000000\">value = [0, 2]</text>\n<text text-anchor=\"start\" x=\"1540.5\" y=\"-1484.8\" font-family=\"Helvetica,sans-Serif\" font-size=\"14.00\" fill=\"#000000\">class = 1</text>\n</g>\n<!-- 103&#45;&gt;104 -->\n<g id=\"edge104\" class=\"edge\">\n<title>103&#45;&gt;104</title>\n<path fill=\"none\" stroke=\"#000000\" d=\"M1578.0261,-1585.7677C1576.9141,-1576.0161 1575.7142,-1565.4937 1574.5756,-1555.509\"/>\n<polygon fill=\"#000000\" stroke=\"#000000\" points=\"1578.0281,-1554.8925 1573.4175,-1545.3535 1571.0731,-1555.6857 1578.0281,-1554.8925\"/>\n</g>\n<!-- 105 -->\n<g id=\"node106\" class=\"node\">\n<title>105</title>\n<path fill=\"#ffffff\" stroke=\"#000000\" d=\"M1724,-1550C1724,-1550 1649,-1550 1649,-1550 1643,-1550 1637,-1544 1637,-1538 1637,-1538 1637,-1484 1637,-1484 1637,-1478 1643,-1472 1649,-1472 1649,-1472 1724,-1472 1724,-1472 1730,-1472 1736,-1478 1736,-1484 1736,-1484 1736,-1538 1736,-1538 1736,-1544 1730,-1550 1724,-1550\"/>\n<text text-anchor=\"start\" x=\"1652\" y=\"-1535.8\" font-family=\"Helvetica,sans-Serif\" font-size=\"14.00\" fill=\"#000000\">X</text>\n<text text-anchor=\"start\" x=\"1662\" y=\"-1535.8\" font-family=\"Helvetica,sans-Serif\" baseline-shift=\"sub\" font-size=\"14.00\" fill=\"#000000\">0</text>\n<text text-anchor=\"start\" x=\"1669\" y=\"-1535.8\" font-family=\"Helvetica,sans-Serif\" font-size=\"14.00\" fill=\"#000000\"> ≤ 1.909</text>\n<text text-anchor=\"start\" x=\"1657\" y=\"-1521.8\" font-family=\"Helvetica,sans-Serif\" font-size=\"14.00\" fill=\"#000000\">gini = 0.5</text>\n<text text-anchor=\"start\" x=\"1647\" y=\"-1507.8\" font-family=\"Helvetica,sans-Serif\" font-size=\"14.00\" fill=\"#000000\">samples = 2</text>\n<text text-anchor=\"start\" x=\"1645\" y=\"-1493.8\" font-family=\"Helvetica,sans-Serif\" font-size=\"14.00\" fill=\"#000000\">value = [1, 1]</text>\n<text text-anchor=\"start\" x=\"1657.5\" y=\"-1479.8\" font-family=\"Helvetica,sans-Serif\" font-size=\"14.00\" fill=\"#000000\">class = 1</text>\n</g>\n<!-- 103&#45;&gt;105 -->\n<g id=\"edge105\" class=\"edge\">\n<title>103&#45;&gt;105</title>\n<path fill=\"none\" stroke=\"#000000\" d=\"M1618.2909,-1585.7677C1626.4618,-1576.8111 1635.2259,-1567.2043 1643.6583,-1557.9611\"/>\n<polygon fill=\"#000000\" stroke=\"#000000\" points=\"1646.4892,-1560.0512 1650.6431,-1550.3046 1641.3178,-1555.3335 1646.4892,-1560.0512\"/>\n</g>\n<!-- 106 -->\n<g id=\"node107\" class=\"node\">\n<title>106</title>\n<path fill=\"#399de5\" stroke=\"#000000\" d=\"M1724,-1431C1724,-1431 1649,-1431 1649,-1431 1643,-1431 1637,-1425 1637,-1419 1637,-1419 1637,-1375 1637,-1375 1637,-1369 1643,-1363 1649,-1363 1649,-1363 1724,-1363 1724,-1363 1730,-1363 1736,-1369 1736,-1375 1736,-1375 1736,-1419 1736,-1419 1736,-1425 1730,-1431 1724,-1431\"/>\n<text text-anchor=\"start\" x=\"1657\" y=\"-1415.8\" font-family=\"Helvetica,sans-Serif\" font-size=\"14.00\" fill=\"#000000\">gini = 0.0</text>\n<text text-anchor=\"start\" x=\"1647\" y=\"-1400.8\" font-family=\"Helvetica,sans-Serif\" font-size=\"14.00\" fill=\"#000000\">samples = 1</text>\n<text text-anchor=\"start\" x=\"1645\" y=\"-1385.8\" font-family=\"Helvetica,sans-Serif\" font-size=\"14.00\" fill=\"#000000\">value = [0, 1]</text>\n<text text-anchor=\"start\" x=\"1657.5\" y=\"-1370.8\" font-family=\"Helvetica,sans-Serif\" font-size=\"14.00\" fill=\"#000000\">class = 1</text>\n</g>\n<!-- 105&#45;&gt;106 -->\n<g id=\"edge106\" class=\"edge\">\n<title>105&#45;&gt;106</title>\n<path fill=\"none\" stroke=\"#000000\" d=\"M1686.5,-1471.7677C1686.5,-1462.0161 1686.5,-1451.4937 1686.5,-1441.509\"/>\n<polygon fill=\"#000000\" stroke=\"#000000\" points=\"1690.0001,-1441.3535 1686.5,-1431.3535 1683.0001,-1441.3536 1690.0001,-1441.3535\"/>\n</g>\n<!-- 107 -->\n<g id=\"node108\" class=\"node\">\n<title>107</title>\n<path fill=\"#e58139\" stroke=\"#000000\" d=\"M1841,-1431C1841,-1431 1766,-1431 1766,-1431 1760,-1431 1754,-1425 1754,-1419 1754,-1419 1754,-1375 1754,-1375 1754,-1369 1760,-1363 1766,-1363 1766,-1363 1841,-1363 1841,-1363 1847,-1363 1853,-1369 1853,-1375 1853,-1375 1853,-1419 1853,-1419 1853,-1425 1847,-1431 1841,-1431\"/>\n<text text-anchor=\"start\" x=\"1774\" y=\"-1415.8\" font-family=\"Helvetica,sans-Serif\" font-size=\"14.00\" fill=\"#000000\">gini = 0.0</text>\n<text text-anchor=\"start\" x=\"1764\" y=\"-1400.8\" font-family=\"Helvetica,sans-Serif\" font-size=\"14.00\" fill=\"#000000\">samples = 1</text>\n<text text-anchor=\"start\" x=\"1762\" y=\"-1385.8\" font-family=\"Helvetica,sans-Serif\" font-size=\"14.00\" fill=\"#000000\">value = [1, 0]</text>\n<text text-anchor=\"start\" x=\"1774.5\" y=\"-1370.8\" font-family=\"Helvetica,sans-Serif\" font-size=\"14.00\" fill=\"#000000\">class = 1</text>\n</g>\n<!-- 105&#45;&gt;107 -->\n<g id=\"edge107\" class=\"edge\">\n<title>105&#45;&gt;107</title>\n<path fill=\"none\" stroke=\"#000000\" d=\"M1726.7648,-1471.7677C1737.8264,-1460.9896 1749.8546,-1449.2699 1761.0358,-1438.3754\"/>\n<polygon fill=\"#000000\" stroke=\"#000000\" points=\"1763.5227,-1440.839 1768.2424,-1431.3535 1758.6376,-1435.8254 1763.5227,-1440.839\"/>\n</g>\n<!-- 109 -->\n<g id=\"node110\" class=\"node\">\n<title>109</title>\n<path fill=\"#399de5\" stroke=\"#000000\" d=\"M1564,-1887C1564,-1887 1481,-1887 1481,-1887 1475,-1887 1469,-1881 1469,-1875 1469,-1875 1469,-1831 1469,-1831 1469,-1825 1475,-1819 1481,-1819 1481,-1819 1564,-1819 1564,-1819 1570,-1819 1576,-1825 1576,-1831 1576,-1831 1576,-1875 1576,-1875 1576,-1881 1570,-1887 1564,-1887\"/>\n<text text-anchor=\"start\" x=\"1493\" y=\"-1871.8\" font-family=\"Helvetica,sans-Serif\" font-size=\"14.00\" fill=\"#000000\">gini = 0.0</text>\n<text text-anchor=\"start\" x=\"1478.5\" y=\"-1856.8\" font-family=\"Helvetica,sans-Serif\" font-size=\"14.00\" fill=\"#000000\">samples = 14</text>\n<text text-anchor=\"start\" x=\"1477\" y=\"-1841.8\" font-family=\"Helvetica,sans-Serif\" font-size=\"14.00\" fill=\"#000000\">value = [0, 14]</text>\n<text text-anchor=\"start\" x=\"1493.5\" y=\"-1826.8\" font-family=\"Helvetica,sans-Serif\" font-size=\"14.00\" fill=\"#000000\">class = 1</text>\n</g>\n<!-- 108&#45;&gt;109 -->\n<g id=\"edge109\" class=\"edge\">\n<title>108&#45;&gt;109</title>\n<path fill=\"none\" stroke=\"#000000\" d=\"M1522.5,-1927.7677C1522.5,-1918.0161 1522.5,-1907.4937 1522.5,-1897.509\"/>\n<polygon fill=\"#000000\" stroke=\"#000000\" points=\"1526.0001,-1897.3535 1522.5,-1887.3535 1519.0001,-1897.3536 1526.0001,-1897.3535\"/>\n</g>\n<!-- 110 -->\n<g id=\"node111\" class=\"node\">\n<title>110</title>\n<path fill=\"#a1d1f3\" stroke=\"#000000\" d=\"M1777.5,-1892C1777.5,-1892 1685.5,-1892 1685.5,-1892 1679.5,-1892 1673.5,-1886 1673.5,-1880 1673.5,-1880 1673.5,-1826 1673.5,-1826 1673.5,-1820 1679.5,-1814 1685.5,-1814 1685.5,-1814 1777.5,-1814 1777.5,-1814 1783.5,-1814 1789.5,-1820 1789.5,-1826 1789.5,-1826 1789.5,-1880 1789.5,-1880 1789.5,-1886 1783.5,-1892 1777.5,-1892\"/>\n<text text-anchor=\"start\" x=\"1694.5\" y=\"-1877.8\" font-family=\"Helvetica,sans-Serif\" font-size=\"14.00\" fill=\"#000000\">X</text>\n<text text-anchor=\"start\" x=\"1704.5\" y=\"-1877.8\" font-family=\"Helvetica,sans-Serif\" baseline-shift=\"sub\" font-size=\"14.00\" fill=\"#000000\">5</text>\n<text text-anchor=\"start\" x=\"1711.5\" y=\"-1877.8\" font-family=\"Helvetica,sans-Serif\" font-size=\"14.00\" fill=\"#000000\"> ≤ &#45;0.608</text>\n<text text-anchor=\"start\" x=\"1693.5\" y=\"-1863.8\" font-family=\"Helvetica,sans-Serif\" font-size=\"14.00\" fill=\"#000000\">gini = 0.452</text>\n<text text-anchor=\"start\" x=\"1687.5\" y=\"-1849.8\" font-family=\"Helvetica,sans-Serif\" font-size=\"14.00\" fill=\"#000000\">samples = 29</text>\n<text text-anchor=\"start\" x=\"1681.5\" y=\"-1835.8\" font-family=\"Helvetica,sans-Serif\" font-size=\"14.00\" fill=\"#000000\">value = [10, 19]</text>\n<text text-anchor=\"start\" x=\"1702.5\" y=\"-1821.8\" font-family=\"Helvetica,sans-Serif\" font-size=\"14.00\" fill=\"#000000\">class = 1</text>\n</g>\n<!-- 108&#45;&gt;110 -->\n<g id=\"edge110\" class=\"edge\">\n<title>108&#45;&gt;110</title>\n<path fill=\"none\" stroke=\"#000000\" d=\"M1580.7182,-1935.2446C1606.6537,-1921.098 1637.3556,-1904.3515 1664.2642,-1889.6741\"/>\n<polygon fill=\"#000000\" stroke=\"#000000\" points=\"1666.129,-1892.6438 1673.2319,-1884.7826 1662.777,-1886.4985 1666.129,-1892.6438\"/>\n</g>\n<!-- 111 -->\n<g id=\"node112\" class=\"node\">\n<title>111</title>\n<path fill=\"#399de5\" stroke=\"#000000\" d=\"M1769,-1773C1769,-1773 1694,-1773 1694,-1773 1688,-1773 1682,-1767 1682,-1761 1682,-1761 1682,-1717 1682,-1717 1682,-1711 1688,-1705 1694,-1705 1694,-1705 1769,-1705 1769,-1705 1775,-1705 1781,-1711 1781,-1717 1781,-1717 1781,-1761 1781,-1761 1781,-1767 1775,-1773 1769,-1773\"/>\n<text text-anchor=\"start\" x=\"1702\" y=\"-1757.8\" font-family=\"Helvetica,sans-Serif\" font-size=\"14.00\" fill=\"#000000\">gini = 0.0</text>\n<text text-anchor=\"start\" x=\"1692\" y=\"-1742.8\" font-family=\"Helvetica,sans-Serif\" font-size=\"14.00\" fill=\"#000000\">samples = 6</text>\n<text text-anchor=\"start\" x=\"1690\" y=\"-1727.8\" font-family=\"Helvetica,sans-Serif\" font-size=\"14.00\" fill=\"#000000\">value = [0, 6]</text>\n<text text-anchor=\"start\" x=\"1702.5\" y=\"-1712.8\" font-family=\"Helvetica,sans-Serif\" font-size=\"14.00\" fill=\"#000000\">class = 1</text>\n</g>\n<!-- 110&#45;&gt;111 -->\n<g id=\"edge111\" class=\"edge\">\n<title>110&#45;&gt;111</title>\n<path fill=\"none\" stroke=\"#000000\" d=\"M1731.5,-1813.7677C1731.5,-1804.0161 1731.5,-1793.4937 1731.5,-1783.509\"/>\n<polygon fill=\"#000000\" stroke=\"#000000\" points=\"1735.0001,-1783.3535 1731.5,-1773.3535 1728.0001,-1783.3536 1735.0001,-1783.3535\"/>\n</g>\n<!-- 112 -->\n<g id=\"node113\" class=\"node\">\n<title>112</title>\n<path fill=\"#d1e8f9\" stroke=\"#000000\" d=\"M1906.5,-1778C1906.5,-1778 1814.5,-1778 1814.5,-1778 1808.5,-1778 1802.5,-1772 1802.5,-1766 1802.5,-1766 1802.5,-1712 1802.5,-1712 1802.5,-1706 1808.5,-1700 1814.5,-1700 1814.5,-1700 1906.5,-1700 1906.5,-1700 1912.5,-1700 1918.5,-1706 1918.5,-1712 1918.5,-1712 1918.5,-1766 1918.5,-1766 1918.5,-1772 1912.5,-1778 1906.5,-1778\"/>\n<text text-anchor=\"start\" x=\"1823.5\" y=\"-1763.8\" font-family=\"Helvetica,sans-Serif\" font-size=\"14.00\" fill=\"#000000\">X</text>\n<text text-anchor=\"start\" x=\"1833.5\" y=\"-1763.8\" font-family=\"Helvetica,sans-Serif\" baseline-shift=\"sub\" font-size=\"14.00\" fill=\"#000000\">7</text>\n<text text-anchor=\"start\" x=\"1840.5\" y=\"-1763.8\" font-family=\"Helvetica,sans-Serif\" font-size=\"14.00\" fill=\"#000000\"> ≤ &#45;0.312</text>\n<text text-anchor=\"start\" x=\"1822.5\" y=\"-1749.8\" font-family=\"Helvetica,sans-Serif\" font-size=\"14.00\" fill=\"#000000\">gini = 0.491</text>\n<text text-anchor=\"start\" x=\"1816.5\" y=\"-1735.8\" font-family=\"Helvetica,sans-Serif\" font-size=\"14.00\" fill=\"#000000\">samples = 23</text>\n<text text-anchor=\"start\" x=\"1810.5\" y=\"-1721.8\" font-family=\"Helvetica,sans-Serif\" font-size=\"14.00\" fill=\"#000000\">value = [10, 13]</text>\n<text text-anchor=\"start\" x=\"1831.5\" y=\"-1707.8\" font-family=\"Helvetica,sans-Serif\" font-size=\"14.00\" fill=\"#000000\">class = 1</text>\n</g>\n<!-- 110&#45;&gt;112 -->\n<g id=\"edge112\" class=\"edge\">\n<title>110&#45;&gt;112</title>\n<path fill=\"none\" stroke=\"#000000\" d=\"M1775.8945,-1813.7677C1786.3336,-1804.5424 1797.5533,-1794.6273 1808.3,-1785.1302\"/>\n<polygon fill=\"#000000\" stroke=\"#000000\" points=\"1810.8481,-1787.5493 1816.0237,-1778.3046 1806.2127,-1782.304 1810.8481,-1787.5493\"/>\n</g>\n<!-- 113 -->\n<g id=\"node114\" class=\"node\">\n<title>113</title>\n<path fill=\"#6ab6ec\" stroke=\"#000000\" d=\"M1900.5,-1664C1900.5,-1664 1820.5,-1664 1820.5,-1664 1814.5,-1664 1808.5,-1658 1808.5,-1652 1808.5,-1652 1808.5,-1598 1808.5,-1598 1808.5,-1592 1814.5,-1586 1820.5,-1586 1820.5,-1586 1900.5,-1586 1900.5,-1586 1906.5,-1586 1912.5,-1592 1912.5,-1598 1912.5,-1598 1912.5,-1652 1912.5,-1652 1912.5,-1658 1906.5,-1664 1900.5,-1664\"/>\n<text text-anchor=\"start\" x=\"1823.5\" y=\"-1649.8\" font-family=\"Helvetica,sans-Serif\" font-size=\"14.00\" fill=\"#000000\">X</text>\n<text text-anchor=\"start\" x=\"1833.5\" y=\"-1649.8\" font-family=\"Helvetica,sans-Serif\" baseline-shift=\"sub\" font-size=\"14.00\" fill=\"#000000\">2</text>\n<text text-anchor=\"start\" x=\"1840.5\" y=\"-1649.8\" font-family=\"Helvetica,sans-Serif\" font-size=\"14.00\" fill=\"#000000\"> ≤ &#45;0.465</text>\n<text text-anchor=\"start\" x=\"1827\" y=\"-1635.8\" font-family=\"Helvetica,sans-Serif\" font-size=\"14.00\" fill=\"#000000\">gini = 0.32</text>\n<text text-anchor=\"start\" x=\"1816.5\" y=\"-1621.8\" font-family=\"Helvetica,sans-Serif\" font-size=\"14.00\" fill=\"#000000\">samples = 10</text>\n<text text-anchor=\"start\" x=\"1819\" y=\"-1607.8\" font-family=\"Helvetica,sans-Serif\" font-size=\"14.00\" fill=\"#000000\">value = [2, 8]</text>\n<text text-anchor=\"start\" x=\"1831.5\" y=\"-1593.8\" font-family=\"Helvetica,sans-Serif\" font-size=\"14.00\" fill=\"#000000\">class = 1</text>\n</g>\n<!-- 112&#45;&gt;113 -->\n<g id=\"edge113\" class=\"edge\">\n<title>112&#45;&gt;113</title>\n<path fill=\"none\" stroke=\"#000000\" d=\"M1860.5,-1699.7677C1860.5,-1691.6172 1860.5,-1682.9283 1860.5,-1674.4649\"/>\n<polygon fill=\"#000000\" stroke=\"#000000\" points=\"1864.0001,-1674.3046 1860.5,-1664.3046 1857.0001,-1674.3047 1864.0001,-1674.3046\"/>\n</g>\n<!-- 116 -->\n<g id=\"node117\" class=\"node\">\n<title>116</title>\n<path fill=\"#f5d0b5\" stroke=\"#000000\" d=\"M2080.5,-1664C2080.5,-1664 2000.5,-1664 2000.5,-1664 1994.5,-1664 1988.5,-1658 1988.5,-1652 1988.5,-1652 1988.5,-1598 1988.5,-1598 1988.5,-1592 1994.5,-1586 2000.5,-1586 2000.5,-1586 2080.5,-1586 2080.5,-1586 2086.5,-1586 2092.5,-1592 2092.5,-1598 2092.5,-1598 2092.5,-1652 2092.5,-1652 2092.5,-1658 2086.5,-1664 2080.5,-1664\"/>\n<text text-anchor=\"start\" x=\"2006\" y=\"-1649.8\" font-family=\"Helvetica,sans-Serif\" font-size=\"14.00\" fill=\"#000000\">X</text>\n<text text-anchor=\"start\" x=\"2016\" y=\"-1649.8\" font-family=\"Helvetica,sans-Serif\" baseline-shift=\"sub\" font-size=\"14.00\" fill=\"#000000\">5</text>\n<text text-anchor=\"start\" x=\"2023\" y=\"-1649.8\" font-family=\"Helvetica,sans-Serif\" font-size=\"14.00\" fill=\"#000000\"> ≤ 0.939</text>\n<text text-anchor=\"start\" x=\"2002.5\" y=\"-1635.8\" font-family=\"Helvetica,sans-Serif\" font-size=\"14.00\" fill=\"#000000\">gini = 0.473</text>\n<text text-anchor=\"start\" x=\"1996.5\" y=\"-1621.8\" font-family=\"Helvetica,sans-Serif\" font-size=\"14.00\" fill=\"#000000\">samples = 13</text>\n<text text-anchor=\"start\" x=\"1999\" y=\"-1607.8\" font-family=\"Helvetica,sans-Serif\" font-size=\"14.00\" fill=\"#000000\">value = [8, 5]</text>\n<text text-anchor=\"start\" x=\"2011.5\" y=\"-1593.8\" font-family=\"Helvetica,sans-Serif\" font-size=\"14.00\" fill=\"#000000\">class = 1</text>\n</g>\n<!-- 112&#45;&gt;116 -->\n<g id=\"edge116\" class=\"edge\">\n<title>112&#45;&gt;116</title>\n<path fill=\"none\" stroke=\"#000000\" d=\"M1918.9408,-1701.9875C1938.4347,-1689.6414 1960.1902,-1675.8628 1979.8482,-1663.4128\"/>\n<polygon fill=\"#000000\" stroke=\"#000000\" points=\"1981.8478,-1666.2893 1988.4233,-1657.9819 1978.1024,-1660.3756 1981.8478,-1666.2893\"/>\n</g>\n<!-- 114 -->\n<g id=\"node115\" class=\"node\">\n<title>114</title>\n<path fill=\"#e58139\" stroke=\"#000000\" d=\"M1841,-1545C1841,-1545 1766,-1545 1766,-1545 1760,-1545 1754,-1539 1754,-1533 1754,-1533 1754,-1489 1754,-1489 1754,-1483 1760,-1477 1766,-1477 1766,-1477 1841,-1477 1841,-1477 1847,-1477 1853,-1483 1853,-1489 1853,-1489 1853,-1533 1853,-1533 1853,-1539 1847,-1545 1841,-1545\"/>\n<text text-anchor=\"start\" x=\"1774\" y=\"-1529.8\" font-family=\"Helvetica,sans-Serif\" font-size=\"14.00\" fill=\"#000000\">gini = 0.0</text>\n<text text-anchor=\"start\" x=\"1764\" y=\"-1514.8\" font-family=\"Helvetica,sans-Serif\" font-size=\"14.00\" fill=\"#000000\">samples = 2</text>\n<text text-anchor=\"start\" x=\"1762\" y=\"-1499.8\" font-family=\"Helvetica,sans-Serif\" font-size=\"14.00\" fill=\"#000000\">value = [2, 0]</text>\n<text text-anchor=\"start\" x=\"1774.5\" y=\"-1484.8\" font-family=\"Helvetica,sans-Serif\" font-size=\"14.00\" fill=\"#000000\">class = 1</text>\n</g>\n<!-- 113&#45;&gt;114 -->\n<g id=\"edge114\" class=\"edge\">\n<title>113&#45;&gt;114</title>\n<path fill=\"none\" stroke=\"#000000\" d=\"M1840.8838,-1585.7677C1835.8541,-1575.7082 1830.4142,-1564.8283 1825.2824,-1554.5648\"/>\n<polygon fill=\"#000000\" stroke=\"#000000\" points=\"1828.2794,-1552.7325 1820.6768,-1545.3535 1822.0185,-1555.8631 1828.2794,-1552.7325\"/>\n</g>\n<!-- 115 -->\n<g id=\"node116\" class=\"node\">\n<title>115</title>\n<path fill=\"#399de5\" stroke=\"#000000\" d=\"M1958,-1545C1958,-1545 1883,-1545 1883,-1545 1877,-1545 1871,-1539 1871,-1533 1871,-1533 1871,-1489 1871,-1489 1871,-1483 1877,-1477 1883,-1477 1883,-1477 1958,-1477 1958,-1477 1964,-1477 1970,-1483 1970,-1489 1970,-1489 1970,-1533 1970,-1533 1970,-1539 1964,-1545 1958,-1545\"/>\n<text text-anchor=\"start\" x=\"1891\" y=\"-1529.8\" font-family=\"Helvetica,sans-Serif\" font-size=\"14.00\" fill=\"#000000\">gini = 0.0</text>\n<text text-anchor=\"start\" x=\"1881\" y=\"-1514.8\" font-family=\"Helvetica,sans-Serif\" font-size=\"14.00\" fill=\"#000000\">samples = 8</text>\n<text text-anchor=\"start\" x=\"1879\" y=\"-1499.8\" font-family=\"Helvetica,sans-Serif\" font-size=\"14.00\" fill=\"#000000\">value = [0, 8]</text>\n<text text-anchor=\"start\" x=\"1891.5\" y=\"-1484.8\" font-family=\"Helvetica,sans-Serif\" font-size=\"14.00\" fill=\"#000000\">class = 1</text>\n</g>\n<!-- 113&#45;&gt;115 -->\n<g id=\"edge115\" class=\"edge\">\n<title>113&#45;&gt;115</title>\n<path fill=\"none\" stroke=\"#000000\" d=\"M1881.1486,-1585.7677C1886.4971,-1575.6055 1892.2862,-1564.6062 1897.7364,-1554.2508\"/>\n<polygon fill=\"#000000\" stroke=\"#000000\" points=\"1900.8589,-1555.8328 1902.4192,-1545.3535 1894.6645,-1552.5726 1900.8589,-1555.8328\"/>\n</g>\n<!-- 117 -->\n<g id=\"node118\" class=\"node\">\n<title>117</title>\n<path fill=\"#efb083\" stroke=\"#000000\" d=\"M2080.5,-1550C2080.5,-1550 2000.5,-1550 2000.5,-1550 1994.5,-1550 1988.5,-1544 1988.5,-1538 1988.5,-1538 1988.5,-1484 1988.5,-1484 1988.5,-1478 1994.5,-1472 2000.5,-1472 2000.5,-1472 2080.5,-1472 2080.5,-1472 2086.5,-1472 2092.5,-1478 2092.5,-1484 2092.5,-1484 2092.5,-1538 2092.5,-1538 2092.5,-1544 2086.5,-1550 2080.5,-1550\"/>\n<text text-anchor=\"start\" x=\"2006\" y=\"-1535.8\" font-family=\"Helvetica,sans-Serif\" font-size=\"14.00\" fill=\"#000000\">X</text>\n<text text-anchor=\"start\" x=\"2016\" y=\"-1535.8\" font-family=\"Helvetica,sans-Serif\" baseline-shift=\"sub\" font-size=\"14.00\" fill=\"#000000\">1</text>\n<text text-anchor=\"start\" x=\"2023\" y=\"-1535.8\" font-family=\"Helvetica,sans-Serif\" font-size=\"14.00\" fill=\"#000000\"> ≤ 0.138</text>\n<text text-anchor=\"start\" x=\"2002.5\" y=\"-1521.8\" font-family=\"Helvetica,sans-Serif\" font-size=\"14.00\" fill=\"#000000\">gini = 0.397</text>\n<text text-anchor=\"start\" x=\"1996.5\" y=\"-1507.8\" font-family=\"Helvetica,sans-Serif\" font-size=\"14.00\" fill=\"#000000\">samples = 11</text>\n<text text-anchor=\"start\" x=\"1999\" y=\"-1493.8\" font-family=\"Helvetica,sans-Serif\" font-size=\"14.00\" fill=\"#000000\">value = [8, 3]</text>\n<text text-anchor=\"start\" x=\"2011.5\" y=\"-1479.8\" font-family=\"Helvetica,sans-Serif\" font-size=\"14.00\" fill=\"#000000\">class = 1</text>\n</g>\n<!-- 116&#45;&gt;117 -->\n<g id=\"edge117\" class=\"edge\">\n<title>116&#45;&gt;117</title>\n<path fill=\"none\" stroke=\"#000000\" d=\"M2040.5,-1585.7677C2040.5,-1577.6172 2040.5,-1568.9283 2040.5,-1560.4649\"/>\n<polygon fill=\"#000000\" stroke=\"#000000\" points=\"2044.0001,-1560.3046 2040.5,-1550.3046 2037.0001,-1560.3047 2044.0001,-1560.3046\"/>\n</g>\n<!-- 124 -->\n<g id=\"node125\" class=\"node\">\n<title>124</title>\n<path fill=\"#399de5\" stroke=\"#000000\" d=\"M2198,-1545C2198,-1545 2123,-1545 2123,-1545 2117,-1545 2111,-1539 2111,-1533 2111,-1533 2111,-1489 2111,-1489 2111,-1483 2117,-1477 2123,-1477 2123,-1477 2198,-1477 2198,-1477 2204,-1477 2210,-1483 2210,-1489 2210,-1489 2210,-1533 2210,-1533 2210,-1539 2204,-1545 2198,-1545\"/>\n<text text-anchor=\"start\" x=\"2131\" y=\"-1529.8\" font-family=\"Helvetica,sans-Serif\" font-size=\"14.00\" fill=\"#000000\">gini = 0.0</text>\n<text text-anchor=\"start\" x=\"2121\" y=\"-1514.8\" font-family=\"Helvetica,sans-Serif\" font-size=\"14.00\" fill=\"#000000\">samples = 2</text>\n<text text-anchor=\"start\" x=\"2119\" y=\"-1499.8\" font-family=\"Helvetica,sans-Serif\" font-size=\"14.00\" fill=\"#000000\">value = [0, 2]</text>\n<text text-anchor=\"start\" x=\"2131.5\" y=\"-1484.8\" font-family=\"Helvetica,sans-Serif\" font-size=\"14.00\" fill=\"#000000\">class = 1</text>\n</g>\n<!-- 116&#45;&gt;124 -->\n<g id=\"edge124\" class=\"edge\">\n<title>116&#45;&gt;124</title>\n<path fill=\"none\" stroke=\"#000000\" d=\"M2081.7972,-1585.7677C2093.1425,-1574.9896 2105.4791,-1563.2699 2116.9469,-1552.3754\"/>\n<polygon fill=\"#000000\" stroke=\"#000000\" points=\"2119.499,-1554.7786 2124.3384,-1545.3535 2114.6777,-1549.7035 2119.499,-1554.7786\"/>\n</g>\n<!-- 118 -->\n<g id=\"node119\" class=\"node\">\n<title>118</title>\n<path fill=\"#f8e0ce\" stroke=\"#000000\" d=\"M2019,-1436C2019,-1436 1944,-1436 1944,-1436 1938,-1436 1932,-1430 1932,-1424 1932,-1424 1932,-1370 1932,-1370 1932,-1364 1938,-1358 1944,-1358 1944,-1358 2019,-1358 2019,-1358 2025,-1358 2031,-1364 2031,-1370 2031,-1370 2031,-1424 2031,-1424 2031,-1430 2025,-1436 2019,-1436\"/>\n<text text-anchor=\"start\" x=\"1944.5\" y=\"-1421.8\" font-family=\"Helvetica,sans-Serif\" font-size=\"14.00\" fill=\"#000000\">X</text>\n<text text-anchor=\"start\" x=\"1954.5\" y=\"-1421.8\" font-family=\"Helvetica,sans-Serif\" baseline-shift=\"sub\" font-size=\"14.00\" fill=\"#000000\">5</text>\n<text text-anchor=\"start\" x=\"1961.5\" y=\"-1421.8\" font-family=\"Helvetica,sans-Serif\" font-size=\"14.00\" fill=\"#000000\"> ≤ &#45;0.485</text>\n<text text-anchor=\"start\" x=\"1948\" y=\"-1407.8\" font-family=\"Helvetica,sans-Serif\" font-size=\"14.00\" fill=\"#000000\">gini = 0.49</text>\n<text text-anchor=\"start\" x=\"1942\" y=\"-1393.8\" font-family=\"Helvetica,sans-Serif\" font-size=\"14.00\" fill=\"#000000\">samples = 7</text>\n<text text-anchor=\"start\" x=\"1940\" y=\"-1379.8\" font-family=\"Helvetica,sans-Serif\" font-size=\"14.00\" fill=\"#000000\">value = [4, 3]</text>\n<text text-anchor=\"start\" x=\"1952.5\" y=\"-1365.8\" font-family=\"Helvetica,sans-Serif\" font-size=\"14.00\" fill=\"#000000\">class = 1</text>\n</g>\n<!-- 117&#45;&gt;118 -->\n<g id=\"edge118\" class=\"edge\">\n<title>117&#45;&gt;118</title>\n<path fill=\"none\" stroke=\"#000000\" d=\"M2020.1955,-1471.7677C2015.7919,-1463.259 2011.0845,-1454.1634 2006.5233,-1445.3502\"/>\n<polygon fill=\"#000000\" stroke=\"#000000\" points=\"2009.5467,-1443.577 2001.8419,-1436.3046 2003.3299,-1446.7945 2009.5467,-1443.577\"/>\n</g>\n<!-- 123 -->\n<g id=\"node124\" class=\"node\">\n<title>123</title>\n<path fill=\"#e58139\" stroke=\"#000000\" d=\"M2136,-1431C2136,-1431 2061,-1431 2061,-1431 2055,-1431 2049,-1425 2049,-1419 2049,-1419 2049,-1375 2049,-1375 2049,-1369 2055,-1363 2061,-1363 2061,-1363 2136,-1363 2136,-1363 2142,-1363 2148,-1369 2148,-1375 2148,-1375 2148,-1419 2148,-1419 2148,-1425 2142,-1431 2136,-1431\"/>\n<text text-anchor=\"start\" x=\"2069\" y=\"-1415.8\" font-family=\"Helvetica,sans-Serif\" font-size=\"14.00\" fill=\"#000000\">gini = 0.0</text>\n<text text-anchor=\"start\" x=\"2059\" y=\"-1400.8\" font-family=\"Helvetica,sans-Serif\" font-size=\"14.00\" fill=\"#000000\">samples = 4</text>\n<text text-anchor=\"start\" x=\"2057\" y=\"-1385.8\" font-family=\"Helvetica,sans-Serif\" font-size=\"14.00\" fill=\"#000000\">value = [4, 0]</text>\n<text text-anchor=\"start\" x=\"2069.5\" y=\"-1370.8\" font-family=\"Helvetica,sans-Serif\" font-size=\"14.00\" fill=\"#000000\">class = 1</text>\n</g>\n<!-- 117&#45;&gt;123 -->\n<g id=\"edge123\" class=\"edge\">\n<title>117&#45;&gt;123</title>\n<path fill=\"none\" stroke=\"#000000\" d=\"M2060.4603,-1471.7677C2065.5783,-1461.7082 2071.1137,-1450.8283 2076.3355,-1440.5648\"/>\n<polygon fill=\"#000000\" stroke=\"#000000\" points=\"2079.6067,-1441.8534 2081.0219,-1431.3535 2073.3678,-1438.6792 2079.6067,-1441.8534\"/>\n</g>\n<!-- 119 -->\n<g id=\"node120\" class=\"node\">\n<title>119</title>\n<path fill=\"#e58139\" stroke=\"#000000\" d=\"M1960,-1317C1960,-1317 1885,-1317 1885,-1317 1879,-1317 1873,-1311 1873,-1305 1873,-1305 1873,-1261 1873,-1261 1873,-1255 1879,-1249 1885,-1249 1885,-1249 1960,-1249 1960,-1249 1966,-1249 1972,-1255 1972,-1261 1972,-1261 1972,-1305 1972,-1305 1972,-1311 1966,-1317 1960,-1317\"/>\n<text text-anchor=\"start\" x=\"1893\" y=\"-1301.8\" font-family=\"Helvetica,sans-Serif\" font-size=\"14.00\" fill=\"#000000\">gini = 0.0</text>\n<text text-anchor=\"start\" x=\"1883\" y=\"-1286.8\" font-family=\"Helvetica,sans-Serif\" font-size=\"14.00\" fill=\"#000000\">samples = 2</text>\n<text text-anchor=\"start\" x=\"1881\" y=\"-1271.8\" font-family=\"Helvetica,sans-Serif\" font-size=\"14.00\" fill=\"#000000\">value = [2, 0]</text>\n<text text-anchor=\"start\" x=\"1893.5\" y=\"-1256.8\" font-family=\"Helvetica,sans-Serif\" font-size=\"14.00\" fill=\"#000000\">class = 1</text>\n</g>\n<!-- 118&#45;&gt;119 -->\n<g id=\"edge119\" class=\"edge\">\n<title>118&#45;&gt;119</title>\n<path fill=\"none\" stroke=\"#000000\" d=\"M1961.1955,-1357.7677C1955.9362,-1347.6055 1950.2436,-1336.6062 1944.8842,-1326.2508\"/>\n<polygon fill=\"#000000\" stroke=\"#000000\" points=\"1947.9842,-1324.6259 1940.2795,-1317.3535 1941.7675,-1327.8434 1947.9842,-1324.6259\"/>\n</g>\n<!-- 120 -->\n<g id=\"node121\" class=\"node\">\n<title>120</title>\n<path fill=\"#bddef6\" stroke=\"#000000\" d=\"M2077,-1322C2077,-1322 2002,-1322 2002,-1322 1996,-1322 1990,-1316 1990,-1310 1990,-1310 1990,-1256 1990,-1256 1990,-1250 1996,-1244 2002,-1244 2002,-1244 2077,-1244 2077,-1244 2083,-1244 2089,-1250 2089,-1256 2089,-1256 2089,-1310 2089,-1310 2089,-1316 2083,-1322 2077,-1322\"/>\n<text text-anchor=\"start\" x=\"2005\" y=\"-1307.8\" font-family=\"Helvetica,sans-Serif\" font-size=\"14.00\" fill=\"#000000\">X</text>\n<text text-anchor=\"start\" x=\"2015\" y=\"-1307.8\" font-family=\"Helvetica,sans-Serif\" baseline-shift=\"sub\" font-size=\"14.00\" fill=\"#000000\">5</text>\n<text text-anchor=\"start\" x=\"2022\" y=\"-1307.8\" font-family=\"Helvetica,sans-Serif\" font-size=\"14.00\" fill=\"#000000\"> ≤ 0.032</text>\n<text text-anchor=\"start\" x=\"2006\" y=\"-1293.8\" font-family=\"Helvetica,sans-Serif\" font-size=\"14.00\" fill=\"#000000\">gini = 0.48</text>\n<text text-anchor=\"start\" x=\"2000\" y=\"-1279.8\" font-family=\"Helvetica,sans-Serif\" font-size=\"14.00\" fill=\"#000000\">samples = 5</text>\n<text text-anchor=\"start\" x=\"1998\" y=\"-1265.8\" font-family=\"Helvetica,sans-Serif\" font-size=\"14.00\" fill=\"#000000\">value = [2, 3]</text>\n<text text-anchor=\"start\" x=\"2010.5\" y=\"-1251.8\" font-family=\"Helvetica,sans-Serif\" font-size=\"14.00\" fill=\"#000000\">class = 1</text>\n</g>\n<!-- 118&#45;&gt;120 -->\n<g id=\"edge120\" class=\"edge\">\n<title>118&#45;&gt;120</title>\n<path fill=\"none\" stroke=\"#000000\" d=\"M2001.4603,-1357.7677C2005.7893,-1349.259 2010.4169,-1340.1634 2014.9008,-1331.3502\"/>\n<polygon fill=\"#000000\" stroke=\"#000000\" points=\"2018.0877,-1332.8046 2019.5029,-1322.3046 2011.8488,-1329.6303 2018.0877,-1332.8046\"/>\n</g>\n<!-- 121 -->\n<g id=\"node122\" class=\"node\">\n<title>121</title>\n<path fill=\"#399de5\" stroke=\"#000000\" d=\"M2018,-1203C2018,-1203 1943,-1203 1943,-1203 1937,-1203 1931,-1197 1931,-1191 1931,-1191 1931,-1147 1931,-1147 1931,-1141 1937,-1135 1943,-1135 1943,-1135 2018,-1135 2018,-1135 2024,-1135 2030,-1141 2030,-1147 2030,-1147 2030,-1191 2030,-1191 2030,-1197 2024,-1203 2018,-1203\"/>\n<text text-anchor=\"start\" x=\"1951\" y=\"-1187.8\" font-family=\"Helvetica,sans-Serif\" font-size=\"14.00\" fill=\"#000000\">gini = 0.0</text>\n<text text-anchor=\"start\" x=\"1941\" y=\"-1172.8\" font-family=\"Helvetica,sans-Serif\" font-size=\"14.00\" fill=\"#000000\">samples = 3</text>\n<text text-anchor=\"start\" x=\"1939\" y=\"-1157.8\" font-family=\"Helvetica,sans-Serif\" font-size=\"14.00\" fill=\"#000000\">value = [0, 3]</text>\n<text text-anchor=\"start\" x=\"1951.5\" y=\"-1142.8\" font-family=\"Helvetica,sans-Serif\" font-size=\"14.00\" fill=\"#000000\">class = 1</text>\n</g>\n<!-- 120&#45;&gt;121 -->\n<g id=\"edge121\" class=\"edge\">\n<title>120&#45;&gt;121</title>\n<path fill=\"none\" stroke=\"#000000\" d=\"M2019.1955,-1243.7677C2013.9362,-1233.6055 2008.2436,-1222.6062 2002.8842,-1212.2508\"/>\n<polygon fill=\"#000000\" stroke=\"#000000\" points=\"2005.9842,-1210.6259 1998.2795,-1203.3535 1999.7675,-1213.8434 2005.9842,-1210.6259\"/>\n</g>\n<!-- 122 -->\n<g id=\"node123\" class=\"node\">\n<title>122</title>\n<path fill=\"#e58139\" stroke=\"#000000\" d=\"M2135,-1203C2135,-1203 2060,-1203 2060,-1203 2054,-1203 2048,-1197 2048,-1191 2048,-1191 2048,-1147 2048,-1147 2048,-1141 2054,-1135 2060,-1135 2060,-1135 2135,-1135 2135,-1135 2141,-1135 2147,-1141 2147,-1147 2147,-1147 2147,-1191 2147,-1191 2147,-1197 2141,-1203 2135,-1203\"/>\n<text text-anchor=\"start\" x=\"2068\" y=\"-1187.8\" font-family=\"Helvetica,sans-Serif\" font-size=\"14.00\" fill=\"#000000\">gini = 0.0</text>\n<text text-anchor=\"start\" x=\"2058\" y=\"-1172.8\" font-family=\"Helvetica,sans-Serif\" font-size=\"14.00\" fill=\"#000000\">samples = 2</text>\n<text text-anchor=\"start\" x=\"2056\" y=\"-1157.8\" font-family=\"Helvetica,sans-Serif\" font-size=\"14.00\" fill=\"#000000\">value = [2, 0]</text>\n<text text-anchor=\"start\" x=\"2068.5\" y=\"-1142.8\" font-family=\"Helvetica,sans-Serif\" font-size=\"14.00\" fill=\"#000000\">class = 1</text>\n</g>\n<!-- 120&#45;&gt;122 -->\n<g id=\"edge122\" class=\"edge\">\n<title>120&#45;&gt;122</title>\n<path fill=\"none\" stroke=\"#000000\" d=\"M2059.4603,-1243.7677C2064.5783,-1233.7082 2070.1137,-1222.8283 2075.3355,-1212.5648\"/>\n<polygon fill=\"#000000\" stroke=\"#000000\" points=\"2078.6067,-1213.8534 2080.0219,-1203.3535 2072.3678,-1210.6792 2078.6067,-1213.8534\"/>\n</g>\n</g>\n</svg>\n"
          },
          "metadata": {},
          "execution_count": 28
        }
      ]
    },
    {
      "cell_type": "markdown",
      "source": [
        "**Akurasi Mode tanpa SMOTE**"
      ],
      "metadata": {
        "id": "UhToQC4yFuq5"
      }
    },
    {
      "cell_type": "code",
      "source": [
        "y_pred_dt = dt_model.predict(X_test)\n",
        "accuracy_score_dt = accuracy_score(y_test, y_pred_dt)\n",
        "accuracy_score_dt"
      ],
      "metadata": {
        "colab": {
          "base_uri": "https://localhost:8080/"
        },
        "id": "vPIAi7D1FyQW",
        "outputId": "c11aa99d-0079-4c72-ab7c-89f2cb973937"
      },
      "execution_count": 29,
      "outputs": [
        {
          "output_type": "execute_result",
          "data": {
            "text/plain": [
              "0.7"
            ]
          },
          "metadata": {},
          "execution_count": 29
        }
      ]
    },
    {
      "cell_type": "markdown",
      "source": [
        "**Akurasi Dengan SMOTE**"
      ],
      "metadata": {
        "id": "Ta_sWwhSF9EI"
      }
    },
    {
      "cell_type": "code",
      "source": [
        "y_pred_dts = dt_model_s.predict(Xs_test)\n",
        "accuracy_score_dts = accuracy_score(ys_test, y_pred_dts)\n",
        "accuracy_score_dts"
      ],
      "metadata": {
        "colab": {
          "base_uri": "https://localhost:8080/"
        },
        "id": "ckTCsdtDF_2x",
        "outputId": "0710d51a-591b-4eef-b779-d4292de3c703"
      },
      "execution_count": 30,
      "outputs": [
        {
          "output_type": "execute_result",
          "data": {
            "text/plain": [
              "0.7804878048780488"
            ]
          },
          "metadata": {},
          "execution_count": 30
        }
      ]
    },
    {
      "cell_type": "markdown",
      "source": [
        "##Decission Tree With Bagging"
      ],
      "metadata": {
        "id": "b6GltG9mGFxr"
      }
    },
    {
      "cell_type": "code",
      "source": [
        "bag_clf = BaggingClassifier(\n",
        "            DecisionTreeClassifier(), \n",
        "            bootstrap=True, \n",
        "            n_jobs=-1\n",
        "          )\n",
        "bag_clf_s = BaggingClassifier(\n",
        "            DecisionTreeClassifier(), \n",
        "            bootstrap=True, \n",
        "            n_jobs=-1\n",
        "          )\n",
        "bag_clf.fit(X_train, y_train)\n",
        "bag_clf_s.fit(Xs_train, ys_train)"
      ],
      "metadata": {
        "colab": {
          "base_uri": "https://localhost:8080/"
        },
        "id": "uEa71CpxGJpM",
        "outputId": "33706294-fc72-4c9c-913d-ddecd48cacf5"
      },
      "execution_count": 31,
      "outputs": [
        {
          "output_type": "execute_result",
          "data": {
            "text/plain": [
              "BaggingClassifier(base_estimator=DecisionTreeClassifier(), n_jobs=-1)"
            ]
          },
          "metadata": {},
          "execution_count": 31
        }
      ]
    },
    {
      "cell_type": "markdown",
      "source": [
        "**Akukrasi Tanpa SMOTE**"
      ],
      "metadata": {
        "id": "HsQp8qbjGOo8"
      }
    },
    {
      "cell_type": "code",
      "source": [
        "y_pred_dt_bag = bag_clf.predict(X_test)\n",
        "accuracy_score_dt_bag = accuracy_score(y_test, y_pred_dt_bag)\n",
        "accuracy_score_dt_bag"
      ],
      "metadata": {
        "colab": {
          "base_uri": "https://localhost:8080/"
        },
        "id": "8Mdzp1YCGQry",
        "outputId": "58da14c1-2b95-410e-e66b-0150439db1db"
      },
      "execution_count": 32,
      "outputs": [
        {
          "output_type": "execute_result",
          "data": {
            "text/plain": [
              "0.5666666666666667"
            ]
          },
          "metadata": {},
          "execution_count": 32
        }
      ]
    },
    {
      "cell_type": "markdown",
      "source": [
        "**Akurasi Dengan SMOTE**"
      ],
      "metadata": {
        "id": "To_iEqi1GTNV"
      }
    },
    {
      "cell_type": "code",
      "source": [
        "y_pred_dt_bags = bag_clf_s.predict(Xs_test)\n",
        "accuracy_score_dt_bags = accuracy_score(ys_test, y_pred_dt_bags)\n",
        "accuracy_score_dt_bags"
      ],
      "metadata": {
        "colab": {
          "base_uri": "https://localhost:8080/"
        },
        "id": "U7HPjF-gGZZP",
        "outputId": "1609fe42-bc78-43d0-d0d5-c1b25f7c1bb7"
      },
      "execution_count": 33,
      "outputs": [
        {
          "output_type": "execute_result",
          "data": {
            "text/plain": [
              "0.8048780487804879"
            ]
          },
          "metadata": {},
          "execution_count": 33
        }
      ]
    },
    {
      "cell_type": "markdown",
      "source": [
        "##Random Forest"
      ],
      "metadata": {
        "id": "RDmUif5TGeH1"
      }
    },
    {
      "cell_type": "code",
      "source": [
        "rnd_clf = RandomForestClassifier()\n",
        "rnd_clf_s = RandomForestClassifier()\n",
        "rnd_clf.fit(X_train, y_train)\n",
        "rnd_clf_s.fit(Xs_train, ys_train)"
      ],
      "metadata": {
        "colab": {
          "base_uri": "https://localhost:8080/"
        },
        "id": "ZI_6pNifGiQJ",
        "outputId": "f60007b0-078b-441d-81db-5de2d79d9444"
      },
      "execution_count": 34,
      "outputs": [
        {
          "output_type": "execute_result",
          "data": {
            "text/plain": [
              "RandomForestClassifier()"
            ]
          },
          "metadata": {},
          "execution_count": 34
        }
      ]
    },
    {
      "cell_type": "markdown",
      "source": [
        "**Akurasi Model Tanpa SMOTE**"
      ],
      "metadata": {
        "id": "fP3cwRuoGlg3"
      }
    },
    {
      "cell_type": "code",
      "source": [
        "y_pred_rnd_clf = rnd_clf.predict(X_test)\n",
        "accuracy_score_rnd_clf = accuracy_score(y_test, y_pred_rnd_clf)\n",
        "accuracy_score_rnd_clf"
      ],
      "metadata": {
        "colab": {
          "base_uri": "https://localhost:8080/"
        },
        "id": "y9_POl2oGoG9",
        "outputId": "f6c4d580-0de6-4034-e06f-e78581ebef50"
      },
      "execution_count": 35,
      "outputs": [
        {
          "output_type": "execute_result",
          "data": {
            "text/plain": [
              "0.5666666666666667"
            ]
          },
          "metadata": {},
          "execution_count": 35
        }
      ]
    },
    {
      "cell_type": "markdown",
      "source": [
        "**Akurasi Model Dengan SMOTE**"
      ],
      "metadata": {
        "id": "MJvSzM16GtqE"
      }
    },
    {
      "cell_type": "code",
      "source": [
        "y_pred_rnd_clfs = rnd_clf_s.predict(Xs_test)\n",
        "accuracy_score_rnd_clfs = accuracy_score(ys_test, y_pred_rnd_clfs)\n",
        "accuracy_score_rnd_clfs"
      ],
      "metadata": {
        "colab": {
          "base_uri": "https://localhost:8080/"
        },
        "id": "3kxBP2IIGswa",
        "outputId": "14784a2d-b488-4908-c4f5-cd27bfee4a68"
      },
      "execution_count": 36,
      "outputs": [
        {
          "output_type": "execute_result",
          "data": {
            "text/plain": [
              "0.8780487804878049"
            ]
          },
          "metadata": {},
          "execution_count": 36
        }
      ]
    },
    {
      "cell_type": "markdown",
      "source": [
        "##LogisticRegression"
      ],
      "metadata": {
        "id": "m4W8v0S2G1Sz"
      }
    },
    {
      "cell_type": "code",
      "source": [
        "lgr_clf =LogisticRegression(random_state=42)\n",
        "lgr_clf_s =LogisticRegression(random_state=42)\n",
        "lgr_clf.fit(X_train, y_train)\n",
        "lgr_clf_s.fit(Xs_train, ys_train)"
      ],
      "metadata": {
        "colab": {
          "base_uri": "https://localhost:8080/"
        },
        "id": "eEJmmvDHG40w",
        "outputId": "230e3f0f-8c1d-4d0e-a345-f7017e4eea2c"
      },
      "execution_count": 37,
      "outputs": [
        {
          "output_type": "execute_result",
          "data": {
            "text/plain": [
              "LogisticRegression(random_state=42)"
            ]
          },
          "metadata": {},
          "execution_count": 37
        }
      ]
    },
    {
      "cell_type": "markdown",
      "source": [
        "**Akurasi Model Tanpa SMOTE**"
      ],
      "metadata": {
        "id": "6s-kQBcGG7yF"
      }
    },
    {
      "cell_type": "code",
      "source": [
        "y_pred_lgr_clf = lgr_clf.predict(X_test)\n",
        "accuracy_score_lgr_clf = accuracy_score(y_test, y_pred_lgr_clf)\n",
        "accuracy_score_lgr_clf"
      ],
      "metadata": {
        "colab": {
          "base_uri": "https://localhost:8080/"
        },
        "id": "HCqgbNm8G-IP",
        "outputId": "9560b207-8c89-4534-a4ad-b5a151fa50b6"
      },
      "execution_count": 63,
      "outputs": [
        {
          "output_type": "execute_result",
          "data": {
            "text/plain": [
              "0.6666666666666666"
            ]
          },
          "metadata": {},
          "execution_count": 63
        }
      ]
    },
    {
      "cell_type": "markdown",
      "source": [
        "**Akurasi Model Dengan SMOTE**"
      ],
      "metadata": {
        "id": "Dv6XeN54HEzk"
      }
    },
    {
      "cell_type": "code",
      "source": [
        "y_pred_lgr_clfs = lgr_clf_s.predict(Xs_test)\n",
        "accuracy_score_lgr_clfs = accuracy_score(ys_test, y_pred_lgr_clfs)\n",
        "accuracy_score_lgr_clfs"
      ],
      "metadata": {
        "colab": {
          "base_uri": "https://localhost:8080/"
        },
        "id": "-Hky_sXCHJhU",
        "outputId": "73873231-240a-4f6c-9263-deececef2ca7"
      },
      "execution_count": 64,
      "outputs": [
        {
          "output_type": "execute_result",
          "data": {
            "text/plain": [
              "0.6097560975609756"
            ]
          },
          "metadata": {},
          "execution_count": 64
        }
      ]
    },
    {
      "cell_type": "markdown",
      "source": [
        "##SVM"
      ],
      "metadata": {
        "id": "q7MqFX2IHXnC"
      }
    },
    {
      "cell_type": "code",
      "source": [
        "svc = SVC()\n",
        "svc_s = SVC()\n",
        "svc.fit(X_train, y_train)\n",
        "svc_s.fit(Xs_train, ys_train)"
      ],
      "metadata": {
        "colab": {
          "base_uri": "https://localhost:8080/"
        },
        "id": "mWWKJ6P4HWZv",
        "outputId": "16763a1d-b226-4f89-ce8b-54bb4d9e3b3d"
      },
      "execution_count": 39,
      "outputs": [
        {
          "output_type": "execute_result",
          "data": {
            "text/plain": [
              "SVC()"
            ]
          },
          "metadata": {},
          "execution_count": 39
        }
      ]
    },
    {
      "cell_type": "markdown",
      "source": [
        "**Akurasi Model Tanpa SMOTE**"
      ],
      "metadata": {
        "id": "6Tdc3GNJISZY"
      }
    },
    {
      "cell_type": "code",
      "source": [
        "y_pred_svc = svc.predict(X_test)\n",
        "accuracy_score_svc = accuracy_score(y_test, y_pred_svc)\n",
        "accuracy_score_svc"
      ],
      "metadata": {
        "colab": {
          "base_uri": "https://localhost:8080/"
        },
        "id": "uS8rEeXzIVxV",
        "outputId": "c0096417-6bb3-4dcf-a762-5b36a67bd8f0"
      },
      "execution_count": 40,
      "outputs": [
        {
          "output_type": "execute_result",
          "data": {
            "text/plain": [
              "0.6333333333333333"
            ]
          },
          "metadata": {},
          "execution_count": 40
        }
      ]
    },
    {
      "cell_type": "markdown",
      "source": [
        "**Akurasi Model Dengan SMOTE**"
      ],
      "metadata": {
        "id": "te2A_MfrIlBf"
      }
    },
    {
      "cell_type": "code",
      "source": [
        "y_pred_svcs = svc_s.predict(Xs_test)\n",
        "accuracy_score_svcs = accuracy_score(ys_test, y_pred_svcs)\n",
        "accuracy_score_svcs"
      ],
      "metadata": {
        "colab": {
          "base_uri": "https://localhost:8080/"
        },
        "id": "1Kz0g6gVIoEB",
        "outputId": "82105dec-da39-4395-bf4d-1fe53ec77761"
      },
      "execution_count": 41,
      "outputs": [
        {
          "output_type": "execute_result",
          "data": {
            "text/plain": [
              "0.7560975609756098"
            ]
          },
          "metadata": {},
          "execution_count": 41
        }
      ]
    },
    {
      "cell_type": "markdown",
      "source": [
        "##VotingClassifier"
      ],
      "metadata": {
        "id": "uyVJ1dd1IuaQ"
      }
    },
    {
      "cell_type": "code",
      "source": [
        "voting_clf = VotingClassifier(\n",
        "                estimators=[('lr', lgr_clf), ('rf', rnd_clf), ('svc', svc)],\n",
        "                voting='hard'\n",
        "              )\n",
        "voting_clf_s = VotingClassifier(\n",
        "                estimators=[('lr', lgr_clf), ('rf', rnd_clf), ('svc', svc)],\n",
        "                voting='hard'\n",
        "              )\n",
        "voting_clf.fit(X_train, y_train)\n",
        "voting_clf_s.fit(Xs_train, ys_train)"
      ],
      "metadata": {
        "colab": {
          "base_uri": "https://localhost:8080/"
        },
        "id": "wvY_ad6EIy0m",
        "outputId": "013ecb7e-8c6f-4a4d-990c-f443bb160ba9"
      },
      "execution_count": 42,
      "outputs": [
        {
          "output_type": "execute_result",
          "data": {
            "text/plain": [
              "VotingClassifier(estimators=[('lr', LogisticRegression(random_state=42)),\n",
              "                             ('rf', RandomForestClassifier()), ('svc', SVC())])"
            ]
          },
          "metadata": {},
          "execution_count": 42
        }
      ]
    },
    {
      "cell_type": "markdown",
      "source": [
        "**Akurasi Model Tanpa SMOTE**"
      ],
      "metadata": {
        "id": "LMPyHmtFI5TO"
      }
    },
    {
      "cell_type": "code",
      "source": [
        "y_pred_voting = voting_clf.predict(X_test)\n",
        "accuracy_score_pred_voting = accuracy_score(y_test, y_pred_voting)\n",
        "accuracy_score_pred_voting"
      ],
      "metadata": {
        "colab": {
          "base_uri": "https://localhost:8080/"
        },
        "id": "jBKsQP5bI8T5",
        "outputId": "b29606e2-04b3-4fdc-aed5-59b2e1a29c57"
      },
      "execution_count": 43,
      "outputs": [
        {
          "output_type": "execute_result",
          "data": {
            "text/plain": [
              "0.6333333333333333"
            ]
          },
          "metadata": {},
          "execution_count": 43
        }
      ]
    },
    {
      "cell_type": "markdown",
      "source": [
        "**Akurasi MOdel Dengan SMOTE**"
      ],
      "metadata": {
        "id": "lYek4ONwI-bL"
      }
    },
    {
      "cell_type": "code",
      "source": [
        "y_pred_votings = voting_clf_s.predict(Xs_test)\n",
        "accuracy_score_pred_votings = accuracy_score(ys_test, y_pred_votings)\n",
        "accuracy_score_pred_votings"
      ],
      "metadata": {
        "colab": {
          "base_uri": "https://localhost:8080/"
        },
        "id": "oUsn3zLTJA_W",
        "outputId": "31c7fc1d-8c93-4790-c8c8-f38503c5e2b2"
      },
      "execution_count": 44,
      "outputs": [
        {
          "output_type": "execute_result",
          "data": {
            "text/plain": [
              "0.7560975609756098"
            ]
          },
          "metadata": {},
          "execution_count": 44
        }
      ]
    },
    {
      "cell_type": "markdown",
      "source": [
        "##XGBoost"
      ],
      "metadata": {
        "id": "uA-AOAy2JEkp"
      }
    },
    {
      "cell_type": "code",
      "source": [
        "xgb = XGBClassifier()\n",
        "xgb_s = XGBClassifier()\n",
        "xgb.fit(X_train, y_train)\n",
        "xgb_s.fit(Xs_train, ys_train)"
      ],
      "metadata": {
        "colab": {
          "base_uri": "https://localhost:8080/"
        },
        "id": "oJ8eIyKUJHum",
        "outputId": "ed82693c-c824-4770-afda-51860557a309"
      },
      "execution_count": 71,
      "outputs": [
        {
          "output_type": "execute_result",
          "data": {
            "text/plain": [
              "XGBClassifier()"
            ]
          },
          "metadata": {},
          "execution_count": 71
        }
      ]
    },
    {
      "cell_type": "markdown",
      "source": [
        "**Akurasi Model Tanpa SMOTE**"
      ],
      "metadata": {
        "id": "v0lV7X6oJM8d"
      }
    },
    {
      "cell_type": "code",
      "source": [
        "y_pred_xgb = xgb.predict(X_test)\n",
        "accuracy_score_xgb = accuracy_score(y_test, y_pred_xgb)\n",
        "accuracy_score_xgb"
      ],
      "metadata": {
        "colab": {
          "base_uri": "https://localhost:8080/"
        },
        "id": "Ors_VkEfJRHR",
        "outputId": "53d502dc-8e44-49a0-b459-3a9f0e4cdba2"
      },
      "execution_count": 72,
      "outputs": [
        {
          "output_type": "execute_result",
          "data": {
            "text/plain": [
              "0.6333333333333333"
            ]
          },
          "metadata": {},
          "execution_count": 72
        }
      ]
    },
    {
      "cell_type": "markdown",
      "source": [
        "**Akurasi Model Dengan SMOTE**"
      ],
      "metadata": {
        "id": "eT-VVvR5JS5v"
      }
    },
    {
      "cell_type": "code",
      "source": [
        "y_pred_xgbs = xgb_s.predict(Xs_test)\n",
        "accuracy_score_xgbs = accuracy_score(ys_test, y_pred_xgbs)\n",
        "accuracy_score_xgbs"
      ],
      "metadata": {
        "colab": {
          "base_uri": "https://localhost:8080/"
        },
        "id": "igD49gVXJWAR",
        "outputId": "e98ee3f8-6ff1-4df7-a6f3-4a8972fd82ac"
      },
      "execution_count": 73,
      "outputs": [
        {
          "output_type": "execute_result",
          "data": {
            "text/plain": [
              "0.8292682926829268"
            ]
          },
          "metadata": {},
          "execution_count": 73
        }
      ]
    },
    {
      "cell_type": "markdown",
      "source": [
        "##Ada Boost"
      ],
      "metadata": {
        "id": "-FYys5X4JZ3P"
      }
    },
    {
      "cell_type": "code",
      "source": [
        "ada_clf = AdaBoostClassifier(\n",
        "            DecisionTreeClassifier(), \n",
        "            n_estimators=299,\n",
        "            algorithm=\"SAMME.R\", \n",
        "            learning_rate=0.35\n",
        "          )\n",
        "\n",
        "ada_clf_s = AdaBoostClassifier(\n",
        "            DecisionTreeClassifier(), \n",
        "            n_estimators=299,\n",
        "            algorithm=\"SAMME.R\", \n",
        "            learning_rate=0.35\n",
        "          )\n",
        "\n",
        "ada_clf.fit(X_train, y_train)\n",
        "ada_clf_s.fit(Xs_train, ys_train)\n",
        "     "
      ],
      "metadata": {
        "colab": {
          "base_uri": "https://localhost:8080/"
        },
        "id": "BatOauwEJcji",
        "outputId": "f865847c-6151-475b-b7fa-cdacdc3b8a8d"
      },
      "execution_count": 48,
      "outputs": [
        {
          "output_type": "execute_result",
          "data": {
            "text/plain": [
              "AdaBoostClassifier(base_estimator=DecisionTreeClassifier(), learning_rate=0.35,\n",
              "                   n_estimators=299)"
            ]
          },
          "metadata": {},
          "execution_count": 48
        }
      ]
    },
    {
      "cell_type": "markdown",
      "source": [
        "**Akurasi Model Tanpa SMOTE**"
      ],
      "metadata": {
        "id": "YFaYTTPkJh9W"
      }
    },
    {
      "cell_type": "code",
      "source": [
        "y_pred_adaBoost = ada_clf.predict(X_test)\n",
        "accuracy_score_adaBoost = accuracy_score(y_test, y_pred_adaBoost)\n",
        "accuracy_score_adaBoost"
      ],
      "metadata": {
        "colab": {
          "base_uri": "https://localhost:8080/"
        },
        "id": "RmaK4obeJlMy",
        "outputId": "96c34258-49b1-4987-923a-15a1520f99a5"
      },
      "execution_count": 49,
      "outputs": [
        {
          "output_type": "execute_result",
          "data": {
            "text/plain": [
              "0.7666666666666667"
            ]
          },
          "metadata": {},
          "execution_count": 49
        }
      ]
    },
    {
      "cell_type": "markdown",
      "source": [
        "**Akurasi Model Dengan SMOTE**"
      ],
      "metadata": {
        "id": "FV5Hd73JJo-0"
      }
    },
    {
      "cell_type": "code",
      "source": [
        "y_pred_adaBoosts = ada_clf_s.predict(Xs_test)\n",
        "accuracy_score_adaBoosts = accuracy_score(ys_test, y_pred_adaBoosts)\n",
        "accuracy_score_adaBoosts"
      ],
      "metadata": {
        "colab": {
          "base_uri": "https://localhost:8080/"
        },
        "id": "ALioH8IfJtJX",
        "outputId": "af435cb9-5f94-471b-fd4e-655dc033256c"
      },
      "execution_count": 50,
      "outputs": [
        {
          "output_type": "execute_result",
          "data": {
            "text/plain": [
              "0.7804878048780488"
            ]
          },
          "metadata": {},
          "execution_count": 50
        }
      ]
    },
    {
      "cell_type": "markdown",
      "source": [
        "##Extra Trees Classifier"
      ],
      "metadata": {
        "id": "wt-ZctAAJxWn"
      }
    },
    {
      "cell_type": "code",
      "source": [
        "extra_tree = ExtraTreesClassifier()\n",
        "extra_tree_s = ExtraTreesClassifier()\n",
        "extra_tree.fit(X_train, y_train)\n",
        "extra_tree_s.fit(Xs_train, ys_train)"
      ],
      "metadata": {
        "colab": {
          "base_uri": "https://localhost:8080/"
        },
        "id": "8IQZZv_hJ3O7",
        "outputId": "f48b3b8f-306c-4d17-e252-0486580d953c"
      },
      "execution_count": 52,
      "outputs": [
        {
          "output_type": "execute_result",
          "data": {
            "text/plain": [
              "ExtraTreesClassifier()"
            ]
          },
          "metadata": {},
          "execution_count": 52
        }
      ]
    },
    {
      "cell_type": "markdown",
      "source": [
        "**Akurasi Model Tanpa SMOTE**"
      ],
      "metadata": {
        "id": "EnxSpKt1KCyd"
      }
    },
    {
      "cell_type": "code",
      "source": [
        "y_pred_tree = extra_tree.predict(X_test)\n",
        "accuracy_score_tree = accuracy_score(y_test, y_pred_tree)\n",
        "accuracy_score_tree"
      ],
      "metadata": {
        "colab": {
          "base_uri": "https://localhost:8080/"
        },
        "id": "DjZoikBPKIyf",
        "outputId": "37802a55-fc78-4b45-8f16-cc1627ac5ad7"
      },
      "execution_count": 53,
      "outputs": [
        {
          "output_type": "execute_result",
          "data": {
            "text/plain": [
              "0.6333333333333333"
            ]
          },
          "metadata": {},
          "execution_count": 53
        }
      ]
    },
    {
      "cell_type": "markdown",
      "source": [
        "**Akurasi Model Dengan SMOTE**"
      ],
      "metadata": {
        "id": "7pKWv_MQKJ6u"
      }
    },
    {
      "cell_type": "code",
      "source": [
        "y_pred_trees = extra_tree_s.predict(Xs_test)\n",
        "accuracy_score_trees = accuracy_score(ys_test, y_pred_trees)\n",
        "accuracy_score_trees"
      ],
      "metadata": {
        "colab": {
          "base_uri": "https://localhost:8080/"
        },
        "id": "1Ryks9w5KMbe",
        "outputId": "9fec0e40-e089-4d93-8085-ec598c03e3a8"
      },
      "execution_count": 54,
      "outputs": [
        {
          "output_type": "execute_result",
          "data": {
            "text/plain": [
              "0.8536585365853658"
            ]
          },
          "metadata": {},
          "execution_count": 54
        }
      ]
    },
    {
      "cell_type": "markdown",
      "source": [
        "##GradientBooost"
      ],
      "metadata": {
        "id": "YcJYmP2qKTCP"
      }
    },
    {
      "cell_type": "code",
      "source": [
        "grad_clf = GradientBoostingClassifier()\n",
        "grad_clf_s = GradientBoostingClassifier()\n",
        "grad_clf.fit(X_train, y_train)\n",
        "grad_clf_s.fit(Xs_train, ys_train)"
      ],
      "metadata": {
        "colab": {
          "base_uri": "https://localhost:8080/"
        },
        "id": "TXDiSAqRKWIX",
        "outputId": "a9be5704-e77c-4123-f1c8-017dbb716797"
      },
      "execution_count": 55,
      "outputs": [
        {
          "output_type": "execute_result",
          "data": {
            "text/plain": [
              "GradientBoostingClassifier()"
            ]
          },
          "metadata": {},
          "execution_count": 55
        }
      ]
    },
    {
      "cell_type": "markdown",
      "source": [
        "**Akurasi Model Tanpa SMOTE**"
      ],
      "metadata": {
        "id": "MglOQIAJKZiU"
      }
    },
    {
      "cell_type": "code",
      "source": [
        "y_pred_grad_clf = grad_clf.predict(X_test)\n",
        "accuracy_score_grad_clf = accuracy_score(y_test, y_pred_grad_clf)\n",
        "accuracy_score_grad_clf"
      ],
      "metadata": {
        "colab": {
          "base_uri": "https://localhost:8080/"
        },
        "id": "FDigpnHvKdlc",
        "outputId": "46ac8230-451b-412b-d26b-3f49154586de"
      },
      "execution_count": 60,
      "outputs": [
        {
          "output_type": "execute_result",
          "data": {
            "text/plain": [
              "0.6333333333333333"
            ]
          },
          "metadata": {},
          "execution_count": 60
        }
      ]
    },
    {
      "cell_type": "markdown",
      "source": [
        "**Akurasi Model Dengan SMOTE**"
      ],
      "metadata": {
        "id": "2xmEvNlwKgoG"
      }
    },
    {
      "cell_type": "code",
      "source": [
        "y_pred_grad_clfs = grad_clf_s.predict(Xs_test)\n",
        "accuracy_score_grad_clfs = accuracy_score(ys_test, y_pred_grad_clfs)\n",
        "accuracy_score_grad_clfs"
      ],
      "metadata": {
        "colab": {
          "base_uri": "https://localhost:8080/"
        },
        "id": "CZUX3L7tKjL3",
        "outputId": "6833e975-7a71-43e8-8bcf-ffec939bd902"
      },
      "execution_count": 62,
      "outputs": [
        {
          "output_type": "execute_result",
          "data": {
            "text/plain": [
              "0.8292682926829268"
            ]
          },
          "metadata": {},
          "execution_count": 62
        }
      ]
    },
    {
      "cell_type": "markdown",
      "source": [
        "#Evaluasi Model"
      ],
      "metadata": {
        "id": "fwgMLDxmKn6a"
      }
    },
    {
      "cell_type": "code",
      "source": [
        "list_pred = [y_pred_dt,\n",
        "             y_pred_dt_bag,\n",
        "             y_pred_rnd_clf,\n",
        "             y_pred_lgr_clf,\n",
        "             y_pred_svc,\n",
        "             y_pred_voting,\n",
        "             y_pred_xgb,\n",
        "             y_pred_adaBoost,\n",
        "             y_pred_tree,\n",
        "             y_pred_grad_clf]\n",
        "\n",
        "list_pred_s = [y_pred_dts,\n",
        "               y_pred_dt_bags,\n",
        "               y_pred_rnd_clfs,\n",
        "               y_pred_lgr_clfs,\n",
        "               y_pred_svcs,\n",
        "               y_pred_votings,\n",
        "               y_pred_xgbs,\n",
        "               y_pred_adaBoosts,\n",
        "               y_pred_trees,\n",
        "               y_pred_grad_clfs]\n",
        "\n",
        "list_model = ['Decision Tree',\n",
        "              'Decision Tree with Bagging',\n",
        "              'Random Forest Classifier',\n",
        "              'Logistic Regression',\n",
        "              'Support Vector Classifier',\n",
        "              'Voting Classifier',\n",
        "              'XGBoost',\n",
        "              'AdaBoost',\n",
        "              'Extra Trees Classifier',\n",
        "              'GradientBoost']"
      ],
      "metadata": {
        "id": "kE0YggdKK1Xq"
      },
      "execution_count": 74,
      "outputs": []
    },
    {
      "cell_type": "markdown",
      "source": [
        "# F1 Score"
      ],
      "metadata": {
        "id": "5rOZs270QnYt"
      }
    },
    {
      "cell_type": "code",
      "source": [
        "for i in range(len(list_pred)):\n",
        "  print('F1 score dari model {} tanpa SMOTE adalah {}'.format(list_model[i], f1_score(y_test,list_pred[i])))\n",
        "  print('F1 score dari model {} dengan SMOTE adalah {}'.format(list_model[i], f1_score(ys_test,list_pred_s[i])))\n",
        "  print('============================================')"
      ],
      "metadata": {
        "colab": {
          "base_uri": "https://localhost:8080/"
        },
        "id": "aEaPganTQr0d",
        "outputId": "c2d6b08d-604e-44ab-962b-993add542edf"
      },
      "execution_count": 75,
      "outputs": [
        {
          "output_type": "stream",
          "name": "stdout",
          "text": [
            "F1 score dari model Decision Tree tanpa SMOTE adalah 0.5714285714285715\n",
            "F1 score dari model Decision Tree dengan SMOTE adalah 0.7692307692307692\n",
            "============================================\n",
            "F1 score dari model Decision Tree with Bagging tanpa SMOTE adalah 0.13333333333333333\n",
            "F1 score dari model Decision Tree with Bagging dengan SMOTE adalah 0.7894736842105262\n",
            "============================================\n",
            "F1 score dari model Random Forest Classifier tanpa SMOTE adalah 0.23529411764705882\n",
            "F1 score dari model Random Forest Classifier dengan SMOTE adalah 0.878048780487805\n",
            "============================================\n",
            "F1 score dari model Logistic Regression tanpa SMOTE adalah 0.375\n",
            "F1 score dari model Logistic Regression dengan SMOTE adalah 0.5555555555555556\n",
            "============================================\n",
            "F1 score dari model Support Vector Classifier tanpa SMOTE adalah 0.4210526315789474\n",
            "F1 score dari model Support Vector Classifier dengan SMOTE adalah 0.7368421052631577\n",
            "============================================\n",
            "F1 score dari model Voting Classifier tanpa SMOTE adalah 0.35294117647058826\n",
            "F1 score dari model Voting Classifier dengan SMOTE adalah 0.7368421052631577\n",
            "============================================\n",
            "F1 score dari model XGBoost tanpa SMOTE adalah 0.4210526315789474\n",
            "F1 score dari model XGBoost dengan SMOTE adalah 0.8372093023255813\n",
            "============================================\n",
            "F1 score dari model AdaBoost tanpa SMOTE adalah 0.6666666666666666\n",
            "F1 score dari model AdaBoost dengan SMOTE adalah 0.7692307692307692\n",
            "============================================\n",
            "F1 score dari model Extra Trees Classifier tanpa SMOTE adalah 0.4761904761904762\n",
            "F1 score dari model Extra Trees Classifier dengan SMOTE adalah 0.85\n",
            "============================================\n",
            "F1 score dari model GradientBoost tanpa SMOTE adalah 0.4210526315789474\n",
            "F1 score dari model GradientBoost dengan SMOTE adalah 0.8205128205128205\n",
            "============================================\n"
          ]
        }
      ]
    },
    {
      "cell_type": "markdown",
      "source": [
        "# Recall"
      ],
      "metadata": {
        "id": "atAQ4LlIRCBa"
      }
    },
    {
      "cell_type": "code",
      "source": [
        "for i in range(len(list_pred)):\n",
        "  print('Recall score dari model {} tanpa SMOTE adalah {}'.format(list_model[i], recall_score(y_test,list_pred[i])))\n",
        "  print('Recall score dari model {} dengan SMOTE adalah {}'.format(list_model[i], recall_score(ys_test,list_pred_s[i])))\n",
        "  print('============================================')"
      ],
      "metadata": {
        "colab": {
          "base_uri": "https://localhost:8080/"
        },
        "id": "XrehPEZaRHUd",
        "outputId": "207851ff-b0e3-4784-dce5-e6265f1233c0"
      },
      "execution_count": 76,
      "outputs": [
        {
          "output_type": "stream",
          "name": "stdout",
          "text": [
            "Recall score dari model Decision Tree tanpa SMOTE adalah 0.5\n",
            "Recall score dari model Decision Tree dengan SMOTE adalah 0.8333333333333334\n",
            "============================================\n",
            "Recall score dari model Decision Tree with Bagging tanpa SMOTE adalah 0.08333333333333333\n",
            "Recall score dari model Decision Tree with Bagging dengan SMOTE adalah 0.8333333333333334\n",
            "============================================\n",
            "Recall score dari model Random Forest Classifier tanpa SMOTE adalah 0.16666666666666666\n",
            "Recall score dari model Random Forest Classifier dengan SMOTE adalah 1.0\n",
            "============================================\n",
            "Recall score dari model Logistic Regression tanpa SMOTE adalah 0.25\n",
            "Recall score dari model Logistic Regression dengan SMOTE adalah 0.5555555555555556\n",
            "============================================\n",
            "Recall score dari model Support Vector Classifier tanpa SMOTE adalah 0.3333333333333333\n",
            "Recall score dari model Support Vector Classifier dengan SMOTE adalah 0.7777777777777778\n",
            "============================================\n",
            "Recall score dari model Voting Classifier tanpa SMOTE adalah 0.25\n",
            "Recall score dari model Voting Classifier dengan SMOTE adalah 0.7777777777777778\n",
            "============================================\n",
            "Recall score dari model XGBoost tanpa SMOTE adalah 0.3333333333333333\n",
            "Recall score dari model XGBoost dengan SMOTE adalah 1.0\n",
            "============================================\n",
            "Recall score dari model AdaBoost tanpa SMOTE adalah 0.5833333333333334\n",
            "Recall score dari model AdaBoost dengan SMOTE adalah 0.8333333333333334\n",
            "============================================\n",
            "Recall score dari model Extra Trees Classifier tanpa SMOTE adalah 0.4166666666666667\n",
            "Recall score dari model Extra Trees Classifier dengan SMOTE adalah 0.9444444444444444\n",
            "============================================\n",
            "Recall score dari model GradientBoost tanpa SMOTE adalah 0.3333333333333333\n",
            "Recall score dari model GradientBoost dengan SMOTE adalah 0.8888888888888888\n",
            "============================================\n"
          ]
        }
      ]
    },
    {
      "cell_type": "markdown",
      "source": [
        "#Precision"
      ],
      "metadata": {
        "id": "7lWKXhq7RMxS"
      }
    },
    {
      "cell_type": "code",
      "source": [
        "for i in range(len(list_pred)):\n",
        "  print('Precision score dari model {} tanpa SMOTE adalah {}'.format(list_model[i], precision_score(y_test,list_pred[i])))\n",
        "  print('Precision score dari model {} dengan SMOTE adalah {}'.format(list_model[i], precision_score(ys_test,list_pred_s[i])))\n",
        "  print('============================================')"
      ],
      "metadata": {
        "colab": {
          "base_uri": "https://localhost:8080/"
        },
        "id": "jVn6-LkhRPrT",
        "outputId": "ffba7153-0ad8-4462-95b8-da7ca59c32f7"
      },
      "execution_count": 77,
      "outputs": [
        {
          "output_type": "stream",
          "name": "stdout",
          "text": [
            "Precision score dari model Decision Tree tanpa SMOTE adalah 0.6666666666666666\n",
            "Precision score dari model Decision Tree dengan SMOTE adalah 0.7142857142857143\n",
            "============================================\n",
            "Precision score dari model Decision Tree with Bagging tanpa SMOTE adalah 0.3333333333333333\n",
            "Precision score dari model Decision Tree with Bagging dengan SMOTE adalah 0.75\n",
            "============================================\n",
            "Precision score dari model Random Forest Classifier tanpa SMOTE adalah 0.4\n",
            "Precision score dari model Random Forest Classifier dengan SMOTE adalah 0.782608695652174\n",
            "============================================\n",
            "Precision score dari model Logistic Regression tanpa SMOTE adalah 0.75\n",
            "Precision score dari model Logistic Regression dengan SMOTE adalah 0.5555555555555556\n",
            "============================================\n",
            "Precision score dari model Support Vector Classifier tanpa SMOTE adalah 0.5714285714285714\n",
            "Precision score dari model Support Vector Classifier dengan SMOTE adalah 0.7\n",
            "============================================\n",
            "Precision score dari model Voting Classifier tanpa SMOTE adalah 0.6\n",
            "Precision score dari model Voting Classifier dengan SMOTE adalah 0.7\n",
            "============================================\n",
            "Precision score dari model XGBoost tanpa SMOTE adalah 0.5714285714285714\n",
            "Precision score dari model XGBoost dengan SMOTE adalah 0.72\n",
            "============================================\n",
            "Precision score dari model AdaBoost tanpa SMOTE adalah 0.7777777777777778\n",
            "Precision score dari model AdaBoost dengan SMOTE adalah 0.7142857142857143\n",
            "============================================\n",
            "Precision score dari model Extra Trees Classifier tanpa SMOTE adalah 0.5555555555555556\n",
            "Precision score dari model Extra Trees Classifier dengan SMOTE adalah 0.7727272727272727\n",
            "============================================\n",
            "Precision score dari model GradientBoost tanpa SMOTE adalah 0.5714285714285714\n",
            "Precision score dari model GradientBoost dengan SMOTE adalah 0.7619047619047619\n",
            "============================================\n"
          ]
        }
      ]
    },
    {
      "cell_type": "markdown",
      "source": [
        "#Classification Report"
      ],
      "metadata": {
        "id": "vW4PDeGURWeA"
      }
    },
    {
      "cell_type": "code",
      "source": [
        "for i in range(len(list_pred)):\n",
        "  print('=====================================================================')\n",
        "  print('Classification report dari model {} tanpa menggunakan SMOTE'.format(list_model[i]))\n",
        "  print('=====================================================================')\n",
        "  print('{}'.format(classification_report(y_test,list_pred[i])))\n",
        "  print('\\n')\n",
        "  print('=====================================================================')\n",
        "  print('Classification report dari model {} dengan menggunakan SMOTE'.format(list_model[i]))\n",
        "  print('=====================================================================')\n",
        "  print('{}'.format(classification_report(ys_test,list_pred_s[i])))"
      ],
      "metadata": {
        "colab": {
          "base_uri": "https://localhost:8080/"
        },
        "id": "tjQfgQ3ERZB2",
        "outputId": "626af903-d06a-4f77-981d-b92aa505afb8"
      },
      "execution_count": 78,
      "outputs": [
        {
          "output_type": "stream",
          "name": "stdout",
          "text": [
            "=====================================================================\n",
            "Classification report dari model Decision Tree tanpa menggunakan SMOTE\n",
            "=====================================================================\n",
            "              precision    recall  f1-score   support\n",
            "\n",
            "           0       0.71      0.83      0.77        18\n",
            "           1       0.67      0.50      0.57        12\n",
            "\n",
            "    accuracy                           0.70        30\n",
            "   macro avg       0.69      0.67      0.67        30\n",
            "weighted avg       0.70      0.70      0.69        30\n",
            "\n",
            "\n",
            "\n",
            "=====================================================================\n",
            "Classification report dari model Decision Tree dengan menggunakan SMOTE\n",
            "=====================================================================\n",
            "              precision    recall  f1-score   support\n",
            "\n",
            "           0       0.85      0.74      0.79        23\n",
            "           1       0.71      0.83      0.77        18\n",
            "\n",
            "    accuracy                           0.78        41\n",
            "   macro avg       0.78      0.79      0.78        41\n",
            "weighted avg       0.79      0.78      0.78        41\n",
            "\n",
            "=====================================================================\n",
            "Classification report dari model Decision Tree with Bagging tanpa menggunakan SMOTE\n",
            "=====================================================================\n",
            "              precision    recall  f1-score   support\n",
            "\n",
            "           0       0.59      0.89      0.71        18\n",
            "           1       0.33      0.08      0.13        12\n",
            "\n",
            "    accuracy                           0.57        30\n",
            "   macro avg       0.46      0.49      0.42        30\n",
            "weighted avg       0.49      0.57      0.48        30\n",
            "\n",
            "\n",
            "\n",
            "=====================================================================\n",
            "Classification report dari model Decision Tree with Bagging dengan menggunakan SMOTE\n",
            "=====================================================================\n",
            "              precision    recall  f1-score   support\n",
            "\n",
            "           0       0.86      0.78      0.82        23\n",
            "           1       0.75      0.83      0.79        18\n",
            "\n",
            "    accuracy                           0.80        41\n",
            "   macro avg       0.80      0.81      0.80        41\n",
            "weighted avg       0.81      0.80      0.81        41\n",
            "\n",
            "=====================================================================\n",
            "Classification report dari model Random Forest Classifier tanpa menggunakan SMOTE\n",
            "=====================================================================\n",
            "              precision    recall  f1-score   support\n",
            "\n",
            "           0       0.60      0.83      0.70        18\n",
            "           1       0.40      0.17      0.24        12\n",
            "\n",
            "    accuracy                           0.57        30\n",
            "   macro avg       0.50      0.50      0.47        30\n",
            "weighted avg       0.52      0.57      0.51        30\n",
            "\n",
            "\n",
            "\n",
            "=====================================================================\n",
            "Classification report dari model Random Forest Classifier dengan menggunakan SMOTE\n",
            "=====================================================================\n",
            "              precision    recall  f1-score   support\n",
            "\n",
            "           0       1.00      0.78      0.88        23\n",
            "           1       0.78      1.00      0.88        18\n",
            "\n",
            "    accuracy                           0.88        41\n",
            "   macro avg       0.89      0.89      0.88        41\n",
            "weighted avg       0.90      0.88      0.88        41\n",
            "\n",
            "=====================================================================\n",
            "Classification report dari model Logistic Regression tanpa menggunakan SMOTE\n",
            "=====================================================================\n",
            "              precision    recall  f1-score   support\n",
            "\n",
            "           0       0.65      0.94      0.77        18\n",
            "           1       0.75      0.25      0.38        12\n",
            "\n",
            "    accuracy                           0.67        30\n",
            "   macro avg       0.70      0.60      0.57        30\n",
            "weighted avg       0.69      0.67      0.61        30\n",
            "\n",
            "\n",
            "\n",
            "=====================================================================\n",
            "Classification report dari model Logistic Regression dengan menggunakan SMOTE\n",
            "=====================================================================\n",
            "              precision    recall  f1-score   support\n",
            "\n",
            "           0       0.65      0.65      0.65        23\n",
            "           1       0.56      0.56      0.56        18\n",
            "\n",
            "    accuracy                           0.61        41\n",
            "   macro avg       0.60      0.60      0.60        41\n",
            "weighted avg       0.61      0.61      0.61        41\n",
            "\n",
            "=====================================================================\n",
            "Classification report dari model Support Vector Classifier tanpa menggunakan SMOTE\n",
            "=====================================================================\n",
            "              precision    recall  f1-score   support\n",
            "\n",
            "           0       0.65      0.83      0.73        18\n",
            "           1       0.57      0.33      0.42        12\n",
            "\n",
            "    accuracy                           0.63        30\n",
            "   macro avg       0.61      0.58      0.58        30\n",
            "weighted avg       0.62      0.63      0.61        30\n",
            "\n",
            "\n",
            "\n",
            "=====================================================================\n",
            "Classification report dari model Support Vector Classifier dengan menggunakan SMOTE\n",
            "=====================================================================\n",
            "              precision    recall  f1-score   support\n",
            "\n",
            "           0       0.81      0.74      0.77        23\n",
            "           1       0.70      0.78      0.74        18\n",
            "\n",
            "    accuracy                           0.76        41\n",
            "   macro avg       0.75      0.76      0.75        41\n",
            "weighted avg       0.76      0.76      0.76        41\n",
            "\n",
            "=====================================================================\n",
            "Classification report dari model Voting Classifier tanpa menggunakan SMOTE\n",
            "=====================================================================\n",
            "              precision    recall  f1-score   support\n",
            "\n",
            "           0       0.64      0.89      0.74        18\n",
            "           1       0.60      0.25      0.35        12\n",
            "\n",
            "    accuracy                           0.63        30\n",
            "   macro avg       0.62      0.57      0.55        30\n",
            "weighted avg       0.62      0.63      0.59        30\n",
            "\n",
            "\n",
            "\n",
            "=====================================================================\n",
            "Classification report dari model Voting Classifier dengan menggunakan SMOTE\n",
            "=====================================================================\n",
            "              precision    recall  f1-score   support\n",
            "\n",
            "           0       0.81      0.74      0.77        23\n",
            "           1       0.70      0.78      0.74        18\n",
            "\n",
            "    accuracy                           0.76        41\n",
            "   macro avg       0.75      0.76      0.75        41\n",
            "weighted avg       0.76      0.76      0.76        41\n",
            "\n",
            "=====================================================================\n",
            "Classification report dari model XGBoost tanpa menggunakan SMOTE\n",
            "=====================================================================\n",
            "              precision    recall  f1-score   support\n",
            "\n",
            "           0       0.65      0.83      0.73        18\n",
            "           1       0.57      0.33      0.42        12\n",
            "\n",
            "    accuracy                           0.63        30\n",
            "   macro avg       0.61      0.58      0.58        30\n",
            "weighted avg       0.62      0.63      0.61        30\n",
            "\n",
            "\n",
            "\n",
            "=====================================================================\n",
            "Classification report dari model XGBoost dengan menggunakan SMOTE\n",
            "=====================================================================\n",
            "              precision    recall  f1-score   support\n",
            "\n",
            "           0       1.00      0.70      0.82        23\n",
            "           1       0.72      1.00      0.84        18\n",
            "\n",
            "    accuracy                           0.83        41\n",
            "   macro avg       0.86      0.85      0.83        41\n",
            "weighted avg       0.88      0.83      0.83        41\n",
            "\n",
            "=====================================================================\n",
            "Classification report dari model AdaBoost tanpa menggunakan SMOTE\n",
            "=====================================================================\n",
            "              precision    recall  f1-score   support\n",
            "\n",
            "           0       0.76      0.89      0.82        18\n",
            "           1       0.78      0.58      0.67        12\n",
            "\n",
            "    accuracy                           0.77        30\n",
            "   macro avg       0.77      0.74      0.74        30\n",
            "weighted avg       0.77      0.77      0.76        30\n",
            "\n",
            "\n",
            "\n",
            "=====================================================================\n",
            "Classification report dari model AdaBoost dengan menggunakan SMOTE\n",
            "=====================================================================\n",
            "              precision    recall  f1-score   support\n",
            "\n",
            "           0       0.85      0.74      0.79        23\n",
            "           1       0.71      0.83      0.77        18\n",
            "\n",
            "    accuracy                           0.78        41\n",
            "   macro avg       0.78      0.79      0.78        41\n",
            "weighted avg       0.79      0.78      0.78        41\n",
            "\n",
            "=====================================================================\n",
            "Classification report dari model Extra Trees Classifier tanpa menggunakan SMOTE\n",
            "=====================================================================\n",
            "              precision    recall  f1-score   support\n",
            "\n",
            "           0       0.67      0.78      0.72        18\n",
            "           1       0.56      0.42      0.48        12\n",
            "\n",
            "    accuracy                           0.63        30\n",
            "   macro avg       0.61      0.60      0.60        30\n",
            "weighted avg       0.62      0.63      0.62        30\n",
            "\n",
            "\n",
            "\n",
            "=====================================================================\n",
            "Classification report dari model Extra Trees Classifier dengan menggunakan SMOTE\n",
            "=====================================================================\n",
            "              precision    recall  f1-score   support\n",
            "\n",
            "           0       0.95      0.78      0.86        23\n",
            "           1       0.77      0.94      0.85        18\n",
            "\n",
            "    accuracy                           0.85        41\n",
            "   macro avg       0.86      0.86      0.85        41\n",
            "weighted avg       0.87      0.85      0.85        41\n",
            "\n",
            "=====================================================================\n",
            "Classification report dari model GradientBoost tanpa menggunakan SMOTE\n",
            "=====================================================================\n",
            "              precision    recall  f1-score   support\n",
            "\n",
            "           0       0.65      0.83      0.73        18\n",
            "           1       0.57      0.33      0.42        12\n",
            "\n",
            "    accuracy                           0.63        30\n",
            "   macro avg       0.61      0.58      0.58        30\n",
            "weighted avg       0.62      0.63      0.61        30\n",
            "\n",
            "\n",
            "\n",
            "=====================================================================\n",
            "Classification report dari model GradientBoost dengan menggunakan SMOTE\n",
            "=====================================================================\n",
            "              precision    recall  f1-score   support\n",
            "\n",
            "           0       0.90      0.78      0.84        23\n",
            "           1       0.76      0.89      0.82        18\n",
            "\n",
            "    accuracy                           0.83        41\n",
            "   macro avg       0.83      0.84      0.83        41\n",
            "weighted avg       0.84      0.83      0.83        41\n",
            "\n"
          ]
        }
      ]
    },
    {
      "cell_type": "markdown",
      "source": [
        "#Confusion Matrix"
      ],
      "metadata": {
        "id": "08Ok23tHRgdo"
      }
    },
    {
      "cell_type": "code",
      "source": [
        "dtm = confusion_matrix(y_test, y_pred_dt)\n",
        "dtsm = confusion_matrix(ys_test, y_pred_dts)\n",
        "\n",
        "fig, ax = plt.subplots(1,2,figsize=(10,5), constrained_layout=True)\n",
        "sns.heatmap(dtm, annot=True, fmt=\"d\", linewidths=.5, cmap = 'YlGnBu', ax=ax[0])\n",
        "ax[0].set_title('Decision Tree tanpa SMOTE')\n",
        "sns.heatmap(dtsm, annot=True, fmt=\"d\", linewidths=.5, cmap = 'Reds', ax=ax[1])\n",
        "ax[1].set_title('Decision Tree dengan SMOTE')\n",
        "plt.savefig(\"dtm.png\",\n",
        "            bbox_inches =\"tight\",\n",
        "            pad_inches = 1,\n",
        "            transparent = True,\n",
        "            orientation ='landscape')"
      ],
      "metadata": {
        "colab": {
          "base_uri": "https://localhost:8080/",
          "height": 385
        },
        "id": "mJtf1k4mRjpv",
        "outputId": "5b8ac10b-04d0-4a09-fa6e-93793c1a5254"
      },
      "execution_count": 79,
      "outputs": [
        {
          "output_type": "display_data",
          "data": {
            "text/plain": [
              "<Figure size 720x360 with 4 Axes>"
            ],
            "image/png": "[encoded data removed]"
          },
          "metadata": {}
        }
      ]
    },
    {
      "cell_type": "code",
      "source": [
        "dtbm = confusion_matrix(y_test, y_pred_dt_bag)\n",
        "dtbsm = confusion_matrix(ys_test, y_pred_dt_bags)\n",
        "\n",
        "fig, ax = plt.subplots(1,2,figsize=(10,5), constrained_layout=True)\n",
        "sns.heatmap(dtbm, annot=True, fmt=\"d\", linewidths=.5, cmap = 'YlGnBu', ax=ax[0])\n",
        "ax[0].set_title('Decision Tree with Bagging tanpa SMOTE')\n",
        "sns.heatmap(dtbsm, annot=True, fmt=\"d\", linewidths=.5, cmap = 'Reds', ax=ax[1])\n",
        "ax[1].set_title('Decision Tree with Bagging dengan SMOTE')\n",
        "plt.savefig(\"dtbm.png\",\n",
        "            bbox_inches =\"tight\",\n",
        "            pad_inches = 1,\n",
        "            transparent = True,\n",
        "            orientation ='landscape')"
      ],
      "metadata": {
        "colab": {
          "base_uri": "https://localhost:8080/",
          "height": 385
        },
        "id": "ruZh5E9GRqRP",
        "outputId": "5c2b4074-a174-452a-889e-8783c44b2092"
      },
      "execution_count": 80,
      "outputs": [
        {
          "output_type": "display_data",
          "data": {
            "text/plain": [
              "<Figure size 720x360 with 4 Axes>"
            ],
            "image/png": "[encoded data removed]"
          },
          "metadata": {}
        }
      ]
    },
    {
      "cell_type": "code",
      "source": [
        "rfm = confusion_matrix(y_test, y_pred_rnd_clf)\n",
        "rfsm = confusion_matrix(ys_test, y_pred_rnd_clfs)\n",
        "\n",
        "fig, ax = plt.subplots(1,2,figsize=(10,5), constrained_layout=True)\n",
        "sns.heatmap(rfm, annot=True, fmt=\"d\", linewidths=.5, cmap = 'YlGnBu', ax=ax[0])\n",
        "ax[0].set_title('Random Forest tanpa SMOTE')\n",
        "sns.heatmap(rfsm, annot=True, fmt=\"d\", linewidths=.5, cmap = 'Reds', ax=ax[1])\n",
        "ax[1].set_title('Random Forest dengan SMOTE')\n",
        "plt.savefig(\"rfm.png\",\n",
        "            bbox_inches =\"tight\",\n",
        "            pad_inches = 1,\n",
        "            transparent = True,\n",
        "            orientation ='landscape')"
      ],
      "metadata": {
        "colab": {
          "base_uri": "https://localhost:8080/",
          "height": 385
        },
        "id": "GGr90qceRxPM",
        "outputId": "5bbe9eee-df8a-4c35-cf4a-07446e5f9b7f"
      },
      "execution_count": 81,
      "outputs": [
        {
          "output_type": "display_data",
          "data": {
            "text/plain": [
              "<Figure size 720x360 with 4 Axes>"
            ],
            "image/png": "[encoded data removed]"
          },
          "metadata": {}
        }
      ]
    },
    {
      "cell_type": "code",
      "source": [
        "lgrm = confusion_matrix(y_test, y_pred_lgr_clf)\n",
        "lgrsm = confusion_matrix(ys_test, y_pred_lgr_clfs)\n",
        "\n",
        "fig, ax = plt.subplots(1,2,figsize=(10,5), constrained_layout=True)\n",
        "sns.heatmap(lgrm, annot=True, fmt=\"d\", linewidths=.5, cmap = 'YlGnBu', ax=ax[0])\n",
        "ax[0].set_title('Logistic Regression tanpa SMOTE')\n",
        "sns.heatmap(lgrsm, annot=True, fmt=\"d\", linewidths=.5, cmap = 'Reds', ax=ax[1])\n",
        "ax[1].set_title('Logistic Regression dengan SMOTE')\n",
        "plt.savefig(\"lgrm.png\",\n",
        "            bbox_inches =\"tight\",\n",
        "            pad_inches = 1,\n",
        "            transparent = True,\n",
        "            orientation ='landscape')\n",
        "     "
      ],
      "metadata": {
        "colab": {
          "base_uri": "https://localhost:8080/",
          "height": 385
        },
        "id": "UP8WxqkYR2Op",
        "outputId": "20e876b7-a3b3-41e7-a093-be8d24d8fbc7"
      },
      "execution_count": 82,
      "outputs": [
        {
          "output_type": "display_data",
          "data": {
            "text/plain": [
              "<Figure size 720x360 with 4 Axes>"
            ],
            "image/png": "[encoded data removed]"
          },
          "metadata": {}
        }
      ]
    },
    {
      "cell_type": "code",
      "source": [
        "svmm = confusion_matrix(y_test, y_pred_svc)\n",
        "svmsm = confusion_matrix(ys_test, y_pred_svcs)\n",
        "\n",
        "fig, ax = plt.subplots(1,2,figsize=(10,5), constrained_layout=True)\n",
        "sns.heatmap(svmm, annot=True, fmt=\"d\", linewidths=.5, cmap = 'YlGnBu', ax=ax[0])\n",
        "ax[0].set_title('Support Vector Classifier tanpa SMOTE')\n",
        "sns.heatmap(svmsm, annot=True, fmt=\"d\", linewidths=.5, cmap = 'Reds', ax=ax[1])\n",
        "ax[1].set_title('Support Vector Classifier dengan SMOTE')\n",
        "plt.savefig(\"svmm.png\",\n",
        "            bbox_inches =\"tight\",\n",
        "            pad_inches = 1,\n",
        "            transparent = True,\n",
        "            orientation ='landscape')\n",
        "     "
      ],
      "metadata": {
        "colab": {
          "base_uri": "https://localhost:8080/",
          "height": 385
        },
        "id": "5HXXQl2hR6_T",
        "outputId": "666bd33e-11ab-46da-d44e-78ef3ac88b19"
      },
      "execution_count": 83,
      "outputs": [
        {
          "output_type": "display_data",
          "data": {
            "text/plain": [
              "<Figure size 720x360 with 4 Axes>"
            ],
            "image/png": "[encoded data removed]"
          },
          "metadata": {}
        }
      ]
    },
    {
      "cell_type": "code",
      "source": [
        "vcm = confusion_matrix(y_test, y_pred_voting)\n",
        "vcsm = confusion_matrix(ys_test, y_pred_votings)\n",
        "\n",
        "fig, ax = plt.subplots(1,2,figsize=(10,5), constrained_layout=True)\n",
        "sns.heatmap(vcm, annot=True, fmt=\"d\", linewidths=.5, cmap = 'YlGnBu', ax=ax[0])\n",
        "ax[0].set_title('Voting Classifier tanpa SMOTE')\n",
        "sns.heatmap(vcsm, annot=True, fmt=\"d\", linewidths=.5, cmap = 'Reds', ax=ax[1])\n",
        "ax[1].set_title('Votting Classfier dengan SMOTE')\n",
        "plt.savefig(\"vcm.png\",\n",
        "            bbox_inches =\"tight\",\n",
        "            pad_inches = 1,\n",
        "            transparent = True,\n",
        "            orientation ='landscape')"
      ],
      "metadata": {
        "colab": {
          "base_uri": "https://localhost:8080/",
          "height": 385
        },
        "id": "r3lUn1oYR_kw",
        "outputId": "28001490-4f8e-4959-9e0d-d5f60a4c9369"
      },
      "execution_count": 84,
      "outputs": [
        {
          "output_type": "display_data",
          "data": {
            "text/plain": [
              "<Figure size 720x360 with 4 Axes>"
            ],
            "image/png": "[encoded data removed]"
          },
          "metadata": {}
        }
      ]
    },
    {
      "cell_type": "code",
      "source": [
        "xgbm = confusion_matrix(y_test, y_pred_xgb)\n",
        "xgbsm = confusion_matrix(ys_test, y_pred_xgbs)\n",
        "\n",
        "fig, ax = plt.subplots(1,2,figsize=(10,5), constrained_layout=True)\n",
        "sns.heatmap(xgbm, annot=True, fmt=\"d\", linewidths=.5, cmap = 'YlGnBu', ax=ax[0])\n",
        "ax[0].set_title('XGBoost tanpa SMOTE')\n",
        "sns.heatmap(xgbsm, annot=True, fmt=\"d\", linewidths=.5, cmap = 'Reds', ax=ax[1])\n",
        "ax[1].set_title('XGBoost dengan SMOTE')\n",
        "plt.savefig(\"xgbm.png\",\n",
        "            bbox_inches =\"tight\",\n",
        "            pad_inches = 1,\n",
        "            transparent = True,\n",
        "            orientation ='landscape')"
      ],
      "metadata": {
        "colab": {
          "base_uri": "https://localhost:8080/",
          "height": 385
        },
        "id": "Ve268wtfSE4r",
        "outputId": "861636e3-1ce3-4eff-ea8f-0716cb3bf82b"
      },
      "execution_count": 85,
      "outputs": [
        {
          "output_type": "display_data",
          "data": {
            "text/plain": [
              "<Figure size 720x360 with 4 Axes>"
            ],
            "image/png": "[encoded data removed]"
          },
          "metadata": {}
        }
      ]
    },
    {
      "cell_type": "code",
      "source": [
        "adabm = confusion_matrix(y_test, y_pred_adaBoost)\n",
        "adabsm = confusion_matrix(ys_test, y_pred_adaBoosts)\n",
        "\n",
        "fig, ax = plt.subplots(1,2,figsize=(10,5), constrained_layout=True)\n",
        "sns.heatmap(adabm, annot=True, fmt=\"d\", linewidths=.5, cmap = 'YlGnBu', ax=ax[0])\n",
        "ax[0].set_title('AdaBoost tanpa SMOTE')\n",
        "sns.heatmap(adabsm, annot=True, fmt=\"d\", linewidths=.5, cmap = 'Reds', ax=ax[1])\n",
        "ax[1].set_title('AdaBoost dengan SMOTE')\n",
        "plt.savefig(\"adabm.png\",\n",
        "            bbox_inches =\"tight\",\n",
        "            pad_inches = 1,\n",
        "            transparent = True,\n",
        "            orientation ='landscape')"
      ],
      "metadata": {
        "colab": {
          "base_uri": "https://localhost:8080/",
          "height": 385
        },
        "id": "hD36mKvBSKH4",
        "outputId": "2716c66e-89a5-481c-88c2-1d26cc293c85"
      },
      "execution_count": 86,
      "outputs": [
        {
          "output_type": "display_data",
          "data": {
            "text/plain": [
              "<Figure size 720x360 with 4 Axes>"
            ],
            "image/png": "[encoded data removed]"
          },
          "metadata": {}
        }
      ]
    },
    {
      "cell_type": "code",
      "source": [
        "xtm = confusion_matrix(y_test, y_pred_tree)\n",
        "xtsm = confusion_matrix(ys_test, y_pred_trees)\n",
        "\n",
        "fig, ax = plt.subplots(1,2,figsize=(10,5), constrained_layout=True)\n",
        "sns.heatmap(xtm, annot=True, fmt=\"d\", linewidths=.5, cmap = 'YlGnBu', ax=ax[0])\n",
        "ax[0].set_title('Extra Trees Classfier tanpa SMOTE')\n",
        "sns.heatmap(xtsm, annot=True, fmt=\"d\", linewidths=.5, cmap = 'Reds', ax=ax[1])\n",
        "ax[1].set_title('Extra Trees Classfier dengan SMOTE')\n",
        "plt.savefig(\"xtm.png\",\n",
        "            bbox_inches =\"tight\",\n",
        "            pad_inches = 1,\n",
        "            transparent = True,\n",
        "            orientation ='landscape')"
      ],
      "metadata": {
        "colab": {
          "base_uri": "https://localhost:8080/",
          "height": 385
        },
        "id": "wi6z7HWgSPvm",
        "outputId": "b1c2f5e5-9e09-4a7d-c152-7d6fa7742c13"
      },
      "execution_count": 87,
      "outputs": [
        {
          "output_type": "display_data",
          "data": {
            "text/plain": [
              "<Figure size 720x360 with 4 Axes>"
            ],
            "image/png": "[encoded data removed]"
          },
          "metadata": {}
        }
      ]
    },
    {
      "cell_type": "code",
      "source": [
        "gbm = confusion_matrix(y_test, y_pred_grad_clf)\n",
        "gbsm = confusion_matrix(ys_test, y_pred_grad_clfs)\n",
        "\n",
        "fig, ax = plt.subplots(1,2,figsize=(10,5), constrained_layout=True)\n",
        "sns.heatmap(gbm, annot=True, fmt=\"d\", linewidths=.5, cmap = 'YlGnBu', ax=ax[0])\n",
        "ax[0].set_title('GradientBoost Classfier tanpa SMOTE')\n",
        "sns.heatmap(gbsm, annot=True, fmt=\"d\", linewidths=.5, cmap = 'Reds', ax=ax[1])\n",
        "ax[1].set_title('GradientBoost Classfier dengan SMOTE')\n",
        "plt.savefig(\"gbm.png\",\n",
        "            bbox_inches =\"tight\",\n",
        "            pad_inches = 1,\n",
        "            transparent = True,\n",
        "            orientation ='landscape')"
      ],
      "metadata": {
        "colab": {
          "base_uri": "https://localhost:8080/",
          "height": 385
        },
        "id": "SvtlInMJSUeE",
        "outputId": "cb0bc984-25b9-4ef0-8122-404c55ed35fe"
      },
      "execution_count": 88,
      "outputs": [
        {
          "output_type": "display_data",
          "data": {
            "text/plain": [
              "<Figure size 720x360 with 4 Axes>"
            ],
            "image/png": "[encoded data removed]"
          },
          "metadata": {}
        }
      ]
    },
    {
      "cell_type": "markdown",
      "source": [
        "#Best Model"
      ],
      "metadata": {
        "id": "ds_JirUNSodx"
      }
    },
    {
      "cell_type": "code",
      "source": [
        "def finding_max(list_pred,y_test,type_pred=None):\n",
        "  predicted_value = []\n",
        "  for index,pred in enumerate(list_pred):\n",
        "    if(type_pred == 'accuracy'):\n",
        "      predicted_value.append(accuracy_score(y_test,pred))\n",
        "    elif(type_pred == 'recall'):\n",
        "      predicted_value.append(recall_score(y_test,pred))\n",
        "    elif(type_pred == 'precision'):\n",
        "      predicted_value.append(precision_score(y_test,pred))\n",
        "    elif(type_pred == 'f1'):\n",
        "      predicted_value.append(f1_score(y_test,pred))\n",
        "  return predicted_value.index(max(predicted_value)),max(predicted_value)\n",
        "     "
      ],
      "metadata": {
        "id": "vUWiZ-j3Sn6c"
      },
      "execution_count": 89,
      "outputs": []
    },
    {
      "cell_type": "code",
      "source": [
        "best_accuracy = finding_max(list_pred,y_test,'accuracy')\n",
        "best_accuracy_s = finding_max(list_pred_s,ys_test,'accuracy')\n",
        "\n",
        "best_recall = finding_max(list_pred,y_test,'recall')\n",
        "best_recall_s = finding_max(list_pred_s,ys_test,'recall')\n",
        "\n",
        "best_precision = finding_max(list_pred,y_test,'precision')\n",
        "best_precision_s = finding_max(list_pred_s,ys_test,'precision')\n",
        "\n",
        "best_f1 = finding_max(list_pred,y_test,'f1')\n",
        "best_f1_s = finding_max(list_pred_s,ys_test,'f1')\n",
        "\n",
        "print('====================================')\n",
        "print('Model yang di-training tanpa SMOTE')\n",
        "print('====================================')\n",
        "print(f'Model yang memiliki Accuracy Score tinggi adalah {list_model[best_accuracy[0]]} dengan nilai accuracy Score {best_accuracy[1]}')\n",
        "print(f'Model yang memiliki Precision Score tinggi adalah {list_model[best_precision[0]]} dengan nilai precision Score {best_precision[1]}')\n",
        "print(f'Model yang memiliki Recall Score tinggi adalah {list_model[best_recall[0]]} dengan nilai recall Score {best_recall[1]}')\n",
        "print(f'Model yang memiliki F1 Score tinggi adalah {list_model[best_f1[0]]} dengan nilai F1 Score {best_f1[1]}')\n",
        "print('\\n')\n",
        "print('====================================')\n",
        "print('Model yang di-training dengan SMOTE')\n",
        "print('====================================')\n",
        "print(f'Model yang memiliki Accuracy Score tinggi adalah {list_model[best_accuracy_s[0]]} dengan nilai accuracy Score {best_accuracy_s[1]}')\n",
        "print(f'Model yang memiliki Precision Score tinggi adalah {list_model[best_precision_s[0]]} dengan nilai precision Score {best_precision_s[1]}')\n",
        "print(f'Model yang memiliki Recall Score tinggi adalah {list_model[best_recall_s[0]]} dengan nilai recall Score {best_recall_s[1]}')\n",
        "print(f'Model yang memiliki F1 Score tinggi adalah {list_model[best_f1_s[0]]} dengan nilai F1 Score {best_f1_s[1]}')"
      ],
      "metadata": {
        "colab": {
          "base_uri": "https://localhost:8080/"
        },
        "id": "VESXuyc_S_0P",
        "outputId": "1a42f3e8-bf55-4066-b46a-743d501ea773"
      },
      "execution_count": 90,
      "outputs": [
        {
          "output_type": "stream",
          "name": "stdout",
          "text": [
            "====================================\n",
            "Model yang di-training tanpa SMOTE\n",
            "====================================\n",
            "Model yang memiliki Accuracy Score tinggi adalah AdaBoost dengan nilai accuracy Score 0.7666666666666667\n",
            "Model yang memiliki Precision Score tinggi adalah AdaBoost dengan nilai precision Score 0.7777777777777778\n",
            "Model yang memiliki Recall Score tinggi adalah AdaBoost dengan nilai recall Score 0.5833333333333334\n",
            "Model yang memiliki F1 Score tinggi adalah AdaBoost dengan nilai F1 Score 0.6666666666666666\n",
            "\n",
            "\n",
            "====================================\n",
            "Model yang di-training dengan SMOTE\n",
            "====================================\n",
            "Model yang memiliki Accuracy Score tinggi adalah Random Forest Classifier dengan nilai accuracy Score 0.8780487804878049\n",
            "Model yang memiliki Precision Score tinggi adalah Random Forest Classifier dengan nilai precision Score 0.782608695652174\n",
            "Model yang memiliki Recall Score tinggi adalah Random Forest Classifier dengan nilai recall Score 1.0\n",
            "Model yang memiliki F1 Score tinggi adalah Random Forest Classifier dengan nilai F1 Score 0.878048780487805\n"
          ]
        }
      ]
    },
    {
      "cell_type": "markdown",
      "source": [
        "#Model Interference"
      ],
      "metadata": {
        "id": "Tb823NtJTJ_0"
      }
    },
    {
      "cell_type": "code",
      "source": [
        "# age=float(input('age :'))\n",
        "# anaemia=int(input('anaemia :'))\n",
        "# creatinine_phosphokinase=int(input('creatinine_phosphokinase :'))\n",
        "# diabetes=int(input('diabetes :'))\n",
        "# high_blood_pressure=int(input('high_blood_pressure :'))\n",
        "# platelets=float(input('platelets : '))\n",
        "# serum_creatinine=float(input('serum_creatinine :'))\n",
        "# sex=int(input('sex :'))\n",
        "# smoking=int(input('smoking :'))\n",
        "# young_person = int(input('young_person :'))\n",
        "\n",
        "# x_input=[[\n",
        "#     age,\n",
        "#     anaemia,\n",
        "#     creatinine_phosphokinase,\n",
        "#     diabetes,\n",
        "#     high_blood_pressure,\n",
        "#     platelets,\n",
        "#     serum_creatinine,\n",
        "#     sex,\n",
        "#     smoking,\n",
        "#     young_person\n",
        "# ]]\n",
        "\n",
        "# x_input=scaler.fit_transform(x_input)\n",
        "# y_output=bag_clf_s.predict(x_input)\n",
        "# if y_output==0:\n",
        "#     print('tidak meninggal')\n",
        "# else:\n",
        "#     print('meninggal')\n",
        "     "
      ],
      "metadata": {
        "id": "keHrwTjdTQWV"
      },
      "execution_count": 91,
      "outputs": []
    },
    {
      "cell_type": "code",
      "source": [
        "pickle.dump(extra_tree_s,open('model_ETC.pkl','wb'))"
      ],
      "metadata": {
        "id": "eQBUXj3uTYVc"
      },
      "execution_count": 92,
      "outputs": []
    },
    {
      "cell_type": "markdown",
      "source": [
        "#Kesimpulan\n"
      ],
      "metadata": {
        "id": "GgbPGiKyTffK"
      }
    },
    {
      "cell_type": "markdown",
      "source": [
        "Kesimpulan yang didapatkan dari analisis data adalah\n",
        "\n",
        "1. Sebesar 67.89% kematian terjadi akibat penyakit jantung. Penyakit jantung sendiri banyak terjadi untuk pasien berjenis kelamin laki-laki.\n",
        "\n",
        "2. Model Extra Tree Classifier dengan SMOTE memiliki akurasi tinggi sebesar 82.9% sehingga model tersebut sudah tepat untuk memprediksi keselamatan pasien penyakit jantung"
      ],
      "metadata": {
        "id": "zC--gmTJTiPI"
      }
    }
  ]
}